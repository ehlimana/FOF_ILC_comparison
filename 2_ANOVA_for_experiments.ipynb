{
 "cells": [
  {
   "cell_type": "code",
   "execution_count": null,
   "metadata": {},
   "outputs": [],
   "source": [
    "import h5py\n",
    "import numpy as np\n",
    "import pandas as pd\n",
    "import openpyxl\n",
    "import matplotlib.pyplot as plt\n",
    "import scipy.stats\n",
    "import numpy as np\n",
    "import scipy.stats as stats\n",
    "import seaborn as sns\n",
    "\n",
    "#conda install -c conda-forge miktex in command prompt\n",
    "import seaborn as sns\n",
    "from ipywidgets import widgets, Layout#this is optionally, must be installed \n",
    "from IPython import display #this is optionally\n",
    "from ipywidgets import widgets, Layout\n"
   ]
  },
  {
   "cell_type": "code",
   "execution_count": null,
   "metadata": {},
   "outputs": [],
   "source": [
    "#FOR LATEX -takes longer to run plots\n",
    "\n",
    "plt.rc('font', family='serif')\n",
    "plt.rcParams['text.latex.preamble'] = [r'\\usepackage{sfmath} \\boldmath']# all text in blots bold\n",
    "#plt.rc('text', usetex=True)# for figure export \n",
    "plt.rc('text', usetex=False)# use tex for image export\n",
    "PLTSCALFACTOR =1.5# change this to scale all plots labels (3 is good for export on 4k screan)\n",
    "SMALL_SIZE = 12 * PLTSCALFACTOR\n",
    "MEDIUM_SIZE = 15 * PLTSCALFACTOR\n",
    "BIGGER_SIZE = 18 * PLTSCALFACTOR\n",
    "\n",
    "plt.rc(\"font\", size=SMALL_SIZE)  # controls default text sizes\n",
    "plt.rc(\"axes\", titlesize=SMALL_SIZE)  # fontsize of the axes title\n",
    "plt.rc(\"axes\", labelsize=MEDIUM_SIZE)  # fontsize of the x and y labels\n",
    "plt.rc(\"xtick\", labelsize=SMALL_SIZE)  # fontsize of the tick labels\n",
    "plt.rc(\"ytick\", labelsize=SMALL_SIZE)  # fontsize of the tick labels\n",
    "plt.rc(\"legend\", fontsize=SMALL_SIZE)  # legend fontsize\n",
    "plt.rc(\"figure\", titlesize=BIGGER_SIZE)  # fontsize of the figure title\n",
    "plt.rcParams['lines.linewidth'] = PLTSCALFACTOR"
   ]
  },
  {
   "cell_type": "markdown",
   "metadata": {},
   "source": [
    "# 2.Extract the data"
   ]
  },
  {
   "cell_type": "markdown",
   "metadata": {},
   "source": [
    "Data for ILC comparison is extracted from the HDF5 files separately for PTB and CEM. The extracted data will be sorted by frequency at the end of the Notebook and saved into Excel file."
   ]
  },
  {
   "cell_type": "code",
   "execution_count": null,
   "metadata": {},
   "outputs": [],
   "source": [
    "def extract_data(filename, sensor_index):\n",
    "    #explore the HDF5 file, folders and subfolders\n",
    "    with h5py.File(filename,'r') as f:\n",
    "        base_items=list(f.items())\n",
    "        print(\"\\nItems in directory\", base_items)\n",
    "        rawtransfer=f.get(\"RAWTRANSFERFUNCTION\")\n",
    "        rawtransfer_items=list(rawtransfer.items())\n",
    "        print(\"\\nItems in reference\", rawtransfer_items)\n",
    "        subgroup=rawtransfer.get(\"/RAWTRANSFERFUNCTION/\"+sensor_index+\"_MPU_9250\")\n",
    "        subgroup_items=list(subgroup.items())\n",
    "        print(\"\\n\"+sensor_index+\"_MPU_9250 items:\",subgroup_items)\n",
    "        subgroup_acceleration=subgroup.get(\"/RAWTRANSFERFUNCTION/\"+sensor_index+\"_MPU_9250/Acceleration\")\n",
    "        subgroup_acceleration_items=list(subgroup_acceleration.items())\n",
    "        print(\"\\nAcceleration items:\",subgroup_acceleration_items)\n",
    "        subgroup_acceleration_5mem=subgroup.get(\"/RAWTRANSFERFUNCTION/\"+sensor_index+\"_MPU_9250/Acceleration/Acceleration\")\n",
    "        subgroup_acceleration_5mem_items=list(subgroup_acceleration_5mem.items())\n",
    "        print(\"\\nAcceleration items_5members:\", subgroup_acceleration_5mem_items)\n",
    "        frequency=subgroup_acceleration_5mem.get(\"/RAWTRANSFERFUNCTION/\"+sensor_index+\"_MPU_9250/Acceleration/Acceleration/Excitation_frequency\")\n",
    "        frequency_items=list(frequency.items())\n",
    "        print(\"\\nFrequency\", frequency_items)\n",
    "        magnitude=subgroup_acceleration_5mem.get(\"/RAWTRANSFERFUNCTION/\"+sensor_index+\"_MPU_9250/Acceleration/Acceleration/Magnitude\")\n",
    "        magnitude_items=list(magnitude.items())\n",
    "        print(\"\\nMagnitude\", magnitude_items)\n",
    "        phase=subgroup_acceleration_5mem.get(\"/RAWTRANSFERFUNCTION/\"+sensor_index+\"_MPU_9250/Acceleration/Acceleration/Phase\")\n",
    "        phase_items=list(magnitude.items())\n",
    "        print(\"\\nPhase\", phase_items)\n",
    "        \n",
    "        \n",
    "        #extract frequencies, magnitude, phase, uncertainties and all excitation parameters\n",
    "        frequency_values=np.array(frequency.get(\"value\"))\n",
    "        magnitude_values=np.array(magnitude.get(\"value\"))\n",
    "        magnitude_uncertainties=np.array(magnitude.get(\"uncertainty\"))\n",
    "        phase_values=np.array(phase.get(\"value\"))\n",
    "        phase_uncertainties=np.array(phase.get(\"uncertainty\"))\n",
    "        excitation_freq_items=subgroup_acceleration_5mem.get(\"/RAWTRANSFERFUNCTION/\"+sensor_index+\"_MPU_9250/Acceleration/Acceleration/Excitation_frequency\")\n",
    "        excitation_freq=np.array(excitation_freq_items.get(\"value\"))\n",
    "        excitation_amp_items=subgroup_acceleration_5mem.get(\"/RAWTRANSFERFUNCTION/\"+sensor_index+\"_MPU_9250/Acceleration/Acceleration/Excitation_amplitude\")\n",
    "        excitation_amp=np.array(excitation_amp_items.get(\"value\"))\n",
    "        excitation_amp_uncertainty=np.array(excitation_amp_items.get(\"uncertainty\"))\n",
    "        \n",
    "        #join all necessary data in 2D array\n",
    "        total_array=np.stack((frequency_values,magnitude_values,magnitude_uncertainties,phase_values, phase_uncertainties,excitation_freq,excitation_amp,excitation_amp_uncertainty), axis=1)\n",
    "        print(\"\\nArray dimensions:\", total_array.shape)\n",
    "        column_names=[\"Frequency in Hz\", r\"$|S(\\omega)|$ in $ \\frac{\\mathrm{m s}^-2}{\\mathrm{m s}^-2}$\",r\"$U_{|S(\\omega)|}$ in $ \\frac{\\mathrm{m s}^-2}{\\mathrm{m s}^-2}$\", r\"$\\varphi(\\omega)$ in $rad$\", r\"$U_{\\varphi(\\omega)}$ in $rad$\",\"Excitation_freq in Hz\",r\"$A_{excit}$ in $ \\frac{\\mathrm{m s}^-2}{\\mathrm{m s}^-2}$\",r\"$U_{Aexcit}$ in $ \\frac{\\mathrm{m s}^-2}{\\mathrm{m s}^-2}$\"]\n",
    "        whole_dataset=pd.DataFrame(total_array, columns=column_names)\n",
    "        f.close()\n",
    "        \n",
    "        \n",
    "        return whole_dataset"
   ]
  },
  {
   "cell_type": "code",
   "execution_count": null,
   "metadata": {},
   "outputs": [],
   "source": [
    "whole_dataset_PTB = extract_data('MPU9250PTB_v5.hdf5',\"0x1fe40000\")"
   ]
  },
  {
   "cell_type": "code",
   "execution_count": null,
   "metadata": {},
   "outputs": [],
   "source": [
    "whole_dataset_PTB.head(2)"
   ]
  },
  {
   "cell_type": "markdown",
   "metadata": {},
   "source": [
    "Phase data for PTB must be reverted:"
   ]
  },
  {
   "cell_type": "code",
   "execution_count": null,
   "metadata": {},
   "outputs": [],
   "source": [
    "whole_dataset_PTB[[r\"$\\varphi(\\omega)$ in $rad$\"]] = whole_dataset_PTB[[r\"$\\varphi(\\omega)$ in $rad$\"]]"
   ]
  },
  {
   "cell_type": "code",
   "execution_count": null,
   "metadata": {},
   "outputs": [],
   "source": [
    "whole_dataset_PTB.head(2)"
   ]
  },
  {
   "cell_type": "code",
   "execution_count": null,
   "metadata": {},
   "outputs": [],
   "source": [
    "whole_dataset_CEM = extract_data('MPU9250CEM_v5.hdf5',\"0xbccb0000\")"
   ]
  },
  {
   "cell_type": "code",
   "execution_count": null,
   "metadata": {},
   "outputs": [],
   "source": [
    "whole_dataset_CEM[[r\"$\\varphi(\\omega)$ in $rad$\"]] = whole_dataset_CEM[[r\"$\\varphi(\\omega)$ in $rad$\"]]-np.pi\n",
    "whole_dataset_CEM.head(2)"
   ]
  },
  {
   "cell_type": "markdown",
   "metadata": {},
   "source": [
    "Cycles in CEM's dataset start with 80.0 Hz and 250.0 Hz instead of 10.0 Hz. These starting points are deleted in order to compare the cycles in a range from 10.0 Hz and 250.Hz."
   ]
  },
  {
   "cell_type": "code",
   "execution_count": null,
   "metadata": {},
   "outputs": [],
   "source": [
    "delete_rows=[]\n",
    "\n",
    "for k in range(0,171,19):\n",
    "    i=k\n",
    "    j=k+1\n",
    "    delete_rows.append(i)\n",
    "    delete_rows.append(j)\n",
    "whole_dataset_CEM_new=whole_dataset_CEM.drop(axis=0,index=delete_rows)"
   ]
  },
  {
   "cell_type": "markdown",
   "metadata": {},
   "source": [
    "# 3.Data analysis"
   ]
  },
  {
   "cell_type": "code",
   "execution_count": null,
   "metadata": {},
   "outputs": [],
   "source": [
    "def split_data_by_frequencies(dataset):\n",
    "    dict_of_frequencies=dict(iter(dataset.groupby('Frequency [Hz]')))\n",
    "    return dict_of_frequencies\n",
    "    #list_of_frequencies=np.array([10,12.5,16,20,25,31.5,40,46.7,50,53.3,63,80,100,125,160,200,250])"
   ]
  },
  {
   "cell_type": "code",
   "execution_count": null,
   "metadata": {},
   "outputs": [],
   "source": [
    "#check if all frequencies are the same\n",
    "PTB_separated_by_freq=split_data_by_frequencies(whole_dataset_PTB)\n",
    "CEM_separated_by_freq=split_data_by_frequencies(whole_dataset_CEM)\n",
    "CEM_separated_by_freq_new=split_data_by_frequencies(whole_dataset_CEM_new)\n",
    "print(\"Frequencies - PTB:\",PTB_separated_by_freq.keys())\n",
    "print(\"Frequencies - CEM:\",CEM_separated_by_freq.keys())"
   ]
  },
  {
   "cell_type": "code",
   "execution_count": null,
   "metadata": {},
   "outputs": [],
   "source": [
    "PTB_separated_by_freq.get(10).head(1)"
   ]
  },
  {
   "cell_type": "code",
   "execution_count": null,
   "metadata": {},
   "outputs": [],
   "source": [
    "CEM_separated_by_freq_new.get(10).head(1)"
   ]
  },
  {
   "cell_type": "code",
   "execution_count": null,
   "metadata": {},
   "outputs": [],
   "source": [
    "q_names=list(PTB_separated_by_freq.get(10).columns)"
   ]
  },
  {
   "cell_type": "markdown",
   "metadata": {},
   "source": [
    "# 4. ANOVA for experiments performed at a given frequency"
   ]
  },
  {
   "cell_type": "markdown",
   "metadata": {},
   "source": [
    "Ten measurement cycles for PTB and nine for CEM result with ten (or nine) experiments at each calibration point between 10.0 Hz and 250.0 Hz. Each experiment is described with:  ${x_{M}},{x_{\\phi}}$ and assigned expanded uncertainties:\n",
    "${U_{M}},{U_{\\phi}}$. These mean values arise from the sine-fitting and conversion of time-domain signals to the frequency domain.  The ANOVA method is used to examine if the mean values of experiments at a given frequency are equal for each laboratory, PTB and CEM respectively. \n",
    "\n",
    "<br>In a general case, one-way ANOVA uses the following null and alternative hypotheses:\n",
    "\n",
    "<br>H0 (a null hypothesis): μ1 = μ2 = μ3 = … = μk (all the population means are equal)\n",
    "<br>H1 (a research hypothesis): at least one population mean is different from the rest.\n",
    "\n",
    "There are three primary assumptions in ANOVA:\n",
    "\n",
    "<br>*The responses for each factor level have a normal population distribution.*\n",
    "<br>*These distributions have the same variance.*\n",
    "<br>*The data are independent.*\n",
    "<br>Violations to the first two that are not extreme can be considered not serious. The sampling distribution of the test statistic is fairly robust, especially as sample size increases and more so if the sample sizes for all factor levels are equal. If you conduct an ANOVA test, you should always try to keep the same sample sizes for each factor level.\n",
    "\n",
    "If our samples have unequal variances (heteroscedasticity), on the other hand, it can affect the Type I error rate and lead to false positives. This is, basically, what equality of variances means.\n",
    "\n",
    "<b>A general rule of thumb for equal variances is to compare the smallest and largest sample standard deviations. This is much like the rule of thumb for equal variances for the test for independent means. If the ratio of these two sample standard deviations falls within 0.5 to 2, then it may be that the assumption is not violated.<b>"
   ]
  },
  {
   "cell_type": "markdown",
   "metadata": {},
   "source": [
    "## 4.1 Test for the equality of variances"
   ]
  },
  {
   "cell_type": "code",
   "execution_count": null,
   "metadata": {},
   "outputs": [],
   "source": [
    "def rule_of_thumb_ANOVA(dictionary, index):  \n",
    "    ratio_mag=np.empty((len(dictionary.values())))\n",
    "    ratio_ph=np.empty((len(dictionary.values())))\n",
    "    ratio_ex=np.empty((len(dictionary.values())))\n",
    "    for val,f in zip (dictionary.values(),range(len(dictionary.values()))):\n",
    "            min_mag=min(val[r\"$U_{M},$ [m s^-2/m s^-2]\"].values/2)\n",
    "            max_mag=max(val[r\"$U_{M},$ [m s^-2/m s^-2]\"].values/2)\n",
    "            ratio_mag[f]=max_mag/min_mag\n",
    "\n",
    "            min_ph=min(val[r\"$U_{\\phi},$ [rad]\"].values/2)\n",
    "            max_ph=max(val[r\"$U_{\\phi},$ [rad]\"].values/2)\n",
    "            ratio_ph[f]=max_ph/min_ph\n",
    "\n",
    "            min_ex=min(val[r\"$U_{Aexcit},$ [m s^-2/m s^-2]\"].values/2)\n",
    "            max_ex=max(val[r\"$U_{Aexcit},$ [m s^-2/m s^-2]\"].values/2)\n",
    "            ratio_ex[f]=max_ex/min_ex\n",
    "    \n",
    "    ratios = {'Magnitude' : pd.Series(ratio_mag,index =index),\n",
    "              'Phase' : pd.Series(ratio_ph,index =index),\n",
    "              'Excitation amplitude' : pd.Series(ratio_ex,index =index),     \n",
    "             }\n",
    "    ratios=pd.DataFrame(ratios, index=index)  \n",
    "    return ratios#.style.applymap(lambda x: 'background-color : red' if x>2 else 'background-color : green')\n",
    " #red - variances are not equal.The assumption might be violated\n",
    "# green - variances are equal. The assumption is not violated"
   ]
  },
  {
   "cell_type": "code",
   "execution_count": null,
   "metadata": {
    "scrolled": true
   },
   "outputs": [],
   "source": [
    "list_of_freq=[10,12.5,16,20,25,31.5,40,46.7,50,53.3,63,80,100,125,160,200,250]\n",
    "rule_PTB=rule_of_thumb_ANOVA(PTB_separated_by_freq,list_of_freq)\n",
    "rule_CEM=rule_of_thumb_ANOVA(CEM_separated_by_freq_new,list_of_freq)\n",
    "\n",
    "#create output widgets - optionally\n",
    "widget1 = widgets.Output()\n",
    "widget2 = widgets.Output()\n",
    "\n",
    "\n",
    "with widget1:\n",
    "    display.display(rule_PTB.style.set_caption('PTB').applymap(lambda x: 'background-color : red' if x>2 else 'background-color : green'))\n",
    "\n",
    "with widget2:\n",
    "    display.display(rule_CEM.style.set_caption('CEM').applymap(lambda x: 'background-color : red' if x>2 else 'background-color : green'))\n",
    "\n",
    "\n",
    "\n",
    "# add some CSS styles to distribute free space\n",
    "box_layout = Layout(display='flex',\n",
    "                    flex_flow='row',\n",
    "                    justify_content='space-around',\n",
    "                    width='auto'\n",
    "                   )\n",
    "    \n",
    "# create Horisontal Box container\n",
    "hbox = widgets.HBox([widget1, widget2], layout=box_layout)\n",
    "\n",
    "#render hbox\n",
    "hbox"
   ]
  },
  {
   "cell_type": "markdown",
   "metadata": {},
   "source": [
    "The test for the equality of variances shows that distributions do not have the same variance at most frequencies  for both laboratories. Phase observation for both laboratories supports the hypothesis about equality of variances at frequencies up to 25.0 Hz.\n",
    "\n",
    "This test raise awareness in potential violations in the results which will be provided further by the ANOVA method.\n"
   ]
  },
  {
   "cell_type": "markdown",
   "metadata": {},
   "source": [
    "If it is assumed that each experiment is based on at least 30 single values, then the normal distribution can be proposed:\n",
    "$$X \\hookrightarrow  \\mathcal{N}(x_{M},\\,\\sigma _{M}^{2})$$\n",
    "where $\\sigma _{M}$ is calculated as   $\\frac{U _{M}}{2}$.\n",
    "\n",
    "The same approach refers to the phase values: \n",
    "$$X \\hookrightarrow  \\mathcal{N}(x_{\\phi},\\,\\sigma _{\\phi}^{2})$$\n",
    "where $\\sigma _{\\phi}$ is calculated as   $\\frac{U _{\\phi}}{2}$.\n",
    "Now, the task of ANOVA for the magnitude values is to set the null- and research hypothesis and to examine if the null-hypothesis can be rejected or not is to examine whether $x_{M1} = x_{M2}=.....x_{Mi}$\n",
    "<br> H0:  $x_{M1} = x_{M2}=.....x_{Mi}$\n",
    "<br>H1 (a research hypothesis): at least one $x_{Mi}$ is different from the rest.\n",
    "\n",
    "The task of ANOVA for the phase  values is to set the null- and research hypothesis and to examine if the null-hypothesis can be rejected or not is to examine whether $x_{\\phi 1} = x_{\\phi 2}=.....x_{\\phi i}$\n",
    "<br> H0:  $x_{\\phi 1} = x_{\\phi 2}=.....x_{\\phi i}$\n",
    "<br>H1 (a research hypothesis): at least one $x_{\\phi i}$ is different from the rest.\n",
    "\n",
    "In both cases, *i* refers to the number of experiments at a given frequency (*i*=10 for PTB and *i*=9 for CEM).\n",
    "\n",
    "<br> If the p-value of the ANOVA calculation is higher that 0.05, the null hypothesis cannot be rejected. [4] If the p-value is less than 0.05, we reject the null hypothesis that there's no difference between the means.\n",
    "<br>*NOTE: ANOVA method at this step is based on sampling because for each experiment only the mean value and standard deviation of quantities of interest are known, while the number of single values contained in the each experiment is not known. However, it is not sure whether the sampling is an applicable option for measurement procedure by the acceleration sensor.It is also noticable that the results are affected by the number of samples involved.*"
   ]
  },
  {
   "cell_type": "code",
   "execution_count": null,
   "metadata": {},
   "outputs": [],
   "source": [
    "def ANOVA_through_experiments(dictionary,index,lab):\n",
    " \n",
    "    p=np.empty((len(dictionary.values())))\n",
    "\n",
    "    for val,f in zip (dictionary.values(),range(len(dictionary.values()))):\n",
    "        group=[None]*val.shape[0]\n",
    "        for item in range(val.shape[0]):\n",
    "            random1=np.random.normal(val[r\"$x_{M},$ [m s^-2/m s^-2]\"].values[item], val[r\"$U_{M},$ [m s^-2/m s^-2]\"].values[item]/2, 30)\n",
    "            group[item]=random1\n",
    "            \n",
    "        if lab==\"PTB\": \n",
    "            F_statistic, pVal = stats.f_oneway(group[0],group[1],group[2],group[3],group[4],group[5],group[6],group[7],group[8],group[9]) \n",
    "        elif lab==\"CEM\":\n",
    "            F_statistic, pVal = stats.f_oneway(group[0],group[1],group[2],group[3],group[4],group[5],group[6],group[7],group[8])\n",
    "        p[f]=pVal\n",
    "     \n",
    "    df=pd.DataFrame(p,columns=[\"p-value (Magnitude) \"], index=index) \n",
    "\n",
    "          \n",
    "    for val,f in zip (dictionary.values(),range(len(dictionary.values()))):\n",
    "        group=[None]*val.shape[0]\n",
    "        for item in range(val.shape[0]):\n",
    "            random1=np.random.normal(val[r\"$x_{\\phi},$ [rad]\"].values[item], val[r\"$U_{\\phi},$ [rad]\"].values[item]/2, 30)\n",
    "            group[item]=random1\n",
    "        if lab==\"PTB\": \n",
    "            F_statistic, pVal = stats.f_oneway(group[0],group[1],group[2],group[3],group[4],group[5],group[6],group[7],group[8],group[9])\n",
    "            p[f]=pVal\n",
    "        elif lab==\"CEM\":\n",
    "            F_statistic, pVal = stats.f_oneway(group[0],group[1],group[2],group[3],group[4],group[5],group[6],group[7],group[8])\n",
    "        p[f]=pVal\n",
    "  \n",
    "    df[\"p-value (Phase) \"]=p    \n",
    "        \n",
    "    return df#.style.applymap(lambda x: 'background-color : yellow' if x<0.05 else 'background-color : green')\n",
    "\n",
    " #yellow - the null hypothesis can be rejected. \n",
    "# green - the null hypothesis cannot be rejected. "
   ]
  },
  {
   "cell_type": "code",
   "execution_count": null,
   "metadata": {},
   "outputs": [],
   "source": [
    "p_ANOVA_PTB,p_ANOVA_CEM=ANOVA_through_experiments(PTB_separated_by_freq,list_of_freq,\"PTB\"),ANOVA_through_experiments(CEM_separated_by_freq_new,list_of_freq,\"CEM\")"
   ]
  },
  {
   "cell_type": "code",
   "execution_count": null,
   "metadata": {},
   "outputs": [],
   "source": [
    "# create output widgets\n",
    "widget1 = widgets.Output()\n",
    "widget2 = widgets.Output()\n",
    "\n",
    "with widget1:\n",
    "    display.display(p_ANOVA_PTB.style.set_caption('PTB').applymap(lambda x: 'background-color : yellow' if x<0.05 else 'background-color : green'))\n",
    "\n",
    "with widget2:\n",
    "    display.display(p_ANOVA_CEM.style.set_caption('CEM').applymap(lambda x: 'background-color : yellow' if x<0.05 else 'background-color : green'))\n",
    "\n",
    "\n",
    "\n",
    "# add some CSS styles to distribute free space\n",
    "box_layout = Layout(display='flex',\n",
    "                    flex_flow='row',\n",
    "                    justify_content='space-around',\n",
    "                    width='auto'\n",
    "                   )\n",
    "    \n",
    "# create Horisontal Box container\n",
    "hbox = widgets.HBox([widget1, widget2], layout=box_layout)\n",
    "\n",
    "# render hbox\n",
    "hbox"
   ]
  },
  {
   "cell_type": "markdown",
   "metadata": {},
   "source": [
    "# References"
   ]
  },
  {
   "cell_type": "markdown",
   "metadata": {},
   "source": [
    "[1] https://www.investopedia.com/terms/c/coefficientofvariation.asp\n",
    "<br>[2] https://en.wikipedia.org/wiki/Weighted_arithmetic_mean\n",
    "<br>[3] https://en.wikipedia.org/wiki/Effective_sample_size\n",
    "<br>[4] https://online.stat.psu.edu/stat500/lesson/10/10.2/10.2.1\n",
    "<br>[5] https://www.marsja.se/levenes-bartletts-test-of-equality-homogeneity-of-variance-in-python/"
   ]
  },
  {
   "cell_type": "code",
   "execution_count": null,
   "metadata": {},
   "outputs": [],
   "source": []
  },
  {
   "cell_type": "code",
   "execution_count": null,
   "metadata": {},
   "outputs": [],
   "source": []
  }
 ],
 "metadata": {
  "kernelspec": {
   "display_name": "Python 3",
   "language": "python",
   "name": "python3"
  },
  "language_info": {
   "codemirror_mode": {
    "name": "ipython",
    "version": 3
   },
   "file_extension": ".py",
   "mimetype": "text/x-python",
   "name": "python",
   "nbconvert_exporter": "python",
   "pygments_lexer": "ipython3",
   "version": "3.7.1"
  }
 },
 "nbformat": 4,
 "nbformat_minor": 4
}
