{
 "cells": [
  {
   "cell_type": "markdown",
   "metadata": {},
   "source": [
    "\n",
    "# 1. Introduction"
   ]
  },
  {
   "cell_type": "markdown",
   "metadata": {},
   "source": [
    "This study has been developed for the purposes of the EMPIR project “Metrology for the Factory of the Future” (Met4FoF) -  Activity A1.2.2 of the Work Package 1.Two laboratories in PTB and CEM posses conventional dynamic calibration set-ups for acceleration sensors under test. This section describes different methods for the interlaboratory study on the comparison of measurement results of digital - output acceleration sensor (DUT). The study covered two laboratories with their individual set-ups.  Among in-detailed analysis of the data, three case studies (according to GUM, GUM-S1 and weighted values) were applied as the inputs for the one method of comparison - En values calculation.  The second method of comparison relies on the weighted difference. The analysis required data transformation from time domain signals to the frequency domain, sine approximation and Gaussian error propagation. The selected sensor for acceleration measurements is a three-axial low-g acceleration sensor with digital output, which allows measurements of acceleration in three perpendicular axes. Only an X-axis acceleration was observed during the study. \n",
    "\n",
    "## 1.1. State of the art\n",
    "\n",
    "In conventional dynamic calibration procedures for acceleration sensors, the acceleration used for the sensor input is applied either as **a sinusoidal excitation with a given frequency and amplitude** or as **a singular shock-like excitation characterized by pulse width and intensity**. \n",
    "<br>The quantity is then measured by a reference sensor and by the device under test (DUT). The results of DUT are compared to the reference and hence characterized and linked to the SI. In a dynamic calibration situation, the response of the DUT to time-varying input is the major interest. Hence, it is crucial that the mechanical input operates simultaneously and equally on the reference and DUT. Both, the reference and the DUT provide **electrical outputs (typical voltage)** while **the data acquisition electronics** of the system provides **the analogue to digital conversion (ADC).**\n",
    "In order to connect the reference and the DUT to the ADC system, two analogue channels are needed. In order to get reliable information on the time dependent response, the timing of the data acquisition on the two channels has to be synchronized. This is typically accomplished by provision of a common clock signal to drive the sampling units of the ADC and a common trigger to start (or mark) the beginning of the acquisition. "
   ]
  },
  {
   "cell_type": "markdown",
   "metadata": {},
   "source": [
    "## 1.2. The extension of conventional dynamic calibration systems to digital-output sensors \n",
    "\n",
    "In a set-up where the DUT is a digital-output sensor,the sampling of the DUT time series is no longer under the control (trigger, clock) of the calibration system. Instead, the DUT comprises its own digitizer unit with a time base independent of the calibration system. In fact, a typical conventional calibration set-up does not provide an input for digital data at all.\n",
    "The solution to this problem requires two extensions:\n",
    "1.\tA digital acquisition unit (DAU) which is capable to connect to the digital interface of the sensor under calibration and store/transmit the DUT time-series for later analysis\n",
    "2.\tAn additional synchronization signal that provides the link between the time-base of the calibration system and the time-base of the DUT.\n",
    "\n",
    "The concept for the extension of existing facilities for dynamic calibration uses a custom digital acquisition unit microcontroller board with a connected reference time signal for traceable time stamping of acquired data points. This allows for a synchronised data acquisition from the reference measurement and the DUT. \n",
    "\n",
    "\n",
    "The selected laboratories posses their set-ups and the calibration items were calibrated in both set-ups.The analysis required transformation from time domain to the frequency domain, where frequencies and corresponding magnitudes and phases were calculated.The measurement conditions were kept according to the laboratory standard conditions. \n",
    "\n",
    "Each laboratory submitted HDFT files containing groups:\n",
    "- EXPERIMENTS - containing 171 files (experiment) corresponding to the sine excitations\n",
    "- RAWDATA - where data from ADCs (*voltage, absolute time, absolute time uncertainty*)  and sensors (*absolute time, absolute time uncertainty, acceleration, angular velocity, magnetic flux density and temperature*) can be approached during the measurements\n",
    "- RAWTRANSFERFUNCTION - *this group contains quantities of interest: frequencies, amplitudes, assigned uncertainties of amplitudes, phases,  assigned uncertainties of phases, excitation amplitudes and assigned uncertainties of excitation amplitudes\n",
    "- REFERENCEDATA - reference data from ADCs and sensors.\n",
    "\n",
    "Measurement characteristics of DUT are given in the Table 1 below\n",
    "    \n",
    "| <b>PTB<b> | Sensor | Internal ADC |\n",
    "| --- | --- | --- |\n",
    "| <b>Name<b> | MPU 9250| STM 32 Internal ADC |\n",
    "| <b>ID<b>  | 535035904 | 535038464 |\n",
    "| <b>Quantity<b>  | X Acceleration | Voltage  @CH1 |\n",
    "| <b>Unit<b>  | $\\frac{m}{s^{2}}$ | V |    \n",
    "| <b>Resolution<b>  | 65536,0 (16-bit) | 4096,0 (12-bit) |\n",
    "| <b>Min. scale<b>  | -156,91439819335938 $\\frac{m}{s^{2}}$  | -10 V |\n",
    "| <b>Max. scale<b>  | 156,90960693359375 $\\frac{m}{s^{2}}$  | 10 V |\n",
    "    \n",
    "| <b>CEM<b> | Sensor | Internal ADC |\n",
    "| --- | --- | --- |\n",
    "| <b>Name<b> | MPU 9250| STM 32 Internal ADC |\n",
    "| <b>ID<b>  | 3167420416 | 31674422976 |\n",
    "| <b>Quantity<b>  | X Acceleration | Voltage  @CH1 |\n",
    "| <b>Unit<b>  | $\\frac{m}{s^{2}}$ | V |    \n",
    "| <b>Resolution<b>  | 65536,0 (16-bit) | 4096,0 (12-bit) |\n",
    "| <b>Min. scale<b>  | -156,91439819335938 $\\frac{m}{s^{2}}$  | -10 V |\n",
    "| <b>Max. scale<b>  | 156,90960693359375 $\\frac{m}{s^{2}}$  | 10 V |\n",
    "    \n",
    "    \n",
    "The calibration range of the study was selected in accordance with the current measurement capabilities of the participating laboratories. The study consisted of ten measurement cycles for PTB and nine measurement cycles for CEM in the frequency range of (10.0 - 250.0)Hz. Each measurement cycle contained seventeen calibration points within the selected frequency range. The individual measurements in the one cycle are called “experiments”. Each calibration point in one cycle was quantified in terms of estimated values and standard deviations of magnitude and phase.  These values arose from the sine-fitting and conversion\n",
    "of time-domain signals into frequency domain. The provided data sets also include the excitation amplitude values, whose variations from the targeted values are known and not considered.  The CEM’s set-up always starts measurement at frequencies of80.0 Hz and 250.0 Hz respectively, before targeting the calibration point at 10.0Hz. In particular, the magnitude and phase values originating from this characteristic of the CEM’s set-up have not been considered.The measurement conditions were kept according to the laboratory standard conditions."
   ]
  },
  {
   "cell_type": "code",
   "execution_count": 294,
   "metadata": {},
   "outputs": [],
   "source": [
    "import h5py\n",
    "import numpy as np\n",
    "import pandas as pd\n",
    "import matplotlib.pyplot as plt\n",
    "#import ipympl\n",
    "import scipy.stats\n",
    "import numpy as np\n",
    "import scipy.stats as stats\n",
    "import seaborn as sns\n",
    "\n",
    "#conda install -c conda-forge miktex in command prompt\n",
    "import seaborn as sns\n",
    "from ipywidgets import widgets, Layout#this is optionally, must be installed \n",
    "from IPython import display#this is optionally\n",
    "from ipywidgets import widgets, Layout\n"
   ]
  },
  {
   "cell_type": "code",
   "execution_count": 295,
   "metadata": {},
   "outputs": [],
   "source": [
    "#FOR LATEX -takes longer to run plots\n",
    "\n",
    "plt.rc('font', family='serif')\n",
    "plt.rcParams['text.latex.preamble'] = [r'\\usepackage{sfmath} \\boldmath']# all text in blots bold\n",
    "#plt.rc('text', usetex=True)# for figure export \n",
    "plt.rc('text', usetex=False)# use tex for image export\n",
    "PLTSCALFACTOR =1.5# change this to scale all plots labels (3 is good for export on 4k screan)\n",
    "SMALL_SIZE = 12 * PLTSCALFACTOR\n",
    "MEDIUM_SIZE = 15 * PLTSCALFACTOR\n",
    "BIGGER_SIZE = 18 * PLTSCALFACTOR\n",
    "\n",
    "plt.rc(\"font\", size=SMALL_SIZE)  # controls default text sizes\n",
    "plt.rc(\"axes\", titlesize=SMALL_SIZE)  # fontsize of the axes title\n",
    "plt.rc(\"axes\", labelsize=MEDIUM_SIZE)  # fontsize of the x and y labels\n",
    "plt.rc(\"xtick\", labelsize=SMALL_SIZE)  # fontsize of the tick labels\n",
    "plt.rc(\"ytick\", labelsize=SMALL_SIZE)  # fontsize of the tick labels\n",
    "plt.rc(\"legend\", fontsize=SMALL_SIZE)  # legend fontsize\n",
    "plt.rc(\"figure\", titlesize=BIGGER_SIZE)  # fontsize of the figure title\n",
    "plt.rcParams['lines.linewidth'] = PLTSCALFACTOR"
   ]
  },
  {
   "cell_type": "markdown",
   "metadata": {},
   "source": [
    "# 2.Extract the data"
   ]
  },
  {
   "cell_type": "markdown",
   "metadata": {},
   "source": [
    "Data for ILC comparison is extracted from the HDF5 files separately for PTB and CEM. The extracted data will be sorted by frequency at the end of the Notebook and saved into Excel file."
   ]
  },
  {
   "cell_type": "code",
   "execution_count": 296,
   "metadata": {},
   "outputs": [],
   "source": [
    "def extract_data(filename, sensor_ID):\n",
    "    #explore the HDF5 file, folders and subfolders\n",
    "    with h5py.File(filename,'r') as f:\n",
    "        base_items=list(f.items())\n",
    "        print(\"\\nItems in directory\", base_items)\n",
    "        rawtransfer=f.get(\"RAWTRANSFERFUNCTION\")\n",
    "        rawtransfer_items=list(rawtransfer.items())\n",
    "        print(\"\\nItems in reference\", rawtransfer_items)\n",
    "        subgroup=rawtransfer.get(\"/RAWTRANSFERFUNCTION/\"+sensor_ID)\n",
    "        subgroup_items=list(subgroup.items())\n",
    "        print(\"\\n\"+sensor_ID+\"items:\",subgroup_items)\n",
    "        subgroup_acceleration=subgroup.get(\"/RAWTRANSFERFUNCTION/\"+sensor_ID+\"/Acceleration\")\n",
    "        subgroup_acceleration_items=list(subgroup_acceleration.items())\n",
    "        print(\"\\nAcceleration items:\",subgroup_acceleration_items)\n",
    "        subgroup_acceleration_5mem=subgroup.get(\"/RAWTRANSFERFUNCTION/\"+sensor_ID+\"/Acceleration/Acceleration\")\n",
    "        subgroup_acceleration_5mem_items=list(subgroup_acceleration_5mem.items())\n",
    "        print(\"\\nAcceleration items_5members:\", subgroup_acceleration_5mem_items)\n",
    "        frequency=subgroup_acceleration_5mem.get(\"/RAWTRANSFERFUNCTION/\"+sensor_ID+\"/Acceleration/Acceleration/Excitation_frequency\")\n",
    "        frequency_items=list(frequency.items())\n",
    "        print(\"\\nFrequency\", frequency_items)\n",
    "        magnitude=subgroup_acceleration_5mem.get(\"/RAWTRANSFERFUNCTION/\"+sensor_ID+\"/Acceleration/Acceleration/Magnitude\")\n",
    "        magnitude_items=list(magnitude.items())\n",
    "        print(\"\\nMagnitude\", magnitude_items)\n",
    "        phase=subgroup_acceleration_5mem.get(\"/RAWTRANSFERFUNCTION/\"+sensor_ID+\"/Acceleration/Acceleration/Phase\")\n",
    "        phase_items=list(magnitude.items())\n",
    "        print(\"\\nPhase\", phase_items)\n",
    "        \n",
    "        \n",
    "        #extract frequencies, magnitude, phase, uncertainties and all excitation parameters\n",
    "        frequency_values=np.array(frequency.get(\"value\"))\n",
    "        magnitude_values=np.array(magnitude.get(\"value\"))\n",
    "        magnitude_uncertainties=np.array(magnitude.get(\"uncertainty\"))\n",
    "        phase_values=np.array(phase.get(\"value\"))\n",
    "        phase_uncertainties=np.array(phase.get(\"uncertainty\"))\n",
    "        excitation_freq_items=subgroup_acceleration_5mem.get(\"/RAWTRANSFERFUNCTION/\"+sensor_ID+\"/Acceleration/Acceleration/Excitation_frequency\")\n",
    "        excitation_freq=np.array(excitation_freq_items.get(\"value\"))\n",
    "        excitation_amp_items=subgroup_acceleration_5mem.get(\"/RAWTRANSFERFUNCTION/\"+sensor_ID+\"/Acceleration/Acceleration/Excitation_amplitude\")\n",
    "        excitation_amp=np.array(excitation_amp_items.get(\"value\"))\n",
    "        excitation_amp_uncertainty=np.array(excitation_amp_items.get(\"uncertainty\"))\n",
    "        \n",
    "        #join all necessary data in 2D array\n",
    "        total_array=np.stack((frequency_values,magnitude_values,magnitude_uncertainties,phase_values, phase_uncertainties,excitation_freq,excitation_amp,excitation_amp_uncertainty), axis=1)\n",
    "        print(\"\\nArray dimensions:\", total_array.shape)\n",
    "        column_names=[\"Frequency in Hz\", r\"$|S(\\omega)|$ in $ \\frac{\\mathrm{m s}^-2}{\\mathrm{m s}^-2}$\",r\"$U_{|S(\\omega)|}$ in $ \\frac{\\mathrm{m s}^-2}{\\mathrm{m s}^-2}$\", r\"$\\Delta\\varphi(\\omega)$ in $rad$\", r\"$U_{\\Delta\\varphi(\\omega)}$ in $rad$\",\"Excitation_freq in Hz\",r\"$A_{excit}$ in $ \\frac{\\mathrm{m s}^-2}{\\mathrm{m s}^-2}$\",r\"$U_{Aexcit}$ in $ \\frac{\\mathrm{m s}^-2}{\\mathrm{m s}^-2}$\"]\n",
    "        whole_dataset=pd.DataFrame(total_array, columns=column_names)\n",
    "        f.close()\n",
    "        \n",
    "        \n",
    "        return whole_dataset\n",
    "    "
   ]
  },
  {
   "cell_type": "code",
   "execution_count": 297,
   "metadata": {},
   "outputs": [
    {
     "name": "stdout",
     "output_type": "stream",
     "text": [
      "\n",
      "Items in directory [('EXPERIMENTS', <HDF5 group \"/EXPERIMENTS\" (1 members)>), ('RAWDATA', <HDF5 group \"/RAWDATA\" (2 members)>), ('RAWTRANSFERFUNCTION', <HDF5 group \"/RAWTRANSFERFUNCTION\" (1 members)>), ('REFERENCEDATA', <HDF5 group \"/REFERENCEDATA\" (2 members)>)]\n",
      "\n",
      "Items in reference [('0x1fe40000_MPU_9250', <HDF5 group \"/RAWTRANSFERFUNCTION/0x1fe40000_MPU_9250\" (1 members)>)]\n",
      "\n",
      "0x1fe40000_MPU_9250items: [('Acceleration', <HDF5 group \"/RAWTRANSFERFUNCTION/0x1fe40000_MPU_9250/Acceleration\" (1 members)>)]\n",
      "\n",
      "Acceleration items: [('Acceleration', <HDF5 group \"/RAWTRANSFERFUNCTION/0x1fe40000_MPU_9250/Acceleration/Acceleration\" (11 members)>)]\n",
      "\n",
      "Acceleration items_5members: [('DUT_Phase', <HDF5 group \"/RAWTRANSFERFUNCTION/0x1fe40000_MPU_9250/Acceleration/Acceleration/DUT_Phase\" (2 members)>), ('DUT_SNYNC_Phase', <HDF5 group \"/RAWTRANSFERFUNCTION/0x1fe40000_MPU_9250/Acceleration/Acceleration/DUT_SNYNC_Phase\" (2 members)>), ('DUT_amplitude', <HDF5 group \"/RAWTRANSFERFUNCTION/0x1fe40000_MPU_9250/Acceleration/Acceleration/DUT_amplitude\" (2 members)>), ('Delta_DUTSNYC_Phase', <HDF5 group \"/RAWTRANSFERFUNCTION/0x1fe40000_MPU_9250/Acceleration/Acceleration/Delta_DUTSNYC_Phase\" (2 members)>), ('Excitation_amplitude', <HDF5 group \"/RAWTRANSFERFUNCTION/0x1fe40000_MPU_9250/Acceleration/Acceleration/Excitation_amplitude\" (2 members)>), ('Excitation_frequency', <HDF5 group \"/RAWTRANSFERFUNCTION/0x1fe40000_MPU_9250/Acceleration/Acceleration/Excitation_frequency\" (2 members)>), ('Frequency', <HDF5 group \"/RAWTRANSFERFUNCTION/0x1fe40000_MPU_9250/Acceleration/Acceleration/Frequency\" (2 members)>), ('Magnitude', <HDF5 group \"/RAWTRANSFERFUNCTION/0x1fe40000_MPU_9250/Acceleration/Acceleration/Magnitude\" (2 members)>), ('Phase', <HDF5 group \"/RAWTRANSFERFUNCTION/0x1fe40000_MPU_9250/Acceleration/Acceleration/Phase\" (2 members)>), ('REF_Phase', <HDF5 group \"/RAWTRANSFERFUNCTION/0x1fe40000_MPU_9250/Acceleration/Acceleration/REF_Phase\" (2 members)>), ('SSU_ADC_Phase', <HDF5 group \"/RAWTRANSFERFUNCTION/0x1fe40000_MPU_9250/Acceleration/Acceleration/SSU_ADC_Phase\" (2 members)>)]\n",
      "\n",
      "Frequency [('uncertainty', <HDF5 dataset \"uncertainty\": shape (170,), type \"<f8\">), ('value', <HDF5 dataset \"value\": shape (170,), type \"<f8\">)]\n",
      "\n",
      "Magnitude [('uncertainty', <HDF5 dataset \"uncertainty\": shape (170,), type \"<f8\">), ('value', <HDF5 dataset \"value\": shape (170,), type \"<f8\">)]\n",
      "\n",
      "Phase [('uncertainty', <HDF5 dataset \"uncertainty\": shape (170,), type \"<f8\">), ('value', <HDF5 dataset \"value\": shape (170,), type \"<f8\">)]\n",
      "\n",
      "Array dimensions: (170, 8)\n"
     ]
    }
   ],
   "source": [
    "whole_dataset_PTB = extract_data('MPU9250PTB_v5.hdf5',\"0x1fe40000_MPU_9250\")"
   ]
  },
  {
   "cell_type": "code",
   "execution_count": 298,
   "metadata": {},
   "outputs": [
    {
     "data": {
      "text/html": [
       "<div>\n",
       "<style scoped>\n",
       "    .dataframe tbody tr th:only-of-type {\n",
       "        vertical-align: middle;\n",
       "    }\n",
       "\n",
       "    .dataframe tbody tr th {\n",
       "        vertical-align: top;\n",
       "    }\n",
       "\n",
       "    .dataframe thead th {\n",
       "        text-align: right;\n",
       "    }\n",
       "</style>\n",
       "<table border=\"1\" class=\"dataframe\">\n",
       "  <thead>\n",
       "    <tr style=\"text-align: right;\">\n",
       "      <th></th>\n",
       "      <th>Frequency in Hz</th>\n",
       "      <th>$|S(\\omega)|$ in $ \\frac{\\mathrm{m s}^-2}{\\mathrm{m s}^-2}$</th>\n",
       "      <th>$U_{|S(\\omega)|}$ in $ \\frac{\\mathrm{m s}^-2}{\\mathrm{m s}^-2}$</th>\n",
       "      <th>$\\Delta\\varphi(\\omega)$ in $rad$</th>\n",
       "      <th>$U_{\\Delta\\varphi(\\omega)}$ in $rad$</th>\n",
       "      <th>Excitation_freq in Hz</th>\n",
       "      <th>$A_{excit}$ in $ \\frac{\\mathrm{m s}^-2}{\\mathrm{m s}^-2}$</th>\n",
       "      <th>$U_{Aexcit}$ in $ \\frac{\\mathrm{m s}^-2}{\\mathrm{m s}^-2}$</th>\n",
       "    </tr>\n",
       "  </thead>\n",
       "  <tbody>\n",
       "    <tr>\n",
       "      <th>0</th>\n",
       "      <td>10.0</td>\n",
       "      <td>1.019554</td>\n",
       "      <td>0.003273</td>\n",
       "      <td>-0.094684</td>\n",
       "      <td>0.003022</td>\n",
       "      <td>10.0</td>\n",
       "      <td>2.739</td>\n",
       "      <td>0.004891</td>\n",
       "    </tr>\n",
       "    <tr>\n",
       "      <th>1</th>\n",
       "      <td>12.5</td>\n",
       "      <td>1.019093</td>\n",
       "      <td>0.004047</td>\n",
       "      <td>-0.118820</td>\n",
       "      <td>0.006455</td>\n",
       "      <td>12.5</td>\n",
       "      <td>2.744</td>\n",
       "      <td>0.007312</td>\n",
       "    </tr>\n",
       "  </tbody>\n",
       "</table>\n",
       "</div>"
      ],
      "text/plain": [
       "   Frequency in Hz  \\\n",
       "0             10.0   \n",
       "1             12.5   \n",
       "\n",
       "   $|S(\\omega)|$ in $ \\frac{\\mathrm{m s}^-2}{\\mathrm{m s}^-2}$  \\\n",
       "0                                           1.019554             \n",
       "1                                           1.019093             \n",
       "\n",
       "   $U_{|S(\\omega)|}$ in $ \\frac{\\mathrm{m s}^-2}{\\mathrm{m s}^-2}$  \\\n",
       "0                                           0.003273                 \n",
       "1                                           0.004047                 \n",
       "\n",
       "   $\\Delta\\varphi(\\omega)$ in $rad$  $U_{\\Delta\\varphi(\\omega)}$ in $rad$  \\\n",
       "0                         -0.094684                              0.003022   \n",
       "1                         -0.118820                              0.006455   \n",
       "\n",
       "   Excitation_freq in Hz  \\\n",
       "0                   10.0   \n",
       "1                   12.5   \n",
       "\n",
       "   $A_{excit}$ in $ \\frac{\\mathrm{m s}^-2}{\\mathrm{m s}^-2}$  \\\n",
       "0                                              2.739           \n",
       "1                                              2.744           \n",
       "\n",
       "   $U_{Aexcit}$ in $ \\frac{\\mathrm{m s}^-2}{\\mathrm{m s}^-2}$  \n",
       "0                                           0.004891           \n",
       "1                                           0.007312           "
      ]
     },
     "execution_count": 298,
     "metadata": {},
     "output_type": "execute_result"
    }
   ],
   "source": [
    "whole_dataset_PTB.head(2)"
   ]
  },
  {
   "cell_type": "markdown",
   "metadata": {},
   "source": [
    "Phase data for PTB must be reverted:"
   ]
  },
  {
   "cell_type": "code",
   "execution_count": 299,
   "metadata": {},
   "outputs": [],
   "source": [
    "whole_dataset_PTB[[r\"$\\Delta\\varphi(\\omega)$ in $rad$\"]] = whole_dataset_PTB[[r\"$\\Delta\\varphi(\\omega)$ in $rad$\"]]"
   ]
  },
  {
   "cell_type": "code",
   "execution_count": 300,
   "metadata": {},
   "outputs": [
    {
     "data": {
      "text/html": [
       "<div>\n",
       "<style scoped>\n",
       "    .dataframe tbody tr th:only-of-type {\n",
       "        vertical-align: middle;\n",
       "    }\n",
       "\n",
       "    .dataframe tbody tr th {\n",
       "        vertical-align: top;\n",
       "    }\n",
       "\n",
       "    .dataframe thead th {\n",
       "        text-align: right;\n",
       "    }\n",
       "</style>\n",
       "<table border=\"1\" class=\"dataframe\">\n",
       "  <thead>\n",
       "    <tr style=\"text-align: right;\">\n",
       "      <th></th>\n",
       "      <th>Frequency in Hz</th>\n",
       "      <th>$|S(\\omega)|$ in $ \\frac{\\mathrm{m s}^-2}{\\mathrm{m s}^-2}$</th>\n",
       "      <th>$U_{|S(\\omega)|}$ in $ \\frac{\\mathrm{m s}^-2}{\\mathrm{m s}^-2}$</th>\n",
       "      <th>$\\Delta\\varphi(\\omega)$ in $rad$</th>\n",
       "      <th>$U_{\\Delta\\varphi(\\omega)}$ in $rad$</th>\n",
       "      <th>Excitation_freq in Hz</th>\n",
       "      <th>$A_{excit}$ in $ \\frac{\\mathrm{m s}^-2}{\\mathrm{m s}^-2}$</th>\n",
       "      <th>$U_{Aexcit}$ in $ \\frac{\\mathrm{m s}^-2}{\\mathrm{m s}^-2}$</th>\n",
       "    </tr>\n",
       "  </thead>\n",
       "  <tbody>\n",
       "    <tr>\n",
       "      <th>0</th>\n",
       "      <td>10.0</td>\n",
       "      <td>1.019554</td>\n",
       "      <td>0.003273</td>\n",
       "      <td>-0.094684</td>\n",
       "      <td>0.003022</td>\n",
       "      <td>10.0</td>\n",
       "      <td>2.739</td>\n",
       "      <td>0.004891</td>\n",
       "    </tr>\n",
       "    <tr>\n",
       "      <th>1</th>\n",
       "      <td>12.5</td>\n",
       "      <td>1.019093</td>\n",
       "      <td>0.004047</td>\n",
       "      <td>-0.118820</td>\n",
       "      <td>0.006455</td>\n",
       "      <td>12.5</td>\n",
       "      <td>2.744</td>\n",
       "      <td>0.007312</td>\n",
       "    </tr>\n",
       "  </tbody>\n",
       "</table>\n",
       "</div>"
      ],
      "text/plain": [
       "   Frequency in Hz  \\\n",
       "0             10.0   \n",
       "1             12.5   \n",
       "\n",
       "   $|S(\\omega)|$ in $ \\frac{\\mathrm{m s}^-2}{\\mathrm{m s}^-2}$  \\\n",
       "0                                           1.019554             \n",
       "1                                           1.019093             \n",
       "\n",
       "   $U_{|S(\\omega)|}$ in $ \\frac{\\mathrm{m s}^-2}{\\mathrm{m s}^-2}$  \\\n",
       "0                                           0.003273                 \n",
       "1                                           0.004047                 \n",
       "\n",
       "   $\\Delta\\varphi(\\omega)$ in $rad$  $U_{\\Delta\\varphi(\\omega)}$ in $rad$  \\\n",
       "0                         -0.094684                              0.003022   \n",
       "1                         -0.118820                              0.006455   \n",
       "\n",
       "   Excitation_freq in Hz  \\\n",
       "0                   10.0   \n",
       "1                   12.5   \n",
       "\n",
       "   $A_{excit}$ in $ \\frac{\\mathrm{m s}^-2}{\\mathrm{m s}^-2}$  \\\n",
       "0                                              2.739           \n",
       "1                                              2.744           \n",
       "\n",
       "   $U_{Aexcit}$ in $ \\frac{\\mathrm{m s}^-2}{\\mathrm{m s}^-2}$  \n",
       "0                                           0.004891           \n",
       "1                                           0.007312           "
      ]
     },
     "execution_count": 300,
     "metadata": {},
     "output_type": "execute_result"
    }
   ],
   "source": [
    "whole_dataset_PTB.head(2)"
   ]
  },
  {
   "cell_type": "code",
   "execution_count": 301,
   "metadata": {},
   "outputs": [
    {
     "name": "stdout",
     "output_type": "stream",
     "text": [
      "\n",
      "Items in directory [('EXPERIMENTS', <HDF5 group \"/EXPERIMENTS\" (1 members)>), ('RAWDATA', <HDF5 group \"/RAWDATA\" (2 members)>), ('RAWTRANSFERFUNCTION', <HDF5 group \"/RAWTRANSFERFUNCTION\" (1 members)>), ('REFERENCEDATA', <HDF5 group \"/REFERENCEDATA\" (2 members)>)]\n",
      "\n",
      "Items in reference [('0xbccb0000_MPU_9250', <HDF5 group \"/RAWTRANSFERFUNCTION/0xbccb0000_MPU_9250\" (1 members)>)]\n",
      "\n",
      "0xbccb0000_MPU_9250items: [('Acceleration', <HDF5 group \"/RAWTRANSFERFUNCTION/0xbccb0000_MPU_9250/Acceleration\" (1 members)>)]\n",
      "\n",
      "Acceleration items: [('Acceleration', <HDF5 group \"/RAWTRANSFERFUNCTION/0xbccb0000_MPU_9250/Acceleration/Acceleration\" (11 members)>)]\n",
      "\n",
      "Acceleration items_5members: [('DUT_Phase', <HDF5 group \"/RAWTRANSFERFUNCTION/0xbccb0000_MPU_9250/Acceleration/Acceleration/DUT_Phase\" (2 members)>), ('DUT_SNYNC_Phase', <HDF5 group \"/RAWTRANSFERFUNCTION/0xbccb0000_MPU_9250/Acceleration/Acceleration/DUT_SNYNC_Phase\" (2 members)>), ('DUT_amplitude', <HDF5 group \"/RAWTRANSFERFUNCTION/0xbccb0000_MPU_9250/Acceleration/Acceleration/DUT_amplitude\" (2 members)>), ('Delta_DUTSNYC_Phase', <HDF5 group \"/RAWTRANSFERFUNCTION/0xbccb0000_MPU_9250/Acceleration/Acceleration/Delta_DUTSNYC_Phase\" (2 members)>), ('Excitation_amplitude', <HDF5 group \"/RAWTRANSFERFUNCTION/0xbccb0000_MPU_9250/Acceleration/Acceleration/Excitation_amplitude\" (2 members)>), ('Excitation_frequency', <HDF5 group \"/RAWTRANSFERFUNCTION/0xbccb0000_MPU_9250/Acceleration/Acceleration/Excitation_frequency\" (2 members)>), ('Frequency', <HDF5 group \"/RAWTRANSFERFUNCTION/0xbccb0000_MPU_9250/Acceleration/Acceleration/Frequency\" (2 members)>), ('Magnitude', <HDF5 group \"/RAWTRANSFERFUNCTION/0xbccb0000_MPU_9250/Acceleration/Acceleration/Magnitude\" (2 members)>), ('Phase', <HDF5 group \"/RAWTRANSFERFUNCTION/0xbccb0000_MPU_9250/Acceleration/Acceleration/Phase\" (2 members)>), ('REF_Phase', <HDF5 group \"/RAWTRANSFERFUNCTION/0xbccb0000_MPU_9250/Acceleration/Acceleration/REF_Phase\" (2 members)>), ('SSU_ADC_Phase', <HDF5 group \"/RAWTRANSFERFUNCTION/0xbccb0000_MPU_9250/Acceleration/Acceleration/SSU_ADC_Phase\" (2 members)>)]\n",
      "\n",
      "Frequency [('uncertainty', <HDF5 dataset \"uncertainty\": shape (171,), type \"<f8\">), ('value', <HDF5 dataset \"value\": shape (171,), type \"<f8\">)]\n",
      "\n",
      "Magnitude [('uncertainty', <HDF5 dataset \"uncertainty\": shape (171,), type \"<f8\">), ('value', <HDF5 dataset \"value\": shape (171,), type \"<f8\">)]\n",
      "\n",
      "Phase [('uncertainty', <HDF5 dataset \"uncertainty\": shape (171,), type \"<f8\">), ('value', <HDF5 dataset \"value\": shape (171,), type \"<f8\">)]\n",
      "\n",
      "Array dimensions: (171, 8)\n"
     ]
    }
   ],
   "source": [
    "whole_dataset_CEM = extract_data('MPU9250CEM_v5.hdf5',\"0xbccb0000_MPU_9250\")"
   ]
  },
  {
   "cell_type": "code",
   "execution_count": 302,
   "metadata": {},
   "outputs": [
    {
     "data": {
      "text/html": [
       "<div>\n",
       "<style scoped>\n",
       "    .dataframe tbody tr th:only-of-type {\n",
       "        vertical-align: middle;\n",
       "    }\n",
       "\n",
       "    .dataframe tbody tr th {\n",
       "        vertical-align: top;\n",
       "    }\n",
       "\n",
       "    .dataframe thead th {\n",
       "        text-align: right;\n",
       "    }\n",
       "</style>\n",
       "<table border=\"1\" class=\"dataframe\">\n",
       "  <thead>\n",
       "    <tr style=\"text-align: right;\">\n",
       "      <th></th>\n",
       "      <th>Frequency in Hz</th>\n",
       "      <th>$|S(\\omega)|$ in $ \\frac{\\mathrm{m s}^-2}{\\mathrm{m s}^-2}$</th>\n",
       "      <th>$U_{|S(\\omega)|}$ in $ \\frac{\\mathrm{m s}^-2}{\\mathrm{m s}^-2}$</th>\n",
       "      <th>$\\Delta\\varphi(\\omega)$ in $rad$</th>\n",
       "      <th>$U_{\\Delta\\varphi(\\omega)}$ in $rad$</th>\n",
       "      <th>Excitation_freq in Hz</th>\n",
       "      <th>$A_{excit}$ in $ \\frac{\\mathrm{m s}^-2}{\\mathrm{m s}^-2}$</th>\n",
       "      <th>$U_{Aexcit}$ in $ \\frac{\\mathrm{m s}^-2}{\\mathrm{m s}^-2}$</th>\n",
       "    </tr>\n",
       "  </thead>\n",
       "  <tbody>\n",
       "    <tr>\n",
       "      <th>0</th>\n",
       "      <td>80.0</td>\n",
       "      <td>NaN</td>\n",
       "      <td>NaN</td>\n",
       "      <td>NaN</td>\n",
       "      <td>NaN</td>\n",
       "      <td>80.0</td>\n",
       "      <td>NaN</td>\n",
       "      <td>NaN</td>\n",
       "    </tr>\n",
       "    <tr>\n",
       "      <th>1</th>\n",
       "      <td>250.0</td>\n",
       "      <td>0.643003</td>\n",
       "      <td>0.000891</td>\n",
       "      <td>-2.375412</td>\n",
       "      <td>0.002897</td>\n",
       "      <td>250.0</td>\n",
       "      <td>126.497513</td>\n",
       "      <td>0.125687</td>\n",
       "    </tr>\n",
       "  </tbody>\n",
       "</table>\n",
       "</div>"
      ],
      "text/plain": [
       "   Frequency in Hz  \\\n",
       "0             80.0   \n",
       "1            250.0   \n",
       "\n",
       "   $|S(\\omega)|$ in $ \\frac{\\mathrm{m s}^-2}{\\mathrm{m s}^-2}$  \\\n",
       "0                                                NaN             \n",
       "1                                           0.643003             \n",
       "\n",
       "   $U_{|S(\\omega)|}$ in $ \\frac{\\mathrm{m s}^-2}{\\mathrm{m s}^-2}$  \\\n",
       "0                                                NaN                 \n",
       "1                                           0.000891                 \n",
       "\n",
       "   $\\Delta\\varphi(\\omega)$ in $rad$  $U_{\\Delta\\varphi(\\omega)}$ in $rad$  \\\n",
       "0                               NaN                                   NaN   \n",
       "1                         -2.375412                              0.002897   \n",
       "\n",
       "   Excitation_freq in Hz  \\\n",
       "0                   80.0   \n",
       "1                  250.0   \n",
       "\n",
       "   $A_{excit}$ in $ \\frac{\\mathrm{m s}^-2}{\\mathrm{m s}^-2}$  \\\n",
       "0                                                NaN           \n",
       "1                                         126.497513           \n",
       "\n",
       "   $U_{Aexcit}$ in $ \\frac{\\mathrm{m s}^-2}{\\mathrm{m s}^-2}$  \n",
       "0                                                NaN           \n",
       "1                                           0.125687           "
      ]
     },
     "execution_count": 302,
     "metadata": {},
     "output_type": "execute_result"
    }
   ],
   "source": [
    "whole_dataset_CEM[[r\"$\\Delta\\varphi(\\omega)$ in $rad$\"]] = whole_dataset_CEM[[r\"$\\Delta\\varphi(\\omega)$ in $rad$\"]]-np.pi\n",
    "whole_dataset_CEM.head(2)"
   ]
  },
  {
   "cell_type": "markdown",
   "metadata": {},
   "source": [
    "# 3.Data analysis"
   ]
  },
  {
   "cell_type": "markdown",
   "metadata": {},
   "source": [
    "Cycles in CEM's dataset start with 80.0 Hz and 250.0 Hz instead of 10.0 Hz. These starting points are deleted in order to compare the cycles in a range from 10.0 Hz and 250.Hz."
   ]
  },
  {
   "cell_type": "code",
   "execution_count": 303,
   "metadata": {},
   "outputs": [],
   "source": [
    "delete_rows=[]\n",
    "\n",
    "for k in range(0,171,19):\n",
    "    i=k\n",
    "    j=k+1\n",
    "    delete_rows.append(i)\n",
    "    delete_rows.append(j)\n",
    "whole_dataset_CEM_new=whole_dataset_CEM.drop(axis=0,index=delete_rows)"
   ]
  },
  {
   "cell_type": "code",
   "execution_count": 304,
   "metadata": {},
   "outputs": [],
   "source": [
    "def split_data_by_frequencies(dataset):\n",
    "    dict_of_frequencies=dict(iter(dataset.groupby('Frequency in Hz')))\n",
    "    return dict_of_frequencies\n",
    "    #list_of_frequencies=np.array([10,12.5,16,20,25,31.5,40,46.7,50,53.3,63,80,100,125,160,200,250])"
   ]
  },
  {
   "cell_type": "code",
   "execution_count": 305,
   "metadata": {},
   "outputs": [
    {
     "name": "stdout",
     "output_type": "stream",
     "text": [
      "Frequencies - PTB: dict_keys([10.0, 12.5, 16.0, 20.0, 25.0, 31.5, 40.0, 46.7, 50.0, 53.3, 63.0, 80.0, 100.0, 125.0, 160.0, 200.0, 250.0])\n",
      "Frequencies - CEM: dict_keys([10.0, 12.5, 16.0, 20.0, 25.0, 31.5, 40.0, 46.7, 50.0, 53.3, 63.0, 80.0, 100.0, 125.0, 160.0, 200.0, 250.0])\n"
     ]
    }
   ],
   "source": [
    "#check if all frequencies are the same\n",
    "PTB_separated_by_freq=split_data_by_frequencies(whole_dataset_PTB)\n",
    "CEM_separated_by_freq=split_data_by_frequencies(whole_dataset_CEM)\n",
    "CEM_separated_by_freq_new=split_data_by_frequencies(whole_dataset_CEM_new)\n",
    "print(\"Frequencies - PTB:\",PTB_separated_by_freq.keys())\n",
    "print(\"Frequencies - CEM:\",CEM_separated_by_freq.keys())"
   ]
  },
  {
   "cell_type": "code",
   "execution_count": 306,
   "metadata": {},
   "outputs": [
    {
     "data": {
      "text/html": [
       "<div>\n",
       "<style scoped>\n",
       "    .dataframe tbody tr th:only-of-type {\n",
       "        vertical-align: middle;\n",
       "    }\n",
       "\n",
       "    .dataframe tbody tr th {\n",
       "        vertical-align: top;\n",
       "    }\n",
       "\n",
       "    .dataframe thead th {\n",
       "        text-align: right;\n",
       "    }\n",
       "</style>\n",
       "<table border=\"1\" class=\"dataframe\">\n",
       "  <thead>\n",
       "    <tr style=\"text-align: right;\">\n",
       "      <th></th>\n",
       "      <th>Frequency in Hz</th>\n",
       "      <th>$|S(\\omega)|$ in $ \\frac{\\mathrm{m s}^-2}{\\mathrm{m s}^-2}$</th>\n",
       "      <th>$U_{|S(\\omega)|}$ in $ \\frac{\\mathrm{m s}^-2}{\\mathrm{m s}^-2}$</th>\n",
       "      <th>$\\Delta\\varphi(\\omega)$ in $rad$</th>\n",
       "      <th>$U_{\\Delta\\varphi(\\omega)}$ in $rad$</th>\n",
       "      <th>Excitation_freq in Hz</th>\n",
       "      <th>$A_{excit}$ in $ \\frac{\\mathrm{m s}^-2}{\\mathrm{m s}^-2}$</th>\n",
       "      <th>$U_{Aexcit}$ in $ \\frac{\\mathrm{m s}^-2}{\\mathrm{m s}^-2}$</th>\n",
       "    </tr>\n",
       "  </thead>\n",
       "  <tbody>\n",
       "    <tr>\n",
       "      <th>0</th>\n",
       "      <td>10.0</td>\n",
       "      <td>1.019554</td>\n",
       "      <td>0.003273</td>\n",
       "      <td>-0.094684</td>\n",
       "      <td>0.003022</td>\n",
       "      <td>10.0</td>\n",
       "      <td>2.739</td>\n",
       "      <td>0.004891</td>\n",
       "    </tr>\n",
       "  </tbody>\n",
       "</table>\n",
       "</div>"
      ],
      "text/plain": [
       "   Frequency in Hz  \\\n",
       "0             10.0   \n",
       "\n",
       "   $|S(\\omega)|$ in $ \\frac{\\mathrm{m s}^-2}{\\mathrm{m s}^-2}$  \\\n",
       "0                                           1.019554             \n",
       "\n",
       "   $U_{|S(\\omega)|}$ in $ \\frac{\\mathrm{m s}^-2}{\\mathrm{m s}^-2}$  \\\n",
       "0                                           0.003273                 \n",
       "\n",
       "   $\\Delta\\varphi(\\omega)$ in $rad$  $U_{\\Delta\\varphi(\\omega)}$ in $rad$  \\\n",
       "0                         -0.094684                              0.003022   \n",
       "\n",
       "   Excitation_freq in Hz  \\\n",
       "0                   10.0   \n",
       "\n",
       "   $A_{excit}$ in $ \\frac{\\mathrm{m s}^-2}{\\mathrm{m s}^-2}$  \\\n",
       "0                                              2.739           \n",
       "\n",
       "   $U_{Aexcit}$ in $ \\frac{\\mathrm{m s}^-2}{\\mathrm{m s}^-2}$  \n",
       "0                                           0.004891           "
      ]
     },
     "execution_count": 306,
     "metadata": {},
     "output_type": "execute_result"
    }
   ],
   "source": [
    "PTB_separated_by_freq.get(10).head(1)"
   ]
  },
  {
   "cell_type": "code",
   "execution_count": 307,
   "metadata": {},
   "outputs": [
    {
     "data": {
      "text/html": [
       "<div>\n",
       "<style scoped>\n",
       "    .dataframe tbody tr th:only-of-type {\n",
       "        vertical-align: middle;\n",
       "    }\n",
       "\n",
       "    .dataframe tbody tr th {\n",
       "        vertical-align: top;\n",
       "    }\n",
       "\n",
       "    .dataframe thead th {\n",
       "        text-align: right;\n",
       "    }\n",
       "</style>\n",
       "<table border=\"1\" class=\"dataframe\">\n",
       "  <thead>\n",
       "    <tr style=\"text-align: right;\">\n",
       "      <th></th>\n",
       "      <th>Frequency in Hz</th>\n",
       "      <th>$|S(\\omega)|$ in $ \\frac{\\mathrm{m s}^-2}{\\mathrm{m s}^-2}$</th>\n",
       "      <th>$U_{|S(\\omega)|}$ in $ \\frac{\\mathrm{m s}^-2}{\\mathrm{m s}^-2}$</th>\n",
       "      <th>$\\Delta\\varphi(\\omega)$ in $rad$</th>\n",
       "      <th>$U_{\\Delta\\varphi(\\omega)}$ in $rad$</th>\n",
       "      <th>Excitation_freq in Hz</th>\n",
       "      <th>$A_{excit}$ in $ \\frac{\\mathrm{m s}^-2}{\\mathrm{m s}^-2}$</th>\n",
       "      <th>$U_{Aexcit}$ in $ \\frac{\\mathrm{m s}^-2}{\\mathrm{m s}^-2}$</th>\n",
       "    </tr>\n",
       "  </thead>\n",
       "  <tbody>\n",
       "    <tr>\n",
       "      <th>2</th>\n",
       "      <td>10.0</td>\n",
       "      <td>1.016209</td>\n",
       "      <td>0.004893</td>\n",
       "      <td>-0.094907</td>\n",
       "      <td>0.001665</td>\n",
       "      <td>10.0</td>\n",
       "      <td>2.754331</td>\n",
       "      <td>0.00586</td>\n",
       "    </tr>\n",
       "  </tbody>\n",
       "</table>\n",
       "</div>"
      ],
      "text/plain": [
       "   Frequency in Hz  \\\n",
       "2             10.0   \n",
       "\n",
       "   $|S(\\omega)|$ in $ \\frac{\\mathrm{m s}^-2}{\\mathrm{m s}^-2}$  \\\n",
       "2                                           1.016209             \n",
       "\n",
       "   $U_{|S(\\omega)|}$ in $ \\frac{\\mathrm{m s}^-2}{\\mathrm{m s}^-2}$  \\\n",
       "2                                           0.004893                 \n",
       "\n",
       "   $\\Delta\\varphi(\\omega)$ in $rad$  $U_{\\Delta\\varphi(\\omega)}$ in $rad$  \\\n",
       "2                         -0.094907                              0.001665   \n",
       "\n",
       "   Excitation_freq in Hz  \\\n",
       "2                   10.0   \n",
       "\n",
       "   $A_{excit}$ in $ \\frac{\\mathrm{m s}^-2}{\\mathrm{m s}^-2}$  \\\n",
       "2                                           2.754331           \n",
       "\n",
       "   $U_{Aexcit}$ in $ \\frac{\\mathrm{m s}^-2}{\\mathrm{m s}^-2}$  \n",
       "2                                            0.00586           "
      ]
     },
     "execution_count": 307,
     "metadata": {},
     "output_type": "execute_result"
    }
   ],
   "source": [
    "CEM_separated_by_freq_new.get(10).head(1)"
   ]
  },
  {
   "cell_type": "code",
   "execution_count": 308,
   "metadata": {},
   "outputs": [],
   "source": [
    "q_names=list(PTB_separated_by_freq.get(10).columns)\n",
    "list_of_freq=[10,12.5,16,20,25,31.5,40,46.7,50,53.3,63,80,100,125,160,200,250]"
   ]
  },
  {
   "cell_type": "code",
   "execution_count": 309,
   "metadata": {},
   "outputs": [],
   "source": [
    "def add_CMCs (dictionary,relative_mag,absolute_ph):\n",
    "    for i,val in enumerate(dictionary.values()):\n",
    "        CMC_mag=relative_mag\n",
    "        CMC_ph=absolute_ph*np.pi/180\n",
    "        #covnert relative uncert to absolute\n",
    "        val[r\"CMC:$|S(\\omega)|$ in $ \\frac{\\mathrm{m s}^-2}{\\mathrm{m s}^-2}$\"]=val[r\"$|S(\\omega)|$ in $ \\frac{\\mathrm{m s}^-2}{\\mathrm{m s}^-2}$\"].values*CMC_mag/100\n",
    "        val[r\"CMC:$\\Delta\\varphi(\\omega)$ in $rad$\"]=CMC_ph\n",
    "    return dictionary"
   ]
  },
  {
   "cell_type": "code",
   "execution_count": 310,
   "metadata": {},
   "outputs": [],
   "source": [
    "PTB_separated_by_freq=add_CMCs(PTB_separated_by_freq,0.1,0.2)\n",
    "CEM_separated_by_freq_new=add_CMCs(CEM_separated_by_freq_new,0.4,0.5)"
   ]
  },
  {
   "cell_type": "code",
   "execution_count": 311,
   "metadata": {},
   "outputs": [],
   "source": [
    "q_names=list(PTB_separated_by_freq.get(10).columns)"
   ]
  },
  {
   "cell_type": "code",
   "execution_count": 312,
   "metadata": {},
   "outputs": [
    {
     "data": {
      "text/html": [
       "<div>\n",
       "<style scoped>\n",
       "    .dataframe tbody tr th:only-of-type {\n",
       "        vertical-align: middle;\n",
       "    }\n",
       "\n",
       "    .dataframe tbody tr th {\n",
       "        vertical-align: top;\n",
       "    }\n",
       "\n",
       "    .dataframe thead th {\n",
       "        text-align: right;\n",
       "    }\n",
       "</style>\n",
       "<table border=\"1\" class=\"dataframe\">\n",
       "  <thead>\n",
       "    <tr style=\"text-align: right;\">\n",
       "      <th></th>\n",
       "      <th>Frequency in Hz</th>\n",
       "      <th>$|S(\\omega)|$ in $ \\frac{\\mathrm{m s}^-2}{\\mathrm{m s}^-2}$</th>\n",
       "      <th>$U_{|S(\\omega)|}$ in $ \\frac{\\mathrm{m s}^-2}{\\mathrm{m s}^-2}$</th>\n",
       "      <th>$\\Delta\\varphi(\\omega)$ in $rad$</th>\n",
       "      <th>$U_{\\Delta\\varphi(\\omega)}$ in $rad$</th>\n",
       "      <th>Excitation_freq in Hz</th>\n",
       "      <th>$A_{excit}$ in $ \\frac{\\mathrm{m s}^-2}{\\mathrm{m s}^-2}$</th>\n",
       "      <th>$U_{Aexcit}$ in $ \\frac{\\mathrm{m s}^-2}{\\mathrm{m s}^-2}$</th>\n",
       "      <th>CMC:$|S(\\omega)|$ in $ \\frac{\\mathrm{m s}^-2}{\\mathrm{m s}^-2}$</th>\n",
       "      <th>CMC:$\\Delta\\varphi(\\omega)$ in $rad$</th>\n",
       "    </tr>\n",
       "  </thead>\n",
       "  <tbody>\n",
       "    <tr>\n",
       "      <th>0</th>\n",
       "      <td>10.0</td>\n",
       "      <td>1.019554</td>\n",
       "      <td>0.003273</td>\n",
       "      <td>-0.094684</td>\n",
       "      <td>0.003022</td>\n",
       "      <td>10.0</td>\n",
       "      <td>2.739</td>\n",
       "      <td>0.004891</td>\n",
       "      <td>0.001020</td>\n",
       "      <td>0.003491</td>\n",
       "    </tr>\n",
       "    <tr>\n",
       "      <th>17</th>\n",
       "      <td>10.0</td>\n",
       "      <td>1.018841</td>\n",
       "      <td>0.004953</td>\n",
       "      <td>-0.094584</td>\n",
       "      <td>0.003291</td>\n",
       "      <td>10.0</td>\n",
       "      <td>2.746</td>\n",
       "      <td>0.009716</td>\n",
       "      <td>0.001019</td>\n",
       "      <td>0.003491</td>\n",
       "    </tr>\n",
       "    <tr>\n",
       "      <th>34</th>\n",
       "      <td>10.0</td>\n",
       "      <td>1.019102</td>\n",
       "      <td>0.003854</td>\n",
       "      <td>-0.094612</td>\n",
       "      <td>0.003811</td>\n",
       "      <td>10.0</td>\n",
       "      <td>2.749</td>\n",
       "      <td>0.006252</td>\n",
       "      <td>0.001019</td>\n",
       "      <td>0.003491</td>\n",
       "    </tr>\n",
       "    <tr>\n",
       "      <th>51</th>\n",
       "      <td>10.0</td>\n",
       "      <td>1.019262</td>\n",
       "      <td>0.005650</td>\n",
       "      <td>-0.094613</td>\n",
       "      <td>0.003794</td>\n",
       "      <td>10.0</td>\n",
       "      <td>2.749</td>\n",
       "      <td>0.009688</td>\n",
       "      <td>0.001019</td>\n",
       "      <td>0.003491</td>\n",
       "    </tr>\n",
       "    <tr>\n",
       "      <th>68</th>\n",
       "      <td>10.0</td>\n",
       "      <td>1.019313</td>\n",
       "      <td>0.007296</td>\n",
       "      <td>-0.094719</td>\n",
       "      <td>0.003133</td>\n",
       "      <td>10.0</td>\n",
       "      <td>2.751</td>\n",
       "      <td>0.013257</td>\n",
       "      <td>0.001019</td>\n",
       "      <td>0.003491</td>\n",
       "    </tr>\n",
       "    <tr>\n",
       "      <th>85</th>\n",
       "      <td>10.0</td>\n",
       "      <td>1.019093</td>\n",
       "      <td>0.004608</td>\n",
       "      <td>-0.094931</td>\n",
       "      <td>0.002979</td>\n",
       "      <td>10.0</td>\n",
       "      <td>2.756</td>\n",
       "      <td>0.008344</td>\n",
       "      <td>0.001019</td>\n",
       "      <td>0.003491</td>\n",
       "    </tr>\n",
       "    <tr>\n",
       "      <th>102</th>\n",
       "      <td>10.0</td>\n",
       "      <td>1.019205</td>\n",
       "      <td>0.003024</td>\n",
       "      <td>-0.094602</td>\n",
       "      <td>0.002424</td>\n",
       "      <td>10.0</td>\n",
       "      <td>2.756</td>\n",
       "      <td>0.004731</td>\n",
       "      <td>0.001019</td>\n",
       "      <td>0.003491</td>\n",
       "    </tr>\n",
       "    <tr>\n",
       "      <th>119</th>\n",
       "      <td>10.0</td>\n",
       "      <td>1.019098</td>\n",
       "      <td>0.004030</td>\n",
       "      <td>-0.094711</td>\n",
       "      <td>0.003143</td>\n",
       "      <td>10.0</td>\n",
       "      <td>2.752</td>\n",
       "      <td>0.006521</td>\n",
       "      <td>0.001019</td>\n",
       "      <td>0.003491</td>\n",
       "    </tr>\n",
       "    <tr>\n",
       "      <th>136</th>\n",
       "      <td>10.0</td>\n",
       "      <td>1.019076</td>\n",
       "      <td>0.003757</td>\n",
       "      <td>-0.094983</td>\n",
       "      <td>0.003045</td>\n",
       "      <td>10.0</td>\n",
       "      <td>2.753</td>\n",
       "      <td>0.006445</td>\n",
       "      <td>0.001019</td>\n",
       "      <td>0.003491</td>\n",
       "    </tr>\n",
       "    <tr>\n",
       "      <th>153</th>\n",
       "      <td>10.0</td>\n",
       "      <td>1.019176</td>\n",
       "      <td>0.004004</td>\n",
       "      <td>-0.094561</td>\n",
       "      <td>0.002756</td>\n",
       "      <td>10.0</td>\n",
       "      <td>2.760</td>\n",
       "      <td>0.007513</td>\n",
       "      <td>0.001019</td>\n",
       "      <td>0.003491</td>\n",
       "    </tr>\n",
       "  </tbody>\n",
       "</table>\n",
       "</div>"
      ],
      "text/plain": [
       "     Frequency in Hz  \\\n",
       "0               10.0   \n",
       "17              10.0   \n",
       "34              10.0   \n",
       "51              10.0   \n",
       "68              10.0   \n",
       "85              10.0   \n",
       "102             10.0   \n",
       "119             10.0   \n",
       "136             10.0   \n",
       "153             10.0   \n",
       "\n",
       "     $|S(\\omega)|$ in $ \\frac{\\mathrm{m s}^-2}{\\mathrm{m s}^-2}$  \\\n",
       "0                                             1.019554             \n",
       "17                                            1.018841             \n",
       "34                                            1.019102             \n",
       "51                                            1.019262             \n",
       "68                                            1.019313             \n",
       "85                                            1.019093             \n",
       "102                                           1.019205             \n",
       "119                                           1.019098             \n",
       "136                                           1.019076             \n",
       "153                                           1.019176             \n",
       "\n",
       "     $U_{|S(\\omega)|}$ in $ \\frac{\\mathrm{m s}^-2}{\\mathrm{m s}^-2}$  \\\n",
       "0                                             0.003273                 \n",
       "17                                            0.004953                 \n",
       "34                                            0.003854                 \n",
       "51                                            0.005650                 \n",
       "68                                            0.007296                 \n",
       "85                                            0.004608                 \n",
       "102                                           0.003024                 \n",
       "119                                           0.004030                 \n",
       "136                                           0.003757                 \n",
       "153                                           0.004004                 \n",
       "\n",
       "     $\\Delta\\varphi(\\omega)$ in $rad$  $U_{\\Delta\\varphi(\\omega)}$ in $rad$  \\\n",
       "0                           -0.094684                              0.003022   \n",
       "17                          -0.094584                              0.003291   \n",
       "34                          -0.094612                              0.003811   \n",
       "51                          -0.094613                              0.003794   \n",
       "68                          -0.094719                              0.003133   \n",
       "85                          -0.094931                              0.002979   \n",
       "102                         -0.094602                              0.002424   \n",
       "119                         -0.094711                              0.003143   \n",
       "136                         -0.094983                              0.003045   \n",
       "153                         -0.094561                              0.002756   \n",
       "\n",
       "     Excitation_freq in Hz  \\\n",
       "0                     10.0   \n",
       "17                    10.0   \n",
       "34                    10.0   \n",
       "51                    10.0   \n",
       "68                    10.0   \n",
       "85                    10.0   \n",
       "102                   10.0   \n",
       "119                   10.0   \n",
       "136                   10.0   \n",
       "153                   10.0   \n",
       "\n",
       "     $A_{excit}$ in $ \\frac{\\mathrm{m s}^-2}{\\mathrm{m s}^-2}$  \\\n",
       "0                                                2.739           \n",
       "17                                               2.746           \n",
       "34                                               2.749           \n",
       "51                                               2.749           \n",
       "68                                               2.751           \n",
       "85                                               2.756           \n",
       "102                                              2.756           \n",
       "119                                              2.752           \n",
       "136                                              2.753           \n",
       "153                                              2.760           \n",
       "\n",
       "     $U_{Aexcit}$ in $ \\frac{\\mathrm{m s}^-2}{\\mathrm{m s}^-2}$  \\\n",
       "0                                             0.004891            \n",
       "17                                            0.009716            \n",
       "34                                            0.006252            \n",
       "51                                            0.009688            \n",
       "68                                            0.013257            \n",
       "85                                            0.008344            \n",
       "102                                           0.004731            \n",
       "119                                           0.006521            \n",
       "136                                           0.006445            \n",
       "153                                           0.007513            \n",
       "\n",
       "     CMC:$|S(\\omega)|$ in $ \\frac{\\mathrm{m s}^-2}{\\mathrm{m s}^-2}$  \\\n",
       "0                                             0.001020                 \n",
       "17                                            0.001019                 \n",
       "34                                            0.001019                 \n",
       "51                                            0.001019                 \n",
       "68                                            0.001019                 \n",
       "85                                            0.001019                 \n",
       "102                                           0.001019                 \n",
       "119                                           0.001019                 \n",
       "136                                           0.001019                 \n",
       "153                                           0.001019                 \n",
       "\n",
       "     CMC:$\\Delta\\varphi(\\omega)$ in $rad$  \n",
       "0                                0.003491  \n",
       "17                               0.003491  \n",
       "34                               0.003491  \n",
       "51                               0.003491  \n",
       "68                               0.003491  \n",
       "85                               0.003491  \n",
       "102                              0.003491  \n",
       "119                              0.003491  \n",
       "136                              0.003491  \n",
       "153                              0.003491  "
      ]
     },
     "execution_count": 312,
     "metadata": {},
     "output_type": "execute_result"
    }
   ],
   "source": [
    "PTB_separated_by_freq.get(10)"
   ]
  },
  {
   "cell_type": "markdown",
   "metadata": {},
   "source": [
    "# 4. En values"
   ]
  },
  {
   "attachments": {
    "image.png": {
     "image/png": "[encoded data removed]"
    }
   },
   "cell_type": "markdown",
   "metadata": {},
   "source": [
    "The En values for Magnitude, Phase and Excitation amplitude have been calculated according to formula on the figure:\n",
    "\n",
    "![image.png](attachment:image.png)\n",
    "\n",
    "<br>$x_{lab}$ corresponds to the mean value at a specific frequency for the participating laboratory and\n",
    "<br>$x_{ref}$ corresponds to the mean value at a specific frequency for the reference laboratory \n",
    "<br>$U_{lab}$ corresponds to the expanded measurement uncertainty of the mean value at a specific frequency for the participating laboratory \n",
    "<br>$U_{ref}$ corresponds to the expanded measurement uncertainty of the mean value at a specific frequency for the reference laboratory \n",
    "<br>If:<br> |En|<=1.1 - the criteria is satisfied (the original condition is that |En|<=1.0. However, because of the practical reasons, this limit is sometimes enlarged for 10%).\n",
    "<br>|En|>1.1 - the criteria is not satisfied.\n",
    "<br>One of the laboratories has been selected as a reference laboratory and other as a participating laboratory.This sequence is not important because it affects only the sign. That is why an absolute values are taken into account. \n"
   ]
  },
  {
   "cell_type": "markdown",
   "metadata": {},
   "source": [
    "# 5. Case study 2: Calculate En values for estimated weighted values"
   ]
  },
  {
   "cell_type": "markdown",
   "metadata": {},
   "source": [
    "Another approach refers to the weighted mean of a list of data for which each element ${\\ x_{i}}$ potentially comes from a different probability distribution with known variance ${\\sigma _{i}^{2}}$. In this case,  the weights are given by the reciprocal of variance [2]:\n",
    "\n",
    "$$w_{i}={\\frac {1}{\\sigma _{i}^{2}}}$$\n",
    "\n",
    "The weighted mean in this case is:\n",
    "\n",
    "$${\\bar {x}}={\\frac {\\sum _{i=1}^{n}\\left({\\dfrac {x_{i}}{\\sigma _{i}^{2}}}\\right)}{\\sum _{i=1}^{n}{\\dfrac {1}{\\sigma _{i}^{2}}}}}$$,\n",
    "\n",
    "and the standard error of the weighted mean (with variance weights) is:\n",
    "\n",
    "$$\\sigma _{\\bar {x}}={\\sqrt {\\frac {1}{\\sum _{i=1}^{n}\\sigma _{i}^{-2}}}}$$\n",
    "\n",
    "Additionally, an effective sample size (ESS) [3] has been calculated at each frequency and for each quantity as:\n",
    "\n",
    "$$ ESS=\\frac {{(\\sum _{i=1}^{n} w_{i}})^{2}}{\\sum _{i=1}^{n} w_{i}^{2}}$$\n",
    "\n",
    "This approach has been applied to the magnitude and phase values at each frequency:\n",
    "\n",
    "$${\\bar {x_{M}}}={\\frac {\\sum _{i=1}^{n}\\left({\\dfrac {x_{Mi}}{\\sigma _{Mi}^{2}}}\\right)}{\\sum _{i=1}^{n}{\\dfrac {1}{\\sigma _{Mi}^{2}}}}}$$,\n",
    "\n",
    "$${\\bar {x_{\\phi}}}={\\frac {\\sum _{i=1}^{n}\\left({\\dfrac {x_{\\phi i}}{\\sigma _{\\phi i}^{2}}}\\right)}{\\sum _{i=1}^{n}{\\dfrac {1}{\\sigma _{\\phi i}^{2}}}}}$$,\n",
    "\n",
    "\n",
    "$$\\sigma _{\\bar {x_{M}}}={\\sqrt {\\frac {1}{\\sum _{i=1}^{n}\\sigma _{Mi}^{-2}}}}$$\n",
    "\n",
    "$$\\sigma _{\\bar {x_{\\phi}}}={\\sqrt {\\frac {1}{\\sum _{i=1}^{n}\\sigma _{\\phi i}^{-2}}}}$$\n",
    "In both cases, *n* refers to the number of experiments at a given frequency (*n*=10 for PTB and *n*=9 for CEM).\n",
    "\n",
    "$\\sigma _{M}$  for a single experiment is calculated as   $\\frac{U _{M}}{2}$ and $\\sigma _{\\phi}$ as $\\frac{U _{\\phi}}{2}$\n",
    "\n"
   ]
  },
  {
   "cell_type": "markdown",
   "metadata": {},
   "source": [
    "## 5.1 Weighted values"
   ]
  },
  {
   "cell_type": "code",
   "execution_count": 313,
   "metadata": {},
   "outputs": [],
   "source": [
    "def calculate_weighted_values(dictionary,names):\n",
    "    \n",
    "    weighted_val=np.empty((len(dictionary.keys()),8))\n",
    "    effective_sample_size=np.empty((len(dictionary.keys()),4))\n",
    "    \n",
    "    for val,i in zip(dictionary.values(),range(len(dictionary.keys()))):\n",
    "        weighted_val[i,0]=np.sum(val[names[1]].values*(1./(val[names[2]].values/2)**2))/np.sum(1./(val[names[2]].values/2)**2)\n",
    "        weighted_val[i,1]=1./np.sqrt(np.sum(1./(val[names[2]].values/2)**2))\n",
    "        effective_sample_size[i,0]=((np.sum(1./(val[names[2]].values/2)**2))**2)/np.sum(1./(val[names[2]].values/2)**4)\n",
    "        \n",
    "        \n",
    "        weighted_val[i,2]=np.sum(val[names[3]].values*(1./(val[names[4]].values/2)**2))/np.sum(1./(val[names[4]].values/2)**2)\n",
    "        weighted_val[i,3]=1./np.sqrt(np.sum(1./(val[names[4]].values/2)**2))\n",
    "        effective_sample_size[i,1]=((np.sum(1./(val[names[4]].values/2)**2))**2)/np.sum(1./(val[names[4]].values/2)**4)\n",
    "        \n",
    "        #WEIGHTED VALUES USING CMCs - magnitude\n",
    "        weighted_val[i,4]=np.sum(val[names[1]].values*(1./(val[names[8]].values/2)**2))/np.sum(1./(val[names[8]].values/2)**2)\n",
    "        weighted_val[i,5]=1./np.sqrt(np.sum(1./(val[names[8]].values/2)**2))\n",
    "        effective_sample_size[i,2]=((np.sum(1./(val[names[8]].values/2)**2))**2)/np.sum(1./(val[names[8]].values/2)**4)\n",
    "        \n",
    "        #WEIGHTED VALUES USING CMCs - phase\n",
    "        weighted_val[i,6]=np.sum(val[names[3]].values*(1./(val[names[9]].values/2)**2))/np.sum(1./(val[names[9]].values/2)**2)\n",
    "        weighted_val[i,7]=1./np.sqrt(np.sum(1./(val[names[9]].values/2)**2))\n",
    "        effective_sample_size[i,3]=((np.sum(1./(val[names[9]].values/2)**2))**2)/np.sum(1./(val[names[9]].values/2)**4)\n",
    "                     \n",
    "    return weighted_val,effective_sample_size"
   ]
  },
  {
   "cell_type": "code",
   "execution_count": 314,
   "metadata": {},
   "outputs": [],
   "source": [
    "weighted_values_PTB,effective_sample_size_PTB=calculate_weighted_values(PTB_separated_by_freq,q_names)\n",
    "weighted_values_CEM,effective_sample_size_CEM=calculate_weighted_values(CEM_separated_by_freq_new,q_names)\n",
    "\n",
    "column_names_list1  =[name for name in q_names if name != 'Frequency [Hz]' and name!='Excitation_freq [Hz]']\n",
    "column_names_list2=[r\"$wx_{|S(\\omega)|}$ in $ \\frac{\\mathrm{m s}^-2}{\\mathrm{m s}^-2}$\",r\"$wu_{|S(\\omega)|}$ in $ \\frac{\\mathrm{m s}^-2}{\\mathrm{m s}^-2}$\", r\"$wx_{\\Delta\\varphi(\\omega)}$ in $rad$\", r\"$wu_{\\Delta\\varphi(\\omega)}$ in $rad$\",r\"$wx_{|S(\\omega)|- CMC}$ in $ \\frac{\\mathrm{m s}^-2}{\\mathrm{m s}^-2}$\",r\"$wu_{|S(\\omega)|- CMC}$ in $ \\frac{\\mathrm{m s}^-2}{\\mathrm{m s}^-2}$\",r\"$wx_{\\Delta\\varphi(\\omega) - CMC}$ in $rad$\", r\"$wu_{\\Delta\\varphi(\\omega) - CMC}$ in $rad$\"]\n",
    "\n",
    "weighted_values_PTB=pd.DataFrame(weighted_values_PTB, columns=column_names_list2)\n",
    "weighted_values_CEM=pd.DataFrame(weighted_values_CEM, columns=column_names_list2)"
   ]
  },
  {
   "cell_type": "code",
   "execution_count": 315,
   "metadata": {},
   "outputs": [
    {
     "data": {
      "text/plain": [
       "array([[ 8.42642648,  9.35844012,  9.9999988 , 10.        ]])"
      ]
     },
     "execution_count": 315,
     "metadata": {},
     "output_type": "execute_result"
    }
   ],
   "source": [
    "effective_sample_size_PTB[:1,:] #@ 10 Hz for magnitude, phase and excitation amplitude"
   ]
  },
  {
   "cell_type": "code",
   "execution_count": 316,
   "metadata": {},
   "outputs": [
    {
     "data": {
      "text/plain": [
       "array([[7.34343223, 8.96482514, 8.99991134, 9.        ],\n",
       "       [8.36231102, 8.97338537, 8.99999468, 9.        ],\n",
       "       [5.19647767, 8.64776298, 8.99999664, 9.        ],\n",
       "       [8.16009879, 8.77580198, 8.99999957, 9.        ],\n",
       "       [6.96360866, 7.64413911, 8.99999944, 9.        ],\n",
       "       [8.0240504 , 7.8955576 , 8.99998977, 9.        ]])"
      ]
     },
     "execution_count": 316,
     "metadata": {},
     "output_type": "execute_result"
    }
   ],
   "source": [
    "effective_sample_size_CEM[:6,:] #@ 10 Hz for magnitude, phase and excitation amplitude"
   ]
  },
  {
   "cell_type": "markdown",
   "metadata": {},
   "source": [
    "## The overall weighted mean and standard deviation:"
   ]
  },
  {
   "cell_type": "markdown",
   "metadata": {},
   "source": [
    "This approach has been applied to the magnitude and phase values at each frequency:\n",
    "\n",
    "$${\\bar {x_{M,all}}}={\\frac {\\sum _{i=1}^{19}\\left({\\dfrac {x_{Mi}}{\\sigma _{Mi}^{2}}}\\right)}{\\sum _{i=1}^{19}{\\dfrac {1}{\\sigma _{Mi}^{2}}}}}$$,\n",
    "\n",
    "$${\\bar {x_{\\phi,all}}}={\\frac {\\sum _{i=1}^{19}\\left({\\dfrac {x_{\\phi i}}{\\sigma _{\\phi i}^{2}}}\\right)}{\\sum _{i=1}^{19}{\\dfrac {1}{\\sigma _{\\phi i}^{2}}}}}$$,\n",
    "\n",
    "\n",
    "$$\\sigma _{\\bar {x_{M, all}}}={\\sqrt {\\frac {1}{\\sum _{i=1}^{19}\\sigma _{Mi}^{-2}}}}$$\n",
    "\n",
    "$$\\sigma _{\\bar {x_{\\phi, all}}}={\\sqrt {\\frac {1}{\\sum _{i=1}^{19}\\sigma _{\\phi i}^{-2}}}}$$\n",
    "In both cases, *19* refers to the number of experiments at a given frequency (10 for PTB + 9 for CEM).\n",
    "\n",
    "$\\sigma _{M}$  for a single experiment is calculated as   $\\frac{U _{M}}{2}$ and $\\sigma _{\\phi}$ as $\\frac{U _{\\phi}}{2}$\n"
   ]
  },
  {
   "cell_type": "code",
   "execution_count": 317,
   "metadata": {},
   "outputs": [],
   "source": [
    "#merge all experiments for two labs in the same freqency\n",
    "\n",
    "from collections import defaultdict\n",
    "dd = defaultdict(list)\n",
    "for d in (PTB_separated_by_freq, CEM_separated_by_freq_new): \n",
    "    for key, value in d.items():\n",
    "        dd[key].append(value)"
   ]
  },
  {
   "cell_type": "code",
   "execution_count": 318,
   "metadata": {},
   "outputs": [],
   "source": [
    "#merge all experiments for two labs in the same freqency\n",
    "new=dict.fromkeys(list_of_freq, None)\n",
    "for key,val in zip(list_of_freq,dd.values()):\n",
    "    a=val[0]\n",
    "    c=val[1]\n",
    "    frames=[a,c]\n",
    "    new[key] = pd.concat(frames)"
   ]
  },
  {
   "cell_type": "markdown",
   "metadata": {},
   "source": [
    "Additionally, an effective sample size (ESS) [3] has been calculated at each frequency and for each quantity as:\n",
    "\n",
    "$$ ESS_{,all}=\\frac {{(\\sum _{i=1}^{19} w_{i}})^{2}}{\\sum _{i=1}^{19} w_{i}^{2}}$$"
   ]
  },
  {
   "cell_type": "code",
   "execution_count": 319,
   "metadata": {},
   "outputs": [],
   "source": [
    "#calculate weighted mean and weighted standard deviation of all experiments\n",
    "weighted_values_overall,effective_sample_size_overall=calculate_weighted_values(new,q_names)\n",
    "weighted_values_overall=pd.DataFrame(weighted_values_overall, columns=column_names_list2)"
   ]
  },
  {
   "cell_type": "markdown",
   "metadata": {},
   "source": [
    "Next, the difference between the weighted mean value of PTB's setup and the overall weighted mean is calculated as:\n",
    "\n",
    "$${|\\bar {x_{M}}|}-{|\\bar {x_{M,all}}|}$$, and\n",
    "$${|\\bar {x_{\\phi}}|}-{|\\bar {x_{\\phi,all}}|}$$\n",
    "\n",
    "The same was applied for the CEM's setup.\n",
    "The standard pooled deviation is then calculated as:\n",
    "\n",
    "$$ s_{\\bar {p_{M}}}={\\sqrt {\\frac {(ESS_{M}-1)*\\sigma_{\\bar {x_{M}}}^2+(ESS_{M,all}-1)*\\sigma _{\\bar {x_{M,all}}}^2}{ESS_{M}+ESS_{M,all}-2}}}$$\n"
   ]
  },
  {
   "cell_type": "code",
   "execution_count": 320,
   "metadata": {},
   "outputs": [],
   "source": [
    "#calculate the difference from the overall weighted mean\n",
    "\n",
    "difference_mean_PTB=pd.DataFrame((weighted_values_PTB-weighted_values_overall)[r\"$wx_{|S(\\omega)|}$ in $ \\frac{\\mathrm{m s}^-2}{\\mathrm{m s}^-2}$\"],columns=[r\"$wx_{|S(\\omega)|}$ in $ \\frac{\\mathrm{m s}^-2}{\\mathrm{m s}^-2}$\"])\n",
    "difference_mean_CEM=pd.DataFrame((weighted_values_CEM-weighted_values_overall)[r\"$wx_{|S(\\omega)|}$ in $ \\frac{\\mathrm{m s}^-2}{\\mathrm{m s}^-2}$\"],columns=[r\"$wx_{|S(\\omega)|}$ in $ \\frac{\\mathrm{m s}^-2}{\\mathrm{m s}^-2}$\"])\n",
    "#CMC\n",
    "#CMC\n",
    "difference_mean_PTB[r\"$wx_{|S(\\omega)|- CMC}$ in $ \\frac{\\mathrm{m s}^-2}{\\mathrm{m s}^-2}$\"]=pd.DataFrame((weighted_values_PTB-weighted_values_overall)[r\"$wx_{|S(\\omega)|- CMC}$ in $ \\frac{\\mathrm{m s}^-2}{\\mathrm{m s}^-2}$\"])\n",
    "difference_mean_CEM[r\"$wx_{|S(\\omega)|- CMC}$ in $ \\frac{\\mathrm{m s}^-2}{\\mathrm{m s}^-2}$\"]=pd.DataFrame((weighted_values_CEM-weighted_values_overall)[r\"$wx_{|S(\\omega)|- CMC}$ in $ \\frac{\\mathrm{m s}^-2}{\\mathrm{m s}^-2}$\"],columns=[r\"$wx_{|S(\\omega)|- CMC}$ in $ \\frac{\\mathrm{m s}^-2}{\\mathrm{m s}^-2}$\"])"
   ]
  },
  {
   "cell_type": "code",
   "execution_count": 321,
   "metadata": {},
   "outputs": [],
   "source": [
    "difference_mean_PTB=difference_mean_PTB.rename(columns={r\"$wx_{|S(\\omega)|}$ in $ \\frac{\\mathrm{m s}^-2}{\\mathrm{m s}^-2}$\": r\"$d_{|S(\\omega)|}$ in $ \\frac{\\mathrm{m s}^-2}{\\mathrm{m s}^-2}$\"})\n",
    "difference_mean_PTB=difference_mean_PTB.rename(columns={r\"$wx_{|S(\\omega)|- CMC}$ in $ \\frac{\\mathrm{m s}^-2}{\\mathrm{m s}^-2}$\": r\"$d_{|S(\\omega)|- CMC}$ in $ \\frac{\\mathrm{m s}^-2}{\\mathrm{m s}^-2}$\"})\n",
    "\n",
    "difference_mean_CEM=difference_mean_CEM.rename(columns={r\"$wx_{|S(\\omega)|}$ in $ \\frac{\\mathrm{m s}^-2}{\\mathrm{m s}^-2}$\": r\"$d_{|S(\\omega)|}$ in $ \\frac{\\mathrm{m s}^-2}{\\mathrm{m s}^-2}$\"})\n",
    "difference_mean_CEM=difference_mean_CEM.rename(columns={r\"$wx_{|S(\\omega)|- CMC}$ in $ \\frac{\\mathrm{m s}^-2}{\\mathrm{m s}^-2}$\": r\"$d_{|S(\\omega)|- CMC}$ in $ \\frac{\\mathrm{m s}^-2}{\\mathrm{m s}^-2}$\"})\n"
   ]
  },
  {
   "cell_type": "code",
   "execution_count": 322,
   "metadata": {},
   "outputs": [],
   "source": [
    "difference_mean_PTB[r\"$wx_{\\Delta\\varphi(\\omega)}$ in $rad$\"]=(weighted_values_PTB-weighted_values_overall)[r\"$wx_{\\Delta\\varphi(\\omega)}$ in $rad$\"]\n",
    "difference_mean_CEM[r\"$wx_{\\Delta\\varphi(\\omega)}$ in $rad$\"]=(weighted_values_CEM-weighted_values_overall)[r\"$wx_{\\Delta\\varphi(\\omega)}$ in $rad$\"]\n",
    "\n",
    "\n",
    "#CMC\n",
    "difference_mean_PTB[r\"$wx_{\\Delta\\varphi(\\omega) - CMC}$ in $rad$\"]=(weighted_values_PTB-weighted_values_overall)[r\"$wx_{\\Delta\\varphi(\\omega) - CMC}$ in $rad$\"]\n",
    "difference_mean_CEM[r\"$wx_{\\Delta\\varphi(\\omega) - CMC}$ in $rad$\"]=(weighted_values_CEM-weighted_values_overall)[r\"$wx_{\\Delta\\varphi(\\omega) - CMC}$ in $rad$\"]"
   ]
  },
  {
   "cell_type": "code",
   "execution_count": 323,
   "metadata": {},
   "outputs": [],
   "source": [
    "difference_mean_PTB=difference_mean_PTB.rename(columns={r\"$wx_{\\Delta\\varphi(\\omega)}$ in $rad$\": r\"$d_{\\Delta\\varphi(\\omega)}$ in $rad$\"})\n",
    "difference_mean_PTB=difference_mean_PTB.rename(columns={r\"$wx_{\\Delta\\varphi(\\omega) - CMC}$ in $rad$\": r\"$d_{\\Delta\\varphi(\\omega) - CMC}$ in $rad$\"})\n",
    "\n",
    "difference_mean_CEM=difference_mean_CEM.rename(columns={r\"$wx_{\\Delta\\varphi(\\omega)}$ in $rad$\": r\"$d_{\\Delta\\varphi(\\omega)}$ in $rad$\"})\n",
    "difference_mean_CEM=difference_mean_CEM.rename(columns={r\"$wx_{\\Delta\\varphi(\\omega) - CMC}$ in $rad$\": r\"$d_{\\Delta\\varphi(\\omega) - CMC}$ in $rad$\"})"
   ]
  },
  {
   "cell_type": "code",
   "execution_count": 324,
   "metadata": {},
   "outputs": [],
   "source": [
    "effective_sample_size_PTB_1=pd.DataFrame(effective_sample_size_PTB)\n",
    "effective_sample_size_overall_1=pd.DataFrame(effective_sample_size_overall)\n",
    "effective_sample_size_CEM_1=pd.DataFrame(effective_sample_size_CEM)"
   ]
  },
  {
   "cell_type": "code",
   "execution_count": 325,
   "metadata": {},
   "outputs": [],
   "source": [
    "\n",
    "s_pooled_PTB_mag=np.sqrt(((effective_sample_size_PTB_1[0]-1)*weighted_values_PTB[r\"$wu_{|S(\\omega)|}$ in $ \\frac{\\mathrm{m s}^-2}{\\mathrm{m s}^-2}$\"].values**2+(effective_sample_size_overall_1[0]-1)*weighted_values_overall[r\"$wu_{|S(\\omega)|}$ in $ \\frac{\\mathrm{m s}^-2}{\\mathrm{m s}^-2}$\"].values**2)/(effective_sample_size_PTB_1[0]+effective_sample_size_overall_1[0]-2))\n",
    "s_pooled_CEM_mag=np.sqrt(((effective_sample_size_CEM_1[0]-1)*weighted_values_CEM[r\"$wu_{|S(\\omega)|}$ in $ \\frac{\\mathrm{m s}^-2}{\\mathrm{m s}^-2}$\"].values**2+(effective_sample_size_overall_1[0]-1)*weighted_values_overall[r\"$wu_{|S(\\omega)|}$ in $ \\frac{\\mathrm{m s}^-2}{\\mathrm{m s}^-2}$\"].values**2)/(effective_sample_size_CEM_1[0]+effective_sample_size_overall_1[0]-2))\n",
    "s_pooled_PTB_ph=np.sqrt(((effective_sample_size_PTB_1[1]-1)*weighted_values_PTB[r\"$wu_{\\Delta\\varphi(\\omega)}$ in $rad$\"].values**2+(effective_sample_size_overall_1[1]-1)*weighted_values_overall[r\"$wu_{\\Delta\\varphi(\\omega)}$ in $rad$\"].values**2)/(effective_sample_size_PTB_1[1]+effective_sample_size_overall_1[1]-2))\n",
    "s_pooled_CEM_ph=np.sqrt(((effective_sample_size_CEM_1[1]-1)*weighted_values_CEM[r\"$wu_{\\Delta\\varphi(\\omega)}$ in $rad$\"].values**2+(effective_sample_size_overall_1[1]-1)*weighted_values_overall[r\"$wu_{\\Delta\\varphi(\\omega)}$ in $rad$\"].values**2)/(effective_sample_size_CEM_1[1]+effective_sample_size_overall_1[1]-2))\n",
    "\n",
    "from scipy import stats\n",
    "\n",
    "t_mag_PTB=[stats.t.ppf(1-0.025, effective_sample_size_PTB_1[0][val]+effective_sample_size_overall_1[0][val]-2) for val in range(len(effective_sample_size_PTB_1[0]))]\n",
    "t_mag_CEM=[stats.t.ppf(1-0.025, effective_sample_size_CEM_1[0][val]+effective_sample_size_overall_1[0][val]-2) for val in range(len(effective_sample_size_CEM_1[0]))]\n",
    "t_ph_PTB=[stats.t.ppf(1-0.025, effective_sample_size_PTB_1[1][val]+effective_sample_size_overall_1[1][val]-2) for val in range(len(effective_sample_size_PTB_1[1]))]\n",
    "t_ph_CEM=[stats.t.ppf(1-0.025, effective_sample_size_CEM_1[1][val]+effective_sample_size_overall_1[1][val]-2) for val in range(len(effective_sample_size_CEM_1[1]))]\n",
    "\n",
    "#CMCS\n",
    "s_pooled_PTB_mag_CMC=np.sqrt(((effective_sample_size_PTB_1[2]-1)*weighted_values_PTB[r\"$wu_{|S(\\omega)|- CMC}$ in $ \\frac{\\mathrm{m s}^-2}{\\mathrm{m s}^-2}$\"].values**2+(effective_sample_size_overall_1[2]-1)*weighted_values_overall[r\"$wu_{|S(\\omega)|- CMC}$ in $ \\frac{\\mathrm{m s}^-2}{\\mathrm{m s}^-2}$\"].values**2)/(effective_sample_size_PTB_1[2]+effective_sample_size_overall_1[2]-2))\n",
    "s_pooled_CEM_mag_CMC=np.sqrt(((effective_sample_size_CEM_1[2]-1)*weighted_values_CEM[r\"$wu_{|S(\\omega)|- CMC}$ in $ \\frac{\\mathrm{m s}^-2}{\\mathrm{m s}^-2}$\"].values**2+(effective_sample_size_overall_1[2]-1)*weighted_values_overall[r\"$wu_{|S(\\omega)|- CMC}$ in $ \\frac{\\mathrm{m s}^-2}{\\mathrm{m s}^-2}$\"].values**2)/(effective_sample_size_CEM_1[2]+effective_sample_size_overall_1[2]-2))\n",
    "s_pooled_PTB_ph_CMC=np.sqrt(((effective_sample_size_PTB_1[3]-1)*weighted_values_PTB[r\"$wu_{\\Delta\\varphi(\\omega) - CMC}$ in $rad$\"].values**2+(effective_sample_size_overall_1[3]-1)*weighted_values_overall[r\"$wu_{\\Delta\\varphi(\\omega) - CMC}$ in $rad$\"].values**2)/(effective_sample_size_PTB_1[3]+effective_sample_size_overall_1[3]-2))\n",
    "s_pooled_CEM_ph_CMC=np.sqrt(((effective_sample_size_CEM_1[3]-1)*weighted_values_CEM[r\"$wu_{\\Delta\\varphi(\\omega) - CMC}$ in $rad$\"].values**2+(effective_sample_size_overall_1[3]-1)*weighted_values_overall[r\"$wu_{\\Delta\\varphi(\\omega) - CMC}$ in $rad$\"].values**2)/(effective_sample_size_CEM_1[3]+effective_sample_size_overall_1[3]-2))\n",
    "\n",
    "t_mag_PTB_CMC=[stats.t.ppf(1-0.025, effective_sample_size_PTB_1[2][val]+effective_sample_size_overall_1[2][val]-2) for val in range(len(effective_sample_size_PTB_1[2]))]\n",
    "t_mag_CEM_CMC=[stats.t.ppf(1-0.025, effective_sample_size_CEM_1[2][val]+effective_sample_size_overall_1[2][val]-2) for val in range(len(effective_sample_size_CEM_1[2]))]\n",
    "t_ph_PTB_CMC=[stats.t.ppf(1-0.025, effective_sample_size_PTB_1[3][val]+effective_sample_size_overall_1[3][val]-2) for val in range(len(effective_sample_size_PTB_1[3]))]\n",
    "t_ph_CEM_CMC=[stats.t.ppf(1-0.025, effective_sample_size_CEM_1[3][val]+effective_sample_size_overall_1[3][val]-2) for val in range(len(effective_sample_size_CEM_1[3]))]"
   ]
  },
  {
   "cell_type": "markdown",
   "metadata": {},
   "source": [
    "The confidence interval of the difference between two population means is:\n",
    "$${|\\bar {x_{M}}|}-{|\\bar {x_{M,all}}} \\pm t_{\\frac{\\alpha}{2}} * s_{p}*\\sqrt{\\frac{1}{ESS}+\\frac{1}{ESS_{all}}}$$,\n",
    "where $t_{\\frac{\\alpha}{2}}$ has $ESS+ESS_{all}-2$ degrees of freedom"
   ]
  },
  {
   "cell_type": "code",
   "execution_count": 326,
   "metadata": {},
   "outputs": [],
   "source": [
    "last_mem_mag_PTB=np.sqrt(1/effective_sample_size_PTB_1[0]+1/effective_sample_size_overall_1[0])\n",
    "last_mem_mag_CEM=np.sqrt(1/effective_sample_size_CEM_1[0]+1/effective_sample_size_overall_1[0])\n",
    "\n",
    "last_mem_ph_PTB=np.sqrt(1/effective_sample_size_PTB_1[1]+1/effective_sample_size_overall_1[1])\n",
    "last_mem_ph_CEM=np.sqrt(1/effective_sample_size_CEM_1[1]+1/effective_sample_size_overall_1[1])\n",
    "\n",
    "\n",
    "#CMC\n",
    "last_mem_mag_PTB_CMC=np.sqrt(1/effective_sample_size_PTB_1[2]+1/effective_sample_size_overall_1[2])\n",
    "last_mem_mag_CEM_CMC=np.sqrt(1/effective_sample_size_CEM_1[2]+1/effective_sample_size_overall_1[2])\n",
    "\n",
    "\n",
    "last_mem_ph_PTB_CMC=np.sqrt(1/effective_sample_size_PTB_1[3]+1/effective_sample_size_overall_1[3])\n",
    "last_mem_ph_CEM_CMC=np.sqrt(1/effective_sample_size_CEM_1[3]+1/effective_sample_size_overall_1[3])"
   ]
  },
  {
   "cell_type": "code",
   "execution_count": 327,
   "metadata": {},
   "outputs": [
    {
     "data": {
      "image/png": "[encoded data removed]",
      "text/plain": [
       "<Figure size 1152x648 with 2 Axes>"
      ]
     },
     "metadata": {
      "needs_background": "light"
     },
     "output_type": "display_data"
    }
   ],
   "source": [
    "#%matplotlib qt    #activate qt ploting to have interactive scaleable window with save button\n",
    "fig,ax=plt.subplots(2,1,sharex=\"all\",figsize=(16,9))#figsize=(20,10)\n",
    "x=np.array(list_of_freq)\n",
    "x1=x*1.01#OFFSET 1% offset to better ditinguish both labs\n",
    "y= difference_mean_PTB[r\"$d_{|S(\\omega)|}$ in $ \\frac{\\mathrm{m s}^-2}{\\mathrm{m s}^-2}$\"].values\n",
    "y1=difference_mean_CEM[r\"$d_{|S(\\omega)|}$ in $ \\frac{\\mathrm{m s}^-2}{\\mathrm{m s}^-2}$\"].values\n",
    "yPTB=weighted_values_PTB[r\"$wx_{|S(\\omega)|}$ in $ \\frac{\\mathrm{m s}^-2}{\\mathrm{m s}^-2}$\"]\n",
    "yCEM=weighted_values_CEM[r\"$wx_{|S(\\omega)|}$ in $ \\frac{\\mathrm{m s}^-2}{\\mathrm{m s}^-2}$\"]\n",
    "error=s_pooled_PTB_mag*t_mag_PTB*last_mem_mag_PTB\n",
    "error1=s_pooled_CEM_mag*t_mag_CEM*last_mem_mag_CEM\n",
    "ax[0].errorbar(x, yPTB,yerr=error, linestyle=\"\",marker=\"o\",label=\"PTB\")\n",
    "ax[0].errorbar(x1, yCEM,yerr=error1, linestyle=\"\",marker=\"o\",label=\"CEM\",color=\"red\")\n",
    "ax[0].set_xlabel(\"Frequency in Hz\")\n",
    "ax[0].set_ylabel(r\"$|S(\\omega)|$  in $\\frac{\\mathrm{m s}^-2}{\\mathrm{m s}^-2}$\")\n",
    "ax[0].set_xscale('log')\n",
    "ax[0].legend()\n",
    "ax[0].grid()\n",
    "\n",
    "ax[1].errorbar(x, y,yerr=error, linestyle=\"\",marker=\"o\",label=\"PTB\")\n",
    "ax[1].errorbar(x1, y1,yerr=error1, linestyle=\"\",marker=\"o\",label=\"CEM\",color=\"red\")\n",
    "ax[1].set_xlabel(\"Frequency in Hz\")\n",
    "ax[1].set_ylabel(r\"$|S(\\omega)|-\\overline{|S|}$  in $\\frac{\\mathrm{m s}^-2}{\\mathrm{m s}^-2}$\")\n",
    "ax[1].set_xscale('log')\n",
    "ax[1].legend()\n",
    "ax[1].grid() \n",
    "plt.show()"
   ]
  },
  {
   "cell_type": "code",
   "execution_count": 328,
   "metadata": {},
   "outputs": [
    {
     "data": {
      "image/png": "[encoded data removed]",
      "text/plain": [
       "<Figure size 1152x648 with 2 Axes>"
      ]
     },
     "metadata": {
      "needs_background": "light"
     },
     "output_type": "display_data"
    }
   ],
   "source": [
    "#%matplotlib qt  #activate qt ploting to have interactive scaleable window with save button\n",
    "fig,ax=plt.subplots(2,1,sharex=\"all\",figsize=(16,9))#figsize=(20,10)\n",
    "x=np.array(list_of_freq)\n",
    "x1=x*1.005#OFFSET 1% offset to better ditinguish both labs\n",
    "y= difference_mean_PTB[r\"$d_{\\Delta\\varphi(\\omega)}$ in $rad$\"].values\n",
    "y1=difference_mean_CEM[r\"$d_{\\Delta\\varphi(\\omega)}$ in $rad$\"].values\n",
    "phaseRawPTB=weighted_values_PTB[r\"$wx_{\\Delta\\varphi(\\omega)}$ in $rad$\"]\n",
    "phaseRawCEM=weighted_values_CEM[r\"$wx_{\\Delta\\varphi(\\omega)}$ in $rad$\"]\n",
    "error=s_pooled_PTB_ph*t_ph_PTB*last_mem_ph_PTB\n",
    "error1=s_pooled_CEM_ph*t_ph_CEM*last_mem_ph_CEM\n",
    "ax[0].errorbar(x, np.rad2deg(phaseRawPTB),yerr=np.rad2deg(error), linestyle=\"\",marker=\"o\",label=\"PTB\")\n",
    "ax[0].errorbar(x1, np.rad2deg(phaseRawCEM),yerr=np.rad2deg(error1), linestyle=\"\",marker=\"o\",label=\"CEM\",color=\"red\")\n",
    "ax[0].set_ylabel(r\"$\\Delta\\varphi(\\omega)$ in$^\\circ$\")\n",
    "ax[0].set_xscale('log')\n",
    "ax[0].grid() \n",
    "ax[0].legend()\n",
    "ax[1].errorbar(x, np.rad2deg(y),yerr=np.rad2deg(error), linestyle=\"\",marker=\"o\",label=\"PTB\")\n",
    "ax[1].errorbar(x1, np.rad2deg(y1),yerr=np.rad2deg(error1), linestyle=\"\",marker=\"o\",label=\"CEM\",color=\"red\")\n",
    "ax[1].set_xlabel(\"Frequency in Hz\")\n",
    "ax[1].set_ylabel(r\"$\\Delta\\varphi(\\omega) -\\overline{\\Delta\\varphi(\\omega) }$ in $^\\circ$\")\n",
    "ax[1].set_xscale('log')\n",
    "ax[1].grid() \n",
    "ax[1].legend()\n",
    "plt.show()"
   ]
  },
  {
   "cell_type": "code",
   "execution_count": 329,
   "metadata": {},
   "outputs": [
    {
     "data": {
      "image/png": "[encoded data removed]",
      "text/plain": [
       "<Figure size 1152x648 with 2 Axes>"
      ]
     },
     "metadata": {
      "needs_background": "light"
     },
     "output_type": "display_data"
    }
   ],
   "source": [
    "#%matplotlib qt    #activate qt ploting to have interactive scaleable window with save button\n",
    "fig,ax=plt.subplots(2,1,sharex=\"all\",figsize=(16,9))#figsize=(20,10)\n",
    "x=np.array(list_of_freq)\n",
    "x1=x*1.01#OFFSET 1% offset to better ditinguish both labs\n",
    "y= difference_mean_PTB[r\"$d_{|S(\\omega)|- CMC}$ in $ \\frac{\\mathrm{m s}^-2}{\\mathrm{m s}^-2}$\"].values\n",
    "y1=difference_mean_CEM[r\"$d_{|S(\\omega)|- CMC}$ in $ \\frac{\\mathrm{m s}^-2}{\\mathrm{m s}^-2}$\"].values\n",
    "yPTB=weighted_values_PTB[r\"$wx_{|S(\\omega)|- CMC}$ in $ \\frac{\\mathrm{m s}^-2}{\\mathrm{m s}^-2}$\"]\n",
    "yCEM=weighted_values_CEM[r\"$wx_{|S(\\omega)|- CMC}$ in $ \\frac{\\mathrm{m s}^-2}{\\mathrm{m s}^-2}$\"]\n",
    "error=s_pooled_PTB_mag_CMC*t_mag_PTB_CMC*last_mem_mag_PTB_CMC\n",
    "error1=s_pooled_CEM_mag_CMC*t_mag_CEM_CMC*last_mem_mag_CEM_CMC\n",
    "ax[0].errorbar(x, yPTB,yerr=error, linestyle=\"\",marker=\"o\",label=\"PTB\")\n",
    "ax[0].errorbar(x1, yCEM,yerr=error1, linestyle=\"\",marker=\"o\",label=\"CEM\",color=\"red\")\n",
    "ax[0].set_xlabel(\"Frequency in Hz\")\n",
    "ax[0].set_ylabel(r\"$|S(\\omega)|$  in $\\frac{\\mathrm{m s}^-2}{\\mathrm{m s}^-2}$\")\n",
    "ax[0].set_xscale('log')\n",
    "ax[0].legend()\n",
    "ax[0].grid()\n",
    "\n",
    "ax[1].errorbar(x, y,yerr=error, linestyle=\"\",marker=\"o\",label=\"PTB\")\n",
    "ax[1].errorbar(x1, y1,yerr=error1, linestyle=\"\",marker=\"o\",label=\"CEM\",color=\"red\")\n",
    "ax[1].set_xlabel(\"Frequency in Hz\")\n",
    "ax[1].set_ylabel(r\"$|S(\\omega)|-\\overline{|S|}$  in $\\frac{\\mathrm{m s}^-2}{\\mathrm{m s}^-2}$\")\n",
    "ax[1].set_xscale('log')\n",
    "ax[1].legend()\n",
    "ax[1].grid() \n",
    "plt.show()"
   ]
  },
  {
   "cell_type": "code",
   "execution_count": 330,
   "metadata": {},
   "outputs": [
    {
     "data": {
      "image/png": "[encoded data removed]",
      "text/plain": [
       "<Figure size 1152x648 with 2 Axes>"
      ]
     },
     "metadata": {
      "needs_background": "light"
     },
     "output_type": "display_data"
    }
   ],
   "source": [
    "#%matplotlib qt  #activate qt ploting to have interactive scaleable window with save button\n",
    "fig,ax=plt.subplots(2,1,sharex=\"all\",figsize=(16,9))#figsize=(20,10)\n",
    "x=np.array(list_of_freq)\n",
    "x1=x*1.005#OFFSET 1% offset to better ditinguish both labs\n",
    "y= difference_mean_PTB[r\"$d_{\\Delta\\varphi(\\omega) - CMC}$ in $rad$\"].values\n",
    "y1=difference_mean_CEM[r\"$d_{\\Delta\\varphi(\\omega) - CMC}$ in $rad$\"].values\n",
    "phaseRawPTB=weighted_values_PTB[r\"$wx_{\\Delta\\varphi(\\omega) - CMC}$ in $rad$\"]\n",
    "phaseRawCEM=weighted_values_CEM[r\"$wx_{\\Delta\\varphi(\\omega) - CMC}$ in $rad$\"]\n",
    "error=s_pooled_PTB_ph_CMC*t_ph_PTB_CMC*last_mem_ph_PTB_CMC\n",
    "error1=s_pooled_CEM_ph_CMC*t_ph_CEM_CMC*last_mem_ph_CEM_CMC\n",
    "ax[0].errorbar(x, np.rad2deg(phaseRawPTB),yerr=np.rad2deg(error), linestyle=\"\",marker=\"o\",label=\"PTB\")\n",
    "ax[0].errorbar(x1, np.rad2deg(phaseRawCEM),yerr=np.rad2deg(error1), linestyle=\"\",marker=\"o\",label=\"CEM\",color=\"red\")\n",
    "ax[0].set_ylabel(r\"$\\Delta\\varphi(\\omega)$ in$^\\circ$\")\n",
    "ax[0].set_xscale('log')\n",
    "ax[0].grid() \n",
    "ax[0].legend()\n",
    "ax[1].errorbar(x, np.rad2deg(y),yerr=np.rad2deg(error), linestyle=\"\",marker=\"o\",label=\"PTB\")\n",
    "ax[1].errorbar(x1, np.rad2deg(y1),yerr=np.rad2deg(error1), linestyle=\"\",marker=\"o\",label=\"CEM\",color=\"red\")\n",
    "ax[1].set_xlabel(\"Frequency in Hz\")\n",
    "ax[1].set_ylabel(r\"$\\Delta\\varphi(\\omega) -\\overline{\\Delta\\varphi(\\omega) }$ in $^\\circ$\")\n",
    "ax[1].set_xscale('log')\n",
    "ax[1].grid() \n",
    "ax[1].legend()\n",
    "plt.title(\"Phase - with assigned CMCs\")\n",
    "plt.show()"
   ]
  },
  {
   "cell_type": "code",
   "execution_count": 368,
   "metadata": {},
   "outputs": [],
   "source": [
    "#degree of equivalence\n",
    "\n",
    "DOE_PTB_mag= pd.DataFrame(difference_mean_PTB[r\"$d_{|S(\\omega)|- CMC}$ in $ \\frac{\\mathrm{m s}^-2}{\\mathrm{m s}^-2}$\"])\n",
    "DOE_PTB_mag[r\"$u_{di}$ in $ \\frac{\\mathrm{m s}^-2}{\\mathrm{m s}^-2}$\"]=np.sqrt(weighted_values_PTB[r\"$wu_{|S(\\omega)|- CMC}$ in $ \\frac{\\mathrm{m s}^-2}{\\mathrm{m s}^-2}$\"].values**2-weighted_values_overall[r\"$wu_{|S(\\omega)|- CMC}$ in $ \\frac{\\mathrm{m s}^-2}{\\mathrm{m s}^-2}$\"].values**2)\n",
    "DOE_PTB_mag[r\"$E_{N}$\"]=DOE_PTB_mag[r\"$d_{|S(\\omega)|- CMC}$ in $ \\frac{\\mathrm{m s}^-2}{\\mathrm{m s}^-2}$\"]/(2*DOE_PTB_mag[r\"$u_{di}$ in $ \\frac{\\mathrm{m s}^-2}{\\mathrm{m s}^-2}$\"])\n",
    "\n",
    "DOE_CEM_mag= pd.DataFrame(difference_mean_CEM[r\"$d_{|S(\\omega)|- CMC}$ in $ \\frac{\\mathrm{m s}^-2}{\\mathrm{m s}^-2}$\"])\n",
    "DOE_CEM_mag[r\"$u_{di}$ in $ \\frac{\\mathrm{m s}^-2}{\\mathrm{m s}^-2}$\"]=np.sqrt(weighted_values_CEM[r\"$wu_{|S(\\omega)|- CMC}$ in $ \\frac{\\mathrm{m s}^-2}{\\mathrm{m s}^-2}$\"].values**2-weighted_values_overall[r\"$wu_{|S(\\omega)|- CMC}$ in $ \\frac{\\mathrm{m s}^-2}{\\mathrm{m s}^-2}$\"].values**2)\n",
    "DOE_CEM_mag[r\"$E_{N}$\"]=DOE_CEM_mag[r\"$d_{|S(\\omega)|- CMC}$ in $ \\frac{\\mathrm{m s}^-2}{\\mathrm{m s}^-2}$\"]/(2*DOE_CEM_mag[r\"$u_{di}$ in $ \\frac{\\mathrm{m s}^-2}{\\mathrm{m s}^-2}$\"])"
   ]
  },
  {
   "cell_type": "code",
   "execution_count": 369,
   "metadata": {},
   "outputs": [],
   "source": [
    "\n",
    "\n",
    "paper_columns=[r\"$d_{i} in \\frac{\\mathrm{m s}^-2}{\\mathrm{m s}^-2}$\",r\"$u_{di}$ in $ \\frac{\\mathrm{m s}^-2}{\\mathrm{m s}^-2}$\",r\"$E_{N}$\"]\n",
    "DOE_PTB_mag.columns= paper_columns\n",
    "DOE_CEM_mag.columns= paper_columns\n"
   ]
  },
  {
   "cell_type": "code",
   "execution_count": 370,
   "metadata": {},
   "outputs": [],
   "source": [
    "relative_udi_PTB=(DOE_PTB_mag[r\"$u_{di}$ in $ \\frac{\\mathrm{m s}^-2}{\\mathrm{m s}^-2}$\"]/DOE_PTB_mag[r\"$d_{i} in \\frac{\\mathrm{m s}^-2}{\\mathrm{m s}^-2}$\"])*100\n",
    "relative_udi_CEM=(DOE_CEM_mag[r\"$u_{di}$ in $ \\frac{\\mathrm{m s}^-2}{\\mathrm{m s}^-2}$\"]/DOE_CEM_mag[r\"$d_{i} in \\frac{\\mathrm{m s}^-2}{\\mathrm{m s}^-2}$\"])*100\n",
    "DOE_PTB_mag.insert(2,r\"$u_{di}$ in $%$\",relative_udi_PTB)\n",
    "DOE_CEM_mag.insert(2,r\"$u_{di}$ in $%$\",relative_udi_CEM)"
   ]
  },
  {
   "cell_type": "code",
   "execution_count": 371,
   "metadata": {},
   "outputs": [],
   "source": [
    "paper_results_mag=pd.concat([DOE_PTB_mag,DOE_CEM_mag],axis=1)\n",
    "paper_results_mag.insert(0,r\"$x_{wm}$ in $ \\frac{\\mathrm{m s}^-2}{\\mathrm{m s}^-2}$\",weighted_values_overall[r\"$wx_{|S(\\omega)|- CMC}$ in $ \\frac{\\mathrm{m s}^-2}{\\mathrm{m s}^-2}$\"])\n",
    "paper_results_mag.insert(1,r\"$u_{wm}$ in $ \\frac{\\mathrm{m s}^-2}{\\mathrm{m s}^-2}$\",weighted_values_overall[r\"$wu_{|S(\\omega)|- CMC}$ in $ \\frac{\\mathrm{m s}^-2}{\\mathrm{m s}^-2}$\"])"
   ]
  },
  {
   "cell_type": "code",
   "execution_count": 372,
   "metadata": {},
   "outputs": [],
   "source": [
    "relative_wx=(paper_results_mag[r\"$u_{wm}$ in $ \\frac{\\mathrm{m s}^-2}{\\mathrm{m s}^-2}$\"]/paper_results_mag[r\"$x_{wm}$ in $ \\frac{\\mathrm{m s}^-2}{\\mathrm{m s}^-2}$\"])*100\n",
    "paper_results_mag.insert(2,r\"$u_{wm}$ in $ %$\",relative_wx)"
   ]
  },
  {
   "cell_type": "code",
   "execution_count": 373,
   "metadata": {},
   "outputs": [],
   "source": [
    "paper_results_mag=paper_results_mag.set_axis(list_of_freq)"
   ]
  },
  {
   "cell_type": "code",
   "execution_count": 374,
   "metadata": {},
   "outputs": [],
   "source": [
    "#degree of equivalence\n",
    "\n",
    "DOE_PTB_mag= pd.DataFrame(difference_mean_PTB[r\"$d_{|S(\\omega)|- CMC}$ in $ \\frac{\\mathrm{m s}^-2}{\\mathrm{m s}^-2}$\"])\n",
    "DOE_PTB_mag[r\"$u_{di}$ in $ \\frac{\\mathrm{m s}^-2}{\\mathrm{m s}^-2}$\"]=np.sqrt(weighted_values_PTB[r\"$wu_{|S(\\omega)|- CMC}$ in $ \\frac{\\mathrm{m s}^-2}{\\mathrm{m s}^-2}$\"].values**2-weighted_values_overall[r\"$wu_{|S(\\omega)|- CMC}$ in $ \\frac{\\mathrm{m s}^-2}{\\mathrm{m s}^-2}$\"].values**2)\n",
    "DOE_PTB_mag[r\"$E_{N}$\"]=DOE_PTB_mag[r\"$d_{|S(\\omega)|- CMC}$ in $ \\frac{\\mathrm{m s}^-2}{\\mathrm{m s}^-2}$\"]/(2*DOE_PTB_mag[r\"$u_{di}$ in $ \\frac{\\mathrm{m s}^-2}{\\mathrm{m s}^-2}$\"])\n",
    "\n",
    "DOE_CEM_mag= pd.DataFrame(difference_mean_CEM[r\"$d_{|S(\\omega)|- CMC}$ in $ \\frac{\\mathrm{m s}^-2}{\\mathrm{m s}^-2}$\"])\n",
    "DOE_CEM_mag[r\"$u_{di}$ in $ \\frac{\\mathrm{m s}^-2}{\\mathrm{m s}^-2}$\"]=np.sqrt(weighted_values_CEM[r\"$wu_{|S(\\omega)|- CMC}$ in $ \\frac{\\mathrm{m s}^-2}{\\mathrm{m s}^-2}$\"].values**2-weighted_values_overall[r\"$wu_{|S(\\omega)|- CMC}$ in $ \\frac{\\mathrm{m s}^-2}{\\mathrm{m s}^-2}$\"].values**2)\n",
    "DOE_CEM_mag[r\"$E_{N}$\"]=DOE_CEM_mag[r\"$d_{|S(\\omega)|- CMC}$ in $ \\frac{\\mathrm{m s}^-2}{\\mathrm{m s}^-2}$\"]/(2*DOE_CEM_mag[r\"$u_{di}$ in $ \\frac{\\mathrm{m s}^-2}{\\mathrm{m s}^-2}$\"])"
   ]
  },
  {
   "cell_type": "code",
   "execution_count": 375,
   "metadata": {},
   "outputs": [],
   "source": [
    "#degree of equivalence - phase\n",
    "DOE_PTB_ph= pd.DataFrame(np.rad2deg(difference_mean_PTB[r\"$d_{\\Delta\\varphi(\\omega) - CMC}$ in $rad$\"].values),columns=[r\"$d_{i}$ in $^\\circ$\"])\n",
    "DOE_PTB_ph[r\"$u_{di}$ in $^\\circ$\"]=np.rad2deg(np.sqrt(weighted_values_PTB[r\"$wu_{\\Delta\\varphi(\\omega) - CMC}$ in $rad$\"].values**2-weighted_values_overall[r\"$wu_{\\Delta\\varphi(\\omega) - CMC}$ in $rad$\"].values**2))\n",
    "DOE_PTB_ph[r\"$E_{N}$\"]=DOE_PTB_ph[r\"$d_{i}$ in $^\\circ$\"]/(2*DOE_PTB_ph[r\"$u_{di}$ in $^\\circ$\"])\n",
    "\n",
    "DOE_CEM_ph= pd.DataFrame(np.rad2deg(difference_mean_CEM[r\"$d_{\\Delta\\varphi(\\omega) - CMC}$ in $rad$\"].values),columns=[r\"$d_{i}$ in $^\\circ$\"])\n",
    "DOE_CEM_ph[r\"$u_{di}$ in $^\\circ$\"]=np.rad2deg(np.sqrt(weighted_values_CEM[r\"$wu_{\\Delta\\varphi(\\omega) - CMC}$ in $rad$\"].values**2-weighted_values_overall[r\"$wu_{\\Delta\\varphi(\\omega) - CMC}$ in $rad$\"].values**2))\n",
    "DOE_CEM_ph[r\"$E_{N}$\"]=DOE_CEM_ph[r\"$d_{i}$ in $^\\circ$\"]/(2*DOE_CEM_ph[r\"$u_{di}$ in $^\\circ$\"])"
   ]
  },
  {
   "cell_type": "code",
   "execution_count": 376,
   "metadata": {},
   "outputs": [],
   "source": [
    "paper_columns1=[r\"$d_{i}$ in $^\\circ$\",r\"$u_{di}$ in $^\\circ$\",r\"$E_{N}$\"]\n",
    "DOE_PTB_ph.columns= paper_columns1\n",
    "DOE_CEM_ph.columns= paper_columns1"
   ]
  },
  {
   "cell_type": "code",
   "execution_count": 377,
   "metadata": {},
   "outputs": [],
   "source": [
    "paper_results_ph=pd.concat([DOE_PTB_ph,DOE_CEM_ph],axis=1)\n",
    "paper_results_ph.insert(0,r\"$x_{wm}$ in $^\\circ$\",np.rad2deg(weighted_values_overall[r\"$wx_{\\Delta\\varphi(\\omega) - CMC}$ in $rad$\"].values))\n",
    "paper_results_ph.insert(1,r\"$u_{wm}$ in $^\\circ$\",np.rad2deg(weighted_values_overall[r\"$wu_{\\Delta\\varphi(\\omega) - CMC}$ in $rad$\"]))"
   ]
  },
  {
   "cell_type": "code",
   "execution_count": 379,
   "metadata": {},
   "outputs": [],
   "source": [
    "paper_results_ph=paper_results_ph.set_axis(list_of_freq)\n",
    "writer2 = pd.ExcelWriter('Results.xlsx')\n",
    "paper_results_mag.to_excel(writer2,sheet_name = \"Magnitude\", index=True)\n",
    "paper_results_ph.to_excel(writer2,sheet_name = \"Phase\", index=True)\n",
    "writer2.save()"
   ]
  },
  {
   "cell_type": "markdown",
   "metadata": {},
   "source": [
    "## 5.2 En values for weighted data"
   ]
  },
  {
   "cell_type": "code",
   "execution_count": 40,
   "metadata": {},
   "outputs": [],
   "source": [
    "def calculate_En_values_weighted(df1,df2,names):\n",
    "    En_values=np.empty((df1.shape[0],2))\n",
    "    \n",
    "    for i in range (df1.shape[0]):\n",
    "            En_values[:,0]=np.abs(((df1[names[0]].values-df2[names[0]].values)/(2*(np.sqrt(df1[names[1]].values**2 +df2[names[1]].values**2)))))\n",
    "            En_values[:,1]=np.abs(((df1[names[2]].values-df2[names[2]].values)/(2*(np.sqrt(df1[names[3]].values**2 +df2[names[3]].values**2)))))\n",
    "            #En_values[:,2]=np.abs(((df1[names[4]].values-df2[names[4]].values)/(2*(np.sqrt(df1[names[5]].values**2 +df2[names[5]].values**2))))) \n",
    "    return En_values  "
   ]
  },
  {
   "cell_type": "code",
   "execution_count": 41,
   "metadata": {},
   "outputs": [
    {
     "data": {
      "text/html": [
       "<div>\n",
       "<style scoped>\n",
       "    .dataframe tbody tr th:only-of-type {\n",
       "        vertical-align: middle;\n",
       "    }\n",
       "\n",
       "    .dataframe tbody tr th {\n",
       "        vertical-align: top;\n",
       "    }\n",
       "\n",
       "    .dataframe thead th {\n",
       "        text-align: right;\n",
       "    }\n",
       "</style>\n",
       "<table border=\"1\" class=\"dataframe\">\n",
       "  <thead>\n",
       "    <tr style=\"text-align: right;\">\n",
       "      <th></th>\n",
       "      <th>$wx_{M},$ [m s^-2/m s^-2]</th>\n",
       "      <th>$wu_{M},$ [m s^-2/m s^-2]</th>\n",
       "      <th>$wx_{\\phi},$ [rad]</th>\n",
       "      <th>$wu_{\\phi},$ [rad]</th>\n",
       "      <th>$wx_{M-CMC},$ [m s^-2/m s^-2]</th>\n",
       "      <th>$wu_{M-CMC},$ [m s^-2/m s^-2]</th>\n",
       "      <th>$wx_{\\phi - CMC},$ [rad]</th>\n",
       "      <th>$wu_{\\phi - CMC},$ [rad]</th>\n",
       "    </tr>\n",
       "  </thead>\n",
       "  <tbody>\n",
       "    <tr>\n",
       "      <th>0</th>\n",
       "      <td>1.019191</td>\n",
       "      <td>0.000644</td>\n",
       "      <td>-0.094700</td>\n",
       "      <td>0.000484</td>\n",
       "      <td>1.019172</td>\n",
       "      <td>0.000161</td>\n",
       "      <td>-0.094700</td>\n",
       "      <td>0.000552</td>\n",
       "    </tr>\n",
       "    <tr>\n",
       "      <th>1</th>\n",
       "      <td>1.018506</td>\n",
       "      <td>0.000762</td>\n",
       "      <td>-0.118723</td>\n",
       "      <td>0.000766</td>\n",
       "      <td>1.018421</td>\n",
       "      <td>0.000161</td>\n",
       "      <td>-0.118714</td>\n",
       "      <td>0.000552</td>\n",
       "    </tr>\n",
       "  </tbody>\n",
       "</table>\n",
       "</div>"
      ],
      "text/plain": [
       "   $wx_{M},$ [m s^-2/m s^-2]  $wu_{M},$ [m s^-2/m s^-2]  $wx_{\\phi},$ [rad]  \\\n",
       "0                   1.019191                   0.000644           -0.094700   \n",
       "1                   1.018506                   0.000762           -0.118723   \n",
       "\n",
       "   $wu_{\\phi},$ [rad]  $wx_{M-CMC},$ [m s^-2/m s^-2]  \\\n",
       "0            0.000484                       1.019172   \n",
       "1            0.000766                       1.018421   \n",
       "\n",
       "   $wu_{M-CMC},$ [m s^-2/m s^-2]  $wx_{\\phi - CMC},$ [rad]  \\\n",
       "0                       0.000161                 -0.094700   \n",
       "1                       0.000161                 -0.118714   \n",
       "\n",
       "   $wu_{\\phi - CMC},$ [rad]  \n",
       "0                  0.000552  \n",
       "1                  0.000552  "
      ]
     },
     "execution_count": 41,
     "metadata": {},
     "output_type": "execute_result"
    }
   ],
   "source": [
    "weighted_values_PTB.head(2)"
   ]
  },
  {
   "cell_type": "code",
   "execution_count": 42,
   "metadata": {},
   "outputs": [],
   "source": [
    "En_values_weighted=calculate_En_values_weighted(weighted_values_PTB,weighted_values_CEM,column_names_list2)\n",
    "#En_values_weighted_exp=calculate_En_values_weighted(weighted_values_PTB,weighted_values_CEM,\"expanded uncertainty\",q_names)"
   ]
  },
  {
   "cell_type": "code",
   "execution_count": 381,
   "metadata": {},
   "outputs": [],
   "source": [
    "\n",
    "#plt.figure(figsize=(8,10))\n",
    "\n",
    "#sns.heatmap(En_values_weighted, vmax=2, vmin=1,annot=True,yticklabels=PTB_separated_by_freq.keys(),xticklabels=[\"Magnitude\",\"Phase\"] )\n",
    "#plt.title(\"En values\")\n",
    "#plt.ylabel(\"Frequency in Hz\")\n",
    "#plt.show()\n",
    "\n",
    "#magnitudes at low freq - bad SNR "
   ]
  },
  {
   "cell_type": "markdown",
   "metadata": {},
   "source": [
    "The En values are significantly lower for the magnitude values than for the Case Study 1 (further remarks on case studies are in Conclusion), but still above the set criteria. Phase values obtain better En values, where the condition is not met on higher frequencies,or more precisely, on 125.0 hertz, 200. 0 hertz and 250.0 hertz."
   ]
  },
  {
   "cell_type": "markdown",
   "metadata": {},
   "source": [
    "## 5.3 F-test"
   ]
  },
  {
   "cell_type": "markdown",
   "metadata": {},
   "source": [
    "A Statistical F Test uses an F Statistic to compare two variances, s1 and s2, by dividing them. The result is always a positive number (because variances are always positive). The equation for comparing two variances with the F-test is:\n",
    "\n",
    "$$ F = \\frac {{s_{1}}^{2}}{{s_{2}}^{2}}$$\n",
    "\n",
    "The population variances are equal when running an F Test. Therefore, the null hypothesis will always be that the variances are equal.\n",
    "\n",
    "<br>The null hypothesis H0: ${s_{1}}^{2} = {s_{2}}^{2}$\n",
    "<br>The research hypothesis H1: ${s_{1}}^{2} != {s_{2}}^{2}$,\n",
    "\n",
    "where s1 and s2 correspond to the weighted standard errors calculated for each quantity (Magnitude, Phase and Excitation amplitude) at each frequency.\n",
    "\n",
    "<br>Several assumptions are made for the test: \n",
    "<br>1) The population must be approximately normally distributed (i.e. fit the shape of a bell curve) in order to use the test. \n",
    "<br>2) The samples must be independent events. \n",
    "<br>3) The larger variance should always go in the numerator to force the test into a right-tailed test. Right-tailed tests are easier to calculate. **Because of this, sometimes the index 1 corresponds to PTB and sometimes to CEM.**\n",
    "<br>For this two-tailed test, the level of significance, $\\alpha$ = 5% is divided  by 2 before finding the right critical value.\n",
    "Degrees of freedom are ESS-1 for both laboratories.\n",
    "\n",
    "The calculated F-value is then compared to the critical F value. If F>Fcrit, and, additionally, p-value<$\\alpha$, the null hypothesis can be rejected."
   ]
  },
  {
   "cell_type": "code",
   "execution_count": 44,
   "metadata": {},
   "outputs": [
    {
     "name": "stdout",
     "output_type": "stream",
     "text": [
      "[[-6.59987348e-08 -1.55451215e-07]\n",
      " [-3.56027114e-07 -4.77165673e-07]\n",
      " [-2.91089459e-07 -3.08088546e-07]]\n"
     ]
    }
   ],
   "source": [
    "Fval=np.empty((weighted_values_PTB.shape[0],2))\n",
    "differences=np.empty((weighted_values_PTB.shape[0],2))\n",
    "differences[:,0]=weighted_values_CEM[column_names_list2[1]]**2-weighted_values_PTB[column_names_list2[1]]**2\n",
    "differences[:,1]=weighted_values_CEM[column_names_list2[3]]**2-weighted_values_PTB[column_names_list2[3]]**2\n",
    "\n",
    "print (differences[:3]) # some st. deviations in phase are higher for PTB - it shall go to numerator"
   ]
  },
  {
   "cell_type": "code",
   "execution_count": 45,
   "metadata": {},
   "outputs": [],
   "source": [
    "Fval[:,0]= (weighted_values_CEM[column_names_list2[1]].values**2)/(weighted_values_PTB[column_names_list2[1]].values**2)\n",
    "\n",
    "Fval[:1,1]=(weighted_values_CEM[column_names_list2[3]].values[:1]**2)/(weighted_values_PTB[column_names_list2[3]].values[:1]**2)\n",
    "Fval[2:7,1]=(weighted_values_PTB[column_names_list2[3]].values[2:7]**2)/(weighted_values_CEM[column_names_list2[3]].values[2:7]**2)\n",
    "Fval[7:,1]=(weighted_values_CEM[column_names_list2[3]].values[7:]**2)/(weighted_values_PTB[column_names_list2[3]].values[7:]**2)"
   ]
  },
  {
   "cell_type": "code",
   "execution_count": 46,
   "metadata": {},
   "outputs": [],
   "source": [
    "p_val=np.empty((Fval.shape))\n",
    "Fcrit=np.empty((Fval.shape))\n",
    "\n",
    "Fcrit[:,0]=scipy.stats.f.ppf(q=1-0.025, dfn=effective_sample_size_CEM[:,0]-1, dfd=effective_sample_size_PTB[:,0]-1)\n",
    "p_val[:,0]=scipy.stats.f.sf(Fval[:,0],effective_sample_size_CEM[:,0]-1,effective_sample_size_PTB[:,0]-1)\n",
    "\n",
    "Fcrit[:1,1]=scipy.stats.f.ppf(q=1-0.025, dfn=effective_sample_size_CEM[:1,1]-1, dfd=effective_sample_size_PTB[:1,1]-1)\n",
    "p_val[:1,1]=scipy.stats.f.sf(Fval[:1,1],effective_sample_size_CEM[:1,1]-1,effective_sample_size_PTB[:1,1]-1)\n",
    "\n",
    "Fcrit[2:7,1]=scipy.stats.f.ppf(q=1-0.025, dfn=effective_sample_size_PTB[2:7,1]-1, dfd=effective_sample_size_CEM[2:7,1]-1)\n",
    "p_val[2:7,1]=scipy.stats.f.sf(Fval[2:7,1],effective_sample_size_PTB[2:7,1]-1,effective_sample_size_CEM[2:7,1]-1)\n",
    "\n",
    "Fcrit[7:,1]=scipy.stats.f.ppf(q=1-0.025, dfn=effective_sample_size_CEM[7:,1]-1, dfd=effective_sample_size_PTB[7:,1]-1)\n",
    "p_val[7:,1]=scipy.stats.f.sf(Fval[7:,1],effective_sample_size_CEM[7:,1]-1,effective_sample_size_PTB[7:,1]-1)"
   ]
  },
  {
   "cell_type": "code",
   "execution_count": 47,
   "metadata": {},
   "outputs": [],
   "source": [
    "F_differences=pd.DataFrame(Fval-Fcrit,columns=['Magnitude', \"Phase\"],index=[10,12.5,16,20,25,31.5,40,46.7,50,53.3,63,80,100,125,160,200,250])\n",
    "p_val=pd.DataFrame(p_val,columns=['Magnitude', \"Phase\"],index=[10,12.5,16,20,25,31.5,40,46.7,50,53.3,63,80,100,125,160,200,250])"
   ]
  },
  {
   "cell_type": "code",
   "execution_count": 48,
   "metadata": {},
   "outputs": [],
   "source": [
    "def highlight_max(s):\n",
    "    '''\n",
    "    highlight the maximum in a Series yellow.\n",
    "    '''\n",
    "    is_max = s > 0\n",
    "    return ['background-color: yellow' if v else '' for v in is_max]"
   ]
  },
  {
   "cell_type": "code",
   "execution_count": 49,
   "metadata": {},
   "outputs": [
    {
     "data": {
      "application/vnd.jupyter.widget-view+json": {
       "model_id": "f54decfaef784820922d908878165d86",
       "version_major": 2,
       "version_minor": 0
      },
      "text/plain": [
       "HBox(children=(Output(), Output()), layout=Layout(display='flex', flex_flow='row', justify_content='space-arou…"
      ]
     },
     "metadata": {},
     "output_type": "display_data"
    }
   ],
   "source": [
    "#create output widgets - optionally\n",
    "widget1 = widgets.Output()\n",
    "widget2 = widgets.Output()\n",
    "\n",
    "with widget1:\n",
    "    display.display(F_differences.style.set_caption('F-Fcrit').apply(highlight_max))\n",
    "with widget2:\n",
    "    display.display(p_val.style.applymap(lambda x: 'background-color : red' if x<0.05 else 'background-color : green').set_caption('p-val'))\n",
    "\n",
    "\n",
    "# add some CSS styles to distribute free space\n",
    "box_layout = Layout(display='flex',\n",
    "                    flex_flow='row',\n",
    "                    justify_content='space-around',\n",
    "                    width='auto'\n",
    "                   )\n",
    "    \n",
    "# create Horisontal Box container\n",
    "hbox = widgets.HBox([widget1, widget2], layout=box_layout)\n",
    "\n",
    "# render hbox\n",
    "hbox"
   ]
  },
  {
   "cell_type": "markdown",
   "metadata": {},
   "source": [
    "The null-hypothesis about equality of the weighted magnitude variances between PTB and CEM can be rejected only at 40.0 Hz and 46.7 Hz.\n",
    "On the other hand, the null-hypothesis about equality of the weighted phase variances between PTB and CEM cannot be reject in a range (12.5 Hz - 31.5 Hz)."
   ]
  },
  {
   "cell_type": "code",
   "execution_count": null,
   "metadata": {},
   "outputs": [],
   "source": []
  },
  {
   "cell_type": "code",
   "execution_count": null,
   "metadata": {},
   "outputs": [],
   "source": []
  },
  {
   "cell_type": "code",
   "execution_count": null,
   "metadata": {},
   "outputs": [],
   "source": []
  },
  {
   "cell_type": "markdown",
   "metadata": {},
   "source": [
    "# References"
   ]
  },
  {
   "cell_type": "markdown",
   "metadata": {},
   "source": [
    "[1] https://www.investopedia.com/terms/c/coefficientofvariation.asp\n",
    "<br>[2] https://en.wikipedia.org/wiki/Weighted_arithmetic_mean\n",
    "<br>[3] https://en.wikipedia.org/wiki/Effective_sample_size\n",
    "<br>[4] https://online.stat.psu.edu/stat500/lesson/10/10.2/10.2.1\n",
    "<br>[5] https://www.marsja.se/levenes-bartletts-test-of-equality-homogeneity-of-variance-in-python/"
   ]
  }
 ],
 "metadata": {
  "kernelspec": {
   "display_name": "Python 3",
   "language": "python",
   "name": "python3"
  },
  "language_info": {
   "codemirror_mode": {
    "name": "ipython",
    "version": 3
   },
   "file_extension": ".py",
   "mimetype": "text/x-python",
   "name": "python",
   "nbconvert_exporter": "python",
   "pygments_lexer": "ipython3",
   "version": "3.7.6"
  }
 },
 "nbformat": 4,
 "nbformat_minor": 4
}
