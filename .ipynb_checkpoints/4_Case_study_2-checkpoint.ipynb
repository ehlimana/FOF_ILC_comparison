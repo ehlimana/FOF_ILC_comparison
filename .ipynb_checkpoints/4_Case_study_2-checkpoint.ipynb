{
 "cells": [
  {
   "cell_type": "code",
   "execution_count": 242,
   "metadata": {},
   "outputs": [],
   "source": [
    "import h5py\n",
    "import numpy as np\n",
    "import pandas as pd\n",
    "import matplotlib.pyplot as plt\n",
    "#import ipympl\n",
    "import scipy.stats\n",
    "import numpy as np\n",
    "import scipy.stats as stats\n",
    "import seaborn as sns\n",
    "from scipy import stats\n",
    "#conda install -c conda-forge miktex in command prompt\n",
    "import seaborn as sns\n",
    "from ipywidgets import widgets, Layout#this is optionally, must be installed \n",
    "from IPython import display#this is optionally\n",
    "from ipywidgets import widgets, Layout\n"
   ]
  },
  {
   "cell_type": "code",
   "execution_count": 243,
   "metadata": {},
   "outputs": [],
   "source": [
    "#FOR LATEX -takes longer to run plots\n",
    "\n",
    "plt.rc('font', family='serif')\n",
    "plt.rcParams['text.latex.preamble'] = [r'\\usepackage{sfmath} \\boldmath']# all text in blots bold\n",
    "#plt.rc('text', usetex=True)# for figure export \n",
    "plt.rc('text', usetex=False)# use tex for image export\n",
    "PLTSCALFACTOR =1.5# change this to scale all plots labels (3 is good for export on 4k screan)\n",
    "SMALL_SIZE = 12 * PLTSCALFACTOR\n",
    "MEDIUM_SIZE = 15 * PLTSCALFACTOR\n",
    "BIGGER_SIZE = 18 * PLTSCALFACTOR\n",
    "\n",
    "plt.rc(\"font\", size=SMALL_SIZE)  # controls default text sizes\n",
    "plt.rc(\"axes\", titlesize=SMALL_SIZE)  # fontsize of the axes title\n",
    "plt.rc(\"axes\", labelsize=MEDIUM_SIZE)  # fontsize of the x and y labels\n",
    "plt.rc(\"xtick\", labelsize=SMALL_SIZE)  # fontsize of the tick labels\n",
    "plt.rc(\"ytick\", labelsize=SMALL_SIZE)  # fontsize of the tick labels\n",
    "plt.rc(\"legend\", fontsize=SMALL_SIZE)  # legend fontsize\n",
    "plt.rc(\"figure\", titlesize=BIGGER_SIZE)  # fontsize of the figure title\n",
    "plt.rcParams['lines.linewidth'] = PLTSCALFACTOR"
   ]
  },
  {
   "cell_type": "markdown",
   "metadata": {},
   "source": [
    "# 2.Extract the data"
   ]
  },
  {
   "cell_type": "markdown",
   "metadata": {},
   "source": [
    "Data for ILC comparison is extracted from the HDF5 files separately for PTB and CEM. The extracted data will be sorted by frequency at the end of the Notebook and saved into Excel file."
   ]
  },
  {
   "cell_type": "code",
   "execution_count": 244,
   "metadata": {},
   "outputs": [],
   "source": [
    "def extract_data(filename, sensor_ID):\n",
    "    #explore the HDF5 file, folders and subfolders\n",
    "    with h5py.File(filename,'r') as f:\n",
    "        base_items=list(f.items())\n",
    "        print(\"\\nItems in directory\", base_items)\n",
    "        rawtransfer=f.get(\"RAWTRANSFERFUNCTION\")\n",
    "        rawtransfer_items=list(rawtransfer.items())\n",
    "        print(\"\\nItems in reference\", rawtransfer_items)\n",
    "        subgroup=rawtransfer.get(\"/RAWTRANSFERFUNCTION/\"+sensor_ID)\n",
    "        subgroup_items=list(subgroup.items())\n",
    "        print(\"\\n\"+sensor_ID+\"items:\",subgroup_items)\n",
    "        subgroup_acceleration=subgroup.get(\"/RAWTRANSFERFUNCTION/\"+sensor_ID+\"/Acceleration\")\n",
    "        subgroup_acceleration_items=list(subgroup_acceleration.items())\n",
    "        print(\"\\nAcceleration items:\",subgroup_acceleration_items)\n",
    "        subgroup_acceleration_5mem=subgroup.get(\"/RAWTRANSFERFUNCTION/\"+sensor_ID+\"/Acceleration/Acceleration\")\n",
    "        subgroup_acceleration_5mem_items=list(subgroup_acceleration_5mem.items())\n",
    "        print(\"\\nAcceleration items_5members:\", subgroup_acceleration_5mem_items)\n",
    "        frequency=subgroup_acceleration_5mem.get(\"/RAWTRANSFERFUNCTION/\"+sensor_ID+\"/Acceleration/Acceleration/Excitation_frequency\")\n",
    "        frequency_items=list(frequency.items())\n",
    "        print(\"\\nFrequency\", frequency_items)\n",
    "        magnitude=subgroup_acceleration_5mem.get(\"/RAWTRANSFERFUNCTION/\"+sensor_ID+\"/Acceleration/Acceleration/Magnitude\")\n",
    "        magnitude_items=list(magnitude.items())\n",
    "        print(\"\\nMagnitude\", magnitude_items)\n",
    "        phase=subgroup_acceleration_5mem.get(\"/RAWTRANSFERFUNCTION/\"+sensor_ID+\"/Acceleration/Acceleration/Phase\")\n",
    "        phase_items=list(magnitude.items())\n",
    "        print(\"\\nPhase\", phase_items)\n",
    "        \n",
    "        \n",
    "        #extract frequencies, magnitude, phase, uncertainties and all excitation parameters\n",
    "        frequency_values=np.array(frequency.get(\"value\"))\n",
    "        magnitude_values=np.array(magnitude.get(\"value\"))\n",
    "        magnitude_uncertainties=np.array(magnitude.get(\"uncertainty\"))\n",
    "        phase_values=np.array(phase.get(\"value\"))\n",
    "        phase_uncertainties=np.array(phase.get(\"uncertainty\"))\n",
    "        excitation_freq_items=subgroup_acceleration_5mem.get(\"/RAWTRANSFERFUNCTION/\"+sensor_ID+\"/Acceleration/Acceleration/Excitation_frequency\")\n",
    "        excitation_freq=np.array(excitation_freq_items.get(\"value\"))\n",
    "        excitation_amp_items=subgroup_acceleration_5mem.get(\"/RAWTRANSFERFUNCTION/\"+sensor_ID+\"/Acceleration/Acceleration/Excitation_amplitude\")\n",
    "        excitation_amp=np.array(excitation_amp_items.get(\"value\"))\n",
    "        excitation_amp_uncertainty=np.array(excitation_amp_items.get(\"uncertainty\"))\n",
    "        \n",
    "        #join all necessary data in 2D array\n",
    "        total_array=np.stack((frequency_values,magnitude_values,magnitude_uncertainties,phase_values, phase_uncertainties,excitation_freq,excitation_amp,excitation_amp_uncertainty), axis=1)\n",
    "        print(\"\\nArray dimensions:\", total_array.shape)\n",
    "        column_names=[\"Frequency in Hz\", r\"$|S(\\omega)|$ in $ \\frac{\\mathrm{m s}^-2}{\\mathrm{m s}^-2}$\",r\"$U_{|S(\\omega)|}$ in $ \\frac{\\mathrm{m s}^-2}{\\mathrm{m s}^-2}$\", r\"$\\varphi(\\omega)$ in $rad$\", r\"$U_{\\varphi(\\omega)}$ in $rad$\",\"Excitation_freq in Hz\",r\"$A_{excit}$ in $ \\frac{\\mathrm{m s}^-2}{\\mathrm{m s}^-2}$\",r\"$U_{Aexcit}$ in $ \\frac{\\mathrm{m s}^-2}{\\mathrm{m s}^-2}$\"]\n",
    "        whole_dataset=pd.DataFrame(total_array, columns=column_names)\n",
    "        f.close()\n",
    "        \n",
    "        \n",
    "        return whole_dataset\n",
    "    "
   ]
  },
  {
   "cell_type": "code",
   "execution_count": 245,
   "metadata": {},
   "outputs": [
    {
     "name": "stdout",
     "output_type": "stream",
     "text": [
      "\n",
      "Items in directory [('EXPERIMENTS', <HDF5 group \"/EXPERIMENTS\" (1 members)>), ('RAWDATA', <HDF5 group \"/RAWDATA\" (2 members)>), ('RAWTRANSFERFUNCTION', <HDF5 group \"/RAWTRANSFERFUNCTION\" (1 members)>), ('REFERENCEDATA', <HDF5 group \"/REFERENCEDATA\" (2 members)>)]\n",
      "\n",
      "Items in reference [('0x1fe40000_MPU_9250', <HDF5 group \"/RAWTRANSFERFUNCTION/0x1fe40000_MPU_9250\" (1 members)>)]\n",
      "\n",
      "0x1fe40000_MPU_9250items: [('Acceleration', <HDF5 group \"/RAWTRANSFERFUNCTION/0x1fe40000_MPU_9250/Acceleration\" (1 members)>)]\n",
      "\n",
      "Acceleration items: [('Acceleration', <HDF5 group \"/RAWTRANSFERFUNCTION/0x1fe40000_MPU_9250/Acceleration/Acceleration\" (11 members)>)]\n",
      "\n",
      "Acceleration items_5members: [('DUT_Phase', <HDF5 group \"/RAWTRANSFERFUNCTION/0x1fe40000_MPU_9250/Acceleration/Acceleration/DUT_Phase\" (2 members)>), ('DUT_SNYNC_Phase', <HDF5 group \"/RAWTRANSFERFUNCTION/0x1fe40000_MPU_9250/Acceleration/Acceleration/DUT_SNYNC_Phase\" (2 members)>), ('DUT_amplitude', <HDF5 group \"/RAWTRANSFERFUNCTION/0x1fe40000_MPU_9250/Acceleration/Acceleration/DUT_amplitude\" (2 members)>), ('Delta_DUTSNYC_Phase', <HDF5 group \"/RAWTRANSFERFUNCTION/0x1fe40000_MPU_9250/Acceleration/Acceleration/Delta_DUTSNYC_Phase\" (2 members)>), ('Excitation_amplitude', <HDF5 group \"/RAWTRANSFERFUNCTION/0x1fe40000_MPU_9250/Acceleration/Acceleration/Excitation_amplitude\" (2 members)>), ('Excitation_frequency', <HDF5 group \"/RAWTRANSFERFUNCTION/0x1fe40000_MPU_9250/Acceleration/Acceleration/Excitation_frequency\" (2 members)>), ('Frequency', <HDF5 group \"/RAWTRANSFERFUNCTION/0x1fe40000_MPU_9250/Acceleration/Acceleration/Frequency\" (2 members)>), ('Magnitude', <HDF5 group \"/RAWTRANSFERFUNCTION/0x1fe40000_MPU_9250/Acceleration/Acceleration/Magnitude\" (2 members)>), ('Phase', <HDF5 group \"/RAWTRANSFERFUNCTION/0x1fe40000_MPU_9250/Acceleration/Acceleration/Phase\" (2 members)>), ('REF_Phase', <HDF5 group \"/RAWTRANSFERFUNCTION/0x1fe40000_MPU_9250/Acceleration/Acceleration/REF_Phase\" (2 members)>), ('SSU_ADC_Phase', <HDF5 group \"/RAWTRANSFERFUNCTION/0x1fe40000_MPU_9250/Acceleration/Acceleration/SSU_ADC_Phase\" (2 members)>)]\n",
      "\n",
      "Frequency [('uncertainty', <HDF5 dataset \"uncertainty\": shape (170,), type \"<f8\">), ('value', <HDF5 dataset \"value\": shape (170,), type \"<f8\">)]\n",
      "\n",
      "Magnitude [('uncertainty', <HDF5 dataset \"uncertainty\": shape (170,), type \"<f8\">), ('value', <HDF5 dataset \"value\": shape (170,), type \"<f8\">)]\n",
      "\n",
      "Phase [('uncertainty', <HDF5 dataset \"uncertainty\": shape (170,), type \"<f8\">), ('value', <HDF5 dataset \"value\": shape (170,), type \"<f8\">)]\n",
      "\n",
      "Array dimensions: (170, 8)\n"
     ]
    }
   ],
   "source": [
    "whole_dataset_PTB = extract_data('MPU9250PTB_v5.hdf5',\"0x1fe40000_MPU_9250\")"
   ]
  },
  {
   "cell_type": "code",
   "execution_count": 246,
   "metadata": {},
   "outputs": [
    {
     "data": {
      "text/html": [
       "<div>\n",
       "<style scoped>\n",
       "    .dataframe tbody tr th:only-of-type {\n",
       "        vertical-align: middle;\n",
       "    }\n",
       "\n",
       "    .dataframe tbody tr th {\n",
       "        vertical-align: top;\n",
       "    }\n",
       "\n",
       "    .dataframe thead th {\n",
       "        text-align: right;\n",
       "    }\n",
       "</style>\n",
       "<table border=\"1\" class=\"dataframe\">\n",
       "  <thead>\n",
       "    <tr style=\"text-align: right;\">\n",
       "      <th></th>\n",
       "      <th>Frequency in Hz</th>\n",
       "      <th>$|S(\\omega)|$ in $ \\frac{\\mathrm{m s}^-2}{\\mathrm{m s}^-2}$</th>\n",
       "      <th>$U_{|S(\\omega)|}$ in $ \\frac{\\mathrm{m s}^-2}{\\mathrm{m s}^-2}$</th>\n",
       "      <th>$\\varphi(\\omega)$ in $rad$</th>\n",
       "      <th>$U_{\\varphi(\\omega)}$ in $rad$</th>\n",
       "      <th>Excitation_freq in Hz</th>\n",
       "      <th>$A_{excit}$ in $ \\frac{\\mathrm{m s}^-2}{\\mathrm{m s}^-2}$</th>\n",
       "      <th>$U_{Aexcit}$ in $ \\frac{\\mathrm{m s}^-2}{\\mathrm{m s}^-2}$</th>\n",
       "    </tr>\n",
       "  </thead>\n",
       "  <tbody>\n",
       "    <tr>\n",
       "      <th>0</th>\n",
       "      <td>10.0</td>\n",
       "      <td>1.019554</td>\n",
       "      <td>0.003273</td>\n",
       "      <td>-0.094684</td>\n",
       "      <td>0.003022</td>\n",
       "      <td>10.0</td>\n",
       "      <td>2.739</td>\n",
       "      <td>0.004891</td>\n",
       "    </tr>\n",
       "    <tr>\n",
       "      <th>1</th>\n",
       "      <td>12.5</td>\n",
       "      <td>1.019093</td>\n",
       "      <td>0.004047</td>\n",
       "      <td>-0.118820</td>\n",
       "      <td>0.006455</td>\n",
       "      <td>12.5</td>\n",
       "      <td>2.744</td>\n",
       "      <td>0.007312</td>\n",
       "    </tr>\n",
       "  </tbody>\n",
       "</table>\n",
       "</div>"
      ],
      "text/plain": [
       "   Frequency in Hz  \\\n",
       "0             10.0   \n",
       "1             12.5   \n",
       "\n",
       "   $|S(\\omega)|$ in $ \\frac{\\mathrm{m s}^-2}{\\mathrm{m s}^-2}$  \\\n",
       "0                                           1.019554             \n",
       "1                                           1.019093             \n",
       "\n",
       "   $U_{|S(\\omega)|}$ in $ \\frac{\\mathrm{m s}^-2}{\\mathrm{m s}^-2}$  \\\n",
       "0                                           0.003273                 \n",
       "1                                           0.004047                 \n",
       "\n",
       "   $\\varphi(\\omega)$ in $rad$  $U_{\\varphi(\\omega)}$ in $rad$  \\\n",
       "0                   -0.094684                        0.003022   \n",
       "1                   -0.118820                        0.006455   \n",
       "\n",
       "   Excitation_freq in Hz  \\\n",
       "0                   10.0   \n",
       "1                   12.5   \n",
       "\n",
       "   $A_{excit}$ in $ \\frac{\\mathrm{m s}^-2}{\\mathrm{m s}^-2}$  \\\n",
       "0                                              2.739           \n",
       "1                                              2.744           \n",
       "\n",
       "   $U_{Aexcit}$ in $ \\frac{\\mathrm{m s}^-2}{\\mathrm{m s}^-2}$  \n",
       "0                                           0.004891           \n",
       "1                                           0.007312           "
      ]
     },
     "execution_count": 246,
     "metadata": {},
     "output_type": "execute_result"
    }
   ],
   "source": [
    "whole_dataset_PTB.head(2)"
   ]
  },
  {
   "cell_type": "markdown",
   "metadata": {},
   "source": [
    "Phase data for PTB must be reverted:"
   ]
  },
  {
   "cell_type": "code",
   "execution_count": 247,
   "metadata": {},
   "outputs": [],
   "source": [
    "whole_dataset_PTB[[r\"$\\varphi(\\omega)$ in $rad$\"]] = whole_dataset_PTB[[r\"$\\varphi(\\omega)$ in $rad$\"]]"
   ]
  },
  {
   "cell_type": "code",
   "execution_count": 248,
   "metadata": {},
   "outputs": [
    {
     "data": {
      "text/html": [
       "<div>\n",
       "<style scoped>\n",
       "    .dataframe tbody tr th:only-of-type {\n",
       "        vertical-align: middle;\n",
       "    }\n",
       "\n",
       "    .dataframe tbody tr th {\n",
       "        vertical-align: top;\n",
       "    }\n",
       "\n",
       "    .dataframe thead th {\n",
       "        text-align: right;\n",
       "    }\n",
       "</style>\n",
       "<table border=\"1\" class=\"dataframe\">\n",
       "  <thead>\n",
       "    <tr style=\"text-align: right;\">\n",
       "      <th></th>\n",
       "      <th>Frequency in Hz</th>\n",
       "      <th>$|S(\\omega)|$ in $ \\frac{\\mathrm{m s}^-2}{\\mathrm{m s}^-2}$</th>\n",
       "      <th>$U_{|S(\\omega)|}$ in $ \\frac{\\mathrm{m s}^-2}{\\mathrm{m s}^-2}$</th>\n",
       "      <th>$\\varphi(\\omega)$ in $rad$</th>\n",
       "      <th>$U_{\\varphi(\\omega)}$ in $rad$</th>\n",
       "      <th>Excitation_freq in Hz</th>\n",
       "      <th>$A_{excit}$ in $ \\frac{\\mathrm{m s}^-2}{\\mathrm{m s}^-2}$</th>\n",
       "      <th>$U_{Aexcit}$ in $ \\frac{\\mathrm{m s}^-2}{\\mathrm{m s}^-2}$</th>\n",
       "    </tr>\n",
       "  </thead>\n",
       "  <tbody>\n",
       "    <tr>\n",
       "      <th>0</th>\n",
       "      <td>10.0</td>\n",
       "      <td>1.019554</td>\n",
       "      <td>0.003273</td>\n",
       "      <td>-0.094684</td>\n",
       "      <td>0.003022</td>\n",
       "      <td>10.0</td>\n",
       "      <td>2.739</td>\n",
       "      <td>0.004891</td>\n",
       "    </tr>\n",
       "    <tr>\n",
       "      <th>1</th>\n",
       "      <td>12.5</td>\n",
       "      <td>1.019093</td>\n",
       "      <td>0.004047</td>\n",
       "      <td>-0.118820</td>\n",
       "      <td>0.006455</td>\n",
       "      <td>12.5</td>\n",
       "      <td>2.744</td>\n",
       "      <td>0.007312</td>\n",
       "    </tr>\n",
       "  </tbody>\n",
       "</table>\n",
       "</div>"
      ],
      "text/plain": [
       "   Frequency in Hz  \\\n",
       "0             10.0   \n",
       "1             12.5   \n",
       "\n",
       "   $|S(\\omega)|$ in $ \\frac{\\mathrm{m s}^-2}{\\mathrm{m s}^-2}$  \\\n",
       "0                                           1.019554             \n",
       "1                                           1.019093             \n",
       "\n",
       "   $U_{|S(\\omega)|}$ in $ \\frac{\\mathrm{m s}^-2}{\\mathrm{m s}^-2}$  \\\n",
       "0                                           0.003273                 \n",
       "1                                           0.004047                 \n",
       "\n",
       "   $\\varphi(\\omega)$ in $rad$  $U_{\\varphi(\\omega)}$ in $rad$  \\\n",
       "0                   -0.094684                        0.003022   \n",
       "1                   -0.118820                        0.006455   \n",
       "\n",
       "   Excitation_freq in Hz  \\\n",
       "0                   10.0   \n",
       "1                   12.5   \n",
       "\n",
       "   $A_{excit}$ in $ \\frac{\\mathrm{m s}^-2}{\\mathrm{m s}^-2}$  \\\n",
       "0                                              2.739           \n",
       "1                                              2.744           \n",
       "\n",
       "   $U_{Aexcit}$ in $ \\frac{\\mathrm{m s}^-2}{\\mathrm{m s}^-2}$  \n",
       "0                                           0.004891           \n",
       "1                                           0.007312           "
      ]
     },
     "execution_count": 248,
     "metadata": {},
     "output_type": "execute_result"
    }
   ],
   "source": [
    "whole_dataset_PTB.head(2)"
   ]
  },
  {
   "cell_type": "code",
   "execution_count": 249,
   "metadata": {},
   "outputs": [
    {
     "name": "stdout",
     "output_type": "stream",
     "text": [
      "\n",
      "Items in directory [('EXPERIMENTS', <HDF5 group \"/EXPERIMENTS\" (1 members)>), ('RAWDATA', <HDF5 group \"/RAWDATA\" (2 members)>), ('RAWTRANSFERFUNCTION', <HDF5 group \"/RAWTRANSFERFUNCTION\" (1 members)>), ('REFERENCEDATA', <HDF5 group \"/REFERENCEDATA\" (2 members)>)]\n",
      "\n",
      "Items in reference [('0xbccb0000_MPU_9250', <HDF5 group \"/RAWTRANSFERFUNCTION/0xbccb0000_MPU_9250\" (1 members)>)]\n",
      "\n",
      "0xbccb0000_MPU_9250items: [('Acceleration', <HDF5 group \"/RAWTRANSFERFUNCTION/0xbccb0000_MPU_9250/Acceleration\" (1 members)>)]\n",
      "\n",
      "Acceleration items: [('Acceleration', <HDF5 group \"/RAWTRANSFERFUNCTION/0xbccb0000_MPU_9250/Acceleration/Acceleration\" (11 members)>)]\n",
      "\n",
      "Acceleration items_5members: [('DUT_Phase', <HDF5 group \"/RAWTRANSFERFUNCTION/0xbccb0000_MPU_9250/Acceleration/Acceleration/DUT_Phase\" (2 members)>), ('DUT_SNYNC_Phase', <HDF5 group \"/RAWTRANSFERFUNCTION/0xbccb0000_MPU_9250/Acceleration/Acceleration/DUT_SNYNC_Phase\" (2 members)>), ('DUT_amplitude', <HDF5 group \"/RAWTRANSFERFUNCTION/0xbccb0000_MPU_9250/Acceleration/Acceleration/DUT_amplitude\" (2 members)>), ('Delta_DUTSNYC_Phase', <HDF5 group \"/RAWTRANSFERFUNCTION/0xbccb0000_MPU_9250/Acceleration/Acceleration/Delta_DUTSNYC_Phase\" (2 members)>), ('Excitation_amplitude', <HDF5 group \"/RAWTRANSFERFUNCTION/0xbccb0000_MPU_9250/Acceleration/Acceleration/Excitation_amplitude\" (2 members)>), ('Excitation_frequency', <HDF5 group \"/RAWTRANSFERFUNCTION/0xbccb0000_MPU_9250/Acceleration/Acceleration/Excitation_frequency\" (2 members)>), ('Frequency', <HDF5 group \"/RAWTRANSFERFUNCTION/0xbccb0000_MPU_9250/Acceleration/Acceleration/Frequency\" (2 members)>), ('Magnitude', <HDF5 group \"/RAWTRANSFERFUNCTION/0xbccb0000_MPU_9250/Acceleration/Acceleration/Magnitude\" (2 members)>), ('Phase', <HDF5 group \"/RAWTRANSFERFUNCTION/0xbccb0000_MPU_9250/Acceleration/Acceleration/Phase\" (2 members)>), ('REF_Phase', <HDF5 group \"/RAWTRANSFERFUNCTION/0xbccb0000_MPU_9250/Acceleration/Acceleration/REF_Phase\" (2 members)>), ('SSU_ADC_Phase', <HDF5 group \"/RAWTRANSFERFUNCTION/0xbccb0000_MPU_9250/Acceleration/Acceleration/SSU_ADC_Phase\" (2 members)>)]\n",
      "\n",
      "Frequency [('uncertainty', <HDF5 dataset \"uncertainty\": shape (171,), type \"<f8\">), ('value', <HDF5 dataset \"value\": shape (171,), type \"<f8\">)]\n",
      "\n",
      "Magnitude [('uncertainty', <HDF5 dataset \"uncertainty\": shape (171,), type \"<f8\">), ('value', <HDF5 dataset \"value\": shape (171,), type \"<f8\">)]\n",
      "\n",
      "Phase [('uncertainty', <HDF5 dataset \"uncertainty\": shape (171,), type \"<f8\">), ('value', <HDF5 dataset \"value\": shape (171,), type \"<f8\">)]\n",
      "\n",
      "Array dimensions: (171, 8)\n"
     ]
    }
   ],
   "source": [
    "whole_dataset_CEM = extract_data('MPU9250CEM_v5.hdf5',\"0xbccb0000_MPU_9250\")"
   ]
  },
  {
   "cell_type": "code",
   "execution_count": 250,
   "metadata": {},
   "outputs": [
    {
     "data": {
      "text/html": [
       "<div>\n",
       "<style scoped>\n",
       "    .dataframe tbody tr th:only-of-type {\n",
       "        vertical-align: middle;\n",
       "    }\n",
       "\n",
       "    .dataframe tbody tr th {\n",
       "        vertical-align: top;\n",
       "    }\n",
       "\n",
       "    .dataframe thead th {\n",
       "        text-align: right;\n",
       "    }\n",
       "</style>\n",
       "<table border=\"1\" class=\"dataframe\">\n",
       "  <thead>\n",
       "    <tr style=\"text-align: right;\">\n",
       "      <th></th>\n",
       "      <th>Frequency in Hz</th>\n",
       "      <th>$|S(\\omega)|$ in $ \\frac{\\mathrm{m s}^-2}{\\mathrm{m s}^-2}$</th>\n",
       "      <th>$U_{|S(\\omega)|}$ in $ \\frac{\\mathrm{m s}^-2}{\\mathrm{m s}^-2}$</th>\n",
       "      <th>$\\varphi(\\omega)$ in $rad$</th>\n",
       "      <th>$U_{\\varphi(\\omega)}$ in $rad$</th>\n",
       "      <th>Excitation_freq in Hz</th>\n",
       "      <th>$A_{excit}$ in $ \\frac{\\mathrm{m s}^-2}{\\mathrm{m s}^-2}$</th>\n",
       "      <th>$U_{Aexcit}$ in $ \\frac{\\mathrm{m s}^-2}{\\mathrm{m s}^-2}$</th>\n",
       "    </tr>\n",
       "  </thead>\n",
       "  <tbody>\n",
       "    <tr>\n",
       "      <th>0</th>\n",
       "      <td>80.0</td>\n",
       "      <td>NaN</td>\n",
       "      <td>NaN</td>\n",
       "      <td>NaN</td>\n",
       "      <td>NaN</td>\n",
       "      <td>80.0</td>\n",
       "      <td>NaN</td>\n",
       "      <td>NaN</td>\n",
       "    </tr>\n",
       "    <tr>\n",
       "      <th>1</th>\n",
       "      <td>250.0</td>\n",
       "      <td>0.643003</td>\n",
       "      <td>0.000891</td>\n",
       "      <td>-2.375412</td>\n",
       "      <td>0.002897</td>\n",
       "      <td>250.0</td>\n",
       "      <td>126.497513</td>\n",
       "      <td>0.125687</td>\n",
       "    </tr>\n",
       "  </tbody>\n",
       "</table>\n",
       "</div>"
      ],
      "text/plain": [
       "   Frequency in Hz  \\\n",
       "0             80.0   \n",
       "1            250.0   \n",
       "\n",
       "   $|S(\\omega)|$ in $ \\frac{\\mathrm{m s}^-2}{\\mathrm{m s}^-2}$  \\\n",
       "0                                                NaN             \n",
       "1                                           0.643003             \n",
       "\n",
       "   $U_{|S(\\omega)|}$ in $ \\frac{\\mathrm{m s}^-2}{\\mathrm{m s}^-2}$  \\\n",
       "0                                                NaN                 \n",
       "1                                           0.000891                 \n",
       "\n",
       "   $\\varphi(\\omega)$ in $rad$  $U_{\\varphi(\\omega)}$ in $rad$  \\\n",
       "0                         NaN                             NaN   \n",
       "1                   -2.375412                        0.002897   \n",
       "\n",
       "   Excitation_freq in Hz  \\\n",
       "0                   80.0   \n",
       "1                  250.0   \n",
       "\n",
       "   $A_{excit}$ in $ \\frac{\\mathrm{m s}^-2}{\\mathrm{m s}^-2}$  \\\n",
       "0                                                NaN           \n",
       "1                                         126.497513           \n",
       "\n",
       "   $U_{Aexcit}$ in $ \\frac{\\mathrm{m s}^-2}{\\mathrm{m s}^-2}$  \n",
       "0                                                NaN           \n",
       "1                                           0.125687           "
      ]
     },
     "execution_count": 250,
     "metadata": {},
     "output_type": "execute_result"
    }
   ],
   "source": [
    "whole_dataset_CEM[[r\"$\\varphi(\\omega)$ in $rad$\"]] = whole_dataset_CEM[[r\"$\\varphi(\\omega)$ in $rad$\"]]-np.pi\n",
    "whole_dataset_CEM.head(2)"
   ]
  },
  {
   "cell_type": "markdown",
   "metadata": {},
   "source": [
    "# 3.Data analysis"
   ]
  },
  {
   "cell_type": "markdown",
   "metadata": {},
   "source": [
    "Cycles in CEM's dataset start with 80.0 Hz and 250.0 Hz instead of 10.0 Hz. These starting points are deleted in order to compare the cycles in a range from 10.0 Hz and 250.Hz."
   ]
  },
  {
   "cell_type": "code",
   "execution_count": 251,
   "metadata": {},
   "outputs": [],
   "source": [
    "delete_rows=[]\n",
    "\n",
    "for k in range(0,171,19):\n",
    "    i=k\n",
    "    j=k+1\n",
    "    delete_rows.append(i)\n",
    "    delete_rows.append(j)\n",
    "whole_dataset_CEM_new=whole_dataset_CEM.drop(axis=0,index=delete_rows)"
   ]
  },
  {
   "cell_type": "code",
   "execution_count": 252,
   "metadata": {},
   "outputs": [],
   "source": [
    "def split_data_by_frequencies(dataset):\n",
    "    dict_of_frequencies=dict(iter(dataset.groupby('Frequency in Hz')))\n",
    "    return dict_of_frequencies\n",
    "    #list_of_frequencies=np.array([10,12.5,16,20,25,31.5,40,46.7,50,53.3,63,80,100,125,160,200,250])"
   ]
  },
  {
   "cell_type": "code",
   "execution_count": 253,
   "metadata": {},
   "outputs": [
    {
     "name": "stdout",
     "output_type": "stream",
     "text": [
      "Frequencies - PTB: dict_keys([10.0, 12.5, 16.0, 20.0, 25.0, 31.5, 40.0, 46.7, 50.0, 53.3, 63.0, 80.0, 100.0, 125.0, 160.0, 200.0, 250.0])\n",
      "Frequencies - CEM: dict_keys([10.0, 12.5, 16.0, 20.0, 25.0, 31.5, 40.0, 46.7, 50.0, 53.3, 63.0, 80.0, 100.0, 125.0, 160.0, 200.0, 250.0])\n"
     ]
    }
   ],
   "source": [
    "#check if all frequencies are the same\n",
    "PTB_separated_by_freq=split_data_by_frequencies(whole_dataset_PTB)\n",
    "CEM_separated_by_freq=split_data_by_frequencies(whole_dataset_CEM)\n",
    "CEM_separated_by_freq_new=split_data_by_frequencies(whole_dataset_CEM_new)\n",
    "print(\"Frequencies - PTB:\",PTB_separated_by_freq.keys())\n",
    "print(\"Frequencies - CEM:\",CEM_separated_by_freq.keys())"
   ]
  },
  {
   "cell_type": "code",
   "execution_count": 254,
   "metadata": {},
   "outputs": [
    {
     "data": {
      "text/html": [
       "<div>\n",
       "<style scoped>\n",
       "    .dataframe tbody tr th:only-of-type {\n",
       "        vertical-align: middle;\n",
       "    }\n",
       "\n",
       "    .dataframe tbody tr th {\n",
       "        vertical-align: top;\n",
       "    }\n",
       "\n",
       "    .dataframe thead th {\n",
       "        text-align: right;\n",
       "    }\n",
       "</style>\n",
       "<table border=\"1\" class=\"dataframe\">\n",
       "  <thead>\n",
       "    <tr style=\"text-align: right;\">\n",
       "      <th></th>\n",
       "      <th>Frequency in Hz</th>\n",
       "      <th>$|S(\\omega)|$ in $ \\frac{\\mathrm{m s}^-2}{\\mathrm{m s}^-2}$</th>\n",
       "      <th>$U_{|S(\\omega)|}$ in $ \\frac{\\mathrm{m s}^-2}{\\mathrm{m s}^-2}$</th>\n",
       "      <th>$\\varphi(\\omega)$ in $rad$</th>\n",
       "      <th>$U_{\\varphi(\\omega)}$ in $rad$</th>\n",
       "      <th>Excitation_freq in Hz</th>\n",
       "      <th>$A_{excit}$ in $ \\frac{\\mathrm{m s}^-2}{\\mathrm{m s}^-2}$</th>\n",
       "      <th>$U_{Aexcit}$ in $ \\frac{\\mathrm{m s}^-2}{\\mathrm{m s}^-2}$</th>\n",
       "    </tr>\n",
       "  </thead>\n",
       "  <tbody>\n",
       "    <tr>\n",
       "      <th>0</th>\n",
       "      <td>10.0</td>\n",
       "      <td>1.019554</td>\n",
       "      <td>0.003273</td>\n",
       "      <td>-0.094684</td>\n",
       "      <td>0.003022</td>\n",
       "      <td>10.0</td>\n",
       "      <td>2.739</td>\n",
       "      <td>0.004891</td>\n",
       "    </tr>\n",
       "  </tbody>\n",
       "</table>\n",
       "</div>"
      ],
      "text/plain": [
       "   Frequency in Hz  \\\n",
       "0             10.0   \n",
       "\n",
       "   $|S(\\omega)|$ in $ \\frac{\\mathrm{m s}^-2}{\\mathrm{m s}^-2}$  \\\n",
       "0                                           1.019554             \n",
       "\n",
       "   $U_{|S(\\omega)|}$ in $ \\frac{\\mathrm{m s}^-2}{\\mathrm{m s}^-2}$  \\\n",
       "0                                           0.003273                 \n",
       "\n",
       "   $\\varphi(\\omega)$ in $rad$  $U_{\\varphi(\\omega)}$ in $rad$  \\\n",
       "0                   -0.094684                        0.003022   \n",
       "\n",
       "   Excitation_freq in Hz  \\\n",
       "0                   10.0   \n",
       "\n",
       "   $A_{excit}$ in $ \\frac{\\mathrm{m s}^-2}{\\mathrm{m s}^-2}$  \\\n",
       "0                                              2.739           \n",
       "\n",
       "   $U_{Aexcit}$ in $ \\frac{\\mathrm{m s}^-2}{\\mathrm{m s}^-2}$  \n",
       "0                                           0.004891           "
      ]
     },
     "execution_count": 254,
     "metadata": {},
     "output_type": "execute_result"
    }
   ],
   "source": [
    "PTB_separated_by_freq.get(10).head(1)"
   ]
  },
  {
   "cell_type": "code",
   "execution_count": 255,
   "metadata": {},
   "outputs": [
    {
     "data": {
      "text/html": [
       "<div>\n",
       "<style scoped>\n",
       "    .dataframe tbody tr th:only-of-type {\n",
       "        vertical-align: middle;\n",
       "    }\n",
       "\n",
       "    .dataframe tbody tr th {\n",
       "        vertical-align: top;\n",
       "    }\n",
       "\n",
       "    .dataframe thead th {\n",
       "        text-align: right;\n",
       "    }\n",
       "</style>\n",
       "<table border=\"1\" class=\"dataframe\">\n",
       "  <thead>\n",
       "    <tr style=\"text-align: right;\">\n",
       "      <th></th>\n",
       "      <th>Frequency in Hz</th>\n",
       "      <th>$|S(\\omega)|$ in $ \\frac{\\mathrm{m s}^-2}{\\mathrm{m s}^-2}$</th>\n",
       "      <th>$U_{|S(\\omega)|}$ in $ \\frac{\\mathrm{m s}^-2}{\\mathrm{m s}^-2}$</th>\n",
       "      <th>$\\varphi(\\omega)$ in $rad$</th>\n",
       "      <th>$U_{\\varphi(\\omega)}$ in $rad$</th>\n",
       "      <th>Excitation_freq in Hz</th>\n",
       "      <th>$A_{excit}$ in $ \\frac{\\mathrm{m s}^-2}{\\mathrm{m s}^-2}$</th>\n",
       "      <th>$U_{Aexcit}$ in $ \\frac{\\mathrm{m s}^-2}{\\mathrm{m s}^-2}$</th>\n",
       "    </tr>\n",
       "  </thead>\n",
       "  <tbody>\n",
       "    <tr>\n",
       "      <th>2</th>\n",
       "      <td>10.0</td>\n",
       "      <td>1.016209</td>\n",
       "      <td>0.004893</td>\n",
       "      <td>-0.094907</td>\n",
       "      <td>0.001665</td>\n",
       "      <td>10.0</td>\n",
       "      <td>2.754331</td>\n",
       "      <td>0.00586</td>\n",
       "    </tr>\n",
       "  </tbody>\n",
       "</table>\n",
       "</div>"
      ],
      "text/plain": [
       "   Frequency in Hz  \\\n",
       "2             10.0   \n",
       "\n",
       "   $|S(\\omega)|$ in $ \\frac{\\mathrm{m s}^-2}{\\mathrm{m s}^-2}$  \\\n",
       "2                                           1.016209             \n",
       "\n",
       "   $U_{|S(\\omega)|}$ in $ \\frac{\\mathrm{m s}^-2}{\\mathrm{m s}^-2}$  \\\n",
       "2                                           0.004893                 \n",
       "\n",
       "   $\\varphi(\\omega)$ in $rad$  $U_{\\varphi(\\omega)}$ in $rad$  \\\n",
       "2                   -0.094907                        0.001665   \n",
       "\n",
       "   Excitation_freq in Hz  \\\n",
       "2                   10.0   \n",
       "\n",
       "   $A_{excit}$ in $ \\frac{\\mathrm{m s}^-2}{\\mathrm{m s}^-2}$  \\\n",
       "2                                           2.754331           \n",
       "\n",
       "   $U_{Aexcit}$ in $ \\frac{\\mathrm{m s}^-2}{\\mathrm{m s}^-2}$  \n",
       "2                                            0.00586           "
      ]
     },
     "execution_count": 255,
     "metadata": {},
     "output_type": "execute_result"
    }
   ],
   "source": [
    "CEM_separated_by_freq_new.get(10).head(1)"
   ]
  },
  {
   "cell_type": "code",
   "execution_count": 256,
   "metadata": {},
   "outputs": [],
   "source": [
    "q_names=list(PTB_separated_by_freq.get(10).columns)\n",
    "list_of_freq=[10,12.5,16,20,25,31.5,40,46.7,50,53.3,63,80,100,125,160,200,250]"
   ]
  },
  {
   "cell_type": "code",
   "execution_count": 257,
   "metadata": {},
   "outputs": [],
   "source": [
    "q_names=list(PTB_separated_by_freq.get(10).columns)"
   ]
  },
  {
   "cell_type": "markdown",
   "metadata": {},
   "source": [
    "# 4. En values"
   ]
  },
  {
   "cell_type": "markdown",
   "metadata": {},
   "source": [
    "The En values for Magnitude, Phase and Excitation amplitude have been calculated according to formula on the figure:\n",
    "$$\\frac{|\\bar{x}_{PTB}-\\bar{x}_{CEM}|}{\\sqrt{{U^{2}}_{PTB}+{U^{2}}_{CEM}}}$$\n",
    "\n",
    "\n",
    "\n",
    "<br>$x_{PTB}$ corresponds to the mean value at a specific frequency for  PTB\n",
    "<br>$x_{CEM}$ corresponds to the mean value at a specific frequency for  CEM\n",
    "<br>$U_{PTB}$ corresponds to the expanded measurement uncertainty of the mean value at a specific frequency for  PTB\n",
    "<br>$U_{CEN}$ corresponds to the expanded measurement uncertainty of the mean value at a specific frequency CEM\n",
    "<br>If:<br> |En|<=1.1 - the criteria is satisfied (the original condition is that |En|<=1.0. However, because of the practical reasons, this limit is sometimes enlarged for 10%).\n",
    "<br>|En|>1.1 - the criteria is not satisfied.\n",
    "<br>The order of laboratories is not important because it affects only the sign. That is why an absolute values are taken into account. \n"
   ]
  },
  {
   "cell_type": "markdown",
   "metadata": {},
   "source": [
    "# 5. Case study 2: Calculate En values for estimated weighted values"
   ]
  },
  {
   "cell_type": "markdown",
   "metadata": {},
   "source": [
    "Another approach refers to the weighted mean of a list of data for which each element ${\\ x_{i}}$ potentially comes from a different probability distribution with known variance ${\\sigma _{i}^{2}}$. In this case,  the weights are given by the reciprocal of variance [2]:\n",
    "\n",
    "$$w_{i}={\\frac {1}{\\sigma _{i}^{2}}}$$\n",
    "\n",
    "The weighted mean in this case is:\n",
    "\n",
    "$${\\bar {x}}={\\frac {\\sum _{i=1}^{n}\\left({\\dfrac {x_{i}}{\\sigma _{i}^{2}}}\\right)}{\\sum _{i=1}^{n}{\\dfrac {1}{\\sigma _{i}^{2}}}}}$$,\n",
    "\n",
    "and the standard error of the weighted mean (with variance weights) is:\n",
    "\n",
    "$$\\sigma _{\\bar {x}}={\\sqrt {\\frac {1}{\\sum _{i=1}^{n}\\sigma _{i}^{-2}}}}$$\n",
    "\n",
    "Additionally, an effective sample size (ESS) [3] has been calculated at each frequency and for each quantity as:\n",
    "\n",
    "$$ ESS=\\frac {{(\\sum _{i=1}^{n} w_{i}})^{2}}{\\sum _{i=1}^{n} w_{i}^{2}}$$\n",
    "\n",
    "This approach has been applied to the magnitude and phase values at each frequency:\n",
    "\n",
    "$${\\bar {x_{M}}}={\\frac {\\sum _{i=1}^{n}\\left({\\dfrac {x_{Mi}}{\\sigma _{Mi}^{2}}}\\right)}{\\sum _{i=1}^{n}{\\dfrac {1}{\\sigma _{Mi}^{2}}}}}$$,\n",
    "\n",
    "$${\\bar {x_{\\phi}}}={\\frac {\\sum _{i=1}^{n}\\left({\\dfrac {x_{\\phi i}}{\\sigma _{\\phi i}^{2}}}\\right)}{\\sum _{i=1}^{n}{\\dfrac {1}{\\sigma _{\\phi i}^{2}}}}}$$,\n",
    "\n",
    "\n",
    "$$\\sigma _{\\bar {x_{M}}}={\\sqrt {\\frac {1}{\\sum _{i=1}^{n}\\sigma _{Mi}^{-2}}}}$$\n",
    "\n",
    "$$\\sigma _{\\bar {x_{\\phi}}}={\\sqrt {\\frac {1}{\\sum _{i=1}^{n}\\sigma _{\\phi i}^{-2}}}}$$\n",
    "In both cases, *n* refers to the number of experiments at a given frequency (*n*=10 for PTB and *n*=9 for CEM).\n",
    "\n",
    "$\\sigma _{M}$  for a single experiment is calculated as   $\\frac{U _{M}}{2}$ and $\\sigma _{\\phi}$ as $\\frac{U _{\\phi}}{2}$\n",
    "\n"
   ]
  },
  {
   "cell_type": "markdown",
   "metadata": {},
   "source": [
    "## 5.1 Weighted values"
   ]
  },
  {
   "cell_type": "code",
   "execution_count": 258,
   "metadata": {},
   "outputs": [],
   "source": [
    "def calculate_weighted_values(dictionary,names):\n",
    "    \n",
    "    weighted_val=np.empty((len(dictionary.keys()),4))\n",
    "    effective_sample_size=np.empty((len(dictionary.keys()),2))\n",
    "    \n",
    "    for val,i in zip(dictionary.values(),range(len(dictionary.keys()))):\n",
    "        weighted_val[i,0]=np.sum(val[names[1]].values*(1./(val[names[2]].values/2)**2))/np.sum(1./(val[names[2]].values/2)**2)\n",
    "        weighted_val[i,1]=1./np.sqrt(np.sum(1./(val[names[2]].values/2)**2))\n",
    "        effective_sample_size[i,0]=((np.sum(1./(val[names[2]].values/2)**2))**2)/np.sum(1./(val[names[2]].values/2)**4)\n",
    "        \n",
    "        \n",
    "        weighted_val[i,2]=np.sum(val[names[3]].values*(1./(val[names[4]].values/2)**2))/np.sum(1./(val[names[4]].values/2)**2)\n",
    "        weighted_val[i,3]=1./np.sqrt(np.sum(1./(val[names[4]].values/2)**2))\n",
    "        effective_sample_size[i,1]=((np.sum(1./(val[names[4]].values/2)**2))**2)/np.sum(1./(val[names[4]].values/2)**4)\n",
    "                     \n",
    "    return weighted_val,effective_sample_size"
   ]
  },
  {
   "cell_type": "code",
   "execution_count": 259,
   "metadata": {},
   "outputs": [],
   "source": [
    "weighted_values_PTB,effective_sample_size_PTB=calculate_weighted_values(PTB_separated_by_freq,q_names)\n",
    "weighted_values_CEM,effective_sample_size_CEM=calculate_weighted_values(CEM_separated_by_freq_new,q_names)\n",
    "\n",
    "column_names_list1  =[name for name in q_names if name != 'Frequency [Hz]' and name!='Excitation_freq [Hz]']\n",
    "column_names_list2=[r\"$x_{wm |S(\\omega)|}$ in $ \\frac{\\mathrm{m s}^-2}{\\mathrm{m s}^-2}$\",r\"$\\sigma_{|S(\\omega)|}$ in $ \\frac{\\mathrm{m s}^-2}{\\mathrm{m s}^-2}$\", r\"$x_{wm \\varphi(\\omega)}$ in $rad$\", r\"$\\sigma_{\\varphi(\\omega)}$ in $rad$\"]\n",
    "\n",
    "weighted_values_PTB=pd.DataFrame(weighted_values_PTB, columns=column_names_list2)\n",
    "weighted_values_CEM=pd.DataFrame(weighted_values_CEM, columns=column_names_list2)"
   ]
  },
  {
   "cell_type": "code",
   "execution_count": 260,
   "metadata": {},
   "outputs": [
    {
     "data": {
      "text/plain": [
       "array([[8.42642648, 9.35844012]])"
      ]
     },
     "execution_count": 260,
     "metadata": {},
     "output_type": "execute_result"
    }
   ],
   "source": [
    "effective_sample_size_PTB[:1,:] #@ 10 Hz for magnitude, phase and excitation amplitude"
   ]
  },
  {
   "cell_type": "code",
   "execution_count": 261,
   "metadata": {},
   "outputs": [
    {
     "data": {
      "text/plain": [
       "array([[7.34343223, 8.96482514],\n",
       "       [8.36231102, 8.97338537],\n",
       "       [5.19647767, 8.64776298],\n",
       "       [8.16009879, 8.77580198],\n",
       "       [6.96360866, 7.64413911],\n",
       "       [8.0240504 , 7.8955576 ]])"
      ]
     },
     "execution_count": 261,
     "metadata": {},
     "output_type": "execute_result"
    }
   ],
   "source": [
    "effective_sample_size_CEM[:6,:] #@ 10 Hz for magnitude, phase and excitation amplitude"
   ]
  },
  {
   "cell_type": "markdown",
   "metadata": {},
   "source": [
    "## The overall weighted mean and standard deviation:"
   ]
  },
  {
   "cell_type": "markdown",
   "metadata": {},
   "source": [
    "This approach has been applied to the magnitude and phase values at each frequency:\n",
    "\n",
    "$${\\bar {x_{M,all}}}={\\frac {\\sum _{i=1}^{19}\\left({\\dfrac {x_{Mi}}{\\sigma _{Mi}^{2}}}\\right)}{\\sum _{i=1}^{19}{\\dfrac {1}{\\sigma _{Mi}^{2}}}}}$$,\n",
    "\n",
    "$${\\bar {x_{\\phi,all}}}={\\frac {\\sum _{i=1}^{19}\\left({\\dfrac {x_{\\phi i}}{\\sigma _{\\phi i}^{2}}}\\right)}{\\sum _{i=1}^{19}{\\dfrac {1}{\\sigma _{\\phi i}^{2}}}}}$$,\n",
    "\n",
    "\n",
    "$$\\sigma _{\\bar {x_{M, all}}}={\\sqrt {\\frac {1}{\\sum _{i=1}^{19}\\sigma _{Mi}^{-2}}}}$$\n",
    "\n",
    "$$\\sigma _{\\bar {x_{\\phi, all}}}={\\sqrt {\\frac {1}{\\sum _{i=1}^{19}\\sigma _{\\phi i}^{-2}}}}$$\n",
    "In both cases, *19* refers to the number of experiments at a given frequency (10 for PTB + 9 for CEM).\n",
    "\n",
    "$\\sigma _{M}$  for a single experiment is calculated as   $\\frac{U _{M}}{2}$ and $\\sigma _{\\phi}$ as $\\frac{U _{\\phi}}{2}$\n"
   ]
  },
  {
   "cell_type": "code",
   "execution_count": 262,
   "metadata": {},
   "outputs": [],
   "source": [
    "#merge all experiments for two labs in the same freqency\n",
    "\n",
    "from collections import defaultdict\n",
    "dd = defaultdict(list)\n",
    "for d in (PTB_separated_by_freq, CEM_separated_by_freq_new): \n",
    "    for key, value in d.items():\n",
    "        dd[key].append(value)"
   ]
  },
  {
   "cell_type": "code",
   "execution_count": 263,
   "metadata": {},
   "outputs": [],
   "source": [
    "#merge all experiments for two labs in the same freqency\n",
    "new=dict.fromkeys(list_of_freq, None)\n",
    "for key,val in zip(list_of_freq,dd.values()):\n",
    "    a=val[0]\n",
    "    c=val[1]\n",
    "    frames=[a,c]\n",
    "    new[key] = pd.concat(frames)"
   ]
  },
  {
   "cell_type": "markdown",
   "metadata": {},
   "source": [
    "Additionally, an effective sample size (ESS) [3] has been calculated at each frequency and for each quantity as:\n",
    "\n",
    "$$ ESS_{,all}=\\frac {{(\\sum _{i=1}^{19} w_{i}})^{2}}{\\sum _{i=1}^{19} w_{i}^{2}}$$"
   ]
  },
  {
   "cell_type": "code",
   "execution_count": 264,
   "metadata": {},
   "outputs": [],
   "source": [
    "#calculate weighted mean and weighted standard deviation of all experiments\n",
    "weighted_values_overall,effective_sample_size_overall=calculate_weighted_values(new,q_names)\n",
    "weighted_values_overall=pd.DataFrame(weighted_values_overall, columns=column_names_list2)"
   ]
  },
  {
   "cell_type": "code",
   "execution_count": 265,
   "metadata": {},
   "outputs": [
    {
     "data": {
      "text/html": [
       "<div>\n",
       "<style scoped>\n",
       "    .dataframe tbody tr th:only-of-type {\n",
       "        vertical-align: middle;\n",
       "    }\n",
       "\n",
       "    .dataframe tbody tr th {\n",
       "        vertical-align: top;\n",
       "    }\n",
       "\n",
       "    .dataframe thead th {\n",
       "        text-align: right;\n",
       "    }\n",
       "</style>\n",
       "<table border=\"1\" class=\"dataframe\">\n",
       "  <thead>\n",
       "    <tr style=\"text-align: right;\">\n",
       "      <th></th>\n",
       "      <th>$x_{wm |S(\\omega)|}$ in $ \\frac{\\mathrm{m s}^-2}{\\mathrm{m s}^-2}$</th>\n",
       "      <th>$\\sigma_{|S(\\omega)|}$ in $ \\frac{\\mathrm{m s}^-2}{\\mathrm{m s}^-2}$</th>\n",
       "      <th>$x_{wm \\varphi(\\omega)}$ in $rad$</th>\n",
       "      <th>$\\sigma_{\\varphi(\\omega)}$ in $rad$</th>\n",
       "    </tr>\n",
       "  </thead>\n",
       "  <tbody>\n",
       "    <tr>\n",
       "      <th>0</th>\n",
       "      <td>1.019191</td>\n",
       "      <td>0.000644</td>\n",
       "      <td>-0.094700</td>\n",
       "      <td>0.000484</td>\n",
       "    </tr>\n",
       "    <tr>\n",
       "      <th>1</th>\n",
       "      <td>1.018506</td>\n",
       "      <td>0.000762</td>\n",
       "      <td>-0.118723</td>\n",
       "      <td>0.000766</td>\n",
       "    </tr>\n",
       "  </tbody>\n",
       "</table>\n",
       "</div>"
      ],
      "text/plain": [
       "   $x_{wm |S(\\omega)|}$ in $ \\frac{\\mathrm{m s}^-2}{\\mathrm{m s}^-2}$  \\\n",
       "0                                           1.019191                    \n",
       "1                                           1.018506                    \n",
       "\n",
       "   $\\sigma_{|S(\\omega)|}$ in $ \\frac{\\mathrm{m s}^-2}{\\mathrm{m s}^-2}$  \\\n",
       "0                                           0.000644                      \n",
       "1                                           0.000762                      \n",
       "\n",
       "   $x_{wm \\varphi(\\omega)}$ in $rad$  $\\sigma_{\\varphi(\\omega)}$ in $rad$  \n",
       "0                          -0.094700                             0.000484  \n",
       "1                          -0.118723                             0.000766  "
      ]
     },
     "execution_count": 265,
     "metadata": {},
     "output_type": "execute_result"
    }
   ],
   "source": [
    "weighted_values_PTB.head(2)"
   ]
  },
  {
   "cell_type": "code",
   "execution_count": 266,
   "metadata": {},
   "outputs": [
    {
     "data": {
      "text/html": [
       "<div>\n",
       "<style scoped>\n",
       "    .dataframe tbody tr th:only-of-type {\n",
       "        vertical-align: middle;\n",
       "    }\n",
       "\n",
       "    .dataframe tbody tr th {\n",
       "        vertical-align: top;\n",
       "    }\n",
       "\n",
       "    .dataframe thead th {\n",
       "        text-align: right;\n",
       "    }\n",
       "</style>\n",
       "<table border=\"1\" class=\"dataframe\">\n",
       "  <thead>\n",
       "    <tr style=\"text-align: right;\">\n",
       "      <th></th>\n",
       "      <th>$x_{wm |S(\\omega)|}$ in $ \\frac{\\mathrm{m s}^-2}{\\mathrm{m s}^-2}$</th>\n",
       "      <th>$\\sigma_{|S(\\omega)|}$ in $ \\frac{\\mathrm{m s}^-2}{\\mathrm{m s}^-2}$</th>\n",
       "      <th>$x_{wm \\varphi(\\omega)}$ in $rad$</th>\n",
       "      <th>$\\sigma_{\\varphi(\\omega)}$ in $rad$</th>\n",
       "    </tr>\n",
       "  </thead>\n",
       "  <tbody>\n",
       "    <tr>\n",
       "      <th>0</th>\n",
       "      <td>1.016035</td>\n",
       "      <td>0.000591</td>\n",
       "      <td>-0.094909</td>\n",
       "      <td>0.000281</td>\n",
       "    </tr>\n",
       "    <tr>\n",
       "      <th>1</th>\n",
       "      <td>1.015917</td>\n",
       "      <td>0.000474</td>\n",
       "      <td>-0.118580</td>\n",
       "      <td>0.000330</td>\n",
       "    </tr>\n",
       "  </tbody>\n",
       "</table>\n",
       "</div>"
      ],
      "text/plain": [
       "   $x_{wm |S(\\omega)|}$ in $ \\frac{\\mathrm{m s}^-2}{\\mathrm{m s}^-2}$  \\\n",
       "0                                           1.016035                    \n",
       "1                                           1.015917                    \n",
       "\n",
       "   $\\sigma_{|S(\\omega)|}$ in $ \\frac{\\mathrm{m s}^-2}{\\mathrm{m s}^-2}$  \\\n",
       "0                                           0.000591                      \n",
       "1                                           0.000474                      \n",
       "\n",
       "   $x_{wm \\varphi(\\omega)}$ in $rad$  $\\sigma_{\\varphi(\\omega)}$ in $rad$  \n",
       "0                          -0.094909                             0.000281  \n",
       "1                          -0.118580                             0.000330  "
      ]
     },
     "execution_count": 266,
     "metadata": {},
     "output_type": "execute_result"
    }
   ],
   "source": [
    "weighted_values_CEM.head(2)"
   ]
  },
  {
   "cell_type": "code",
   "execution_count": 267,
   "metadata": {},
   "outputs": [
    {
     "data": {
      "text/html": [
       "<div>\n",
       "<style scoped>\n",
       "    .dataframe tbody tr th:only-of-type {\n",
       "        vertical-align: middle;\n",
       "    }\n",
       "\n",
       "    .dataframe tbody tr th {\n",
       "        vertical-align: top;\n",
       "    }\n",
       "\n",
       "    .dataframe thead th {\n",
       "        text-align: right;\n",
       "    }\n",
       "</style>\n",
       "<table border=\"1\" class=\"dataframe\">\n",
       "  <thead>\n",
       "    <tr style=\"text-align: right;\">\n",
       "      <th></th>\n",
       "      <th>$x_{wm |S(\\omega)|}$ in $ \\frac{\\mathrm{m s}^-2}{\\mathrm{m s}^-2}$</th>\n",
       "      <th>$\\sigma_{|S(\\omega)|}$ in $ \\frac{\\mathrm{m s}^-2}{\\mathrm{m s}^-2}$</th>\n",
       "      <th>$x_{wm \\varphi(\\omega)}$ in $rad$</th>\n",
       "      <th>$\\sigma_{\\varphi(\\omega)}$ in $rad$</th>\n",
       "    </tr>\n",
       "  </thead>\n",
       "  <tbody>\n",
       "    <tr>\n",
       "      <th>0</th>\n",
       "      <td>1.017477</td>\n",
       "      <td>0.000435</td>\n",
       "      <td>-0.094856</td>\n",
       "      <td>0.000243</td>\n",
       "    </tr>\n",
       "    <tr>\n",
       "      <th>1</th>\n",
       "      <td>1.016639</td>\n",
       "      <td>0.000402</td>\n",
       "      <td>-0.118603</td>\n",
       "      <td>0.000303</td>\n",
       "    </tr>\n",
       "  </tbody>\n",
       "</table>\n",
       "</div>"
      ],
      "text/plain": [
       "   $x_{wm |S(\\omega)|}$ in $ \\frac{\\mathrm{m s}^-2}{\\mathrm{m s}^-2}$  \\\n",
       "0                                           1.017477                    \n",
       "1                                           1.016639                    \n",
       "\n",
       "   $\\sigma_{|S(\\omega)|}$ in $ \\frac{\\mathrm{m s}^-2}{\\mathrm{m s}^-2}$  \\\n",
       "0                                           0.000435                      \n",
       "1                                           0.000402                      \n",
       "\n",
       "   $x_{wm \\varphi(\\omega)}$ in $rad$  $\\sigma_{\\varphi(\\omega)}$ in $rad$  \n",
       "0                          -0.094856                             0.000243  \n",
       "1                          -0.118603                             0.000303  "
      ]
     },
     "execution_count": 267,
     "metadata": {},
     "output_type": "execute_result"
    }
   ],
   "source": [
    "weighted_values_overall.head(2)"
   ]
  },
  {
   "cell_type": "markdown",
   "metadata": {},
   "source": [
    "Next, the difference between the weighted mean value of PTB's setup and the overall weighted mean is calculated as:\n",
    "\n",
    "$${\\bar {x_{M}}}-{\\bar {x_{M,all}}}$$, and\n",
    "$${\\bar {x_{\\phi}}}-{\\bar {x_{\\phi,all}}}$$\n",
    "\n",
    "The same was applied for the CEM's setup.\n",
    "The standard pooled deviation is then calculated as:\n",
    "\n",
    "$$ s_{\\bar {p_{M}}}={\\sqrt {\\frac {(ESS_{M}-1)*\\sigma_{\\bar {x_{M}}}^2+(ESS_{M,all}-1)*\\sigma _{\\bar {x_{M,all}}}^2}{ESS_{M}+ESS_{M,all}-2}}}$$\n"
   ]
  },
  {
   "cell_type": "code",
   "execution_count": 268,
   "metadata": {},
   "outputs": [],
   "source": [
    "#calculate the difference from the overall weighted mean\n",
    "\n",
    "difference_mean_PTB=pd.DataFrame((weighted_values_PTB-weighted_values_overall)[r\"$x_{wm |S(\\omega)|}$ in $ \\frac{\\mathrm{m s}^-2}{\\mathrm{m s}^-2}$\"],\n",
    "                                columns=[r\"$x_{wm |S(\\omega)|}$ in $ \\frac{\\mathrm{m s}^-2}{\\mathrm{m s}^-2}$\"])\n",
    "difference_mean_CEM=pd.DataFrame((weighted_values_CEM-weighted_values_overall)[r\"$x_{wm |S(\\omega)|}$ in $ \\frac{\\mathrm{m s}^-2}{\\mathrm{m s}^-2}$\"],\n",
    "                                 columns=[r\"$x_{wm |S(\\omega)|}$ in $ \\frac{\\mathrm{m s}^-2}{\\mathrm{m s}^-2}$\"])"
   ]
  },
  {
   "cell_type": "code",
   "execution_count": 269,
   "metadata": {},
   "outputs": [],
   "source": [
    "difference_mean_PTB=difference_mean_PTB.rename(\n",
    "    columns={r\"$x_{wm |S(\\omega)|}$ in $ \\frac{\\mathrm{m s}^-2}{\\mathrm{m s}^-2}$\": r\"$d_{|S(\\omega)|}$ in $ \\frac{\\mathrm{m s}^-2}{\\mathrm{m s}^-2}$\"})\n",
    "difference_mean_CEM=difference_mean_CEM.rename(\n",
    "    columns={r\"$x_{wm |S(\\omega)|}$ in $ \\frac{\\mathrm{m s}^-2}{\\mathrm{m s}^-2}$\": r\"$d_{|S(\\omega)|}$ in $ \\frac{\\mathrm{m s}^-2}{\\mathrm{m s}^-2}$\"})"
   ]
  },
  {
   "cell_type": "code",
   "execution_count": 270,
   "metadata": {},
   "outputs": [],
   "source": [
    "difference_mean_PTB[r\"$x_{wm \\varphi(\\omega)}$ in $rad$\"]=(weighted_values_PTB-weighted_values_overall)[r\"$x_{wm \\varphi(\\omega)}$ in $rad$\"]\n",
    "difference_mean_CEM[r\"$x_{wm \\varphi(\\omega)}$ in $rad$\"]=(weighted_values_CEM-weighted_values_overall)[r\"$x_{wm \\varphi(\\omega)}$ in $rad$\"]\n"
   ]
  },
  {
   "cell_type": "code",
   "execution_count": 271,
   "metadata": {},
   "outputs": [],
   "source": [
    "difference_mean_PTB=difference_mean_PTB.rename(\n",
    "    columns={r\"$x_{wm \\varphi(\\omega)}$ in $rad$\": r\"$d_{\\varphi(\\omega)}$ in $rad$\"})\n",
    "difference_mean_CEM=difference_mean_CEM.rename(\n",
    "    columns={r\"$x_{wm \\varphi(\\omega)}$ in $rad$\": r\"$d_{\\varphi(\\omega)}$ in $rad$\"})\n"
   ]
  },
  {
   "cell_type": "code",
   "execution_count": 272,
   "metadata": {},
   "outputs": [],
   "source": [
    "effective_sample_size_PTB_1=pd.DataFrame(effective_sample_size_PTB)\n",
    "effective_sample_size_overall_1=pd.DataFrame(effective_sample_size_overall)\n",
    "effective_sample_size_CEM_1=pd.DataFrame(effective_sample_size_CEM)"
   ]
  },
  {
   "cell_type": "code",
   "execution_count": 273,
   "metadata": {},
   "outputs": [],
   "source": [
    "\n",
    "s_pooled_PTB_mag=np.sqrt(((effective_sample_size_PTB_1[0]-1)*weighted_values_PTB[r\"$\\sigma_{|S(\\omega)|}$ in $ \\frac{\\mathrm{m s}^-2}{\\mathrm{m s}^-2}$\"].values**2+(effective_sample_size_overall_1[0]-1)*weighted_values_overall[r\"$\\sigma_{|S(\\omega)|}$ in $ \\frac{\\mathrm{m s}^-2}{\\mathrm{m s}^-2}$\"].values**2)/(effective_sample_size_PTB_1[0]+effective_sample_size_overall_1[0]-2))\n",
    "s_pooled_CEM_mag=np.sqrt(((effective_sample_size_CEM_1[0]-1)*weighted_values_CEM[r\"$\\sigma_{|S(\\omega)|}$ in $ \\frac{\\mathrm{m s}^-2}{\\mathrm{m s}^-2}$\"].values**2+(effective_sample_size_overall_1[0]-1)*weighted_values_overall[r\"$\\sigma_{|S(\\omega)|}$ in $ \\frac{\\mathrm{m s}^-2}{\\mathrm{m s}^-2}$\"].values**2)/(effective_sample_size_CEM_1[0]+effective_sample_size_overall_1[0]-2))\n",
    "s_pooled_PTB_ph=np.sqrt(((effective_sample_size_PTB_1[1]-1)*weighted_values_PTB[r\"$\\sigma_{\\varphi(\\omega)}$ in $rad$\"].values**2+(effective_sample_size_overall_1[1]-1)*weighted_values_overall[r\"$\\sigma_{\\varphi(\\omega)}$ in $rad$\"].values**2)/(effective_sample_size_PTB_1[1]+effective_sample_size_overall_1[1]-2))\n",
    "s_pooled_CEM_ph=np.sqrt(((effective_sample_size_CEM_1[1]-1)*weighted_values_CEM[r\"$\\sigma_{\\varphi(\\omega)}$ in $rad$\"].values**2+(effective_sample_size_overall_1[1]-1)*weighted_values_overall[r\"$\\sigma_{\\varphi(\\omega)}$ in $rad$\"].values**2)/(effective_sample_size_CEM_1[1]+effective_sample_size_overall_1[1]-2))\n",
    "\n",
    "\n",
    "\n",
    "t_mag_PTB=[stats.t.ppf(1-0.025, effective_sample_size_PTB_1[0][val]+effective_sample_size_overall_1[0][val]-2) for val in range(len(effective_sample_size_PTB_1[0]))]\n",
    "t_mag_CEM=[stats.t.ppf(1-0.025, effective_sample_size_CEM_1[0][val]+effective_sample_size_overall_1[0][val]-2) for val in range(len(effective_sample_size_CEM_1[0]))]\n",
    "t_ph_PTB=[stats.t.ppf(1-0.025, effective_sample_size_PTB_1[1][val]+effective_sample_size_overall_1[1][val]-2) for val in range(len(effective_sample_size_PTB_1[1]))]\n",
    "t_ph_CEM=[stats.t.ppf(1-0.025, effective_sample_size_CEM_1[1][val]+effective_sample_size_overall_1[1][val]-2) for val in range(len(effective_sample_size_CEM_1[1]))]\n",
    "\n"
   ]
  },
  {
   "cell_type": "markdown",
   "metadata": {},
   "source": [
    "The confidence interval of the difference between two population means is:\n",
    "$${\\bar {x_{M}}}-{\\bar {x_{M,all}}} \\pm t_{\\frac{\\alpha}{2}} * s_{p}*\\sqrt{\\frac{1}{ESS}+\\frac{1}{ESS_{all}}}$$,\n",
    "where $t_{\\frac{\\alpha}{2}}$ has $ESS+ESS_{all}-2$ degrees of freedom"
   ]
  },
  {
   "cell_type": "code",
   "execution_count": 274,
   "metadata": {},
   "outputs": [],
   "source": [
    "last_mem_mag_PTB=np.sqrt(1/effective_sample_size_PTB_1[0]+1/effective_sample_size_overall_1[0])\n",
    "last_mem_mag_CEM=np.sqrt(1/effective_sample_size_CEM_1[0]+1/effective_sample_size_overall_1[0])\n",
    "\n",
    "last_mem_ph_PTB=np.sqrt(1/effective_sample_size_PTB_1[1]+1/effective_sample_size_overall_1[1])\n",
    "last_mem_ph_CEM=np.sqrt(1/effective_sample_size_CEM_1[1]+1/effective_sample_size_overall_1[1])\n"
   ]
  },
  {
   "cell_type": "code",
   "execution_count": 275,
   "metadata": {},
   "outputs": [
    {
     "data": {
      "image/png": "[encoded data removed]",
      "text/plain": [
       "<Figure size 1152x648 with 2 Axes>"
      ]
     },
     "metadata": {
      "needs_background": "light"
     },
     "output_type": "display_data"
    }
   ],
   "source": [
    "#%matplotlib qt    #activate qt ploting to have interactive scaleable window with save button\n",
    "fig,ax=plt.subplots(2,1,sharex=\"all\",figsize=(16,9))#figsize=(20,10)\n",
    "x=np.array(list_of_freq)\n",
    "x1=x*1.01#OFFSET 1% offset to better ditinguish both labs\n",
    "y= difference_mean_PTB[r\"$d_{|S(\\omega)|}$ in $ \\frac{\\mathrm{m s}^-2}{\\mathrm{m s}^-2}$\"].values\n",
    "y1=difference_mean_CEM[r\"$d_{|S(\\omega)|}$ in $ \\frac{\\mathrm{m s}^-2}{\\mathrm{m s}^-2}$\"].values\n",
    "yPTB=weighted_values_PTB[r\"$x_{wm |S(\\omega)|}$ in $ \\frac{\\mathrm{m s}^-2}{\\mathrm{m s}^-2}$\"]\n",
    "yCEM=weighted_values_CEM[r\"$x_{wm |S(\\omega)|}$ in $ \\frac{\\mathrm{m s}^-2}{\\mathrm{m s}^-2}$\"]\n",
    "error=s_pooled_PTB_mag*t_mag_PTB*last_mem_mag_PTB\n",
    "error1=s_pooled_CEM_mag*t_mag_CEM*last_mem_mag_CEM\n",
    "ax[0].errorbar(x, yPTB,yerr=error, linestyle=\"\",marker=\"o\",label=\"PTB\")\n",
    "ax[0].errorbar(x1, yCEM,yerr=error1, linestyle=\"\",marker=\"o\",label=\"CEM\",color=\"red\")\n",
    "ax[0].set_xlabel(\"Frequency in Hz\")\n",
    "ax[0].set_ylabel(r\"$|S(\\omega)|$  in $\\frac{\\mathrm{m s}^-2}{\\mathrm{m s}^-2}$\")\n",
    "ax[0].set_xscale('log')\n",
    "ax[0].legend()\n",
    "ax[0].grid()\n",
    "\n",
    "ax[1].errorbar(x, y,yerr=error, linestyle=\"\",marker=\"o\",label=\"PTB\")\n",
    "ax[1].errorbar(x1, y1,yerr=error1, linestyle=\"\",marker=\"o\",label=\"CEM\",color=\"red\")\n",
    "ax[1].set_xlabel(\"Frequency in Hz\")\n",
    "ax[1].set_ylabel(r\"$|S(\\omega)|-\\overline{|S|}$  in $\\frac{\\mathrm{m s}^-2}{\\mathrm{m s}^-2}$\")\n",
    "ax[1].set_xscale('log')\n",
    "ax[1].legend()\n",
    "ax[1].grid() \n",
    "plt.show()"
   ]
  },
  {
   "cell_type": "code",
   "execution_count": 276,
   "metadata": {},
   "outputs": [
    {
     "data": {
      "image/png": "[encoded data removed]",
      "text/plain": [
       "<Figure size 1152x648 with 2 Axes>"
      ]
     },
     "metadata": {
      "needs_background": "light"
     },
     "output_type": "display_data"
    }
   ],
   "source": [
    "#%matplotlib qt  #activate qt ploting to have interactive scaleable window with save button\n",
    "fig,ax=plt.subplots(2,1,sharex=\"all\",figsize=(16,9))#figsize=(20,10)\n",
    "x=np.array(list_of_freq)\n",
    "x1=x*1.005#OFFSET 1% offset to better ditinguish both labs\n",
    "y= difference_mean_PTB[r\"$d_{\\varphi(\\omega)}$ in $rad$\"].values\n",
    "y1=difference_mean_CEM[r\"$d_{\\varphi(\\omega)}$ in $rad$\"].values\n",
    "phaseRawPTB=weighted_values_PTB[r\"$x_{wm \\varphi(\\omega)}$ in $rad$\"]\n",
    "phaseRawCEM=weighted_values_CEM[r\"$x_{wm \\varphi(\\omega)}$ in $rad$\"]\n",
    "error=s_pooled_PTB_ph*t_ph_PTB*last_mem_ph_PTB\n",
    "error1=s_pooled_CEM_ph*t_ph_CEM*last_mem_ph_CEM\n",
    "ax[0].errorbar(x, np.rad2deg(phaseRawPTB),yerr=np.rad2deg(error), linestyle=\"\",marker=\"o\",label=\"PTB\")\n",
    "ax[0].errorbar(x1, np.rad2deg(phaseRawCEM),yerr=np.rad2deg(error1), linestyle=\"\",marker=\"o\",label=\"CEM\",color=\"red\")\n",
    "ax[0].set_ylabel(r\"$\\varphi(\\omega)$ in$^\\circ$\")\n",
    "ax[0].set_xscale('log')\n",
    "ax[0].grid() \n",
    "ax[0].legend()\n",
    "ax[1].errorbar(x, np.rad2deg(y),yerr=np.rad2deg(error), linestyle=\"\",marker=\"o\",label=\"PTB\")\n",
    "ax[1].errorbar(x1, np.rad2deg(y1),yerr=np.rad2deg(error1), linestyle=\"\",marker=\"o\",label=\"CEM\",color=\"red\")\n",
    "ax[1].set_xlabel(\"Frequency in Hz\")\n",
    "ax[1].set_ylabel(r\"$\\varphi(\\omega) -\\overline{\\varphi(\\omega) }$ in $^\\circ$\")\n",
    "ax[1].set_xscale('log')\n",
    "ax[1].grid() \n",
    "ax[1].legend()\n",
    "plt.show()"
   ]
  },
  {
   "cell_type": "markdown",
   "metadata": {},
   "source": [
    "## 5.2 En values for weighted data"
   ]
  },
  {
   "cell_type": "code",
   "execution_count": 277,
   "metadata": {},
   "outputs": [],
   "source": [
    "def calculate_En_values_weighted(df1,df2,names):\n",
    "    En_values=np.empty((df1.shape[0],2))\n",
    "    \n",
    "    for i in range (df1.shape[0]):\n",
    "            En_values[:,0]=np.abs(((df1[names[0]].values-df2[names[0]].values)/(2*(np.sqrt(df1[names[1]].values**2 +df2[names[1]].values**2)))))\n",
    "            En_values[:,1]=np.abs(((df1[names[2]].values-df2[names[2]].values)/(2*(np.sqrt(df1[names[3]].values**2 +df2[names[3]].values**2)))))\n",
    "    return En_values  "
   ]
  },
  {
   "cell_type": "code",
   "execution_count": 278,
   "metadata": {},
   "outputs": [
    {
     "data": {
      "text/html": [
       "<div>\n",
       "<style scoped>\n",
       "    .dataframe tbody tr th:only-of-type {\n",
       "        vertical-align: middle;\n",
       "    }\n",
       "\n",
       "    .dataframe tbody tr th {\n",
       "        vertical-align: top;\n",
       "    }\n",
       "\n",
       "    .dataframe thead th {\n",
       "        text-align: right;\n",
       "    }\n",
       "</style>\n",
       "<table border=\"1\" class=\"dataframe\">\n",
       "  <thead>\n",
       "    <tr style=\"text-align: right;\">\n",
       "      <th></th>\n",
       "      <th>$x_{wm |S(\\omega)|}$ in $ \\frac{\\mathrm{m s}^-2}{\\mathrm{m s}^-2}$</th>\n",
       "      <th>$\\sigma_{|S(\\omega)|}$ in $ \\frac{\\mathrm{m s}^-2}{\\mathrm{m s}^-2}$</th>\n",
       "      <th>$x_{wm \\varphi(\\omega)}$ in $rad$</th>\n",
       "      <th>$\\sigma_{\\varphi(\\omega)}$ in $rad$</th>\n",
       "    </tr>\n",
       "  </thead>\n",
       "  <tbody>\n",
       "    <tr>\n",
       "      <th>0</th>\n",
       "      <td>1.019191</td>\n",
       "      <td>0.000644</td>\n",
       "      <td>-0.094700</td>\n",
       "      <td>0.000484</td>\n",
       "    </tr>\n",
       "    <tr>\n",
       "      <th>1</th>\n",
       "      <td>1.018506</td>\n",
       "      <td>0.000762</td>\n",
       "      <td>-0.118723</td>\n",
       "      <td>0.000766</td>\n",
       "    </tr>\n",
       "  </tbody>\n",
       "</table>\n",
       "</div>"
      ],
      "text/plain": [
       "   $x_{wm |S(\\omega)|}$ in $ \\frac{\\mathrm{m s}^-2}{\\mathrm{m s}^-2}$  \\\n",
       "0                                           1.019191                    \n",
       "1                                           1.018506                    \n",
       "\n",
       "   $\\sigma_{|S(\\omega)|}$ in $ \\frac{\\mathrm{m s}^-2}{\\mathrm{m s}^-2}$  \\\n",
       "0                                           0.000644                      \n",
       "1                                           0.000762                      \n",
       "\n",
       "   $x_{wm \\varphi(\\omega)}$ in $rad$  $\\sigma_{\\varphi(\\omega)}$ in $rad$  \n",
       "0                          -0.094700                             0.000484  \n",
       "1                          -0.118723                             0.000766  "
      ]
     },
     "execution_count": 278,
     "metadata": {},
     "output_type": "execute_result"
    }
   ],
   "source": [
    "weighted_values_PTB.head(2)"
   ]
  },
  {
   "cell_type": "code",
   "execution_count": 279,
   "metadata": {},
   "outputs": [],
   "source": [
    "En_values_weighted=calculate_En_values_weighted(weighted_values_PTB,weighted_values_CEM,column_names_list2)"
   ]
  },
  {
   "cell_type": "code",
   "execution_count": 280,
   "metadata": {},
   "outputs": [
    {
     "data": {
      "image/png": "[encoded data removed]",
      "text/plain": [
       "<Figure size 576x720 with 2 Axes>"
      ]
     },
     "metadata": {
      "needs_background": "light"
     },
     "output_type": "display_data"
    }
   ],
   "source": [
    "\n",
    "plt.figure(figsize=(8,10))\n",
    "\n",
    "sns.heatmap(En_values_weighted, vmax=2, vmin=1,annot=True,yticklabels=PTB_separated_by_freq.keys(),xticklabels=[\"Magnitude\",\"Phase\"] )\n",
    "plt.title(\"En values\")\n",
    "plt.ylabel(\"Frequency in Hz\")\n",
    "plt.show()\n",
    "\n",
    "#magnitudes at low freq - bad SNR "
   ]
  },
  {
   "cell_type": "markdown",
   "metadata": {},
   "source": [
    "The En values are significantly lower for the magnitude values than for the Case Study 1 (further remarks on case studies are in Conclusion), but still above the set criteria. Phase values obtain better En values, where the condition is not met on higher frequencies,or more precisely, on 125.0 hertz, 200. 0 hertz and 250.0 hertz."
   ]
  },
  {
   "cell_type": "markdown",
   "metadata": {},
   "source": [
    "# 6. A consistency test based on the CMCs"
   ]
  },
  {
   "cell_type": "markdown",
   "metadata": {},
   "source": [
    "With this first result, it was of particular interest whether a full consistency could be achieved with a more complete uncertainty evaluation. Since an in-depth analysis of measurement uncertainty including relevant type B uncertainties for this particular artifact was beyond the time-frame of the project, the consistency was tested based on best measurement capabilities (CMC) of the two institutes, as they were reported for the recently published international key comparison:"
   ]
  },
  {
   "cell_type": "markdown",
   "metadata": {},
   "source": [
    "PTB: magnitude 0.1% ;  phase 0.2°\n",
    "\n",
    "CEM: magnitude 0.4% ;  phase 0.5°\n",
    "\n",
    "all values for k=2 and valid for all frequencies in the calibration range."
   ]
  },
  {
   "cell_type": "code",
   "execution_count": 281,
   "metadata": {},
   "outputs": [],
   "source": [
    "column_names_list2=[r\"$x_{wm |S(\\omega)|}$ in $ \\frac{\\mathrm{m s}^-2}{\\mathrm{m s}^-2}$\",r\"$\\sigma_{|S(\\omega)|}$ in $ \\frac{\\mathrm{m s}^-2}{\\mathrm{m s}^-2}$\", r\"$x_{wm \\varphi(\\omega)}$ in $rad$\", r\"$\\sigma_{\\varphi(\\omega)}$ in $rad$\"]\n"
   ]
  },
  {
   "cell_type": "code",
   "execution_count": 282,
   "metadata": {},
   "outputs": [],
   "source": [
    "#ADDING CMCs \n",
    "\n",
    "weighted_values_PTB[r'$x_{wm |S(\\omega)|- CMC}$ in $ \\frac{\\mathrm{m s}^-2}{\\mathrm{m s}^-2}$']=weighted_values_PTB[r\"$x_{wm |S(\\omega)|}$ in $ \\frac{\\mathrm{m s}^-2}{\\mathrm{m s}^-2}$\"]\n",
    "weighted_values_PTB[r'$\\sigma_{|S(\\omega)|- CMC}$ in $ \\frac{\\mathrm{m s}^-2}{\\mathrm{m s}^-2}$']=weighted_values_PTB[r\"$x_{wm |S(\\omega)|}$ in $ \\frac{\\mathrm{m s}^-2}{\\mathrm{m s}^-2}$\"]*(0.1/2)/(100)\n",
    "weighted_values_PTB[r'$x_{wm \\varphi(\\omega) - CMC}$ in $rad$']=weighted_values_PTB[r\"$x_{wm \\varphi(\\omega)}$ in $rad$\"]\n",
    "weighted_values_PTB[r'$\\sigma_{\\varphi(\\omega) - CMC}$ in $rad$']=(0.2/2)*np.pi/180\n",
    "\n",
    "\n",
    "\n",
    "weighted_values_CEM[r'$x_{wm |S(\\omega)|- CMC}$ in $ \\frac{\\mathrm{m s}^-2}{\\mathrm{m s}^-2}$']=weighted_values_CEM[r\"$x_{wm |S(\\omega)|}$ in $ \\frac{\\mathrm{m s}^-2}{\\mathrm{m s}^-2}$\"]\n",
    "weighted_values_CEM[r'$\\sigma_{|S(\\omega)|- CMC}$ in $ \\frac{\\mathrm{m s}^-2}{\\mathrm{m s}^-2}$']=weighted_values_CEM[r\"$x_{wm |S(\\omega)|}$ in $ \\frac{\\mathrm{m s}^-2}{\\mathrm{m s}^-2}$\"]*(0.4/2)/(100)\n",
    "weighted_values_CEM[r'$x_{wm \\varphi(\\omega) - CMC}$ in $rad$']=weighted_values_CEM[r\"$x_{wm \\varphi(\\omega)}$ in $rad$\"]\n",
    "weighted_values_CEM[r'$\\sigma_{\\varphi(\\omega) - CMC}$ in $rad$']=(0.5/2)*np.pi/180\n"
   ]
  },
  {
   "cell_type": "code",
   "execution_count": 283,
   "metadata": {},
   "outputs": [
    {
     "data": {
      "text/html": [
       "<div>\n",
       "<style scoped>\n",
       "    .dataframe tbody tr th:only-of-type {\n",
       "        vertical-align: middle;\n",
       "    }\n",
       "\n",
       "    .dataframe tbody tr th {\n",
       "        vertical-align: top;\n",
       "    }\n",
       "\n",
       "    .dataframe thead th {\n",
       "        text-align: right;\n",
       "    }\n",
       "</style>\n",
       "<table border=\"1\" class=\"dataframe\">\n",
       "  <thead>\n",
       "    <tr style=\"text-align: right;\">\n",
       "      <th></th>\n",
       "      <th>$x_{wm |S(\\omega)|}$ in $ \\frac{\\mathrm{m s}^-2}{\\mathrm{m s}^-2}$</th>\n",
       "      <th>$\\sigma_{|S(\\omega)|}$ in $ \\frac{\\mathrm{m s}^-2}{\\mathrm{m s}^-2}$</th>\n",
       "      <th>$x_{wm \\varphi(\\omega)}$ in $rad$</th>\n",
       "      <th>$\\sigma_{\\varphi(\\omega)}$ in $rad$</th>\n",
       "      <th>$x_{wm |S(\\omega)|- CMC}$ in $ \\frac{\\mathrm{m s}^-2}{\\mathrm{m s}^-2}$</th>\n",
       "      <th>$\\sigma_{|S(\\omega)|- CMC}$ in $ \\frac{\\mathrm{m s}^-2}{\\mathrm{m s}^-2}$</th>\n",
       "      <th>$x_{wm \\varphi(\\omega) - CMC}$ in $rad$</th>\n",
       "      <th>$\\sigma_{\\varphi(\\omega) - CMC}$ in $rad$</th>\n",
       "    </tr>\n",
       "  </thead>\n",
       "  <tbody>\n",
       "    <tr>\n",
       "      <th>0</th>\n",
       "      <td>1.016035</td>\n",
       "      <td>0.000591</td>\n",
       "      <td>-0.094909</td>\n",
       "      <td>0.000281</td>\n",
       "      <td>1.016035</td>\n",
       "      <td>0.002032</td>\n",
       "      <td>-0.094909</td>\n",
       "      <td>0.004363</td>\n",
       "    </tr>\n",
       "    <tr>\n",
       "      <th>1</th>\n",
       "      <td>1.015917</td>\n",
       "      <td>0.000474</td>\n",
       "      <td>-0.118580</td>\n",
       "      <td>0.000330</td>\n",
       "      <td>1.015917</td>\n",
       "      <td>0.002032</td>\n",
       "      <td>-0.118580</td>\n",
       "      <td>0.004363</td>\n",
       "    </tr>\n",
       "  </tbody>\n",
       "</table>\n",
       "</div>"
      ],
      "text/plain": [
       "   $x_{wm |S(\\omega)|}$ in $ \\frac{\\mathrm{m s}^-2}{\\mathrm{m s}^-2}$  \\\n",
       "0                                           1.016035                    \n",
       "1                                           1.015917                    \n",
       "\n",
       "   $\\sigma_{|S(\\omega)|}$ in $ \\frac{\\mathrm{m s}^-2}{\\mathrm{m s}^-2}$  \\\n",
       "0                                           0.000591                      \n",
       "1                                           0.000474                      \n",
       "\n",
       "   $x_{wm \\varphi(\\omega)}$ in $rad$  $\\sigma_{\\varphi(\\omega)}$ in $rad$  \\\n",
       "0                          -0.094909                             0.000281   \n",
       "1                          -0.118580                             0.000330   \n",
       "\n",
       "   $x_{wm |S(\\omega)|- CMC}$ in $ \\frac{\\mathrm{m s}^-2}{\\mathrm{m s}^-2}$  \\\n",
       "0                                           1.016035                         \n",
       "1                                           1.015917                         \n",
       "\n",
       "   $\\sigma_{|S(\\omega)|- CMC}$ in $ \\frac{\\mathrm{m s}^-2}{\\mathrm{m s}^-2}$  \\\n",
       "0                                           0.002032                           \n",
       "1                                           0.002032                           \n",
       "\n",
       "   $x_{wm \\varphi(\\omega) - CMC}$ in $rad$  \\\n",
       "0                                -0.094909   \n",
       "1                                -0.118580   \n",
       "\n",
       "   $\\sigma_{\\varphi(\\omega) - CMC}$ in $rad$  \n",
       "0                                   0.004363  \n",
       "1                                   0.004363  "
      ]
     },
     "execution_count": 283,
     "metadata": {},
     "output_type": "execute_result"
    }
   ],
   "source": [
    "weighted_values_CEM.head(2)"
   ]
  },
  {
   "cell_type": "markdown",
   "metadata": {},
   "source": [
    "The reference weighted mean value is calculated on the basis of CMCs assigned to the known weighted mean values of both laboratories:\n",
    "\n",
    "$$\\bar {x_{M,all}} = w_{M,PTB}  \\bar{x}_{M, PTB} + w_{M, CEM} \\bar {x}_{M,CEM} $$\n",
    "$$\\bar {x_{\\varphi,all}} = w_{\\varphi, PTB} \\bar {x}_{\\varphi,PTB} + w_{\\varphi, CEM} \\bar {x}_{\\varphi,CEM} $$\n",
    "\n",
    "The weights take into account absolute uncertainties (CMCs) for the magnitude and phase CMCs for phase.\n",
    "\n",
    "The standard error is then calculated as \n",
    "\n",
    "$$\\sigma _{\\bar {x_{M, all}}}={\\sqrt {\\frac {1}{{\\sigma _{M,PTB}}^{-2}+{\\sigma _{M,CEM}}^{-2}}}}$$\n",
    "$$\\sigma _{\\bar {x_{\\varphi, all}}}={\\sqrt {\\frac {1}{{\\sigma _{\\varphi,PTB}}^{-2}+{\\sigma _{\\varphi,CEM}}^{-2}}}}$$\n"
   ]
  },
  {
   "cell_type": "code",
   "execution_count": 284,
   "metadata": {},
   "outputs": [],
   "source": [
    "names1=weighted_values_PTB.columns\n",
    "\n",
    "weighted_values_overall[r'$x_{wm |S(\\omega)|- CMC}$ in $ \\frac{\\mathrm{m s}^-2}{\\mathrm{m s}^-2}$']=(weighted_values_PTB[names1[4]].values*(1./(weighted_values_PTB[names1[5]].values)**2)+weighted_values_CEM[names1[4]].values*(1./(weighted_values_CEM[names1[5]].values)**2))/((1./(weighted_values_PTB[names1[5]].values)**2)+(1./(weighted_values_CEM[names1[5]].values)**2))\n",
    "weighted_values_overall[r'$x_{wm \\varphi(\\omega) - CMC}$ in $rad$']=(weighted_values_PTB[names1[6]].values*(1./(weighted_values_PTB[names1[7]].values)**2)+weighted_values_CEM[names1[6]].values*(1./(weighted_values_CEM[names1[7]].values)**2))/((1./(weighted_values_PTB[names1[7]].values)**2)+(1./(weighted_values_CEM[names1[7]].values)**2))\n",
    "\n",
    "weighted_values_overall[r'$\\sigma_{|S(\\omega)|- CMC}$ in $ \\frac{\\mathrm{m s}^-2}{\\mathrm{m s}^-2}$']=np.sqrt(1/((1./(weighted_values_PTB[names1[5]].values)**2)+(1./(weighted_values_CEM[names1[5]].values)**2)))\n",
    "weighted_values_overall[r'$\\sigma_{\\varphi(\\omega) - CMC}$ in $rad$']=np.sqrt(1./((1./(weighted_values_PTB[names1[7]].values)**2)+(1./(weighted_values_CEM[names1[7]].values)**2)))            \n"
   ]
  },
  {
   "cell_type": "code",
   "execution_count": 285,
   "metadata": {},
   "outputs": [
    {
     "data": {
      "text/html": [
       "<div>\n",
       "<style scoped>\n",
       "    .dataframe tbody tr th:only-of-type {\n",
       "        vertical-align: middle;\n",
       "    }\n",
       "\n",
       "    .dataframe tbody tr th {\n",
       "        vertical-align: top;\n",
       "    }\n",
       "\n",
       "    .dataframe thead th {\n",
       "        text-align: right;\n",
       "    }\n",
       "</style>\n",
       "<table border=\"1\" class=\"dataframe\">\n",
       "  <thead>\n",
       "    <tr style=\"text-align: right;\">\n",
       "      <th></th>\n",
       "      <th>$d_{|S(\\omega)|}$ in $ \\frac{\\mathrm{m s}^-2}{\\mathrm{m s}^-2}$</th>\n",
       "      <th>$d_{\\varphi(\\omega)}$ in $rad$</th>\n",
       "    </tr>\n",
       "  </thead>\n",
       "  <tbody>\n",
       "    <tr>\n",
       "      <th>0</th>\n",
       "      <td>0.001715</td>\n",
       "      <td>0.000156</td>\n",
       "    </tr>\n",
       "    <tr>\n",
       "      <th>1</th>\n",
       "      <td>0.001866</td>\n",
       "      <td>-0.000121</td>\n",
       "    </tr>\n",
       "  </tbody>\n",
       "</table>\n",
       "</div>"
      ],
      "text/plain": [
       "   $d_{|S(\\omega)|}$ in $ \\frac{\\mathrm{m s}^-2}{\\mathrm{m s}^-2}$  \\\n",
       "0                                           0.001715                 \n",
       "1                                           0.001866                 \n",
       "\n",
       "   $d_{\\varphi(\\omega)}$ in $rad$  \n",
       "0                        0.000156  \n",
       "1                       -0.000121  "
      ]
     },
     "execution_count": 285,
     "metadata": {},
     "output_type": "execute_result"
    }
   ],
   "source": [
    "difference_mean_PTB.head(2)"
   ]
  },
  {
   "cell_type": "markdown",
   "metadata": {},
   "source": [
    "The difference is then calculated as:\n",
    "$$ d_{M}= {\\bar {x_{M}}}-{\\bar {x_{M,all}}}$$, and\n",
    "$$ d_{\\varphi}={\\bar {x_{\\varphi}}}-{\\bar {x_{\\varphi,all}}}$$\n",
    "and the uncertainty as:\n",
    "$$ u_{d,M}= \\sqrt{{\\sigma _{M}}^{2}-{\\sigma _{M,all}}^{2}}$$, and\n",
    "$$ u_{d,\\varphi}=\\sqrt{{\\sigma _{\\varphi}}^{2}-{\\sigma _{\\varphi,all}}^{2}}$$ "
   ]
  },
  {
   "cell_type": "code",
   "execution_count": 286,
   "metadata": {},
   "outputs": [],
   "source": [
    "# difference CMC\n",
    "difference_mean_PTB_cmc=pd.DataFrame((weighted_values_PTB-weighted_values_overall)[r'$x_{wm |S(\\omega)|- CMC}$ in $ \\frac{\\mathrm{m s}^-2}{\\mathrm{m s}^-2}$'],columns=[r'$x_{wm |S(\\omega)|- CMC}$ in $ \\frac{\\mathrm{m s}^-2}{\\mathrm{m s}^-2}$'])\n",
    "difference_mean_CEM_cmc=pd.DataFrame((weighted_values_CEM-weighted_values_overall)[r'$x_{wm |S(\\omega)|- CMC}$ in $ \\frac{\\mathrm{m s}^-2}{\\mathrm{m s}^-2}$'],columns=[r'$x_{wm |S(\\omega)|- CMC}$ in $ \\frac{\\mathrm{m s}^-2}{\\mathrm{m s}^-2}$'])"
   ]
  },
  {
   "cell_type": "code",
   "execution_count": 287,
   "metadata": {},
   "outputs": [],
   "source": [
    "difference_mean_PTB_cmc=difference_mean_PTB_cmc.rename(\n",
    "    columns={r'$x_{wm |S(\\omega)|- CMC}$ in $ \\frac{\\mathrm{m s}^-2}{\\mathrm{m s}^-2}$': r\"$d_{|S(\\omega)|- CMC}$ in $ \\frac{\\mathrm{m s}^-2}{\\mathrm{m s}^-2}$\"})\n",
    "difference_mean_CEM_cmc=difference_mean_CEM_cmc.rename(\n",
    "    columns={r'$x_{wm |S(\\omega)|- CMC}$ in $ \\frac{\\mathrm{m s}^-2}{\\mathrm{m s}^-2}$': r\"$d_{|S(\\omega)|- CMC}$ in $ \\frac{\\mathrm{m s}^-2}{\\mathrm{m s}^-2}$\"})\n"
   ]
  },
  {
   "cell_type": "code",
   "execution_count": 288,
   "metadata": {},
   "outputs": [],
   "source": [
    "#CMC\n",
    "difference_mean_PTB_cmc[r'$x_{wm \\varphi(\\omega) - CMC}$ in $rad$']=(weighted_values_PTB-weighted_values_overall)[r'$x_{wm \\varphi(\\omega) - CMC}$ in $rad$']\n",
    "difference_mean_CEM_cmc[r'$x_{wm \\varphi(\\omega) - CMC}$ in $rad$']=(weighted_values_CEM-weighted_values_overall)[r'$x_{wm \\varphi(\\omega) - CMC}$ in $rad$']"
   ]
  },
  {
   "cell_type": "code",
   "execution_count": 289,
   "metadata": {},
   "outputs": [],
   "source": [
    "difference_mean_PTB_cmc=difference_mean_PTB_cmc.rename(\n",
    "    columns={r'$x_{wm \\varphi(\\omega) - CMC}$ in $rad$': r\"$d_{\\varphi(\\omega) - CMC}$ in $rad$\"})\n",
    "difference_mean_CEM_cmc=difference_mean_CEM_cmc.rename(\n",
    "    columns={r'$x_{wm \\varphi(\\omega) - CMC}$ in $rad$': r\"$d_{\\varphi(\\omega) - CMC}$ in $rad$\"})"
   ]
  },
  {
   "cell_type": "markdown",
   "metadata": {},
   "source": [
    "According to convention, the results are considered consistent, if the expanded uncertainty of the deviation is larger than the deviation from the weighted mean, which can be expressed in terms of the En-value as:\n",
    "\n",
    "$$ E_{N}=\\frac {d}{2u_{d}}<1.0$$ \n",
    "\n",
    "Note that this equation isdifferent from the previous one because the calculated difference in the nominator is between a laboratory and a reference weighted mean.In the previous case it was calculated between two laboratories [4]. "
   ]
  },
  {
   "cell_type": "code",
   "execution_count": 290,
   "metadata": {},
   "outputs": [],
   "source": [
    "#degree of equivalence\n",
    "\n",
    "DOE_PTB_mag= pd.DataFrame(difference_mean_PTB_cmc[r\"$d_{|S(\\omega)|- CMC}$ in $ \\frac{\\mathrm{m s}^-2}{\\mathrm{m s}^-2}$\"])\n",
    "DOE_PTB_mag[r\"$u_{di}$ in $ \\frac{\\mathrm{m s}^-2}{\\mathrm{m s}^-2}$\"]=np.sqrt((weighted_values_PTB[r'$\\sigma_{|S(\\omega)|- CMC}$ in $ \\frac{\\mathrm{m s}^-2}{\\mathrm{m s}^-2}$'].values)**2-weighted_values_overall[r'$\\sigma_{|S(\\omega)|- CMC}$ in $ \\frac{\\mathrm{m s}^-2}{\\mathrm{m s}^-2}$'].values**2)\n",
    "DOE_PTB_mag[r\"$E_{N}$\"]=DOE_PTB_mag[r\"$d_{|S(\\omega)|- CMC}$ in $ \\frac{\\mathrm{m s}^-2}{\\mathrm{m s}^-2}$\"]/(2*DOE_PTB_mag[r\"$u_{di}$ in $ \\frac{\\mathrm{m s}^-2}{\\mathrm{m s}^-2}$\"])\n",
    "\n",
    "DOE_CEM_mag= pd.DataFrame(difference_mean_CEM_cmc[r\"$d_{|S(\\omega)|- CMC}$ in $ \\frac{\\mathrm{m s}^-2}{\\mathrm{m s}^-2}$\"])\n",
    "DOE_CEM_mag[r\"$u_{di}$ in $ \\frac{\\mathrm{m s}^-2}{\\mathrm{m s}^-2}$\"]=np.sqrt((weighted_values_CEM[r'$\\sigma_{|S(\\omega)|- CMC}$ in $ \\frac{\\mathrm{m s}^-2}{\\mathrm{m s}^-2}$'].values)**2-weighted_values_overall[r'$\\sigma_{|S(\\omega)|- CMC}$ in $ \\frac{\\mathrm{m s}^-2}{\\mathrm{m s}^-2}$'].values**2)\n",
    "DOE_CEM_mag[r\"$E_{N}$\"]=DOE_CEM_mag[r\"$d_{|S(\\omega)|- CMC}$ in $ \\frac{\\mathrm{m s}^-2}{\\mathrm{m s}^-2}$\"]/(2*DOE_CEM_mag[r\"$u_{di}$ in $ \\frac{\\mathrm{m s}^-2}{\\mathrm{m s}^-2}$\"])"
   ]
  },
  {
   "cell_type": "code",
   "execution_count": 291,
   "metadata": {},
   "outputs": [],
   "source": [
    "paper_columns=[r\"$d_{i} in \\frac{\\mathrm{m s}^-2}{\\mathrm{m s}^-2}$\",r\"$u_{di}$ in $ \\frac{\\mathrm{m s}^-2}{\\mathrm{m s}^-2}$\",r\"$E_{N}$\"]\n",
    "DOE_PTB_mag.columns= paper_columns\n",
    "DOE_CEM_mag.columns= paper_columns"
   ]
  },
  {
   "cell_type": "markdown",
   "metadata": {},
   "source": [
    "Uncertainties expressed as relative:"
   ]
  },
  {
   "cell_type": "code",
   "execution_count": 292,
   "metadata": {},
   "outputs": [],
   "source": [
    "relative_udi_PTB=np.abs((DOE_PTB_mag[r\"$u_{di}$ in $ \\frac{\\mathrm{m s}^-2}{\\mathrm{m s}^-2}$\"]/DOE_PTB_mag[r\"$d_{i} in \\frac{\\mathrm{m s}^-2}{\\mathrm{m s}^-2}$\"])*100)\n",
    "relative_udi_CEM=np.abs((DOE_CEM_mag[r\"$u_{di}$ in $ \\frac{\\mathrm{m s}^-2}{\\mathrm{m s}^-2}$\"]/DOE_CEM_mag[r\"$d_{i} in \\frac{\\mathrm{m s}^-2}{\\mathrm{m s}^-2}$\"])*100)\n",
    "DOE_PTB_mag.insert(2,r\"$u_{di}$ in $\\%$\",relative_udi_PTB)\n",
    "DOE_CEM_mag.insert(2,r\"$u_{di}$ in $\\%$\",relative_udi_CEM)"
   ]
  },
  {
   "cell_type": "code",
   "execution_count": 293,
   "metadata": {},
   "outputs": [],
   "source": [
    "paper_results_mag=pd.concat([DOE_PTB_mag,DOE_CEM_mag],axis=1)\n",
    "paper_results_mag.insert(0,r\"$x_{wm}$ in $ \\frac{\\mathrm{m s}^-2}{\\mathrm{m s}^-2}$\",weighted_values_overall[r'$x_{wm |S(\\omega)|- CMC}$ in $ \\frac{\\mathrm{m s}^-2}{\\mathrm{m s}^-2}$'])\n",
    "paper_results_mag.insert(1,r\"$u_{wm}$ in $ \\frac{\\mathrm{m s}^-2}{\\mathrm{m s}^-2}$\",weighted_values_overall[r'$\\sigma_{|S(\\omega)|- CMC}$ in $ \\frac{\\mathrm{m s}^-2}{\\mathrm{m s}^-2}$'])"
   ]
  },
  {
   "cell_type": "code",
   "execution_count": 294,
   "metadata": {},
   "outputs": [],
   "source": [
    "relative_wx=(paper_results_mag[r\"$u_{wm}$ in $ \\frac{\\mathrm{m s}^-2}{\\mathrm{m s}^-2}$\"]/paper_results_mag[r\"$x_{wm}$ in $ \\frac{\\mathrm{m s}^-2}{\\mathrm{m s}^-2}$\"])*100\n",
    "paper_results_mag.insert(2,r\"$u_{wm}$ in $ \\%$\",relative_wx)"
   ]
  },
  {
   "cell_type": "code",
   "execution_count": 295,
   "metadata": {},
   "outputs": [],
   "source": [
    "paper_results_mag=paper_results_mag.set_axis(list_of_freq)"
   ]
  },
  {
   "cell_type": "code",
   "execution_count": 301,
   "metadata": {},
   "outputs": [
    {
     "data": {
      "text/plain": [
       "Index(['$d_{i} in \\frac{\\mathrm{m s}^-2}{\\mathrm{m s}^-2}$',\n",
       "       '$u_{di}$ in $ \\frac{\\mathrm{m s}^-2}{\\mathrm{m s}^-2}$',\n",
       "       '$u_{di}$ in $\\%$', '$E_{N}$'],\n",
       "      dtype='object')"
      ]
     },
     "execution_count": 301,
     "metadata": {},
     "output_type": "execute_result"
    }
   ],
   "source": [
    "DOE_PTB_mag.columns"
   ]
  },
  {
   "cell_type": "code",
   "execution_count": 302,
   "metadata": {},
   "outputs": [
    {
     "data": {
      "image/png": "[encoded data removed]",
      "text/plain": [
       "<Figure size 1152x648 with 2 Axes>"
      ]
     },
     "metadata": {
      "needs_background": "light"
     },
     "output_type": "display_data"
    }
   ],
   "source": [
    "%matplotlib inline\n",
    "#%matplotlib qt    \n",
    "#activate qt ploting to have interactive scaleable window with save button\n",
    "fig,ax=plt.subplots(2,1,sharex=\"all\",figsize=(16,9))#figsize=(20,10)\n",
    "x=np.array(list_of_freq)\n",
    "x1=x*1.01#OFFSET 1% offset to better ditinguish both labs\n",
    "y= DOE_PTB_mag[r\"$d_{i} in \\frac{\\mathrm{m s}^-2}{\\mathrm{m s}^-2}$\"].values\n",
    "y1=DOE_CEM_mag[r\"$d_{i} in \\frac{\\mathrm{m s}^-2}{\\mathrm{m s}^-2}$\"].values\n",
    "yPTB=weighted_values_PTB[r\"$x_{wm |S(\\omega)|- CMC}$ in $ \\frac{\\mathrm{m s}^-2}{\\mathrm{m s}^-2}$\"]\n",
    "yCEM=weighted_values_CEM[r\"$x_{wm |S(\\omega)|- CMC}$ in $ \\frac{\\mathrm{m s}^-2}{\\mathrm{m s}^-2}$\"]\n",
    "error_mag_PTB=DOE_PTB_mag[r\"$u_{di}$ in $ \\frac{\\mathrm{m s}^-2}{\\mathrm{m s}^-2}$\"]*2\n",
    "#s_pooled_PTB_mag_CMC*t_mag_PTB_CMC*last_mem_mag_PTB_CMC\n",
    "error_mag_CEM=DOE_CEM_mag[r\"$u_{di}$ in $ \\frac{\\mathrm{m s}^-2}{\\mathrm{m s}^-2}$\"]*2\n",
    "#s_pooled_CEM_mag_CMC*t_mag_CEM_CMC*last_mem_mag_CEM_CMC\n",
    "ax[0].plot(x, yPTB, linestyle=\"\",marker=\"o\",label=\"PTB\")\n",
    "ax[0].plot(x1, yCEM, linestyle=\"\",marker=\"o\",label=\"CEM\",color=\"red\")\n",
    "ax[0].set_xlabel(\"Frequency in Hz\")\n",
    "ax[0].set_ylabel(r\"$|S(\\omega)|$  in $\\frac{\\mathrm{m s}^-2}{\\mathrm{m s}^-2}$\")\n",
    "ax[0].set_xscale('log')\n",
    "ax[0].legend()\n",
    "ax[0].grid()\n",
    "\n",
    "ax[1].errorbar(x, y,yerr=error_mag_PTB, linestyle=\"\",marker=\"o\",label=\"PTB\")\n",
    "ax[1].errorbar(x1, y1,yerr=error_mag_CEM, linestyle=\"\",marker=\"o\",label=\"CEM\",color=\"red\")\n",
    "ax[1].set_xlabel(\"Frequency in Hz\")\n",
    "ax[1].set_ylabel(r\"$|S(\\omega)|-\\overline{|S|}$  in $\\frac{\\mathrm{m s}^-2}{\\mathrm{m s}^-2}$\")\n",
    "ax[1].set_xscale('log')\n",
    "ax[1].legend()\n",
    "ax[1].grid() \n",
    "plt.show()"
   ]
  },
  {
   "cell_type": "markdown",
   "metadata": {},
   "source": [
    "The same procedure is used for the phase values:"
   ]
  },
  {
   "cell_type": "code",
   "execution_count": 303,
   "metadata": {},
   "outputs": [],
   "source": [
    "#degree of equivalence - phase\n",
    "DOE_PTB_ph= pd.DataFrame(np.rad2deg(difference_mean_PTB_cmc[r\"$d_{\\varphi(\\omega) - CMC}$ in $rad$\"].values),columns=[r\"$d_{i}$ in $^\\circ$\"])\n",
    "DOE_PTB_ph[r\"$u_{di}$ in $^\\circ$\"]=np.rad2deg(np.sqrt((weighted_values_PTB[r'$\\sigma_{\\varphi(\\omega) - CMC}$ in $rad$'].values)**2-weighted_values_overall[r'$\\sigma_{\\varphi(\\omega) - CMC}$ in $rad$'].values**2))\n",
    "DOE_PTB_ph[r\"$E_{N}$\"]=DOE_PTB_ph[r\"$d_{i}$ in $^\\circ$\"]/(2*DOE_PTB_ph[r\"$u_{di}$ in $^\\circ$\"])\n",
    "\n",
    "DOE_CEM_ph= pd.DataFrame(np.rad2deg(difference_mean_CEM_cmc[r\"$d_{\\varphi(\\omega) - CMC}$ in $rad$\"].values),columns=[r\"$d_{i}$ in $^\\circ$\"])\n",
    "DOE_CEM_ph[r\"$u_{di}$ in $^\\circ$\"]=np.rad2deg(np.sqrt((weighted_values_CEM[r'$\\sigma_{\\varphi(\\omega) - CMC}$ in $rad$'].values)**2-weighted_values_overall[r'$\\sigma_{\\varphi(\\omega) - CMC}$ in $rad$'].values**2))\n",
    "DOE_CEM_ph[r\"$E_{N}$\"]=DOE_CEM_ph[r\"$d_{i}$ in $^\\circ$\"]/(2*DOE_CEM_ph[r\"$u_{di}$ in $^\\circ$\"])"
   ]
  },
  {
   "cell_type": "code",
   "execution_count": 304,
   "metadata": {},
   "outputs": [],
   "source": [
    "paper_columns1=[r\"$d_{i}$ in $^\\circ$\",r\"$u_{di}$ in $^\\circ$\",r\"$E_{N}$\"]\n",
    "DOE_PTB_ph.columns= paper_columns1\n",
    "DOE_CEM_ph.columns= paper_columns1"
   ]
  },
  {
   "cell_type": "code",
   "execution_count": 305,
   "metadata": {},
   "outputs": [],
   "source": [
    "paper_results_ph=pd.concat([DOE_PTB_ph,DOE_CEM_ph],axis=1)\n",
    "paper_results_ph.insert(0,r\"$x_{wm}$ in $^\\circ$\",np.rad2deg(weighted_values_overall[r'$x_{wm \\varphi(\\omega) - CMC}$ in $rad$'].values))\n",
    "paper_results_ph.insert(1,r\"$u_{wm}$ in $^\\circ$\",np.rad2deg(weighted_values_overall[r'$\\sigma_{\\varphi(\\omega) - CMC}$ in $rad$']))"
   ]
  },
  {
   "cell_type": "code",
   "execution_count": 306,
   "metadata": {},
   "outputs": [
    {
     "data": {
      "image/png": "[encoded data removed]",
      "text/plain": [
       "<Figure size 1152x648 with 2 Axes>"
      ]
     },
     "metadata": {
      "needs_background": "light"
     },
     "output_type": "display_data"
    }
   ],
   "source": [
    "#%matplotlib qt  \n",
    "#activate qt ploting to have interactive scaleable window with save button\n",
    "fig,ax=plt.subplots(2,1,sharex=\"all\",figsize=(16,9))#figsize=(20,10)\n",
    "x=np.array(list_of_freq)\n",
    "x1=x*1.005#OFFSET 1% offset to better ditinguish both labs\n",
    "y= DOE_PTB_ph[r\"$d_{i}$ in $^\\circ$\"].values\n",
    "y1=DOE_CEM_ph[r\"$d_{i}$ in $^\\circ$\"].values\n",
    "phaseRawPTB=weighted_values_PTB[r\"$x_{wm \\varphi(\\omega) - CMC}$ in $rad$\"]\n",
    "phaseRawCEM=weighted_values_CEM[r\"$x_{wm \\varphi(\\omega) - CMC}$ in $rad$\"]\n",
    "error_ph_PTB=DOE_PTB_ph[r\"$u_{di}$ in $^\\circ$\"]*2\n",
    "#s_pooled_PTB_ph_CMC*t_ph_PTB_CMC*last_mem_ph_PTB_CMC\n",
    "error_ph_CEM=DOE_CEM_ph[r\"$u_{di}$ in $^\\circ$\"]*2\n",
    "ax[0].plot(x, np.rad2deg(phaseRawPTB), linestyle=\"\",marker=\"o\",label=\"PTB\")\n",
    "ax[0].plot(x1, np.rad2deg(phaseRawCEM), linestyle=\"\",marker=\"o\",label=\"CEM\",color=\"red\")\n",
    "ax[0].set_ylabel(r\"$\\varphi(\\omega)$ in$^\\circ$\")\n",
    "ax[0].set_xscale('log')\n",
    "ax[0].grid() \n",
    "ax[0].legend()\n",
    "ax[1].errorbar(x, y,yerr=error_ph_PTB, linestyle=\"\",marker=\"o\",label=\"PTB\")\n",
    "ax[1].errorbar(x1, y1,yerr=error_ph_CEM, linestyle=\"\",marker=\"o\",label=\"CEM\",color=\"red\")\n",
    "ax[1].set_xlabel(\"Frequency in Hz\")\n",
    "ax[1].set_ylabel(r\"$\\varphi(\\omega) -\\overline{\\varphi(\\omega) }$ in $^\\circ$\")\n",
    "ax[1].set_xscale('log')\n",
    "ax[1].grid() \n",
    "ax[1].legend()\n",
    "plt.show()"
   ]
  },
  {
   "cell_type": "code",
   "execution_count": 307,
   "metadata": {},
   "outputs": [
    {
     "data": {
      "text/html": [
       "<div>\n",
       "<style scoped>\n",
       "    .dataframe tbody tr th:only-of-type {\n",
       "        vertical-align: middle;\n",
       "    }\n",
       "\n",
       "    .dataframe tbody tr th {\n",
       "        vertical-align: top;\n",
       "    }\n",
       "\n",
       "    .dataframe thead th {\n",
       "        text-align: right;\n",
       "    }\n",
       "</style>\n",
       "<table border=\"1\" class=\"dataframe\">\n",
       "  <thead>\n",
       "    <tr style=\"text-align: right;\">\n",
       "      <th></th>\n",
       "      <th>$d_{i}$ in $^\\circ$</th>\n",
       "      <th>$u_{di}$ in $^\\circ$</th>\n",
       "      <th>$E_{N}$</th>\n",
       "    </tr>\n",
       "  </thead>\n",
       "  <tbody>\n",
       "    <tr>\n",
       "      <th>0</th>\n",
       "      <td>0.001650</td>\n",
       "      <td>0.037139</td>\n",
       "      <td>0.022215</td>\n",
       "    </tr>\n",
       "    <tr>\n",
       "      <th>1</th>\n",
       "      <td>-0.001131</td>\n",
       "      <td>0.037139</td>\n",
       "      <td>-0.015225</td>\n",
       "    </tr>\n",
       "  </tbody>\n",
       "</table>\n",
       "</div>"
      ],
      "text/plain": [
       "   $d_{i}$ in $^\\circ$  $u_{di}$ in $^\\circ$   $E_{N}$\n",
       "0             0.001650              0.037139  0.022215\n",
       "1            -0.001131              0.037139 -0.015225"
      ]
     },
     "execution_count": 307,
     "metadata": {},
     "output_type": "execute_result"
    }
   ],
   "source": [
    "DOE_PTB_ph.head(2)"
   ]
  },
  {
   "cell_type": "markdown",
   "metadata": {},
   "source": [
    "The En values are below 1 for both quantities, which is in accordance with the plots."
   ]
  },
  {
   "cell_type": "code",
   "execution_count": 308,
   "metadata": {},
   "outputs": [],
   "source": [
    "paper_results_ph=paper_results_ph.set_axis(list_of_freq)\n",
    "writer2 = pd.ExcelWriter('Results.xlsx')\n",
    "paper_results_mag.to_excel(writer2,sheet_name = \"Magnitude\", index=True)\n",
    "paper_results_ph.to_excel(writer2,sheet_name = \"Phase\", index=True)\n",
    "writer2.save()"
   ]
  },
  {
   "cell_type": "markdown",
   "metadata": {},
   "source": [
    "# References"
   ]
  },
  {
   "cell_type": "markdown",
   "metadata": {},
   "source": [
    "\n",
    "<br>[1] https://en.wikipedia.org/wiki/Weighted_arithmetic_mean\n",
    "<br>[2] https://en.wikipedia.org/wiki/Effective_sample_size\n",
    "<br>[3] https://online.stat.psu.edu/stat500/lesson/10/10.2/10.2.1\n",
    "<br>[4]https://iopscience.iop.org/article/10.1088/0026-1394/39/6/10"
   ]
  },
  {
   "cell_type": "code",
   "execution_count": null,
   "metadata": {},
   "outputs": [],
   "source": []
  }
 ],
 "metadata": {
  "kernelspec": {
   "display_name": "Python 3",
   "language": "python",
   "name": "python3"
  },
  "language_info": {
   "codemirror_mode": {
    "name": "ipython",
    "version": 3
   },
   "file_extension": ".py",
   "mimetype": "text/x-python",
   "name": "python",
   "nbconvert_exporter": "python",
   "pygments_lexer": "ipython3",
   "version": "3.7.1"
  }
 },
 "nbformat": 4,
 "nbformat_minor": 4
}
