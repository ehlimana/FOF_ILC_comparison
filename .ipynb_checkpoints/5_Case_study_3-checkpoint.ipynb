{
 "cells": [
  {
   "cell_type": "markdown",
   "metadata": {},
   "source": [
    "\n",
    "# 1. Introduction"
   ]
  },
  {
   "cell_type": "markdown",
   "metadata": {},
   "source": [
    "This notebook has been developed for the purposes of the EMPIR project “Metrology for the Factory of the Future” (Met4FoF) -  Activity A1.2.2 of the Work Package 1.Two laboratories in PTB and CEM posses conventional dynamic calibration set-ups for acceleration sensors under test. The objective of the task is to compare measurement results of the two laboratories, PTB and CEM, provided by the extended dynamic calibration systems.  \n",
    "\n",
    "\n",
    "## 1.1. State of the art\n",
    "\n",
    "In conventional dynamic calibration procedures for acceleration sensors, the acceleration used for the sensor input is applied either as **a sinusoidal excitation with a given frequency and amplitude** or as **a singular shock-like excitation characterized by pulse width and intensity**. \n",
    "<br>The quantity is then measured by a reference sensor and by the device under test (DUT). The results of DUT are compared to the reference and hence characterized and linked to the SI. In a dynamic calibration situation, the response of the DUT to time-varying input is the major interest. Hence, it is crucial that the mechanical input operates simultaneously and equally on the reference and DUT. Both, the reference and the DUT provide **electrical outputs (typical voltage)** while **the data acquisition electronics** of the system provides **the analogue to digital conversion (ADC).**\n",
    "In order to connect the reference and the DUT to the ADC system, two analogue channels are needed. In order to get reliable information on the time dependent response, the timing of the data acquisition on the two channels has to be synchronized. This is typically accomplished by provision of a common clock signal to drive the sampling units of the ADC and a common trigger to start (or mark) the beginning of the acquisition. "
   ]
  },
  {
   "cell_type": "markdown",
   "metadata": {},
   "source": [
    "## 1.2. The extension of conventional dynamic calibration systems to digital-output sensors \n",
    "\n",
    "In a set-up where the DUT is a digital-output sensor,the sampling of the DUT time series is no longer under the control (trigger, clock) of the calibration system. Instead, the DUT comprises its own digitizer unit with a time base independent of the calibration system. In fact, a typical conventional calibration set-up does not provide an input for digital data at all.\n",
    "The solution to this problem requires two extensions:\n",
    "1.\tA digital acquisition unit (DAU) which is capable to connect to the digital interface of the sensor under calibration and store/transmit the DUT time-series for later analysis\n",
    "2.\tAn additional synchronization signal that provides the link between the time-base of the calibration system and the time-base of the DUT.\n",
    "\n",
    "The concept for the extension of existing facilities for dynamic calibration uses a custom digital acquisition unit microcontroller board with a connected reference time signal for traceable time stamping of acquired data points. This allows for a synchronised data acquisition from the reference measurement and the DUT. The selected sensor for acceleration measurements is a three axial low-g acceleration sensor with digital output, which allows measurements of acceleration in three perpendicular axes.**At the moment and in this notebook, only an X-axis acceleration has been observed.** \n",
    "    \n",
    "The selected laboratories posses their set-ups and the calibration items were calibrated in both set-ups.The analysis required transformation from time domain to the frequency domain, where frequencies and corresponding magnitudes and phases were calculated.The measurement conditions were kept according to the laboratory standard conditions. \n",
    "\n",
    "Each laboratory submitted HDFT files containing groups:\n",
    "- EXPERIMENTS - containing 171 files (experiment) corresponding to the sine excitations\n",
    "- RAWDATA - where data from ADCs (*voltage, absolute time, absolute time uncertainty*)  and sensors (*absolute time, absolute time uncertainty, acceleration, angular velocity, magnetic flux density and temperature*) can be approached during the measurements\n",
    "- RAWTRANSFERFUNCTION - *this group contains quantities of interest: frequencies, amplitudes, assigned uncertainties of amplitudes, phases,  assigned uncertainties of phases, excitation amplitudes and assigned uncertainties of excitation amplitudes\n",
    "- REFERENCEDATA - reference data from ADCs and sensors.\n",
    "\n",
    "    \n",
    "| <b>PTB<b> | Sensor | Internal ADC |\n",
    "| --- | --- | --- |\n",
    "| <b>Name<b> | MPU 9250| STM 32 Internal ADC |\n",
    "| <b>ID<b>  | 535035904 | 535038464 |\n",
    "| <b>Quantity<b>  | X Acceleration | Voltage  @CH1 |\n",
    "| <b>Unit<b>  | $\\frac{m}{s^{2}}$ | V |    \n",
    "| <b>Resolution<b>  | 65536,0 (16-bit) | 4096,0 (12-bit) |\n",
    "| <b>Min. scale<b>  | -156,91439819335938 $\\frac{m}{s^{2}}$  | -10 V |\n",
    "| <b>Min. scale<b>  | 156,90960693359375 $\\frac{m}{s^{2}}$  | 10 V |\n",
    "    \n",
    "| <b>CEM<b> | Sensor | Internal ADC |\n",
    "| --- | --- | --- |\n",
    "| <b>Name<b> | MPU 9250| STM 32 Internal ADC |\n",
    "| <b>ID<b>  | 3167420416 | 31674422976 |\n",
    "| <b>Quantity<b>  | X Acceleration | Voltage  @CH1 |\n",
    "| <b>Unit<b>  | $\\frac{m}{s^{2}}$ | V |    \n",
    "| <b>Resolution<b>  | 65536,0 (16-bit) | 4096,0 (12-bit) |\n",
    "| <b>Min. scale<b>  | -156,91439819335938 $\\frac{m}{s^{2}}$  | -10 V |\n",
    "| <b>Min. scale<b>  | 156,90960693359375 $\\frac{m}{s^{2}}$  | 10 V |"
   ]
  },
  {
   "cell_type": "code",
   "execution_count": 1,
   "metadata": {},
   "outputs": [
    {
     "name": "stderr",
     "output_type": "stream",
     "text": [
      "\n",
      "Bad key \"text.kerning_factor\" on line 4 in\n",
      "C:\\Users\\EhlimanaJugo\\anaconda3\\envs\\Ehlimana\\lib\\site-packages\\matplotlib\\mpl-data\\stylelib\\_classic_test_patch.mplstyle.\n",
      "You probably need to get an updated matplotlibrc file from\n",
      "https://github.com/matplotlib/matplotlib/blob/v3.1.3/matplotlibrc.template\n",
      "or from the matplotlib source distribution\n"
     ]
    }
   ],
   "source": [
    "import h5py\n",
    "import numpy as np\n",
    "import pandas as pd\n",
    "import openpyxl\n",
    "import matplotlib.pyplot as plt\n",
    "import scipy.stats\n",
    "import numpy as np\n",
    "import scipy.stats as stats\n",
    "import seaborn as sns"
   ]
  },
  {
   "cell_type": "markdown",
   "metadata": {},
   "source": [
    "# 2.Extract the data"
   ]
  },
  {
   "cell_type": "markdown",
   "metadata": {},
   "source": [
    "Data for ILC comparison is extracted from the HDF5 files separately for PTB and CEM. The extracted data will be sorted by frequency at the end of the Notebook and saved into Excel file."
   ]
  },
  {
   "cell_type": "code",
   "execution_count": 2,
   "metadata": {},
   "outputs": [],
   "source": [
    "def extract_data(filename, sensor_index):\n",
    "    #explore the HDF5 file, folders and subfolders\n",
    "    with h5py.File(filename,'r') as f:\n",
    "        base_items=list(f.items())\n",
    "        print(\"\\nItems in directory\", base_items)\n",
    "        rawtransfer=f.get(\"RAWTRANSFERFUNCTION\")\n",
    "        rawtransfer_items=list(rawtransfer.items())\n",
    "        print(\"\\nItems in reference\", rawtransfer_items)\n",
    "        subgroup=rawtransfer.get(\"/RAWTRANSFERFUNCTION/\"+sensor_index+\"_MPU_9250\")\n",
    "        subgroup_items=list(subgroup.items())\n",
    "        print(\"\\n\"+sensor_index+\"_MPU_9250 items:\",subgroup_items)\n",
    "        subgroup_acceleration=subgroup.get(\"/RAWTRANSFERFUNCTION/\"+sensor_index+\"_MPU_9250/Acceleration\")\n",
    "        subgroup_acceleration_items=list(subgroup_acceleration.items())\n",
    "        print(\"\\nAcceleration items:\",subgroup_acceleration_items)\n",
    "        subgroup_acceleration_5mem=subgroup.get(\"/RAWTRANSFERFUNCTION/\"+sensor_index+\"_MPU_9250/Acceleration/Acceleration\")\n",
    "        subgroup_acceleration_5mem_items=list(subgroup_acceleration_5mem.items())\n",
    "        print(\"\\nAcceleration items_5members:\", subgroup_acceleration_5mem_items)\n",
    "        frequency=subgroup_acceleration_5mem.get(\"/RAWTRANSFERFUNCTION/\"+sensor_index+\"_MPU_9250/Acceleration/Acceleration/Excitation_frequency\")\n",
    "        frequency_items=list(frequency.items())\n",
    "        print(\"\\nFrequency\", frequency_items)\n",
    "        magnitude=subgroup_acceleration_5mem.get(\"/RAWTRANSFERFUNCTION/\"+sensor_index+\"_MPU_9250/Acceleration/Acceleration/Magnitude\")\n",
    "        magnitude_items=list(magnitude.items())\n",
    "        print(\"\\nMagnitude\", magnitude_items)\n",
    "        phase=subgroup_acceleration_5mem.get(\"/RAWTRANSFERFUNCTION/\"+sensor_index+\"_MPU_9250/Acceleration/Acceleration/Phase\")\n",
    "        phase_items=list(magnitude.items())\n",
    "        print(\"\\nPhase\", phase_items)\n",
    "        \n",
    "        \n",
    "        #extract frequencies, magnitude, phase, uncertainties and all excitation parameters\n",
    "        frequency_values=np.array(frequency.get(\"value\"))\n",
    "        magnitude_values=np.array(magnitude.get(\"value\"))\n",
    "        magnitude_uncertainties=np.array(magnitude.get(\"uncertainty\"))\n",
    "        phase_values=np.array(phase.get(\"value\"))\n",
    "        phase_uncertainties=np.array(phase.get(\"uncertainty\"))\n",
    "        excitation_freq_items=subgroup_acceleration_5mem.get(\"/RAWTRANSFERFUNCTION/\"+sensor_index+\"_MPU_9250/Acceleration/Acceleration/Excitation_frequency\")\n",
    "        excitation_freq=np.array(excitation_freq_items.get(\"value\"))\n",
    "        excitation_amp_items=subgroup_acceleration_5mem.get(\"/RAWTRANSFERFUNCTION/\"+sensor_index+\"_MPU_9250/Acceleration/Acceleration/Excitation_amplitude\")\n",
    "        excitation_amp=np.array(excitation_amp_items.get(\"value\"))\n",
    "        excitation_amp_uncertainty=np.array(excitation_amp_items.get(\"uncertainty\"))\n",
    "        \n",
    "        #join all necessary data in 2D array\n",
    "        total_array=np.stack((frequency_values,magnitude_values,magnitude_uncertainties,phase_values, phase_uncertainties,excitation_freq,excitation_amp,excitation_amp_uncertainty), axis=1)\n",
    "        print(\"\\nArray dimensions:\", total_array.shape)\n",
    "        column_names=[\"Frequency [Hz]\", r\"$x_{M},$ [m s^-2/m s^-2]\",r\"$U_{M},$ [m s^-2/m s^-2]\", r\"$x_{\\phi},$ [rad]\", r\"$U_{\\phi},$ [rad]\",\"Excitation_freq [Hz]\",r\"$x_{Aexcit},$ [m s^-2/m s^-2]\",r\"$U_{Aexcit},$ [m s^-2/m s^-2]\"]\n",
    "        whole_dataset=pd.DataFrame(total_array, columns=column_names)\n",
    "        f.close()\n",
    "        \n",
    "        \n",
    "        return whole_dataset"
   ]
  },
  {
   "cell_type": "code",
   "execution_count": 3,
   "metadata": {},
   "outputs": [
    {
     "name": "stdout",
     "output_type": "stream",
     "text": [
      "\n",
      "Items in directory [('EXPERIMENTS', <HDF5 group \"/EXPERIMENTS\" (1 members)>), ('RAWDATA', <HDF5 group \"/RAWDATA\" (2 members)>), ('RAWTRANSFERFUNCTION', <HDF5 group \"/RAWTRANSFERFUNCTION\" (1 members)>), ('REFERENCEDATA', <HDF5 group \"/REFERENCEDATA\" (2 members)>)]\n",
      "\n",
      "Items in reference [('0x1fe40000_MPU_9250', <HDF5 group \"/RAWTRANSFERFUNCTION/0x1fe40000_MPU_9250\" (1 members)>)]\n",
      "\n",
      "0x1fe40000_MPU_9250 items: [('Acceleration', <HDF5 group \"/RAWTRANSFERFUNCTION/0x1fe40000_MPU_9250/Acceleration\" (1 members)>)]\n",
      "\n",
      "Acceleration items: [('Acceleration', <HDF5 group \"/RAWTRANSFERFUNCTION/0x1fe40000_MPU_9250/Acceleration/Acceleration\" (11 members)>)]\n",
      "\n",
      "Acceleration items_5members: [('DUT_Phase', <HDF5 group \"/RAWTRANSFERFUNCTION/0x1fe40000_MPU_9250/Acceleration/Acceleration/DUT_Phase\" (2 members)>), ('DUT_SNYNC_Phase', <HDF5 group \"/RAWTRANSFERFUNCTION/0x1fe40000_MPU_9250/Acceleration/Acceleration/DUT_SNYNC_Phase\" (2 members)>), ('DUT_amplitude', <HDF5 group \"/RAWTRANSFERFUNCTION/0x1fe40000_MPU_9250/Acceleration/Acceleration/DUT_amplitude\" (2 members)>), ('Delta_DUTSNYC_Phase', <HDF5 group \"/RAWTRANSFERFUNCTION/0x1fe40000_MPU_9250/Acceleration/Acceleration/Delta_DUTSNYC_Phase\" (2 members)>), ('Excitation_amplitude', <HDF5 group \"/RAWTRANSFERFUNCTION/0x1fe40000_MPU_9250/Acceleration/Acceleration/Excitation_amplitude\" (2 members)>), ('Excitation_frequency', <HDF5 group \"/RAWTRANSFERFUNCTION/0x1fe40000_MPU_9250/Acceleration/Acceleration/Excitation_frequency\" (2 members)>), ('Frequency', <HDF5 group \"/RAWTRANSFERFUNCTION/0x1fe40000_MPU_9250/Acceleration/Acceleration/Frequency\" (2 members)>), ('Magnitude', <HDF5 group \"/RAWTRANSFERFUNCTION/0x1fe40000_MPU_9250/Acceleration/Acceleration/Magnitude\" (2 members)>), ('Phase', <HDF5 group \"/RAWTRANSFERFUNCTION/0x1fe40000_MPU_9250/Acceleration/Acceleration/Phase\" (2 members)>), ('REF_Phase', <HDF5 group \"/RAWTRANSFERFUNCTION/0x1fe40000_MPU_9250/Acceleration/Acceleration/REF_Phase\" (2 members)>), ('SSU_ADC_Phase', <HDF5 group \"/RAWTRANSFERFUNCTION/0x1fe40000_MPU_9250/Acceleration/Acceleration/SSU_ADC_Phase\" (2 members)>)]\n",
      "\n",
      "Frequency [('uncertainty', <HDF5 dataset \"uncertainty\": shape (170,), type \"<f8\">), ('value', <HDF5 dataset \"value\": shape (170,), type \"<f8\">)]\n",
      "\n",
      "Magnitude [('uncertainty', <HDF5 dataset \"uncertainty\": shape (170,), type \"<f8\">), ('value', <HDF5 dataset \"value\": shape (170,), type \"<f8\">)]\n",
      "\n",
      "Phase [('uncertainty', <HDF5 dataset \"uncertainty\": shape (170,), type \"<f8\">), ('value', <HDF5 dataset \"value\": shape (170,), type \"<f8\">)]\n",
      "\n",
      "Array dimensions: (170, 8)\n"
     ]
    }
   ],
   "source": [
    "whole_dataset_PTB = extract_data('MPU9250PTB_v5.hdf5',\"0x1fe40000\")"
   ]
  },
  {
   "cell_type": "code",
   "execution_count": 4,
   "metadata": {},
   "outputs": [
    {
     "data": {
      "text/html": [
       "<div>\n",
       "<style scoped>\n",
       "    .dataframe tbody tr th:only-of-type {\n",
       "        vertical-align: middle;\n",
       "    }\n",
       "\n",
       "    .dataframe tbody tr th {\n",
       "        vertical-align: top;\n",
       "    }\n",
       "\n",
       "    .dataframe thead th {\n",
       "        text-align: right;\n",
       "    }\n",
       "</style>\n",
       "<table border=\"1\" class=\"dataframe\">\n",
       "  <thead>\n",
       "    <tr style=\"text-align: right;\">\n",
       "      <th></th>\n",
       "      <th>Frequency [Hz]</th>\n",
       "      <th>$x_{M},$ [m s^-2/m s^-2]</th>\n",
       "      <th>$U_{M},$ [m s^-2/m s^-2]</th>\n",
       "      <th>$x_{\\phi},$ [rad]</th>\n",
       "      <th>$U_{\\phi},$ [rad]</th>\n",
       "      <th>Excitation_freq [Hz]</th>\n",
       "      <th>$x_{Aexcit},$ [m s^-2/m s^-2]</th>\n",
       "      <th>$U_{Aexcit},$ [m s^-2/m s^-2]</th>\n",
       "    </tr>\n",
       "  </thead>\n",
       "  <tbody>\n",
       "    <tr>\n",
       "      <th>0</th>\n",
       "      <td>10.0</td>\n",
       "      <td>1.019554</td>\n",
       "      <td>0.002727</td>\n",
       "      <td>-0.094684</td>\n",
       "      <td>0.003022</td>\n",
       "      <td>10.0</td>\n",
       "      <td>2.739</td>\n",
       "      <td>0.000548</td>\n",
       "    </tr>\n",
       "    <tr>\n",
       "      <th>1</th>\n",
       "      <td>12.5</td>\n",
       "      <td>1.019093</td>\n",
       "      <td>0.003008</td>\n",
       "      <td>-0.118820</td>\n",
       "      <td>0.006455</td>\n",
       "      <td>12.5</td>\n",
       "      <td>2.744</td>\n",
       "      <td>0.000549</td>\n",
       "    </tr>\n",
       "  </tbody>\n",
       "</table>\n",
       "</div>"
      ],
      "text/plain": [
       "   Frequency [Hz]  $x_{M},$ [m s^-2/m s^-2]  $U_{M},$ [m s^-2/m s^-2]  \\\n",
       "0            10.0                  1.019554                  0.002727   \n",
       "1            12.5                  1.019093                  0.003008   \n",
       "\n",
       "   $x_{\\phi},$ [rad]  $U_{\\phi},$ [rad]  Excitation_freq [Hz]  \\\n",
       "0          -0.094684           0.003022                  10.0   \n",
       "1          -0.118820           0.006455                  12.5   \n",
       "\n",
       "   $x_{Aexcit},$ [m s^-2/m s^-2]  $U_{Aexcit},$ [m s^-2/m s^-2]  \n",
       "0                          2.739                       0.000548  \n",
       "1                          2.744                       0.000549  "
      ]
     },
     "execution_count": 4,
     "metadata": {},
     "output_type": "execute_result"
    }
   ],
   "source": [
    "whole_dataset_PTB.head(2)"
   ]
  },
  {
   "cell_type": "markdown",
   "metadata": {},
   "source": [
    "Phase data for PTB must be reverted:"
   ]
  },
  {
   "cell_type": "code",
   "execution_count": 5,
   "metadata": {},
   "outputs": [],
   "source": [
    "[\"Frequency [Hz]\", r\"$x_{M},$ [m s^-2/m s^-2]\",r\"$U_{M},$ [m s^-2/m s^-2]\", r\"$x_{\\phi},$ [rad]\", r\"$U_{\\phi},$ [rad]\",\"Excitation_freq [Hz]\",r\"$x_{Aexcit},$ [m s^-2/m s^-2]\",r\"$U_{Aexcit},$ [m s^-2/m s^-2]\"]\n",
    "\n",
    "whole_dataset_PTB[[r\"$x_{\\phi},$ [rad]\"]] = whole_dataset_PTB[[r\"$x_{\\phi},$ [rad]\"]]"
   ]
  },
  {
   "cell_type": "code",
   "execution_count": 6,
   "metadata": {},
   "outputs": [
    {
     "data": {
      "text/html": [
       "<div>\n",
       "<style scoped>\n",
       "    .dataframe tbody tr th:only-of-type {\n",
       "        vertical-align: middle;\n",
       "    }\n",
       "\n",
       "    .dataframe tbody tr th {\n",
       "        vertical-align: top;\n",
       "    }\n",
       "\n",
       "    .dataframe thead th {\n",
       "        text-align: right;\n",
       "    }\n",
       "</style>\n",
       "<table border=\"1\" class=\"dataframe\">\n",
       "  <thead>\n",
       "    <tr style=\"text-align: right;\">\n",
       "      <th></th>\n",
       "      <th>Frequency [Hz]</th>\n",
       "      <th>$x_{M},$ [m s^-2/m s^-2]</th>\n",
       "      <th>$U_{M},$ [m s^-2/m s^-2]</th>\n",
       "      <th>$x_{\\phi},$ [rad]</th>\n",
       "      <th>$U_{\\phi},$ [rad]</th>\n",
       "      <th>Excitation_freq [Hz]</th>\n",
       "      <th>$x_{Aexcit},$ [m s^-2/m s^-2]</th>\n",
       "      <th>$U_{Aexcit},$ [m s^-2/m s^-2]</th>\n",
       "    </tr>\n",
       "  </thead>\n",
       "  <tbody>\n",
       "    <tr>\n",
       "      <th>0</th>\n",
       "      <td>10.0</td>\n",
       "      <td>1.019554</td>\n",
       "      <td>0.002727</td>\n",
       "      <td>-0.094684</td>\n",
       "      <td>0.003022</td>\n",
       "      <td>10.0</td>\n",
       "      <td>2.739</td>\n",
       "      <td>0.000548</td>\n",
       "    </tr>\n",
       "    <tr>\n",
       "      <th>1</th>\n",
       "      <td>12.5</td>\n",
       "      <td>1.019093</td>\n",
       "      <td>0.003008</td>\n",
       "      <td>-0.118820</td>\n",
       "      <td>0.006455</td>\n",
       "      <td>12.5</td>\n",
       "      <td>2.744</td>\n",
       "      <td>0.000549</td>\n",
       "    </tr>\n",
       "  </tbody>\n",
       "</table>\n",
       "</div>"
      ],
      "text/plain": [
       "   Frequency [Hz]  $x_{M},$ [m s^-2/m s^-2]  $U_{M},$ [m s^-2/m s^-2]  \\\n",
       "0            10.0                  1.019554                  0.002727   \n",
       "1            12.5                  1.019093                  0.003008   \n",
       "\n",
       "   $x_{\\phi},$ [rad]  $U_{\\phi},$ [rad]  Excitation_freq [Hz]  \\\n",
       "0          -0.094684           0.003022                  10.0   \n",
       "1          -0.118820           0.006455                  12.5   \n",
       "\n",
       "   $x_{Aexcit},$ [m s^-2/m s^-2]  $U_{Aexcit},$ [m s^-2/m s^-2]  \n",
       "0                          2.739                       0.000548  \n",
       "1                          2.744                       0.000549  "
      ]
     },
     "execution_count": 6,
     "metadata": {},
     "output_type": "execute_result"
    }
   ],
   "source": [
    "whole_dataset_PTB.head(2)"
   ]
  },
  {
   "cell_type": "code",
   "execution_count": 7,
   "metadata": {},
   "outputs": [
    {
     "name": "stdout",
     "output_type": "stream",
     "text": [
      "\n",
      "Items in directory [('EXPERIMENTS', <HDF5 group \"/EXPERIMENTS\" (1 members)>), ('RAWDATA', <HDF5 group \"/RAWDATA\" (2 members)>), ('RAWTRANSFERFUNCTION', <HDF5 group \"/RAWTRANSFERFUNCTION\" (1 members)>), ('REFERENCEDATA', <HDF5 group \"/REFERENCEDATA\" (2 members)>)]\n",
      "\n",
      "Items in reference [('0xbccb0000_MPU_9250', <HDF5 group \"/RAWTRANSFERFUNCTION/0xbccb0000_MPU_9250\" (1 members)>)]\n",
      "\n",
      "0xbccb0000_MPU_9250 items: [('Acceleration', <HDF5 group \"/RAWTRANSFERFUNCTION/0xbccb0000_MPU_9250/Acceleration\" (1 members)>)]\n",
      "\n",
      "Acceleration items: [('Acceleration', <HDF5 group \"/RAWTRANSFERFUNCTION/0xbccb0000_MPU_9250/Acceleration/Acceleration\" (11 members)>)]\n",
      "\n",
      "Acceleration items_5members: [('DUT_Phase', <HDF5 group \"/RAWTRANSFERFUNCTION/0xbccb0000_MPU_9250/Acceleration/Acceleration/DUT_Phase\" (2 members)>), ('DUT_SNYNC_Phase', <HDF5 group \"/RAWTRANSFERFUNCTION/0xbccb0000_MPU_9250/Acceleration/Acceleration/DUT_SNYNC_Phase\" (2 members)>), ('DUT_amplitude', <HDF5 group \"/RAWTRANSFERFUNCTION/0xbccb0000_MPU_9250/Acceleration/Acceleration/DUT_amplitude\" (2 members)>), ('Delta_DUTSNYC_Phase', <HDF5 group \"/RAWTRANSFERFUNCTION/0xbccb0000_MPU_9250/Acceleration/Acceleration/Delta_DUTSNYC_Phase\" (2 members)>), ('Excitation_amplitude', <HDF5 group \"/RAWTRANSFERFUNCTION/0xbccb0000_MPU_9250/Acceleration/Acceleration/Excitation_amplitude\" (2 members)>), ('Excitation_frequency', <HDF5 group \"/RAWTRANSFERFUNCTION/0xbccb0000_MPU_9250/Acceleration/Acceleration/Excitation_frequency\" (2 members)>), ('Frequency', <HDF5 group \"/RAWTRANSFERFUNCTION/0xbccb0000_MPU_9250/Acceleration/Acceleration/Frequency\" (2 members)>), ('Magnitude', <HDF5 group \"/RAWTRANSFERFUNCTION/0xbccb0000_MPU_9250/Acceleration/Acceleration/Magnitude\" (2 members)>), ('Phase', <HDF5 group \"/RAWTRANSFERFUNCTION/0xbccb0000_MPU_9250/Acceleration/Acceleration/Phase\" (2 members)>), ('REF_Phase', <HDF5 group \"/RAWTRANSFERFUNCTION/0xbccb0000_MPU_9250/Acceleration/Acceleration/REF_Phase\" (2 members)>), ('SSU_ADC_Phase', <HDF5 group \"/RAWTRANSFERFUNCTION/0xbccb0000_MPU_9250/Acceleration/Acceleration/SSU_ADC_Phase\" (2 members)>)]\n",
      "\n",
      "Frequency [('uncertainty', <HDF5 dataset \"uncertainty\": shape (171,), type \"<f8\">), ('value', <HDF5 dataset \"value\": shape (171,), type \"<f8\">)]\n",
      "\n",
      "Magnitude [('uncertainty', <HDF5 dataset \"uncertainty\": shape (171,), type \"<f8\">), ('value', <HDF5 dataset \"value\": shape (171,), type \"<f8\">)]\n",
      "\n",
      "Phase [('uncertainty', <HDF5 dataset \"uncertainty\": shape (171,), type \"<f8\">), ('value', <HDF5 dataset \"value\": shape (171,), type \"<f8\">)]\n",
      "\n",
      "Array dimensions: (171, 8)\n"
     ]
    }
   ],
   "source": [
    "whole_dataset_CEM = extract_data('MPU9250CEM_v5.hdf5',\"0xbccb0000\")"
   ]
  },
  {
   "cell_type": "code",
   "execution_count": 8,
   "metadata": {},
   "outputs": [
    {
     "data": {
      "text/html": [
       "<div>\n",
       "<style scoped>\n",
       "    .dataframe tbody tr th:only-of-type {\n",
       "        vertical-align: middle;\n",
       "    }\n",
       "\n",
       "    .dataframe tbody tr th {\n",
       "        vertical-align: top;\n",
       "    }\n",
       "\n",
       "    .dataframe thead th {\n",
       "        text-align: right;\n",
       "    }\n",
       "</style>\n",
       "<table border=\"1\" class=\"dataframe\">\n",
       "  <thead>\n",
       "    <tr style=\"text-align: right;\">\n",
       "      <th></th>\n",
       "      <th>Frequency [Hz]</th>\n",
       "      <th>$x_{M},$ [m s^-2/m s^-2]</th>\n",
       "      <th>$U_{M},$ [m s^-2/m s^-2]</th>\n",
       "      <th>$x_{\\phi},$ [rad]</th>\n",
       "      <th>$U_{\\phi},$ [rad]</th>\n",
       "      <th>Excitation_freq [Hz]</th>\n",
       "      <th>$x_{Aexcit},$ [m s^-2/m s^-2]</th>\n",
       "      <th>$U_{Aexcit},$ [m s^-2/m s^-2]</th>\n",
       "    </tr>\n",
       "  </thead>\n",
       "  <tbody>\n",
       "    <tr>\n",
       "      <th>0</th>\n",
       "      <td>80.0</td>\n",
       "      <td>NaN</td>\n",
       "      <td>NaN</td>\n",
       "      <td>NaN</td>\n",
       "      <td>NaN</td>\n",
       "      <td>80.0</td>\n",
       "      <td>NaN</td>\n",
       "      <td>NaN</td>\n",
       "    </tr>\n",
       "    <tr>\n",
       "      <th>1</th>\n",
       "      <td>250.0</td>\n",
       "      <td>0.643003</td>\n",
       "      <td>0.000891</td>\n",
       "      <td>-2.375412</td>\n",
       "      <td>0.002897</td>\n",
       "      <td>250.0</td>\n",
       "      <td>126.497513</td>\n",
       "      <td>0.125687</td>\n",
       "    </tr>\n",
       "  </tbody>\n",
       "</table>\n",
       "</div>"
      ],
      "text/plain": [
       "   Frequency [Hz]  $x_{M},$ [m s^-2/m s^-2]  $U_{M},$ [m s^-2/m s^-2]  \\\n",
       "0            80.0                       NaN                       NaN   \n",
       "1           250.0                  0.643003                  0.000891   \n",
       "\n",
       "   $x_{\\phi},$ [rad]  $U_{\\phi},$ [rad]  Excitation_freq [Hz]  \\\n",
       "0                NaN                NaN                  80.0   \n",
       "1          -2.375412           0.002897                 250.0   \n",
       "\n",
       "   $x_{Aexcit},$ [m s^-2/m s^-2]  $U_{Aexcit},$ [m s^-2/m s^-2]  \n",
       "0                            NaN                            NaN  \n",
       "1                     126.497513                       0.125687  "
      ]
     },
     "execution_count": 8,
     "metadata": {},
     "output_type": "execute_result"
    }
   ],
   "source": [
    "whole_dataset_CEM[[r\"$x_{\\phi},$ [rad]\"]] = whole_dataset_CEM[[r\"$x_{\\phi},$ [rad]\"]]-np.pi\n",
    "whole_dataset_CEM.head(2)"
   ]
  },
  {
   "cell_type": "markdown",
   "metadata": {},
   "source": [
    "# 3.Data analysis"
   ]
  },
  {
   "cell_type": "markdown",
   "metadata": {},
   "source": [
    "Cycles in CEM's dataset start with 80.0 Hz and 250.0 Hz instead of 10.0 Hz. These starting points are deleted in order to compare the cycles in a range from 10.0 Hz and 250.Hz."
   ]
  },
  {
   "cell_type": "code",
   "execution_count": 9,
   "metadata": {},
   "outputs": [],
   "source": [
    "delete_rows=[]\n",
    "\n",
    "for k in range(0,171,19):\n",
    "    i=k\n",
    "    j=k+1\n",
    "    delete_rows.append(i)\n",
    "    delete_rows.append(j)\n",
    "whole_dataset_CEM_new=whole_dataset_CEM.drop(axis=0,index=delete_rows)"
   ]
  },
  {
   "cell_type": "code",
   "execution_count": 10,
   "metadata": {},
   "outputs": [],
   "source": [
    "def split_data_by_frequencies(dataset):\n",
    "    dict_of_frequencies=dict(iter(dataset.groupby('Frequency [Hz]')))\n",
    "    return dict_of_frequencies\n",
    "    #list_of_frequencies=np.array([10,12.5,16,20,25,31.5,40,46.7,50,53.3,63,80,100,125,160,200,250])"
   ]
  },
  {
   "cell_type": "code",
   "execution_count": 11,
   "metadata": {},
   "outputs": [
    {
     "name": "stdout",
     "output_type": "stream",
     "text": [
      "Frequencies - PTB: dict_keys([10.0, 12.5, 16.0, 20.0, 25.0, 31.5, 40.0, 46.7, 50.0, 53.3, 63.0, 80.0, 100.0, 125.0, 160.0, 200.0, 250.0])\n",
      "Frequencies - CEM: dict_keys([10.0, 12.5, 16.0, 20.0, 25.0, 31.5, 40.0, 46.7, 50.0, 53.3, 63.0, 80.0, 100.0, 125.0, 160.0, 200.0, 250.0])\n"
     ]
    }
   ],
   "source": [
    "#check if all frequencies are the same\n",
    "PTB_separated_by_freq=split_data_by_frequencies(whole_dataset_PTB)\n",
    "CEM_separated_by_freq=split_data_by_frequencies(whole_dataset_CEM)\n",
    "CEM_separated_by_freq_new=split_data_by_frequencies(whole_dataset_CEM_new)\n",
    "print(\"Frequencies - PTB:\",PTB_separated_by_freq.keys())\n",
    "print(\"Frequencies - CEM:\",CEM_separated_by_freq.keys())"
   ]
  },
  {
   "cell_type": "code",
   "execution_count": 12,
   "metadata": {},
   "outputs": [
    {
     "data": {
      "text/html": [
       "<div>\n",
       "<style scoped>\n",
       "    .dataframe tbody tr th:only-of-type {\n",
       "        vertical-align: middle;\n",
       "    }\n",
       "\n",
       "    .dataframe tbody tr th {\n",
       "        vertical-align: top;\n",
       "    }\n",
       "\n",
       "    .dataframe thead th {\n",
       "        text-align: right;\n",
       "    }\n",
       "</style>\n",
       "<table border=\"1\" class=\"dataframe\">\n",
       "  <thead>\n",
       "    <tr style=\"text-align: right;\">\n",
       "      <th></th>\n",
       "      <th>Frequency [Hz]</th>\n",
       "      <th>$x_{M},$ [m s^-2/m s^-2]</th>\n",
       "      <th>$U_{M},$ [m s^-2/m s^-2]</th>\n",
       "      <th>$x_{\\phi},$ [rad]</th>\n",
       "      <th>$U_{\\phi},$ [rad]</th>\n",
       "      <th>Excitation_freq [Hz]</th>\n",
       "      <th>$x_{Aexcit},$ [m s^-2/m s^-2]</th>\n",
       "      <th>$U_{Aexcit},$ [m s^-2/m s^-2]</th>\n",
       "    </tr>\n",
       "  </thead>\n",
       "  <tbody>\n",
       "    <tr>\n",
       "      <th>0</th>\n",
       "      <td>10.0</td>\n",
       "      <td>1.019554</td>\n",
       "      <td>0.002727</td>\n",
       "      <td>-0.094684</td>\n",
       "      <td>0.003022</td>\n",
       "      <td>10.0</td>\n",
       "      <td>2.739</td>\n",
       "      <td>0.000548</td>\n",
       "    </tr>\n",
       "  </tbody>\n",
       "</table>\n",
       "</div>"
      ],
      "text/plain": [
       "   Frequency [Hz]  $x_{M},$ [m s^-2/m s^-2]  $U_{M},$ [m s^-2/m s^-2]  \\\n",
       "0            10.0                  1.019554                  0.002727   \n",
       "\n",
       "   $x_{\\phi},$ [rad]  $U_{\\phi},$ [rad]  Excitation_freq [Hz]  \\\n",
       "0          -0.094684           0.003022                  10.0   \n",
       "\n",
       "   $x_{Aexcit},$ [m s^-2/m s^-2]  $U_{Aexcit},$ [m s^-2/m s^-2]  \n",
       "0                          2.739                       0.000548  "
      ]
     },
     "execution_count": 12,
     "metadata": {},
     "output_type": "execute_result"
    }
   ],
   "source": [
    "PTB_separated_by_freq.get(10).head(1)"
   ]
  },
  {
   "cell_type": "code",
   "execution_count": 13,
   "metadata": {},
   "outputs": [
    {
     "data": {
      "text/html": [
       "<div>\n",
       "<style scoped>\n",
       "    .dataframe tbody tr th:only-of-type {\n",
       "        vertical-align: middle;\n",
       "    }\n",
       "\n",
       "    .dataframe tbody tr th {\n",
       "        vertical-align: top;\n",
       "    }\n",
       "\n",
       "    .dataframe thead th {\n",
       "        text-align: right;\n",
       "    }\n",
       "</style>\n",
       "<table border=\"1\" class=\"dataframe\">\n",
       "  <thead>\n",
       "    <tr style=\"text-align: right;\">\n",
       "      <th></th>\n",
       "      <th>Frequency [Hz]</th>\n",
       "      <th>$x_{M},$ [m s^-2/m s^-2]</th>\n",
       "      <th>$U_{M},$ [m s^-2/m s^-2]</th>\n",
       "      <th>$x_{\\phi},$ [rad]</th>\n",
       "      <th>$U_{\\phi},$ [rad]</th>\n",
       "      <th>Excitation_freq [Hz]</th>\n",
       "      <th>$x_{Aexcit},$ [m s^-2/m s^-2]</th>\n",
       "      <th>$U_{Aexcit},$ [m s^-2/m s^-2]</th>\n",
       "    </tr>\n",
       "  </thead>\n",
       "  <tbody>\n",
       "    <tr>\n",
       "      <th>2</th>\n",
       "      <td>10.0</td>\n",
       "      <td>1.016209</td>\n",
       "      <td>0.004893</td>\n",
       "      <td>-0.094907</td>\n",
       "      <td>0.001665</td>\n",
       "      <td>10.0</td>\n",
       "      <td>2.754331</td>\n",
       "      <td>0.00586</td>\n",
       "    </tr>\n",
       "  </tbody>\n",
       "</table>\n",
       "</div>"
      ],
      "text/plain": [
       "   Frequency [Hz]  $x_{M},$ [m s^-2/m s^-2]  $U_{M},$ [m s^-2/m s^-2]  \\\n",
       "2            10.0                  1.016209                  0.004893   \n",
       "\n",
       "   $x_{\\phi},$ [rad]  $U_{\\phi},$ [rad]  Excitation_freq [Hz]  \\\n",
       "2          -0.094907           0.001665                  10.0   \n",
       "\n",
       "   $x_{Aexcit},$ [m s^-2/m s^-2]  $U_{Aexcit},$ [m s^-2/m s^-2]  \n",
       "2                       2.754331                        0.00586  "
      ]
     },
     "execution_count": 13,
     "metadata": {},
     "output_type": "execute_result"
    }
   ],
   "source": [
    "CEM_separated_by_freq_new.get(10).head(1)"
   ]
  },
  {
   "cell_type": "code",
   "execution_count": 14,
   "metadata": {},
   "outputs": [],
   "source": [
    "q_names=list(PTB_separated_by_freq.get(10).columns)\n",
    "list_of_freq=[10,12.5,16,20,25,31.5,40,46.7,50,53.3,63,80,100,125,160,200,250]"
   ]
  },
  {
   "cell_type": "markdown",
   "metadata": {},
   "source": [
    "# 4. En values"
   ]
  },
  {
   "attachments": {
    "image.png": {
     "image/png": "[encoded data removed]"
    }
   },
   "cell_type": "markdown",
   "metadata": {},
   "source": [
    "The En values for Magnitude, Phase and Excitation amplitude have been calculated according to formula on the figure:\n",
    "\n",
    "![image.png](attachment:image.png)\n",
    "\n",
    "<br>$x_{lab}$ corresponds to the mean value at a specific frequency for the participating laboratory and\n",
    "<br>$x_{ref}$ corresponds to the mean value at a specific frequency for the reference laboratory \n",
    "<br>$U_{lab}$ corresponds to the expanded measurement uncertainty of the mean value at a specific frequency for the participating laboratory \n",
    "<br>$U_{ref}$ corresponds to the expanded measurement uncertainty of the mean value at a specific frequency for the reference laboratory \n",
    "<br>If:<br> |En|<=1.1 - the criteria is satisfied (the original condition is that |En|<=1.0. However, because of the practical reasons, this limit is sometimes enlarged for 10%).\n",
    "<br>|En|>1.1 - the criteria is not satisfied.\n",
    "<br>One of the laboratories has been selected as a reference laboratory and other as a participating laboratory.This sequence is not important because it affects only the sign. That is why an absolute values are taken into account. \n"
   ]
  },
  {
   "cell_type": "markdown",
   "metadata": {},
   "source": [
    "## 4.1 The function for En values"
   ]
  },
  {
   "cell_type": "code",
   "execution_count": 15,
   "metadata": {},
   "outputs": [],
   "source": [
    "def calculate_En_values(df1,df2,names):\n",
    "    En_values=np.empty((df1.shape[0],2))\n",
    "    \n",
    "    for i in range (df1.shape[0]):\n",
    "        \n",
    "        En_values[:,0]=np.abs(((df1[names[0]].values-df2[names[0]].values)/(2*(np.sqrt(df1[names[1]].values**2 +df2[names[1]].values**2)))))\n",
    "        En_values[:,1]=np.abs(((df1[names[2]].values-df2[names[2]].values)/(2*(np.sqrt(df1[names[3]].values**2 +df2[names[3]].values**2)))))\n",
    "        #En_values[:,2]=np.abs(((df1[names[4]].values-df2[names[4]].values)/(2*(np.sqrt(df1[names[5]].values**2 +df2[names[5]].values**2))))) \n",
    "          \n",
    "    return En_values  "
   ]
  },
  {
   "cell_type": "markdown",
   "metadata": {},
   "source": [
    "# 5. Case study 3: Calculate En values for Monte Carlo method"
   ]
  },
  {
   "cell_type": "markdown",
   "metadata": {},
   "source": [
    "## 5.1 Best estimates and standard uncertainties\n"
   ]
  },
  {
   "cell_type": "markdown",
   "metadata": {},
   "source": [
    "If it is assumed that each experiment is based on at least 30 single values, then the normal distribution can be proposed:\n",
    "$$X \\hookrightarrow  \\mathcal{N}(x_{M},\\,\\sigma _{M}^{2})$$\n",
    "where $\\sigma _{M}$ is calculated as   $\\frac{U _{M}}{2}$.\n",
    "\n",
    "The same approach refers to the phase values: \n",
    "$$X \\hookrightarrow  \\mathcal{N}(x_{\\phi},\\,\\sigma _{\\phi}^{2})$$\n",
    "where $\\sigma _{\\phi}$ is calculated as   $\\frac{U _{\\phi}}{2}$. In both cases, *i* refers to the number of experiments at a given frequency (*i*=10 for PTB and *i*=9 for CEM).\n",
    "\n",
    "Samples from different experiments are then used to calculate the estimate of the output quantity and the associated standard uncertainty."
   ]
  },
  {
   "cell_type": "code",
   "execution_count": 16,
   "metadata": {},
   "outputs": [],
   "source": [
    "def MC(dictionary, names):\n",
    "    keys =list(dictionary.keys())\n",
    "    sample_size=30\n",
    "    dict_val=list(dictionary.values())\n",
    "\n",
    "    MC_RESULTS=np.empty((len(dictionary.values()),6))\n",
    "\n",
    "    p=0.05\n",
    "    q=p*sample_size\n",
    "    r= (sample_size-q)/2\n",
    "    q = p*sample_size\n",
    "    x_low=np.empty(len(dictionary.values()))\n",
    "    x_high=np.empty(len(dictionary.values()))\n",
    "\n",
    "    y_low=np.empty(len(dictionary.values()))\n",
    "    y_high=np.empty(len(dictionary.values()))\n",
    "\n",
    "    z_low=np.empty(len(dictionary.values()))\n",
    "    z_high=np.empty(len(dictionary.values()))\n",
    "    for val, val_in_list in zip(dictionary.values(), range(len(dict_val))):\n",
    "            X_var=np.empty((len(dictionary.values()),val.shape[0],sample_size))\n",
    "            Y_var=np.empty((len(dictionary.values()),val.shape[0],sample_size))\n",
    "            Z_var=np.empty((len(dictionary.values()),val.shape[0],sample_size))\n",
    "            for item in range(len(val)): #ispraviti\n",
    "                X_var[val_in_list,item,:]=(np.random.normal(loc=val[r\"$x_{M},$ [m s^-2/m s^-2]\"].values[item], scale=val[r\"$U_{M},$ [m s^-2/m s^-2]\"].values[item]/2, size=sample_size))\n",
    "                Y_var[val_in_list,item,:]=(np.random.normal(loc=val[r\"$x_{\\phi},$ [rad]\"].values[item], scale=val[r\"$U_{\\phi},$ [rad]\"].values[item]/2, size=sample_size))\n",
    "                Z_var[val_in_list,item,:]=(np.random.normal(loc=val[r\"$x_{Aexcit},$ [m s^-2/m s^-2]\"].values[item], scale=val[r\"$U_{Aexcit},$ [m s^-2/m s^-2]\"].values[item]/2, size=sample_size))\n",
    "            x=X_var[val_in_list].mean(axis=0)\n",
    "            y=Y_var[val_in_list].mean(axis=0)\n",
    "            z=Z_var[val_in_list].mean(axis=0)\n",
    "            x_low[val_in_list]=x[int(r)]\n",
    "            x_high[val_in_list]=x[int(r+q)]\n",
    "            y_low[val_in_list]=y[int(r)]\n",
    "            y_high[val_in_list]=y[int(r+q)]\n",
    "            z_low[val_in_list]=z[int(r)]\n",
    "            z_high[val_in_list]=z[int(r+q)]\n",
    "\n",
    "            MC_RESULTS[val_in_list,0]=x.mean()\n",
    "            MC_RESULTS[val_in_list,1]=np.sqrt((np.sum((x-x.mean())**2)/(sample_size-1)))\n",
    "            MC_RESULTS[val_in_list,2]=y.mean()\n",
    "            MC_RESULTS[val_in_list,3]=np.sqrt((np.sum((y-y.mean())**2)/(sample_size-1)))\n",
    "            MC_RESULTS[val_in_list,4]=z.mean()\n",
    "            MC_RESULTS[val_in_list,5]=np.sqrt((np.sum((z-z.mean())**2)/(sample_size-1)))\n",
    "            list_of_freq=[10,12.5,16,20,25,31.5,40,46.7,50,53.3,63,80,100,125,160,200,250]\n",
    "            index=list_of_freq\n",
    "    MC_RESULTS=pd.DataFrame(MC_RESULTS, columns=names,index=index)\n",
    "\n",
    "    return MC_RESULTS\n",
    "    "
   ]
  },
  {
   "cell_type": "code",
   "execution_count": 17,
   "metadata": {},
   "outputs": [],
   "source": [
    "column_names_list1=[r\"$\\bar{x}_{M},$ [m s^-2/m s^-2]\",r\"$u_{M},$ [m s^-2/m s^-2]\",r\"$\\bar{x}_{\\phi},$ [rad]\",r\"$u_{\\phi},$ [rad]\",r\"$\\bar{x}_{Aexcit},$ [m s^-2/m s^-2]\",r\"$u_{Aexcit},$ [m s^-2/m s^-2]\"]\n",
    "#column_names_list1  =[name for name in q_names if name != 'Frequency [Hz]' and name!='Excitation_freq [Hz]']\n",
    "MC_values_PTB=MC(PTB_separated_by_freq,column_names_list1)\n",
    "MC_values_CEM=MC(CEM_separated_by_freq_new,column_names_list1)\n"
   ]
  },
  {
   "cell_type": "code",
   "execution_count": 18,
   "metadata": {},
   "outputs": [
    {
     "data": {
      "text/html": [
       "<div>\n",
       "<style scoped>\n",
       "    .dataframe tbody tr th:only-of-type {\n",
       "        vertical-align: middle;\n",
       "    }\n",
       "\n",
       "    .dataframe tbody tr th {\n",
       "        vertical-align: top;\n",
       "    }\n",
       "\n",
       "    .dataframe thead th {\n",
       "        text-align: right;\n",
       "    }\n",
       "</style>\n",
       "<table border=\"1\" class=\"dataframe\">\n",
       "  <thead>\n",
       "    <tr style=\"text-align: right;\">\n",
       "      <th></th>\n",
       "      <th>$\\bar{x}_{M},$ [m s^-2/m s^-2]</th>\n",
       "      <th>$u_{M},$ [m s^-2/m s^-2]</th>\n",
       "      <th>$\\bar{x}_{\\phi},$ [rad]</th>\n",
       "      <th>$u_{\\phi},$ [rad]</th>\n",
       "      <th>$\\bar{x}_{Aexcit},$ [m s^-2/m s^-2]</th>\n",
       "      <th>$u_{Aexcit},$ [m s^-2/m s^-2]</th>\n",
       "    </tr>\n",
       "  </thead>\n",
       "  <tbody>\n",
       "    <tr>\n",
       "      <th>10.0</th>\n",
       "      <td>1.019025</td>\n",
       "      <td>0.000546</td>\n",
       "      <td>-0.094652</td>\n",
       "      <td>0.000492</td>\n",
       "      <td>2.751104</td>\n",
       "      <td>0.000104</td>\n",
       "    </tr>\n",
       "    <tr>\n",
       "      <th>12.5</th>\n",
       "      <td>1.018433</td>\n",
       "      <td>0.000590</td>\n",
       "      <td>-0.118883</td>\n",
       "      <td>0.000942</td>\n",
       "      <td>2.755886</td>\n",
       "      <td>0.000086</td>\n",
       "    </tr>\n",
       "  </tbody>\n",
       "</table>\n",
       "</div>"
      ],
      "text/plain": [
       "      $\\bar{x}_{M},$ [m s^-2/m s^-2]  $u_{M},$ [m s^-2/m s^-2]  \\\n",
       "10.0                        1.019025                  0.000546   \n",
       "12.5                        1.018433                  0.000590   \n",
       "\n",
       "      $\\bar{x}_{\\phi},$ [rad]  $u_{\\phi},$ [rad]  \\\n",
       "10.0                -0.094652           0.000492   \n",
       "12.5                -0.118883           0.000942   \n",
       "\n",
       "      $\\bar{x}_{Aexcit},$ [m s^-2/m s^-2]  $u_{Aexcit},$ [m s^-2/m s^-2]  \n",
       "10.0                             2.751104                       0.000104  \n",
       "12.5                             2.755886                       0.000086  "
      ]
     },
     "execution_count": 18,
     "metadata": {},
     "output_type": "execute_result"
    }
   ],
   "source": [
    "MC_values_PTB.head(2)"
   ]
  },
  {
   "cell_type": "code",
   "execution_count": 19,
   "metadata": {},
   "outputs": [
    {
     "data": {
      "text/html": [
       "<div>\n",
       "<style scoped>\n",
       "    .dataframe tbody tr th:only-of-type {\n",
       "        vertical-align: middle;\n",
       "    }\n",
       "\n",
       "    .dataframe tbody tr th {\n",
       "        vertical-align: top;\n",
       "    }\n",
       "\n",
       "    .dataframe thead th {\n",
       "        text-align: right;\n",
       "    }\n",
       "</style>\n",
       "<table border=\"1\" class=\"dataframe\">\n",
       "  <thead>\n",
       "    <tr style=\"text-align: right;\">\n",
       "      <th></th>\n",
       "      <th>$\\bar{x}_{M},$ [m s^-2/m s^-2]</th>\n",
       "      <th>$u_{M},$ [m s^-2/m s^-2]</th>\n",
       "      <th>$\\bar{x}_{\\phi},$ [rad]</th>\n",
       "      <th>$u_{\\phi},$ [rad]</th>\n",
       "      <th>$\\bar{x}_{Aexcit},$ [m s^-2/m s^-2]</th>\n",
       "      <th>$u_{Aexcit},$ [m s^-2/m s^-2]</th>\n",
       "    </tr>\n",
       "  </thead>\n",
       "  <tbody>\n",
       "    <tr>\n",
       "      <th>10.0</th>\n",
       "      <td>1.016207</td>\n",
       "      <td>0.000736</td>\n",
       "      <td>-0.094820</td>\n",
       "      <td>0.000332</td>\n",
       "      <td>2.753277</td>\n",
       "      <td>0.000689</td>\n",
       "    </tr>\n",
       "    <tr>\n",
       "      <th>12.5</th>\n",
       "      <td>1.015782</td>\n",
       "      <td>0.000577</td>\n",
       "      <td>-0.118566</td>\n",
       "      <td>0.000376</td>\n",
       "      <td>2.729315</td>\n",
       "      <td>0.000888</td>\n",
       "    </tr>\n",
       "  </tbody>\n",
       "</table>\n",
       "</div>"
      ],
      "text/plain": [
       "      $\\bar{x}_{M},$ [m s^-2/m s^-2]  $u_{M},$ [m s^-2/m s^-2]  \\\n",
       "10.0                        1.016207                  0.000736   \n",
       "12.5                        1.015782                  0.000577   \n",
       "\n",
       "      $\\bar{x}_{\\phi},$ [rad]  $u_{\\phi},$ [rad]  \\\n",
       "10.0                -0.094820           0.000332   \n",
       "12.5                -0.118566           0.000376   \n",
       "\n",
       "      $\\bar{x}_{Aexcit},$ [m s^-2/m s^-2]  $u_{Aexcit},$ [m s^-2/m s^-2]  \n",
       "10.0                             2.753277                       0.000689  \n",
       "12.5                             2.729315                       0.000888  "
      ]
     },
     "execution_count": 19,
     "metadata": {},
     "output_type": "execute_result"
    }
   ],
   "source": [
    "MC_values_CEM.head(2)"
   ]
  },
  {
   "cell_type": "code",
   "execution_count": 20,
   "metadata": {},
   "outputs": [],
   "source": [
    "En_values_MC_=calculate_En_values(MC_values_PTB,MC_values_CEM,column_names_list1)"
   ]
  },
  {
   "cell_type": "code",
   "execution_count": 21,
   "metadata": {},
   "outputs": [
    {
     "data": {
      "image/png": "[encoded data removed]",
      "text/plain": [
       "<Figure size 576x720 with 2 Axes>"
      ]
     },
     "metadata": {
      "needs_background": "light"
     },
     "output_type": "display_data"
    }
   ],
   "source": [
    "plt.figure(figsize=(8,10))\n",
    "sns.heatmap(En_values_MC_, vmax=2, vmin=1.1,annot=True,yticklabels=PTB_separated_by_freq.keys(),xticklabels=[\"Magnitude\",\"Phase\"] )\n",
    "plt.title(\"En values-not exp.uncertainty\")\n",
    "plt.show()"
   ]
  },
  {
   "cell_type": "markdown",
   "metadata": {},
   "source": [
    "The results show good agreement for the phase values while the En values of magnitudes are sensitive to the sample size, but generally  higher than 1. \n",
    "*Note: it is not sure whether the sampling is an applicable option for measurement procedure by the acceleration sensor.*"
   ]
  },
  {
   "cell_type": "markdown",
   "metadata": {},
   "source": [
    "# References"
   ]
  },
  {
   "cell_type": "markdown",
   "metadata": {},
   "source": [
    "[1] https://www.investopedia.com/terms/c/coefficientofvariation.asp\n",
    "<br>[2] https://en.wikipedia.org/wiki/Weighted_arithmetic_mean\n",
    "<br>[3] https://en.wikipedia.org/wiki/Effective_sample_size\n",
    "<br>[4] https://online.stat.psu.edu/stat500/lesson/10/10.2/10.2.1\n",
    "<br>[5] https://www.marsja.se/levenes-bartletts-test-of-equality-homogeneity-of-variance-in-python/"
   ]
  },
  {
   "cell_type": "code",
   "execution_count": null,
   "metadata": {},
   "outputs": [],
   "source": []
  },
  {
   "cell_type": "code",
   "execution_count": null,
   "metadata": {},
   "outputs": [],
   "source": []
  }
 ],
 "metadata": {
  "kernelspec": {
   "display_name": "Python 3",
   "language": "python",
   "name": "python3"
  },
  "language_info": {
   "codemirror_mode": {
    "name": "ipython",
    "version": 3
   },
   "file_extension": ".py",
   "mimetype": "text/x-python",
   "name": "python",
   "nbconvert_exporter": "python",
   "pygments_lexer": "ipython3",
   "version": "3.7.1"
  }
 },
 "nbformat": 4,
 "nbformat_minor": 4
}
