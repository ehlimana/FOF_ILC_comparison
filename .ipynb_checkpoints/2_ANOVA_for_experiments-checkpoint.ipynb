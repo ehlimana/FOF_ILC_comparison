{
 "cells": [
  {
   "cell_type": "markdown",
   "metadata": {},
   "source": [
    "\n",
    "# 1. Introduction"
   ]
  },
  {
   "cell_type": "markdown",
   "metadata": {},
   "source": [
    "This notebook has been developed for the purposes of the EMPIR project “Metrology for the Factory of the Future” (Met4FoF) -  Activity A1.2.2 of the Work Package 1.Two laboratories in PTB and CEM posses conventional dynamic calibration set-ups for acceleration sensors under test. The objective of the task is to compare measurement results of the two laboratories, PTB and CEM, provided by the extended dynamic calibration systems.  \n",
    "\n",
    "## 1.1. State of the art\n",
    "\n",
    "In conventional dynamic calibration procedures for acceleration sensors, the acceleration used for the sensor input is applied either as **a sinusoidal excitation with a given frequency and amplitude** or as **a singular shock-like excitation characterized by pulse width and intensity**. \n",
    "<br>The quantity is then measured by a reference sensor and by the device under test (DUT). The results of DUT are compared to the reference and hence characterized and linked to the SI. In a dynamic calibration situation, the response of the DUT to time-varying input is the major interest. Hence, it is crucial that the mechanical input operates simultaneously and equally on the reference and DUT. Both, the reference and the DUT provide **electrical outputs (typical voltage)** while **the data acquisition electronics** of the system provides **the analogue to digital conversion (ADC).**\n",
    "In order to connect the reference and the DUT to the ADC system, two analogue channels are needed. In order to get reliable information on the time dependent response, the timing of the data acquisition on the two channels has to be synchronized. This is typically accomplished by provision of a common clock signal to drive the sampling units of the ADC and a common trigger to start (or mark) the beginning of the acquisition. "
   ]
  },
  {
   "cell_type": "markdown",
   "metadata": {},
   "source": [
    "## 1.2. The extension of conventional dynamic calibration systems to digital-output sensors \n",
    "\n",
    "In a set-up where the DUT is a digital-output sensor,the sampling of the DUT time series is no longer under the control (trigger, clock) of the calibration system. Instead, the DUT comprises its own digitizer unit with a time base independent of the calibration system. In fact, a typical conventional calibration set-up does not provide an input for digital data at all.\n",
    "The solution to this problem requires two extensions:\n",
    "1.\tA digital acquisition unit (DAU) which is capable to connect to the digital interface of the sensor under calibration and store/transmit the DUT time-series for later analysis\n",
    "2.\tAn additional synchronization signal that provides the link between the time-base of the calibration system and the time-base of the DUT.\n",
    "\n",
    "The concept for the extension of existing facilities for dynamic calibration uses a custom digital acquisition unit microcontroller board with a connected reference time signal for traceable time stamping of acquired data points. This allows for a synchronised data acquisition from the reference measurement and the DUT. The selected sensor for acceleration measurements is a three axial low-g acceleration sensor with digital output, which allows measurements of acceleration in three perpendicular axes.**At the moment and in this notebook, only an X-axis acceleration has been observed.** \n",
    "    \n",
    "The selected laboratories posses their set-ups and the calibration items were calibrated in both set-ups.The analysis required transformation from time domain to the frequency domain, where frequencies and corresponding magnitudes and phases were calculated.The measurement conditions were kept according to the laboratory standard conditions. \n",
    "\n",
    "Each laboratory submitted HDFT files containing groups:\n",
    "- EXPERIMENTS - containing 171 files (experiment) corresponding to the sine excitations\n",
    "- RAWDATA - where data from ADCs (*voltage, absolute time, absolute time uncertainty*)  and sensors (*absolute time, absolute time uncertainty, acceleration, angular velocity, magnetic flux density and temperature*) can be approached during the measurements\n",
    "- RAWTRANSFERFUNCTION - *this group contains quantities of interest: frequencies, amplitudes, assigned uncertainties of amplitudes, phases,  assigned uncertainties of phases, excitation amplitudes and assigned uncertainties of excitation amplitudes\n",
    "- REFERENCEDATA - reference data from ADCs and sensors.\n",
    "\n",
    "    \n",
    "| <b>PTB<b> | Sensor | Internal ADC |\n",
    "| --- | --- | --- |\n",
    "| <b>Name<b> | MPU 9250| STM 32 Internal ADC |\n",
    "| <b>ID<b>  | 535035904 | 535038464 |\n",
    "| <b>Quantity<b>  | X Acceleration | Voltage  @CH1 |\n",
    "| <b>Unit<b>  | $\\frac{m}{s^{2}}$ | V |    \n",
    "| <b>Resolution<b>  | 65536,0 (16-bit) | 4096,0 (12-bit) |\n",
    "| <b>Min. scale<b>  | -156,91439819335938 $\\frac{m}{s^{2}}$  | -10 V |\n",
    "| <b>Min. scale<b>  | 156,90960693359375 $\\frac{m}{s^{2}}$  | 10 V |\n",
    "    \n",
    "| <b>CEM<b> | Sensor | Internal ADC |\n",
    "| --- | --- | --- |\n",
    "| <b>Name<b> | MPU 9250| STM 32 Internal ADC |\n",
    "| <b>ID<b>  | 3167420416 | 31674422976 |\n",
    "| <b>Quantity<b>  | X Acceleration | Voltage  @CH1 |\n",
    "| <b>Unit<b>  | $\\frac{m}{s^{2}}$ | V |    \n",
    "| <b>Resolution<b>  | 65536,0 (16-bit) | 4096,0 (12-bit) |\n",
    "| <b>Min. scale<b>  | -156,91439819335938 $\\frac{m}{s^{2}}$  | -10 V |\n",
    "| <b>Min. scale<b>  | 156,90960693359375 $\\frac{m}{s^{2}}$  | 10 V |"
   ]
  },
  {
   "cell_type": "code",
   "execution_count": 1,
   "metadata": {},
   "outputs": [
    {
     "name": "stderr",
     "output_type": "stream",
     "text": [
      "\n",
      "Bad key \"text.kerning_factor\" on line 4 in\n",
      "C:\\Users\\EhlimanaJugo\\anaconda3\\envs\\Ehlimana\\lib\\site-packages\\matplotlib\\mpl-data\\stylelib\\_classic_test_patch.mplstyle.\n",
      "You probably need to get an updated matplotlibrc file from\n",
      "https://github.com/matplotlib/matplotlib/blob/v3.1.3/matplotlibrc.template\n",
      "or from the matplotlib source distribution\n"
     ]
    }
   ],
   "source": [
    "import h5py\n",
    "import numpy as np\n",
    "import pandas as pd\n",
    "import openpyxl\n",
    "import matplotlib.pyplot as plt\n",
    "import scipy.stats\n",
    "import numpy as np\n",
    "import scipy.stats as stats\n",
    "import seaborn as sns\n",
    "from ipywidgets import widgets, Layout\n",
    "from IPython import display"
   ]
  },
  {
   "cell_type": "code",
   "execution_count": 2,
   "metadata": {},
   "outputs": [],
   "source": [
    "plt.rc('font', family='serif')\n",
    "plt.rc('text', usetex=True)\n",
    "plt.rcParams['text.latex.preamble'] = [r'\\usepackage{sfmath} \\boldmath']\n",
    "PLTSCALFACTOR =2\n",
    "SMALL_SIZE = 8 * PLTSCALFACTOR\n",
    "MEDIUM_SIZE =9 * PLTSCALFACTOR\n",
    "BIGGER_SIZE = 11 * PLTSCALFACTOR\n",
    "\n",
    "plt.rc(\"font\", size=SMALL_SIZE)  # controls default text sizes\n",
    "plt.rc(\"axes\", titlesize=MEDIUM_SIZE)  # fontsize of the axes title\n",
    "plt.rc(\"axes\", labelsize=MEDIUM_SIZE)  # fontsize of the x and y labels\n",
    "plt.rc(\"xtick\", labelsize=SMALL_SIZE)  # fontsize of the tick labels\n",
    "plt.rc(\"ytick\", labelsize=SMALL_SIZE)  # fontsize of the tick labels\n",
    "plt.rc(\"legend\", fontsize=SMALL_SIZE)  # legend fontsize\n",
    "plt.rc(\"figure\", titlesize=BIGGER_SIZE)  # fontsize of the figure title"
   ]
  },
  {
   "cell_type": "markdown",
   "metadata": {},
   "source": [
    "# 2.Extract the data"
   ]
  },
  {
   "cell_type": "markdown",
   "metadata": {},
   "source": [
    "Data for ILC comparison is extracted from the HDF5 files separately for PTB and CEM. The extracted data will be sorted by frequency at the end of the Notebook and saved into Excel file."
   ]
  },
  {
   "cell_type": "code",
   "execution_count": 3,
   "metadata": {},
   "outputs": [],
   "source": [
    "def extract_data(filename, sensor_index):\n",
    "    #explore the HDF5 file, folders and subfolders\n",
    "    with h5py.File(filename,'r') as f:\n",
    "        base_items=list(f.items())\n",
    "        print(\"\\nItems in directory\", base_items)\n",
    "        rawtransfer=f.get(\"RAWTRANSFERFUNCTION\")\n",
    "        rawtransfer_items=list(rawtransfer.items())\n",
    "        print(\"\\nItems in reference\", rawtransfer_items)\n",
    "        subgroup=rawtransfer.get(\"/RAWTRANSFERFUNCTION/\"+sensor_index+\"_MPU_9250\")\n",
    "        subgroup_items=list(subgroup.items())\n",
    "        print(\"\\n\"+sensor_index+\"_MPU_9250 items:\",subgroup_items)\n",
    "        subgroup_acceleration=subgroup.get(\"/RAWTRANSFERFUNCTION/\"+sensor_index+\"_MPU_9250/Acceleration\")\n",
    "        subgroup_acceleration_items=list(subgroup_acceleration.items())\n",
    "        print(\"\\nAcceleration items:\",subgroup_acceleration_items)\n",
    "        subgroup_acceleration_5mem=subgroup.get(\"/RAWTRANSFERFUNCTION/\"+sensor_index+\"_MPU_9250/Acceleration/Acceleration\")\n",
    "        subgroup_acceleration_5mem_items=list(subgroup_acceleration_5mem.items())\n",
    "        print(\"\\nAcceleration items_5members:\", subgroup_acceleration_5mem_items)\n",
    "        frequency=subgroup_acceleration_5mem.get(\"/RAWTRANSFERFUNCTION/\"+sensor_index+\"_MPU_9250/Acceleration/Acceleration/Excitation_frequency\")\n",
    "        frequency_items=list(frequency.items())\n",
    "        print(\"\\nFrequency\", frequency_items)\n",
    "        magnitude=subgroup_acceleration_5mem.get(\"/RAWTRANSFERFUNCTION/\"+sensor_index+\"_MPU_9250/Acceleration/Acceleration/Magnitude\")\n",
    "        magnitude_items=list(magnitude.items())\n",
    "        print(\"\\nMagnitude\", magnitude_items)\n",
    "        phase=subgroup_acceleration_5mem.get(\"/RAWTRANSFERFUNCTION/\"+sensor_index+\"_MPU_9250/Acceleration/Acceleration/Phase\")\n",
    "        phase_items=list(magnitude.items())\n",
    "        print(\"\\nPhase\", phase_items)\n",
    "        \n",
    "        \n",
    "        #extract frequencies, magnitude, phase, uncertainties and all excitation parameters\n",
    "        frequency_values=np.array(frequency.get(\"value\"))\n",
    "        magnitude_values=np.array(magnitude.get(\"value\"))\n",
    "        magnitude_uncertainties=np.array(magnitude.get(\"uncertainty\"))\n",
    "        phase_values=np.array(phase.get(\"value\"))\n",
    "        phase_uncertainties=np.array(phase.get(\"uncertainty\"))\n",
    "        excitation_freq_items=subgroup_acceleration_5mem.get(\"/RAWTRANSFERFUNCTION/\"+sensor_index+\"_MPU_9250/Acceleration/Acceleration/Excitation_frequency\")\n",
    "        excitation_freq=np.array(excitation_freq_items.get(\"value\"))\n",
    "        excitation_amp_items=subgroup_acceleration_5mem.get(\"/RAWTRANSFERFUNCTION/\"+sensor_index+\"_MPU_9250/Acceleration/Acceleration/Excitation_amplitude\")\n",
    "        excitation_amp=np.array(excitation_amp_items.get(\"value\"))\n",
    "        excitation_amp_uncertainty=np.array(excitation_amp_items.get(\"uncertainty\"))\n",
    "        \n",
    "        #join all necessary data in 2D array\n",
    "        total_array=np.stack((frequency_values,magnitude_values,magnitude_uncertainties,phase_values, phase_uncertainties,excitation_freq,excitation_amp,excitation_amp_uncertainty), axis=1)\n",
    "        print(\"\\nArray dimensions:\", total_array.shape)\n",
    "        column_names=[\"Frequency [Hz]\", r\"$x_{M},$ [m s^-2/m s^-2]\",r\"$U_{M},$ [m s^-2/m s^-2]\", r\"$x_{\\phi},$ [rad]\", r\"$U_{\\phi},$ [rad]\",\"Excitation_freq [Hz]\",r\"$x_{Aexcit},$ [m s^-2/m s^-2]\",r\"$U_{Aexcit},$ [m s^-2/m s^-2]\"]\n",
    "        whole_dataset=pd.DataFrame(total_array, columns=column_names)\n",
    "        f.close()\n",
    "        \n",
    "        \n",
    "        return whole_dataset"
   ]
  },
  {
   "cell_type": "code",
   "execution_count": 4,
   "metadata": {},
   "outputs": [
    {
     "name": "stdout",
     "output_type": "stream",
     "text": [
      "\n",
      "Items in directory [('EXPERIMENTS', <HDF5 group \"/EXPERIMENTS\" (1 members)>), ('RAWDATA', <HDF5 group \"/RAWDATA\" (2 members)>), ('RAWTRANSFERFUNCTION', <HDF5 group \"/RAWTRANSFERFUNCTION\" (1 members)>), ('REFERENCEDATA', <HDF5 group \"/REFERENCEDATA\" (2 members)>)]\n",
      "\n",
      "Items in reference [('0x1fe40000_MPU_9250', <HDF5 group \"/RAWTRANSFERFUNCTION/0x1fe40000_MPU_9250\" (1 members)>)]\n",
      "\n",
      "0x1fe40000_MPU_9250 items: [('Acceleration', <HDF5 group \"/RAWTRANSFERFUNCTION/0x1fe40000_MPU_9250/Acceleration\" (1 members)>)]\n",
      "\n",
      "Acceleration items: [('Acceleration', <HDF5 group \"/RAWTRANSFERFUNCTION/0x1fe40000_MPU_9250/Acceleration/Acceleration\" (11 members)>)]\n",
      "\n",
      "Acceleration items_5members: [('DUT_Phase', <HDF5 group \"/RAWTRANSFERFUNCTION/0x1fe40000_MPU_9250/Acceleration/Acceleration/DUT_Phase\" (2 members)>), ('DUT_SNYNC_Phase', <HDF5 group \"/RAWTRANSFERFUNCTION/0x1fe40000_MPU_9250/Acceleration/Acceleration/DUT_SNYNC_Phase\" (2 members)>), ('DUT_amplitude', <HDF5 group \"/RAWTRANSFERFUNCTION/0x1fe40000_MPU_9250/Acceleration/Acceleration/DUT_amplitude\" (2 members)>), ('Delta_DUTSNYC_Phase', <HDF5 group \"/RAWTRANSFERFUNCTION/0x1fe40000_MPU_9250/Acceleration/Acceleration/Delta_DUTSNYC_Phase\" (2 members)>), ('Excitation_amplitude', <HDF5 group \"/RAWTRANSFERFUNCTION/0x1fe40000_MPU_9250/Acceleration/Acceleration/Excitation_amplitude\" (2 members)>), ('Excitation_frequency', <HDF5 group \"/RAWTRANSFERFUNCTION/0x1fe40000_MPU_9250/Acceleration/Acceleration/Excitation_frequency\" (2 members)>), ('Frequency', <HDF5 group \"/RAWTRANSFERFUNCTION/0x1fe40000_MPU_9250/Acceleration/Acceleration/Frequency\" (2 members)>), ('Magnitude', <HDF5 group \"/RAWTRANSFERFUNCTION/0x1fe40000_MPU_9250/Acceleration/Acceleration/Magnitude\" (2 members)>), ('Phase', <HDF5 group \"/RAWTRANSFERFUNCTION/0x1fe40000_MPU_9250/Acceleration/Acceleration/Phase\" (2 members)>), ('REF_Phase', <HDF5 group \"/RAWTRANSFERFUNCTION/0x1fe40000_MPU_9250/Acceleration/Acceleration/REF_Phase\" (2 members)>), ('SSU_ADC_Phase', <HDF5 group \"/RAWTRANSFERFUNCTION/0x1fe40000_MPU_9250/Acceleration/Acceleration/SSU_ADC_Phase\" (2 members)>)]\n",
      "\n",
      "Frequency [('uncertainty', <HDF5 dataset \"uncertainty\": shape (170,), type \"<f8\">), ('value', <HDF5 dataset \"value\": shape (170,), type \"<f8\">)]\n",
      "\n",
      "Magnitude [('uncertainty', <HDF5 dataset \"uncertainty\": shape (170,), type \"<f8\">), ('value', <HDF5 dataset \"value\": shape (170,), type \"<f8\">)]\n",
      "\n",
      "Phase [('uncertainty', <HDF5 dataset \"uncertainty\": shape (170,), type \"<f8\">), ('value', <HDF5 dataset \"value\": shape (170,), type \"<f8\">)]\n",
      "\n",
      "Array dimensions: (170, 8)\n"
     ]
    }
   ],
   "source": [
    "whole_dataset_PTB = extract_data('MPU9250PTB_v5.hdf5',\"0x1fe40000\")"
   ]
  },
  {
   "cell_type": "code",
   "execution_count": 5,
   "metadata": {},
   "outputs": [
    {
     "data": {
      "text/html": [
       "<div>\n",
       "<style scoped>\n",
       "    .dataframe tbody tr th:only-of-type {\n",
       "        vertical-align: middle;\n",
       "    }\n",
       "\n",
       "    .dataframe tbody tr th {\n",
       "        vertical-align: top;\n",
       "    }\n",
       "\n",
       "    .dataframe thead th {\n",
       "        text-align: right;\n",
       "    }\n",
       "</style>\n",
       "<table border=\"1\" class=\"dataframe\">\n",
       "  <thead>\n",
       "    <tr style=\"text-align: right;\">\n",
       "      <th></th>\n",
       "      <th>Frequency [Hz]</th>\n",
       "      <th>$x_{M},$ [m s^-2/m s^-2]</th>\n",
       "      <th>$U_{M},$ [m s^-2/m s^-2]</th>\n",
       "      <th>$x_{\\phi},$ [rad]</th>\n",
       "      <th>$U_{\\phi},$ [rad]</th>\n",
       "      <th>Excitation_freq [Hz]</th>\n",
       "      <th>$x_{Aexcit},$ [m s^-2/m s^-2]</th>\n",
       "      <th>$U_{Aexcit},$ [m s^-2/m s^-2]</th>\n",
       "    </tr>\n",
       "  </thead>\n",
       "  <tbody>\n",
       "    <tr>\n",
       "      <th>0</th>\n",
       "      <td>10.0</td>\n",
       "      <td>1.019554</td>\n",
       "      <td>0.003273</td>\n",
       "      <td>-0.094684</td>\n",
       "      <td>0.003022</td>\n",
       "      <td>10.0</td>\n",
       "      <td>2.739</td>\n",
       "      <td>0.004891</td>\n",
       "    </tr>\n",
       "    <tr>\n",
       "      <th>1</th>\n",
       "      <td>12.5</td>\n",
       "      <td>1.019093</td>\n",
       "      <td>0.004047</td>\n",
       "      <td>-0.118820</td>\n",
       "      <td>0.006455</td>\n",
       "      <td>12.5</td>\n",
       "      <td>2.744</td>\n",
       "      <td>0.007312</td>\n",
       "    </tr>\n",
       "  </tbody>\n",
       "</table>\n",
       "</div>"
      ],
      "text/plain": [
       "   Frequency [Hz]  $x_{M},$ [m s^-2/m s^-2]  $U_{M},$ [m s^-2/m s^-2]  \\\n",
       "0            10.0                  1.019554                  0.003273   \n",
       "1            12.5                  1.019093                  0.004047   \n",
       "\n",
       "   $x_{\\phi},$ [rad]  $U_{\\phi},$ [rad]  Excitation_freq [Hz]  \\\n",
       "0          -0.094684           0.003022                  10.0   \n",
       "1          -0.118820           0.006455                  12.5   \n",
       "\n",
       "   $x_{Aexcit},$ [m s^-2/m s^-2]  $U_{Aexcit},$ [m s^-2/m s^-2]  \n",
       "0                          2.739                       0.004891  \n",
       "1                          2.744                       0.007312  "
      ]
     },
     "execution_count": 5,
     "metadata": {},
     "output_type": "execute_result"
    }
   ],
   "source": [
    "whole_dataset_PTB.head(2)"
   ]
  },
  {
   "cell_type": "markdown",
   "metadata": {},
   "source": [
    "Phase data for PTB must be reverted:"
   ]
  },
  {
   "cell_type": "code",
   "execution_count": 6,
   "metadata": {},
   "outputs": [],
   "source": [
    "whole_dataset_PTB[[r\"$x_{\\phi},$ [rad]\"]] = whole_dataset_PTB[[r\"$x_{\\phi},$ [rad]\"]]"
   ]
  },
  {
   "cell_type": "code",
   "execution_count": 7,
   "metadata": {},
   "outputs": [
    {
     "data": {
      "text/html": [
       "<div>\n",
       "<style scoped>\n",
       "    .dataframe tbody tr th:only-of-type {\n",
       "        vertical-align: middle;\n",
       "    }\n",
       "\n",
       "    .dataframe tbody tr th {\n",
       "        vertical-align: top;\n",
       "    }\n",
       "\n",
       "    .dataframe thead th {\n",
       "        text-align: right;\n",
       "    }\n",
       "</style>\n",
       "<table border=\"1\" class=\"dataframe\">\n",
       "  <thead>\n",
       "    <tr style=\"text-align: right;\">\n",
       "      <th></th>\n",
       "      <th>Frequency [Hz]</th>\n",
       "      <th>$x_{M},$ [m s^-2/m s^-2]</th>\n",
       "      <th>$U_{M},$ [m s^-2/m s^-2]</th>\n",
       "      <th>$x_{\\phi},$ [rad]</th>\n",
       "      <th>$U_{\\phi},$ [rad]</th>\n",
       "      <th>Excitation_freq [Hz]</th>\n",
       "      <th>$x_{Aexcit},$ [m s^-2/m s^-2]</th>\n",
       "      <th>$U_{Aexcit},$ [m s^-2/m s^-2]</th>\n",
       "    </tr>\n",
       "  </thead>\n",
       "  <tbody>\n",
       "    <tr>\n",
       "      <th>0</th>\n",
       "      <td>10.0</td>\n",
       "      <td>1.019554</td>\n",
       "      <td>0.003273</td>\n",
       "      <td>-0.094684</td>\n",
       "      <td>0.003022</td>\n",
       "      <td>10.0</td>\n",
       "      <td>2.739</td>\n",
       "      <td>0.004891</td>\n",
       "    </tr>\n",
       "    <tr>\n",
       "      <th>1</th>\n",
       "      <td>12.5</td>\n",
       "      <td>1.019093</td>\n",
       "      <td>0.004047</td>\n",
       "      <td>-0.118820</td>\n",
       "      <td>0.006455</td>\n",
       "      <td>12.5</td>\n",
       "      <td>2.744</td>\n",
       "      <td>0.007312</td>\n",
       "    </tr>\n",
       "  </tbody>\n",
       "</table>\n",
       "</div>"
      ],
      "text/plain": [
       "   Frequency [Hz]  $x_{M},$ [m s^-2/m s^-2]  $U_{M},$ [m s^-2/m s^-2]  \\\n",
       "0            10.0                  1.019554                  0.003273   \n",
       "1            12.5                  1.019093                  0.004047   \n",
       "\n",
       "   $x_{\\phi},$ [rad]  $U_{\\phi},$ [rad]  Excitation_freq [Hz]  \\\n",
       "0          -0.094684           0.003022                  10.0   \n",
       "1          -0.118820           0.006455                  12.5   \n",
       "\n",
       "   $x_{Aexcit},$ [m s^-2/m s^-2]  $U_{Aexcit},$ [m s^-2/m s^-2]  \n",
       "0                          2.739                       0.004891  \n",
       "1                          2.744                       0.007312  "
      ]
     },
     "execution_count": 7,
     "metadata": {},
     "output_type": "execute_result"
    }
   ],
   "source": [
    "whole_dataset_PTB.head(2)"
   ]
  },
  {
   "cell_type": "code",
   "execution_count": 8,
   "metadata": {},
   "outputs": [
    {
     "name": "stdout",
     "output_type": "stream",
     "text": [
      "\n",
      "Items in directory [('EXPERIMENTS', <HDF5 group \"/EXPERIMENTS\" (1 members)>), ('RAWDATA', <HDF5 group \"/RAWDATA\" (2 members)>), ('RAWTRANSFERFUNCTION', <HDF5 group \"/RAWTRANSFERFUNCTION\" (1 members)>), ('REFERENCEDATA', <HDF5 group \"/REFERENCEDATA\" (2 members)>)]\n",
      "\n",
      "Items in reference [('0xbccb0000_MPU_9250', <HDF5 group \"/RAWTRANSFERFUNCTION/0xbccb0000_MPU_9250\" (1 members)>)]\n",
      "\n",
      "0xbccb0000_MPU_9250 items: [('Acceleration', <HDF5 group \"/RAWTRANSFERFUNCTION/0xbccb0000_MPU_9250/Acceleration\" (1 members)>)]\n",
      "\n",
      "Acceleration items: [('Acceleration', <HDF5 group \"/RAWTRANSFERFUNCTION/0xbccb0000_MPU_9250/Acceleration/Acceleration\" (11 members)>)]\n",
      "\n",
      "Acceleration items_5members: [('DUT_Phase', <HDF5 group \"/RAWTRANSFERFUNCTION/0xbccb0000_MPU_9250/Acceleration/Acceleration/DUT_Phase\" (2 members)>), ('DUT_SNYNC_Phase', <HDF5 group \"/RAWTRANSFERFUNCTION/0xbccb0000_MPU_9250/Acceleration/Acceleration/DUT_SNYNC_Phase\" (2 members)>), ('DUT_amplitude', <HDF5 group \"/RAWTRANSFERFUNCTION/0xbccb0000_MPU_9250/Acceleration/Acceleration/DUT_amplitude\" (2 members)>), ('Delta_DUTSNYC_Phase', <HDF5 group \"/RAWTRANSFERFUNCTION/0xbccb0000_MPU_9250/Acceleration/Acceleration/Delta_DUTSNYC_Phase\" (2 members)>), ('Excitation_amplitude', <HDF5 group \"/RAWTRANSFERFUNCTION/0xbccb0000_MPU_9250/Acceleration/Acceleration/Excitation_amplitude\" (2 members)>), ('Excitation_frequency', <HDF5 group \"/RAWTRANSFERFUNCTION/0xbccb0000_MPU_9250/Acceleration/Acceleration/Excitation_frequency\" (2 members)>), ('Frequency', <HDF5 group \"/RAWTRANSFERFUNCTION/0xbccb0000_MPU_9250/Acceleration/Acceleration/Frequency\" (2 members)>), ('Magnitude', <HDF5 group \"/RAWTRANSFERFUNCTION/0xbccb0000_MPU_9250/Acceleration/Acceleration/Magnitude\" (2 members)>), ('Phase', <HDF5 group \"/RAWTRANSFERFUNCTION/0xbccb0000_MPU_9250/Acceleration/Acceleration/Phase\" (2 members)>), ('REF_Phase', <HDF5 group \"/RAWTRANSFERFUNCTION/0xbccb0000_MPU_9250/Acceleration/Acceleration/REF_Phase\" (2 members)>), ('SSU_ADC_Phase', <HDF5 group \"/RAWTRANSFERFUNCTION/0xbccb0000_MPU_9250/Acceleration/Acceleration/SSU_ADC_Phase\" (2 members)>)]\n",
      "\n",
      "Frequency [('uncertainty', <HDF5 dataset \"uncertainty\": shape (171,), type \"<f8\">), ('value', <HDF5 dataset \"value\": shape (171,), type \"<f8\">)]\n",
      "\n",
      "Magnitude [('uncertainty', <HDF5 dataset \"uncertainty\": shape (171,), type \"<f8\">), ('value', <HDF5 dataset \"value\": shape (171,), type \"<f8\">)]\n",
      "\n",
      "Phase [('uncertainty', <HDF5 dataset \"uncertainty\": shape (171,), type \"<f8\">), ('value', <HDF5 dataset \"value\": shape (171,), type \"<f8\">)]\n",
      "\n",
      "Array dimensions: (171, 8)\n"
     ]
    }
   ],
   "source": [
    "whole_dataset_CEM = extract_data('MPU9250CEM_v5.hdf5',\"0xbccb0000\")"
   ]
  },
  {
   "cell_type": "code",
   "execution_count": 9,
   "metadata": {},
   "outputs": [
    {
     "data": {
      "text/html": [
       "<div>\n",
       "<style scoped>\n",
       "    .dataframe tbody tr th:only-of-type {\n",
       "        vertical-align: middle;\n",
       "    }\n",
       "\n",
       "    .dataframe tbody tr th {\n",
       "        vertical-align: top;\n",
       "    }\n",
       "\n",
       "    .dataframe thead th {\n",
       "        text-align: right;\n",
       "    }\n",
       "</style>\n",
       "<table border=\"1\" class=\"dataframe\">\n",
       "  <thead>\n",
       "    <tr style=\"text-align: right;\">\n",
       "      <th></th>\n",
       "      <th>Frequency [Hz]</th>\n",
       "      <th>$x_{M},$ [m s^-2/m s^-2]</th>\n",
       "      <th>$U_{M},$ [m s^-2/m s^-2]</th>\n",
       "      <th>$x_{\\phi},$ [rad]</th>\n",
       "      <th>$U_{\\phi},$ [rad]</th>\n",
       "      <th>Excitation_freq [Hz]</th>\n",
       "      <th>$x_{Aexcit},$ [m s^-2/m s^-2]</th>\n",
       "      <th>$U_{Aexcit},$ [m s^-2/m s^-2]</th>\n",
       "    </tr>\n",
       "  </thead>\n",
       "  <tbody>\n",
       "    <tr>\n",
       "      <th>0</th>\n",
       "      <td>80.0</td>\n",
       "      <td>NaN</td>\n",
       "      <td>NaN</td>\n",
       "      <td>NaN</td>\n",
       "      <td>NaN</td>\n",
       "      <td>80.0</td>\n",
       "      <td>NaN</td>\n",
       "      <td>NaN</td>\n",
       "    </tr>\n",
       "    <tr>\n",
       "      <th>1</th>\n",
       "      <td>250.0</td>\n",
       "      <td>0.643003</td>\n",
       "      <td>0.000891</td>\n",
       "      <td>-2.375412</td>\n",
       "      <td>0.002897</td>\n",
       "      <td>250.0</td>\n",
       "      <td>126.497513</td>\n",
       "      <td>0.125687</td>\n",
       "    </tr>\n",
       "  </tbody>\n",
       "</table>\n",
       "</div>"
      ],
      "text/plain": [
       "   Frequency [Hz]  $x_{M},$ [m s^-2/m s^-2]  $U_{M},$ [m s^-2/m s^-2]  \\\n",
       "0            80.0                       NaN                       NaN   \n",
       "1           250.0                  0.643003                  0.000891   \n",
       "\n",
       "   $x_{\\phi},$ [rad]  $U_{\\phi},$ [rad]  Excitation_freq [Hz]  \\\n",
       "0                NaN                NaN                  80.0   \n",
       "1          -2.375412           0.002897                 250.0   \n",
       "\n",
       "   $x_{Aexcit},$ [m s^-2/m s^-2]  $U_{Aexcit},$ [m s^-2/m s^-2]  \n",
       "0                            NaN                            NaN  \n",
       "1                     126.497513                       0.125687  "
      ]
     },
     "execution_count": 9,
     "metadata": {},
     "output_type": "execute_result"
    }
   ],
   "source": [
    "whole_dataset_CEM[[r\"$x_{\\phi},$ [rad]\"]] = whole_dataset_CEM[[r\"$x_{\\phi},$ [rad]\"]]-np.pi\n",
    "whole_dataset_CEM.head(2)"
   ]
  },
  {
   "cell_type": "markdown",
   "metadata": {},
   "source": [
    "Cycles in CEM's dataset start with 80.0 Hz and 250.0 Hz instead of 10.0 Hz. These starting points are deleted in order to compare the cycles in a range from 10.0 Hz and 250.Hz."
   ]
  },
  {
   "cell_type": "code",
   "execution_count": 10,
   "metadata": {},
   "outputs": [],
   "source": [
    "delete_rows=[]\n",
    "\n",
    "for k in range(0,171,19):\n",
    "    i=k\n",
    "    j=k+1\n",
    "    delete_rows.append(i)\n",
    "    delete_rows.append(j)\n",
    "whole_dataset_CEM_new=whole_dataset_CEM.drop(axis=0,index=delete_rows)"
   ]
  },
  {
   "cell_type": "markdown",
   "metadata": {},
   "source": [
    "# 3.Data analysis"
   ]
  },
  {
   "cell_type": "code",
   "execution_count": 11,
   "metadata": {},
   "outputs": [],
   "source": [
    "def split_data_by_frequencies(dataset):\n",
    "    dict_of_frequencies=dict(iter(dataset.groupby('Frequency [Hz]')))\n",
    "    return dict_of_frequencies\n",
    "    #list_of_frequencies=np.array([10,12.5,16,20,25,31.5,40,46.7,50,53.3,63,80,100,125,160,200,250])"
   ]
  },
  {
   "cell_type": "code",
   "execution_count": 12,
   "metadata": {},
   "outputs": [
    {
     "name": "stdout",
     "output_type": "stream",
     "text": [
      "Frequencies - PTB: dict_keys([10.0, 12.5, 16.0, 20.0, 25.0, 31.5, 40.0, 46.7, 50.0, 53.3, 63.0, 80.0, 100.0, 125.0, 160.0, 200.0, 250.0])\n",
      "Frequencies - CEM: dict_keys([10.0, 12.5, 16.0, 20.0, 25.0, 31.5, 40.0, 46.7, 50.0, 53.3, 63.0, 80.0, 100.0, 125.0, 160.0, 200.0, 250.0])\n"
     ]
    }
   ],
   "source": [
    "#check if all frequencies are the same\n",
    "PTB_separated_by_freq=split_data_by_frequencies(whole_dataset_PTB)\n",
    "CEM_separated_by_freq=split_data_by_frequencies(whole_dataset_CEM)\n",
    "CEM_separated_by_freq_new=split_data_by_frequencies(whole_dataset_CEM_new)\n",
    "print(\"Frequencies - PTB:\",PTB_separated_by_freq.keys())\n",
    "print(\"Frequencies - CEM:\",CEM_separated_by_freq.keys())"
   ]
  },
  {
   "cell_type": "code",
   "execution_count": 13,
   "metadata": {},
   "outputs": [
    {
     "data": {
      "text/html": [
       "<div>\n",
       "<style scoped>\n",
       "    .dataframe tbody tr th:only-of-type {\n",
       "        vertical-align: middle;\n",
       "    }\n",
       "\n",
       "    .dataframe tbody tr th {\n",
       "        vertical-align: top;\n",
       "    }\n",
       "\n",
       "    .dataframe thead th {\n",
       "        text-align: right;\n",
       "    }\n",
       "</style>\n",
       "<table border=\"1\" class=\"dataframe\">\n",
       "  <thead>\n",
       "    <tr style=\"text-align: right;\">\n",
       "      <th></th>\n",
       "      <th>Frequency [Hz]</th>\n",
       "      <th>$x_{M},$ [m s^-2/m s^-2]</th>\n",
       "      <th>$U_{M},$ [m s^-2/m s^-2]</th>\n",
       "      <th>$x_{\\phi},$ [rad]</th>\n",
       "      <th>$U_{\\phi},$ [rad]</th>\n",
       "      <th>Excitation_freq [Hz]</th>\n",
       "      <th>$x_{Aexcit},$ [m s^-2/m s^-2]</th>\n",
       "      <th>$U_{Aexcit},$ [m s^-2/m s^-2]</th>\n",
       "    </tr>\n",
       "  </thead>\n",
       "  <tbody>\n",
       "    <tr>\n",
       "      <th>0</th>\n",
       "      <td>10.0</td>\n",
       "      <td>1.019554</td>\n",
       "      <td>0.003273</td>\n",
       "      <td>-0.094684</td>\n",
       "      <td>0.003022</td>\n",
       "      <td>10.0</td>\n",
       "      <td>2.739</td>\n",
       "      <td>0.004891</td>\n",
       "    </tr>\n",
       "  </tbody>\n",
       "</table>\n",
       "</div>"
      ],
      "text/plain": [
       "   Frequency [Hz]  $x_{M},$ [m s^-2/m s^-2]  $U_{M},$ [m s^-2/m s^-2]  \\\n",
       "0            10.0                  1.019554                  0.003273   \n",
       "\n",
       "   $x_{\\phi},$ [rad]  $U_{\\phi},$ [rad]  Excitation_freq [Hz]  \\\n",
       "0          -0.094684           0.003022                  10.0   \n",
       "\n",
       "   $x_{Aexcit},$ [m s^-2/m s^-2]  $U_{Aexcit},$ [m s^-2/m s^-2]  \n",
       "0                          2.739                       0.004891  "
      ]
     },
     "execution_count": 13,
     "metadata": {},
     "output_type": "execute_result"
    }
   ],
   "source": [
    "PTB_separated_by_freq.get(10).head(1)"
   ]
  },
  {
   "cell_type": "code",
   "execution_count": 14,
   "metadata": {},
   "outputs": [
    {
     "data": {
      "text/html": [
       "<div>\n",
       "<style scoped>\n",
       "    .dataframe tbody tr th:only-of-type {\n",
       "        vertical-align: middle;\n",
       "    }\n",
       "\n",
       "    .dataframe tbody tr th {\n",
       "        vertical-align: top;\n",
       "    }\n",
       "\n",
       "    .dataframe thead th {\n",
       "        text-align: right;\n",
       "    }\n",
       "</style>\n",
       "<table border=\"1\" class=\"dataframe\">\n",
       "  <thead>\n",
       "    <tr style=\"text-align: right;\">\n",
       "      <th></th>\n",
       "      <th>Frequency [Hz]</th>\n",
       "      <th>$x_{M},$ [m s^-2/m s^-2]</th>\n",
       "      <th>$U_{M},$ [m s^-2/m s^-2]</th>\n",
       "      <th>$x_{\\phi},$ [rad]</th>\n",
       "      <th>$U_{\\phi},$ [rad]</th>\n",
       "      <th>Excitation_freq [Hz]</th>\n",
       "      <th>$x_{Aexcit},$ [m s^-2/m s^-2]</th>\n",
       "      <th>$U_{Aexcit},$ [m s^-2/m s^-2]</th>\n",
       "    </tr>\n",
       "  </thead>\n",
       "  <tbody>\n",
       "    <tr>\n",
       "      <th>2</th>\n",
       "      <td>10.0</td>\n",
       "      <td>1.016209</td>\n",
       "      <td>0.004893</td>\n",
       "      <td>-0.094907</td>\n",
       "      <td>0.001665</td>\n",
       "      <td>10.0</td>\n",
       "      <td>2.754331</td>\n",
       "      <td>0.00586</td>\n",
       "    </tr>\n",
       "  </tbody>\n",
       "</table>\n",
       "</div>"
      ],
      "text/plain": [
       "   Frequency [Hz]  $x_{M},$ [m s^-2/m s^-2]  $U_{M},$ [m s^-2/m s^-2]  \\\n",
       "2            10.0                  1.016209                  0.004893   \n",
       "\n",
       "   $x_{\\phi},$ [rad]  $U_{\\phi},$ [rad]  Excitation_freq [Hz]  \\\n",
       "2          -0.094907           0.001665                  10.0   \n",
       "\n",
       "   $x_{Aexcit},$ [m s^-2/m s^-2]  $U_{Aexcit},$ [m s^-2/m s^-2]  \n",
       "2                       2.754331                        0.00586  "
      ]
     },
     "execution_count": 14,
     "metadata": {},
     "output_type": "execute_result"
    }
   ],
   "source": [
    "CEM_separated_by_freq_new.get(10).head(1)"
   ]
  },
  {
   "cell_type": "code",
   "execution_count": 15,
   "metadata": {},
   "outputs": [],
   "source": [
    "q_names=list(PTB_separated_by_freq.get(10).columns)"
   ]
  },
  {
   "cell_type": "markdown",
   "metadata": {},
   "source": [
    "# 4. ANOVA for experiments performed at a given frequency"
   ]
  },
  {
   "cell_type": "markdown",
   "metadata": {},
   "source": [
    "Ten measurement cycles for PTB and nine for CEM result with ten (or nine) experiments at each calibration point between 10.0 Hz and 250.0 Hz. Each experiment is described with:  ${x_{M}},{x_{\\phi}}$ and assigned expanded uncertainties:\n",
    "${U_{M}},{U_{\\phi}}$. These mean values arise from the sine-fitting and conversion of time-domain signals to the frequency domain.  The ANOVA method is used to examine if the mean values of experiments at a given frequency are equal for each laboratory, PTB and CEM respectively. \n",
    "\n",
    "<br>In a general case, one-way ANOVA uses the following null and alternative hypotheses:\n",
    "\n",
    "<br>H0 (a null hypothesis): μ1 = μ2 = μ3 = … = μk (all the population means are equal)\n",
    "<br>H1 (a research hypothesis): at least one population mean is different from the rest.\n",
    "\n",
    "There are three primary assumptions in ANOVA:\n",
    "\n",
    "<br>*The responses for each factor level have a normal population distribution.*\n",
    "<br>*These distributions have the same variance.*\n",
    "<br>*The data are independent.*\n",
    "<br>Violations to the first two that are not extreme can be considered not serious. The sampling distribution of the test statistic is fairly robust, especially as sample size increases and more so if the sample sizes for all factor levels are equal. If you conduct an ANOVA test, you should always try to keep the same sample sizes for each factor level.\n",
    "\n",
    "If our samples have unequal variances (heteroscedasticity), on the other hand, it can affect the Type I error rate and lead to false positives. This is, basically, what equality of variances means.\n",
    "\n",
    "<b>A general rule of thumb for equal variances is to compare the smallest and largest sample standard deviations. This is much like the rule of thumb for equal variances for the test for independent means. If the ratio of these two sample standard deviations falls within 0.5 to 2, then it may be that the assumption is not violated.<b>"
   ]
  },
  {
   "cell_type": "markdown",
   "metadata": {},
   "source": [
    "## 4.1 Test for the equality of variances"
   ]
  },
  {
   "cell_type": "code",
   "execution_count": 16,
   "metadata": {},
   "outputs": [],
   "source": [
    "def rule_of_thumb_ANOVA(dictionary, index):  \n",
    "    ratio_mag=np.empty((len(dictionary.values())))\n",
    "    ratio_ph=np.empty((len(dictionary.values())))\n",
    "    ratio_ex=np.empty((len(dictionary.values())))\n",
    "    for val,f in zip (dictionary.values(),range(len(dictionary.values()))):\n",
    "            min_mag=min(val[r\"$U_{M},$ [m s^-2/m s^-2]\"].values/2)\n",
    "            max_mag=max(val[r\"$U_{M},$ [m s^-2/m s^-2]\"].values/2)\n",
    "            ratio_mag[f]=max_mag/min_mag\n",
    "\n",
    "            min_ph=min(val[r\"$U_{\\phi},$ [rad]\"].values/2)\n",
    "            max_ph=max(val[r\"$U_{\\phi},$ [rad]\"].values/2)\n",
    "            ratio_ph[f]=max_ph/min_ph\n",
    "\n",
    "            min_ex=min(val[r\"$U_{Aexcit},$ [m s^-2/m s^-2]\"].values/2)\n",
    "            max_ex=max(val[r\"$U_{Aexcit},$ [m s^-2/m s^-2]\"].values/2)\n",
    "            ratio_ex[f]=max_ex/min_ex\n",
    "    \n",
    "    ratios = {'Magnitude' : pd.Series(ratio_mag,index =index),\n",
    "              'Phase' : pd.Series(ratio_ph,index =index),\n",
    "              'Excitation amplitude' : pd.Series(ratio_ex,index =index),     \n",
    "             }\n",
    "    ratios=pd.DataFrame(ratios, index=index)  \n",
    "    return ratios#.style.applymap(lambda x: 'background-color : red' if x>2 else 'background-color : green')\n",
    " #red - variances are not equal.The assumption might be violated\n",
    "# green - variances are equal. The assumption is not violated"
   ]
  },
  {
   "cell_type": "code",
   "execution_count": 17,
   "metadata": {
    "scrolled": true
   },
   "outputs": [
    {
     "data": {
      "application/vnd.jupyter.widget-view+json": {
       "model_id": "401122b066984f7bbc42147d02c4cb1d",
       "version_major": 2,
       "version_minor": 0
      },
      "text/plain": [
       "HBox(children=(Output(), Output()), layout=Layout(display='flex', flex_flow='row', justify_content='space-arou…"
      ]
     },
     "metadata": {},
     "output_type": "display_data"
    }
   ],
   "source": [
    "list_of_freq=[10,12.5,16,20,25,31.5,40,46.7,50,53.3,63,80,100,125,160,200,250]\n",
    "rule_PTB=rule_of_thumb_ANOVA(PTB_separated_by_freq,list_of_freq)\n",
    "rule_CEM=rule_of_thumb_ANOVA(CEM_separated_by_freq_new,list_of_freq)\n",
    "\n",
    "# create output widgets\n",
    "widget1 = widgets.Output()\n",
    "widget2 = widgets.Output()\n",
    "\n",
    "\n",
    "with widget1:\n",
    "    display.display(rule_PTB.style.set_caption('PTB').applymap(lambda x: 'background-color : red' if x>2 else 'background-color : green'))\n",
    "\n",
    "with widget2:\n",
    "    display.display(rule_CEM.style.set_caption('CEM').applymap(lambda x: 'background-color : red' if x>2 else 'background-color : green'))\n",
    "\n",
    "\n",
    "\n",
    "# add some CSS styles to distribute free space\n",
    "box_layout = Layout(display='flex',\n",
    "                    flex_flow='row',\n",
    "                    justify_content='space-around',\n",
    "                    width='auto'\n",
    "                   )\n",
    "    \n",
    "# create Horisontal Box container\n",
    "hbox = widgets.HBox([widget1, widget2], layout=box_layout)\n",
    "\n",
    "# render hbox\n",
    "hbox"
   ]
  },
  {
   "cell_type": "markdown",
   "metadata": {},
   "source": [
    "The test for the equality of variances shows that distributions do not have the same variance at frequencies with the highest magnitude uncertainties (10.0 Hz - 16.0 Hz) for PTB and in a range (50.0 - 250.0 Hz) (Reference:1_Introduction_data_analysis_.ipynb - 3.1.). The interesting point is 31.5 Hz, where the uncertainty of magnitude is moderate when compared to those at other frequencies.\n",
    "\n",
    "Phase observation for PTB shows that the test for equality of variances is not satisfied in a range (31.5 - 53.3) Hz, where the highest uncertainties were noticed  and at 80.0 Hz, where the uncertainty is moderate when compared to those at other frequencies.\n",
    "\n",
    "\n",
    "Magnitude observation for CEM shows that the test for equality of variances is not satisfied in a range (63.0-250.0) Hz, which covers the range (63.0-125.0) Hz, where the highest uncertainties were detected. Sporadically, the test requirement is not satisfied at 10.0 Hz, 25.0 Hz, 46.7 Hz and 50.0 Hz, where expanded uncertainty is higher that 0.003 m s^-2/m s^-2.\n",
    "Test for the equality of variances is stasfied for all phase values.\n",
    "\n",
    "This test raise awareness in potential violations in the results which will be provided further by the ANOVA method.\n"
   ]
  },
  {
   "cell_type": "markdown",
   "metadata": {},
   "source": [
    "If it is assumed that each experiment is based on at least 30 single values, then the normal distribution can be proposed:\n",
    "$$X \\hookrightarrow  \\mathcal{N}(x_{M},\\,\\sigma _{M}^{2})$$\n",
    "where $\\sigma _{M}$ is calculated as   $\\frac{U _{M}}{2}$.\n",
    "\n",
    "The same approach refers to the phase values: \n",
    "$$X \\hookrightarrow  \\mathcal{N}(x_{\\phi},\\,\\sigma _{\\phi}^{2})$$\n",
    "where $\\sigma _{\\phi}$ is calculated as   $\\frac{U _{\\phi}}{2}$.\n",
    "Now, the task of ANOVA for the magnitude values is to set the null- and research hypothesis and to examine if the null-hypothesis can be rejected or not is to examine whether $x_{M1} = x_{M2}=.....x_{Mi}$\n",
    "<br> H0:  $x_{M1} = x_{M2}=.....x_{Mi}$\n",
    "<br>H1 (a research hypothesis): at least one $x_{Mi}$ is different from the rest.\n",
    "\n",
    "The task of ANOVA for the phase  values is to set the null- and research hypothesis and to examine if the null-hypothesis can be rejected or not is to examine whether $x_{\\phi 1} = x_{\\phi 2}=.....x_{\\phi i}$\n",
    "<br> H0:  $x_{\\phi 1} = x_{\\phi 2}=.....x_{\\phi i}$\n",
    "<br>H1 (a research hypothesis): at least one $x_{\\phi i}$ is different from the rest.\n",
    "\n",
    "In both cases, *i* refers to the number of experiments at a given frequency (*i*=10 for PTB and *i*=9 for CEM).\n",
    "\n",
    "<br> If the p-value of the ANOVA calculation is higher that 0.05, the null hypothesis cannot be rejected. [4] If the p-value is less than 0.05, we reject the null hypothesis that there's no difference between the means.\n",
    "<br>*NOTE: ANOVA method at this step is based on sampling because for each experiment only the mean value and standard deviation of quantities of interest are known, while the number of single values contained in the each experiment is not known. However, it is not sure whether the sampling is an applicable option for measurement procedure by the acceleration sensor.It is also noticable that the results are affected by the number of samples involved.*"
   ]
  },
  {
   "cell_type": "code",
   "execution_count": 18,
   "metadata": {},
   "outputs": [],
   "source": [
    "def ANOVA_through_experiments(dictionary,index,lab):\n",
    " \n",
    "    p=np.empty((len(dictionary.values())))\n",
    "\n",
    "    for val,f in zip (dictionary.values(),range(len(dictionary.values()))):\n",
    "        group=[None]*val.shape[0]\n",
    "        for item in range(val.shape[0]):\n",
    "            random1=np.random.normal(val[r\"$x_{M},$ [m s^-2/m s^-2]\"].values[item], val[r\"$U_{M},$ [m s^-2/m s^-2]\"].values[item]/2, 30)\n",
    "            group[item]=random1\n",
    "            \n",
    "        if lab==\"PTB\": \n",
    "            F_statistic, pVal = stats.f_oneway(group[0],group[1],group[2],group[3],group[4],group[5],group[6],group[7],group[8],group[9]) \n",
    "        elif lab==\"CEM\":\n",
    "            F_statistic, pVal = stats.f_oneway(group[0],group[1],group[2],group[3],group[4],group[5],group[6],group[7],group[8])\n",
    "        p[f]=pVal\n",
    "     \n",
    "    df=pd.DataFrame(p,columns=[\"p-value (Magnitude) \"], index=index) \n",
    "\n",
    "          \n",
    "    for val,f in zip (dictionary.values(),range(len(dictionary.values()))):\n",
    "        group=[None]*val.shape[0]\n",
    "        for item in range(val.shape[0]):\n",
    "            random1=np.random.normal(val[r\"$x_{\\phi},$ [rad]\"].values[item], val[r\"$U_{\\phi},$ [rad]\"].values[item]/2, 30)\n",
    "            group[item]=random1\n",
    "        if lab==\"PTB\": \n",
    "            F_statistic, pVal = stats.f_oneway(group[0],group[1],group[2],group[3],group[4],group[5],group[6],group[7],group[8],group[9])\n",
    "            p[f]=pVal\n",
    "        elif lab==\"CEM\":\n",
    "            F_statistic, pVal = stats.f_oneway(group[0],group[1],group[2],group[3],group[4],group[5],group[6],group[7],group[8])\n",
    "        p[f]=pVal\n",
    "  \n",
    "    df[\"p-value (Phase) \"]=p    \n",
    "        \n",
    "    return df#.style.applymap(lambda x: 'background-color : yellow' if x<0.05 else 'background-color : green')\n",
    "\n",
    " #yellow - the null hypothesis can be rejected. \n",
    "# green - the null hypothesis cannot be rejected. "
   ]
  },
  {
   "cell_type": "code",
   "execution_count": 19,
   "metadata": {},
   "outputs": [],
   "source": [
    "p_ANOVA_PTB,p_ANOVA_CEM=ANOVA_through_experiments(PTB_separated_by_freq,list_of_freq,\"PTB\"),ANOVA_through_experiments(CEM_separated_by_freq_new,list_of_freq,\"CEM\")"
   ]
  },
  {
   "cell_type": "code",
   "execution_count": 20,
   "metadata": {},
   "outputs": [
    {
     "data": {
      "application/vnd.jupyter.widget-view+json": {
       "model_id": "89fab733868c4b13b233e3e0cec24470",
       "version_major": 2,
       "version_minor": 0
      },
      "text/plain": [
       "HBox(children=(Output(), Output()), layout=Layout(display='flex', flex_flow='row', justify_content='space-arou…"
      ]
     },
     "metadata": {},
     "output_type": "display_data"
    }
   ],
   "source": [
    "# create output widgets\n",
    "widget1 = widgets.Output()\n",
    "widget2 = widgets.Output()\n",
    "\n",
    "with widget1:\n",
    "    display.display(p_ANOVA_PTB.style.set_caption('PTB').applymap(lambda x: 'background-color : yellow' if x<0.05 else 'background-color : green'))\n",
    "\n",
    "with widget2:\n",
    "    display.display(p_ANOVA_CEM.style.set_caption('CEM').applymap(lambda x: 'background-color : yellow' if x<0.05 else 'background-color : green'))\n",
    "\n",
    "\n",
    "\n",
    "# add some CSS styles to distribute free space\n",
    "box_layout = Layout(display='flex',\n",
    "                    flex_flow='row',\n",
    "                    justify_content='space-around',\n",
    "                    width='auto'\n",
    "                   )\n",
    "    \n",
    "# create Horisontal Box container\n",
    "hbox = widgets.HBox([widget1, widget2], layout=box_layout)\n",
    "\n",
    "# render hbox\n",
    "hbox"
   ]
  },
  {
   "cell_type": "markdown",
   "metadata": {},
   "source": [
    "# References"
   ]
  },
  {
   "cell_type": "markdown",
   "metadata": {},
   "source": [
    "[1] https://www.investopedia.com/terms/c/coefficientofvariation.asp\n",
    "<br>[2] https://en.wikipedia.org/wiki/Weighted_arithmetic_mean\n",
    "<br>[3] https://en.wikipedia.org/wiki/Effective_sample_size\n",
    "<br>[4] https://online.stat.psu.edu/stat500/lesson/10/10.2/10.2.1\n",
    "<br>[5] https://www.marsja.se/levenes-bartletts-test-of-equality-homogeneity-of-variance-in-python/"
   ]
  },
  {
   "cell_type": "code",
   "execution_count": null,
   "metadata": {},
   "outputs": [],
   "source": []
  },
  {
   "cell_type": "code",
   "execution_count": null,
   "metadata": {},
   "outputs": [],
   "source": []
  }
 ],
 "metadata": {
  "kernelspec": {
   "display_name": "Python 3",
   "language": "python",
   "name": "python3"
  },
  "language_info": {
   "codemirror_mode": {
    "name": "ipython",
    "version": 3
   },
   "file_extension": ".py",
   "mimetype": "text/x-python",
   "name": "python",
   "nbconvert_exporter": "python",
   "pygments_lexer": "ipython3",
   "version": "3.7.1"
  }
 },
 "nbformat": 4,
 "nbformat_minor": 4
}
