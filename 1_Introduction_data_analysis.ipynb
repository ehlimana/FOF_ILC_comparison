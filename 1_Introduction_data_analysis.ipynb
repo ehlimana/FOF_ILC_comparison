{
 "cells": [
  {
   "cell_type": "markdown",
   "metadata": {},
   "source": [
    "\n",
    "# 1. Introduction"
   ]
  },
  {
   "cell_type": "markdown",
   "metadata": {},
   "source": [
    "This notebook has been developed for the purposes of the EMPIR project “Metrology for the Factory of the Future” (Met4FoF) -  Activity A1.2.2 of the Work Package 1.Two laboratories in PTB and CEM posses conventional dynamic calibration set-ups for acceleration sensors under test. The objective was to extend current calibration systems for digital-output sensors.  The objective of the task is to compare measurement results of the two laboratories, PTB and CEM, provided by the extended dynamic calibration systems. \n",
    "\n",
    "## 1.1. State of the art\n",
    "\n",
    "In conventional dynamic calibration procedures for acceleration sensors, the acceleration used for the sensor input is applied either as **a sinusoidal excitation with a given frequency and amplitude** or as **a singular shock-like excitation characterized by pulse width and intensity**. \n",
    "<br>The quantity is then measured by a reference sensor and by the device under test (DUT). The results of DUT are compared to the reference and hence characterized and linked to the SI. In a dynamic calibration situation, the response of the DUT to time-varying input is the major interest. Hence, it is crucial that the mechanical input operates simultaneously and equally on the reference and DUT. Both, the reference and the DUT provide **electrical outputs (typical voltage)** while **the data acquisition electronics** of the system provides **the analogue to digital conversion (ADC).**\n",
    "In order to connect the reference and the DUT to the ADC system, two analogue channels are needed. In order to get reliable information on the time dependent response, the timing of the data acquisition on the two channels has to be synchronized. This is typically accomplished by provision of a common clock signal to drive the sampling units of the ADC and a common trigger to start (or mark) the beginning of the acquisition. "
   ]
  },
  {
   "cell_type": "markdown",
   "metadata": {},
   "source": [
    "## 1.2. The extension of conventional dynamic calibration systems to digital-output sensors \n",
    "\n",
    "In a set-up where the DUT is a digital-output sensor,the sampling of the DUT time series is no longer under the control (trigger, clock) of the calibration system. Instead, the DUT comprises its own digitizer unit with a time base independent of the calibration system. In fact, a typical conventional calibration set-up does not provide an input for digital data at all.\n",
    "The solution to this problem requires two extensions:\n",
    "1.\tA digital acquisition unit (DAU) which is capable to connect to the digital interface of the sensor under calibration and store/transmit the DUT time-series for later analysis\n",
    "2.\tAn additional synchronization signal that provides the link between the time-base of the calibration system and the time-base of the DUT.\n",
    "\n",
    "The concept for the extension of existing facilities for dynamic calibration uses a custom digital acquisition unit microcontroller board with a connected reference time signal for traceable time stamping of acquired data points. This allows for a synchronised data acquisition from the reference measurement and the DUT. The selected sensor for acceleration measurements is a three axial low-g acceleration sensor with digital output, which allows measurements of acceleration in three perpendicular axes.**At the moment and in this notebook, only an X-axis acceleration has been observed.** \n",
    "    \n",
    "The selected laboratories posses their set-ups and the calibration items were calibrated in both set-ups.The analysis required transformation from time domain to the frequency domain, where frequencies and corresponding magnitudes and phases were calculated.The measurement conditions were kept according to the laboratory standard conditions. \n",
    "\n",
    "Each laboratory submitted HDFT files containing groups:\n",
    "- EXPERIMENTS - containing 171 files (experiment) corresponding to the sine excitations\n",
    "- RAWDATA - where data from ADCs (*voltage, absolute time, absolute time uncertainty*)  and sensors (*absolute time, absolute time uncertainty, acceleration, angular velocity, magnetic flux density and temperature*) can be approached during the measurements\n",
    "- RAWTRANSFERFUNCTION - *this group contains quantities of interest: frequencies, amplitudes, assigned uncertainties of amplitudes, phases,  assigned uncertainties of phases, excitation amplitudes and assigned uncertainties of excitation amplitudes\n",
    "- REFERENCEDATA - reference data from ADCs and sensors.\n",
    "\n",
    "    \n",
    "| <b>PTB<b> | Sensor | Internal ADC |\n",
    "| --- | --- | --- |\n",
    "| <b>Name<b> | MPU 9250| STM 32 Internal ADC |\n",
    "| <b>ID<b>  | 535035904 | 535038464 |\n",
    "| <b>Quantity<b>  | X Acceleration | Voltage  @CH1 |\n",
    "| <b>Unit<b>  | $\\frac{m}{s^{2}}$ | V |    \n",
    "| <b>Resolution<b>  | 65536,0 (16-bit) | 4096,0 (12-bit) |\n",
    "| <b>Min. scale<b>  | -156,91439819335938 $\\frac{m}{s^{2}}$  | -10 V |\n",
    "| <b>Min. scale<b>  | 156,90960693359375 $\\frac{m}{s^{2}}$  | 10 V |\n",
    "    \n",
    "| <b>CEM<b> | Sensor | Internal ADC |\n",
    "| --- | --- | --- |\n",
    "| <b>Name<b> | MPU 9250| STM 32 Internal ADC |\n",
    "| <b>ID<b>  | 3167420416 | 31674422976 |\n",
    "| <b>Quantity<b>  | X Acceleration | Voltage  @CH1 |\n",
    "| <b>Unit<b>  | $\\frac{m}{s^{2}}$ | V |    \n",
    "| <b>Resolution<b>  | 65536,0 (16-bit) | 4096,0 (12-bit) |\n",
    "| <b>Min. scale<b>  | -156,91439819335938 $\\frac{m}{s^{2}}$  | -10 V |\n",
    "| <b>Min. scale<b>  | 156,90960693359375 $\\frac{m}{s^{2}}$  | 10 V |"
   ]
  },
  {
   "cell_type": "code",
   "execution_count": null,
   "metadata": {},
   "outputs": [],
   "source": [
    "import h5py\n",
    "import numpy as np\n",
    "import pandas as pd\n",
    "import openpyxl\n",
    "import matplotlib.pyplot as plt\n",
    "import scipy.stats\n",
    "import numpy as np\n",
    "import scipy.stats as stats\n",
    "import seaborn as sns"
   ]
  },
  {
   "cell_type": "markdown",
   "metadata": {},
   "source": [
    "# 2.Extract the data"
   ]
  },
  {
   "cell_type": "markdown",
   "metadata": {},
   "source": [
    "Data for ILC comparison is extracted from the HDF5 files separately for PTB and CEM. The extracted data will be sorted by frequency at the end of the Notebook and saved into Excel file."
   ]
  },
  {
   "cell_type": "code",
   "execution_count": null,
   "metadata": {},
   "outputs": [],
   "source": [
    "def extract_data(filename, sensor_index):\n",
    "    #explore the HDF5 file, folders and subfolders\n",
    "    with h5py.File(filename,'r') as f:\n",
    "        base_items=list(f.items())\n",
    "        print(\"\\nItems in directory\", base_items)\n",
    "        rawtransfer=f.get(\"RAWTRANSFERFUNCTION\")\n",
    "        rawtransfer_items=list(rawtransfer.items())\n",
    "        print(\"\\nItems in reference\", rawtransfer_items)\n",
    "        subgroup=rawtransfer.get(\"/RAWTRANSFERFUNCTION/\"+sensor_index+\"_MPU_9250\")\n",
    "        subgroup_items=list(subgroup.items())\n",
    "        print(\"\\n\"+sensor_index+\"_MPU_9250 items:\",subgroup_items)\n",
    "        subgroup_acceleration=subgroup.get(\"/RAWTRANSFERFUNCTION/\"+sensor_index+\"_MPU_9250/Acceleration\")\n",
    "        subgroup_acceleration_items=list(subgroup_acceleration.items())\n",
    "        print(\"\\nAcceleration items:\",subgroup_acceleration_items)\n",
    "        subgroup_acceleration_5mem=subgroup.get(\"/RAWTRANSFERFUNCTION/\"+sensor_index+\"_MPU_9250/Acceleration/Acceleration\")\n",
    "        subgroup_acceleration_5mem_items=list(subgroup_acceleration_5mem.items())\n",
    "        print(\"\\nAcceleration items_5members:\", subgroup_acceleration_5mem_items)\n",
    "        frequency=subgroup_acceleration_5mem.get(\"/RAWTRANSFERFUNCTION/\"+sensor_index+\"_MPU_9250/Acceleration/Acceleration/Frequency\")\n",
    "        frequency_items=list(frequency.items())\n",
    "        print(\"\\nFrequency\", frequency_items)\n",
    "        magnitude=subgroup_acceleration_5mem.get(\"/RAWTRANSFERFUNCTION/\"+sensor_index+\"_MPU_9250/Acceleration/Acceleration/Magnitude\")\n",
    "        magnitude_items=list(magnitude.items())\n",
    "        print(\"\\nMagnitude\", magnitude_items)\n",
    "        phase=subgroup_acceleration_5mem.get(\"/RAWTRANSFERFUNCTION/\"+sensor_index+\"_MPU_9250/Acceleration/Acceleration/Phase\")\n",
    "        phase_items=list(magnitude.items())\n",
    "        print(\"\\nPhase\", phase_items)\n",
    "        \n",
    "        \n",
    "        #extract frequencies, magnitude, phase, uncertainties and all excitation parameters\n",
    "        frequency_values=np.array(frequency.get(\"value\"))\n",
    "        magnitude_values=np.array(magnitude.get(\"value\"))\n",
    "        magnitude_uncertainties=np.array(magnitude.get(\"uncertainty\"))\n",
    "        phase_values=np.array(phase.get(\"value\"))\n",
    "        phase_uncertainties=np.array(phase.get(\"uncertainty\"))\n",
    "        excitation_freq_items=subgroup_acceleration_5mem.get(\"/RAWTRANSFERFUNCTION/\"+sensor_index+\"_MPU_9250/Acceleration/Acceleration/Excitation_frequency\")\n",
    "        excitation_freq=np.array(excitation_freq_items.get(\"value\"))\n",
    "        excitation_amp_items=subgroup_acceleration_5mem.get(\"/RAWTRANSFERFUNCTION/\"+sensor_index+\"_MPU_9250/Acceleration/Acceleration/Excitation_amplitude\")\n",
    "        excitation_amp=np.array(excitation_amp_items.get(\"value\"))\n",
    "        excitation_amp_uncertainty=np.array(excitation_amp_items.get(\"uncertainty\"))\n",
    "        \n",
    "        #join all necessary data in 2D array\n",
    "        total_array=np.stack((frequency_values,magnitude_values,magnitude_uncertainties,phase_values, phase_uncertainties,excitation_freq,excitation_amp,excitation_amp_uncertainty), axis=1)\n",
    "        print(\"\\nArray dimensions:\", total_array.shape)\n",
    "        column_names=[\"Frequency [Hz]\", \"Magnitude [m s^-2/m s^-2 ]\",\"Uncertainty [m s^-2/m s^-2 ]\", \"Phase [°]\", \"Uncertainty[°]\",\"Excitation_freq [Hz]\",\"Excitation_amplitude [m s^-2]\",\"Excitation_amplitude_uncert [m s^-2]\"]\n",
    "        whole_dataset=pd.DataFrame(total_array, columns=column_names)\n",
    "        f.close()\n",
    "        \n",
    "        \n",
    "        return whole_dataset"
   ]
  },
  {
   "cell_type": "code",
   "execution_count": null,
   "metadata": {},
   "outputs": [],
   "source": [
    "whole_dataset_PTB = extract_data('MPU9250PTB_v2.hdf5',\"0x1fe40000\")\n",
    "#whole_dataset_PTB = extract_data('MPU9250PTB.hdf5',\"0x1fe40000\")"
   ]
  },
  {
   "cell_type": "code",
   "execution_count": null,
   "metadata": {},
   "outputs": [],
   "source": [
    "whole_dataset_PTB.head(2)"
   ]
  },
  {
   "cell_type": "markdown",
   "metadata": {},
   "source": [
    "Phase data for PTB must be reverted:"
   ]
  },
  {
   "cell_type": "code",
   "execution_count": null,
   "metadata": {},
   "outputs": [],
   "source": [
    "whole_dataset_PTB[['Phase [°]']] = whole_dataset_PTB[['Phase [°]']]-np.pi\n",
    "whole_dataset_PTB.head(2)"
   ]
  },
  {
   "cell_type": "code",
   "execution_count": null,
   "metadata": {},
   "outputs": [],
   "source": [
    "whole_dataset_CEM = extract_data('MPU9250CEM_v2.hdf5',\"0xbccb0000\")\n",
    "#whole_dataset_CEM = extract_data('MPU9250CEM.hdf5',\"0xbccb0000\")"
   ]
  },
  {
   "cell_type": "code",
   "execution_count": null,
   "metadata": {},
   "outputs": [],
   "source": [
    "whole_dataset_CEM.head(2)"
   ]
  },
  {
   "cell_type": "code",
   "execution_count": null,
   "metadata": {},
   "outputs": [],
   "source": [
    "#whole_dataset_CEM[['Phase [°]']] = whole_dataset_CEM[['Phase [°]']]-np.pi\n",
    "#whole_dataset_CEM.head(2)"
   ]
  },
  {
   "cell_type": "markdown",
   "metadata": {},
   "source": [
    "# 3.Data analysis"
   ]
  },
  {
   "cell_type": "code",
   "execution_count": null,
   "metadata": {},
   "outputs": [],
   "source": [
    "def plot_dataset(dataset,name):\n",
    "    plt.figure(figsize=(15,10))\n",
    "    plt.subplot(311)\n",
    "    plt.plot(dataset['Magnitude [m s^-2/m s^-2 ]'])\n",
    "    plt.ylabel('Magnitude [m s^-2/m s^-2 ]')\n",
    "    plt.xlabel(\"Experiments\")\n",
    "    plt.title(name)\n",
    "\n",
    "    plt.subplot(312)\n",
    "    plt.plot(dataset['Phase [°]'])\n",
    "    plt.ylabel('Phase [°]')\n",
    "    plt.xlabel(\"Experiments\")\n",
    "\n",
    "    plt.subplot(313)\n",
    "    plt.plot(dataset['Excitation_amplitude [m s^-2]'])\n",
    "    plt.ylabel('Excitation_amplitude [m s^-2]')\n",
    "    plt.xlabel(\"Experiments\")\n",
    "    plt.show()"
   ]
  },
  {
   "cell_type": "code",
   "execution_count": null,
   "metadata": {},
   "outputs": [],
   "source": [
    "plot_dataset(whole_dataset_PTB,\"PTB\")"
   ]
  },
  {
   "cell_type": "code",
   "execution_count": null,
   "metadata": {},
   "outputs": [],
   "source": [
    "plot_dataset(whole_dataset_CEM,\"CEM\")\n",
    "# peaks are individual behaviour, the system at CEM works in a way that starts with the freq of 80 Hz."
   ]
  },
  {
   "cell_type": "markdown",
   "metadata": {},
   "source": [
    "Cycles in CEM's dataset start with 80.0 Hz and 250.0 Hz instead of 10.0 Hz. These starting points are deleted in order to compare the cycles in a range from 10.0 Hz and 250.Hz."
   ]
  },
  {
   "cell_type": "code",
   "execution_count": null,
   "metadata": {},
   "outputs": [],
   "source": [
    "delete_rows=[]\n",
    "\n",
    "for k in range(0,171,19):\n",
    "    i=k\n",
    "    j=k+1\n",
    "    delete_rows.append(i)\n",
    "    delete_rows.append(j)\n",
    "whole_dataset_CEM_new=whole_dataset_CEM.drop(axis=0,index=delete_rows)"
   ]
  },
  {
   "cell_type": "code",
   "execution_count": null,
   "metadata": {},
   "outputs": [],
   "source": [
    "plot_dataset(whole_dataset_CEM_new,\"CEM corrected\")\n"
   ]
  },
  {
   "cell_type": "code",
   "execution_count": null,
   "metadata": {},
   "outputs": [],
   "source": [
    "#digital sensors have integrated temp sensor. Phase does not suffer the high influence of the temperature. High influence of the temperature\n",
    "#is visible for amplitude. PLOT amplitude, samp.freq and temp. Look at the sine fit of the temp."
   ]
  },
  {
   "cell_type": "code",
   "execution_count": null,
   "metadata": {},
   "outputs": [],
   "source": [
    "def plot_magnitude_and_phase(dataset,name):  \n",
    "   \n",
    "    f,ax=plt.subplots(nrows=2,ncols=2,figsize=(20,15))\n",
    "    \n",
    "    x_axis=np.where(dataset['Frequency [Hz]'] == 10.0)\n",
    "\n",
    "    for j,i in enumerate(x_axis[0]):\n",
    "        x=dataset[\"Frequency [Hz]\"].values[int(i):int(i)+17]\n",
    "        y1=dataset['Magnitude [m s^-2/m s^-2 ]'].values[int(i):int(i)+17]\n",
    "        y2=dataset['Phase [°]'].values[int(i):int(i)+17]\n",
    "       \n",
    "    #linear axis\n",
    "        sns.scatterplot(x=x,y=y1,ax=ax[0,0], label=j+1)\n",
    "        ax[0,0].set_xlabel(\"Frequency [Hz]\",fontsize=16)\n",
    "        ax[0,0].set_ylabel(\"Magnitude [m s^-2/m s^-2 ]\",fontsize=16)\n",
    "        ax[0,0].set_title(name,fontsize=16)\n",
    "\n",
    "        sns.scatterplot(x=x,y=y2,ax=ax[1,0],label=j+1)\n",
    "        ax[1,0].set_xlabel(\"Frequency [Hz]\",fontsize=16)\n",
    "        ax[1,0].set_ylabel(\"Phase [°]\",fontsize=16)\n",
    "\n",
    "        #log x-axis\n",
    "        sns.scatterplot(x=x,y=y1,ax=ax[0,1],label=j+1)\n",
    "        ax[0,1].set_xscale(\"log\")\n",
    "        ax[0,1].set_ylabel('Magnitude [m s^-2/m s^-2 ]',fontsize=16)\n",
    "        ax[0,1].set_xlabel(\"log(Frequency [Hz])\",fontsize=16)\n",
    "        ax[0,1].set_title(name,fontsize=16)\n",
    "                        \n",
    "        sns.scatterplot(x=x,y=y2,ax=ax[1,1],label=j+1)\n",
    "        ax[1,1].set_xscale(\"log\")\n",
    "        ax[1,1].set_ylabel('Phase [°]',fontsize=16)\n",
    "        ax[1,1].set_xlabel(\"log(Frequency [Hz])\",fontsize=16)\n",
    "\n",
    "\n",
    "    plt.show()"
   ]
  },
  {
   "cell_type": "code",
   "execution_count": null,
   "metadata": {},
   "outputs": [],
   "source": [
    "plot_magnitude_and_phase(whole_dataset_PTB,\"PTB\")"
   ]
  },
  {
   "cell_type": "code",
   "execution_count": null,
   "metadata": {},
   "outputs": [],
   "source": [
    "plot_magnitude_and_phase(whole_dataset_CEM_new,\"CEM corrected\")"
   ]
  },
  {
   "cell_type": "code",
   "execution_count": null,
   "metadata": {},
   "outputs": [],
   "source": [
    "def split_data_by_frequencies(dataset):\n",
    "    dict_of_frequencies=dict(iter(dataset.groupby('Frequency [Hz]')))\n",
    "    return dict_of_frequencies\n",
    "    #list_of_frequencies=np.array([10,12.5,16,20,25,31.5,40,46.7,50,53.3,63,80,100,125,160,200,250])"
   ]
  },
  {
   "cell_type": "code",
   "execution_count": null,
   "metadata": {},
   "outputs": [],
   "source": [
    "#check if all frequencies are the same\n",
    "PTB_separated_by_freq=split_data_by_frequencies(whole_dataset_PTB)\n",
    "CEM_separated_by_freq=split_data_by_frequencies(whole_dataset_CEM)\n",
    "CEM_separated_by_freq_new=split_data_by_frequencies(whole_dataset_CEM_new)\n",
    "print(\"Frequencies - PTB:\",PTB_separated_by_freq.keys())\n",
    "print(\"Frequencies - CEM:\",CEM_separated_by_freq.keys())"
   ]
  },
  {
   "cell_type": "code",
   "execution_count": null,
   "metadata": {},
   "outputs": [],
   "source": [
    "PTB_separated_by_freq.get(10).head(1)"
   ]
  },
  {
   "cell_type": "code",
   "execution_count": null,
   "metadata": {},
   "outputs": [],
   "source": [
    "CEM_separated_by_freq.get(10).head(1)"
   ]
  },
  {
   "cell_type": "code",
   "execution_count": null,
   "metadata": {},
   "outputs": [],
   "source": [
    "q_names=list(PTB_separated_by_freq.get(10).columns)"
   ]
  },
  {
   "cell_type": "markdown",
   "metadata": {},
   "source": [
    "The interval of  $\\bar {x_{i}} -\\sigma _{i}$ and $ \\bar {x_{i}} +\\sigma _{i}$  is plotted for each experiment and the quantities of interest."
   ]
  },
  {
   "cell_type": "code",
   "execution_count": null,
   "metadata": {},
   "outputs": [],
   "source": [
    "def plot_x_plus_minus_sigma(dictionary,names):\n",
    "    for val in dictionary.values():\n",
    "    \n",
    "        data_dict_amp = {}\n",
    "        data_dict_amp['cycle'] =list(range(len(val)))\n",
    "        data_dict_amp['lower'] = val[\"Magnitude [m s^-2/m s^-2 ]\"].values-val[\"Uncertainty [m s^-2/m s^-2 ]\"].values\n",
    "        data_dict_amp['upper'] = val[\"Magnitude [m s^-2/m s^-2 ]\"].values+val[\"Uncertainty [m s^-2/m s^-2 ]\"].values\n",
    "        dataset_amp = pd.DataFrame(data_dict_amp)\n",
    "\n",
    "        data_dict_phase = {}\n",
    "        data_dict_phase['cycle'] =list(range(len(val)))\n",
    "        data_dict_phase['lower'] = val[\"Phase [°]\"].values-val[\"Uncertainty[°]\"].values\n",
    "        data_dict_phase['upper'] = val[\"Phase [°]\"].values+val[\"Uncertainty[°]\"].values\n",
    "        dataset_phase = pd.DataFrame(data_dict_phase)\n",
    "\n",
    "        data_dict_excit = {}\n",
    "        data_dict_excit['cycle'] =list(range(len(val)))\n",
    "        data_dict_excit['lower'] = val[\"Excitation_amplitude [m s^-2]\"].values-val[\"Excitation_amplitude_uncert [m s^-2]\"].values\n",
    "        data_dict_excit['upper'] = val[\"Excitation_amplitude [m s^-2]\"].values+val[\"Excitation_amplitude_uncert [m s^-2]\"].values\n",
    "        dataset_excit = pd.DataFrame(data_dict_excit)\n",
    "\n",
    "\n",
    "        plt.figure(figsize=(15,5))\n",
    "        plt.subplot(1,2,1)\n",
    "\n",
    "        for lower,upper,y in zip(dataset_amp['lower'],dataset_amp['upper'],range(len(dataset_amp))):\n",
    "            plt.plot((lower,upper),(y,y),'ro-',color='orange')\n",
    "        plt.yticks(range(len(dataset_amp)),list(dataset_amp['cycle']))\n",
    "        plt.title(str(val[names[0]].values[0])+\" Hz\")\n",
    "        plt.xlabel(\"Magnitude\")\n",
    "        plt.ylabel(\"Measurement cycle\")\n",
    "\n",
    "        plt.subplot(1,2,2)\n",
    "        for lower,upper,y in zip(dataset_phase['lower'],dataset_phase['upper'],range(len(dataset_phase))):\n",
    "            plt.plot((lower,upper),(y,y),'ro-',color='orange')\n",
    "        plt.yticks(range(len(dataset_phase)),list(dataset_phase['cycle']))\n",
    "        plt.title(str(val[names[0]].values[0])+\" Hz\")\n",
    "        plt.xlabel(\"Phase\")\n",
    "        plt.ylabel(\"Measurement cycle\")\n",
    "\n",
    "        #plt.subplot(1,3,3)\n",
    "        #for lower,upper,y in zip(dataset_excit['lower'],dataset_excit['upper'],range(len(dataset_excit))):\n",
    "            #plt.plot((lower,upper),(y,y),'ro-',color='orange')\n",
    "        #plt.yticks(range(len(dataset_excit)),list(dataset_excit['cycle']))\n",
    "        #plt.xlabel(\"Excitation amplitude\")\n",
    "        #plt.ylabel(\"Measurement cycle\")\n",
    "        #plt.title(str(val[names[0]].values[0])+\" Hz\")\n",
    "    plt.show()"
   ]
  },
  {
   "cell_type": "code",
   "execution_count": null,
   "metadata": {},
   "outputs": [],
   "source": [
    "plot_x_plus_minus_sigma(PTB_separated_by_freq,q_names)\n",
    "# At low frequencies, excit amplitudes are very low. It is hard to target the excitation amplitude (usually varies 1%)\n",
    "#the sampling frequency starts form 10 Hz becausethe  shaker in calibration system should be bigger in order th achieve 0 Hz.\n",
    "#AT ptb high unc for phases at low freq"
   ]
  },
  {
   "cell_type": "code",
   "execution_count": null,
   "metadata": {},
   "outputs": [],
   "source": [
    "plot_x_plus_minus_sigma(CEM_separated_by_freq_new,q_names)"
   ]
  },
  {
   "cell_type": "code",
   "execution_count": null,
   "metadata": {
    "scrolled": false
   },
   "outputs": [],
   "source": [
    "for val1,val2 in zip(PTB_separated_by_freq.values(),CEM_separated_by_freq_new.values()):  \n",
    "    plt.figure(figsize=(15,5))\n",
    "    plt.subplot(1,2,1)\n",
    " \n",
    "    x = np.linspace(0,len(val1[q_names[1]]),len(val1[q_names[1]]))\n",
    "    dy = val1[q_names[2]].values\n",
    "    y = val1[q_names[1]].values\n",
    "    plt.xlabel(\"Measurement cycle\")\n",
    "    plt.ylabel(\"Magnitude\")\n",
    "    plt.errorbar(x, y, yerr=dy, fmt='.k',ecolor='r',label=\"PTB\")\n",
    "    plt.title(str(val1[q_names[0]].values[0])+\" Hz\")\n",
    "    \n",
    "    x1 = np.linspace(0,len(val2[q_names[1]]),len(val2[q_names[1]]))\n",
    "    plt.errorbar(x1,y=val2[q_names[1]].values,yerr =val2[q_names[2]].values,fmt='ro',ecolor='g',label=\"CEM\")\n",
    "    plt.legend()\n",
    "\n",
    "    plt.subplot(1,2,2)\n",
    "    x = np.linspace(0,len(val1[q_names[3]]),len(val1[q_names[3]]))\n",
    "    dy = val1[q_names[4]].values\n",
    "    y = val1[q_names[3]].values\n",
    "    plt.xlabel(\"Measurement cycle\")\n",
    "    plt.ylabel(\"Phase\")\n",
    "    plt.errorbar(x, y, yerr=dy, fmt='.k',ecolor='r',label=\"PTB\")\n",
    "                          \n",
    "    x1 = np.linspace(0,len(val2[q_names[3]]),len(val2[q_names[3]]))\n",
    "    plt.errorbar(x1,y=val2[q_names[3]].values,yerr =val2[q_names[4]].values,fmt='ro',ecolor='g',label=\"CEM\")\n",
    "    plt.legend()\n",
    "    \n",
    "    #plt.subplot(1,3,3)\n",
    "    #x = np.linspace(0,len(val1[q_names[6]]),len(val1[q_names[6]]))\n",
    "    #dy = val1[q_names[7]].values\n",
    "    #y = val1[q_names[6]].values\n",
    "    #plt.xlabel(\"Measurement cycle\")\n",
    "    #plt.ylabel(\"Excitation amplitude\")\n",
    "    #plt.errorbar(x, y, yerr=dy, fmt='.k',ecolor='r',label=\"PTB\")\n",
    "                          \n",
    "    #x1 = np.linspace(0,len(val2[q_names[6]]),len(val2[q_names[6]]))\n",
    "    #plt.errorbar(x1,y=val2[q_names[6]].values,yerr =val2[q_names[7]].values,fmt='ro',ecolor='b',label=\"CEM\")\n",
    "    plt.legend()\n",
    "    plt.show()\n",
    "    \n",
    "    #the phase  - its timing information is not very susceptible, similar for PTB and CEM \n",
    "#Magnitude  - The difference between CEM and PTB is not the consequence of the different calibration systems. \n",
    "#sensor is differently behaving in Spain due to the influence of the tempeerature. Also, it is cheap and the axis can be different \n",
    "#cosine error\n",
    "\n",
    "#Magnitude - manufacturer specifies 1% of tranfer coefficient deviation. Normally, higher uncertainty is stated because \n",
    "#due to the mounting influence. (statistically + extraunc)"
   ]
  },
  {
   "cell_type": "markdown",
   "metadata": {},
   "source": [
    "## 3.2 Coefficient of variation"
   ]
  },
  {
   "cell_type": "markdown",
   "metadata": {},
   "source": [
    "The coefficient of variation (CV) is a statistical measure of the dispersion of data points in a data series around the mean. The coefficient of variation represents the ratio of the standard deviation to the mean, and it is a useful statistic for comparing the degree of variation from one data series to another, even if the means are drastically different from one another.[1]\n",
    "\n",
    "For each experiment, CV in percentages is calculated as:\n",
    "$$CV={\\frac {\\sigma _{i}}{\\bar {x_{i}}}} *100 $$\n",
    ",where x represents magnitude, phase, and excitation amplituded and $\\sigma$ corresponds to the assigned uncertainty values."
   ]
  },
  {
   "cell_type": "code",
   "execution_count": null,
   "metadata": {},
   "outputs": [],
   "source": [
    "for val1,val2 in zip(PTB_separated_by_freq.values(),CEM_separated_by_freq_new.values()):  \n",
    "    plt.figure(figsize=(15,5))\n",
    "    plt.subplot(1,2,1)\n",
    " \n",
    "    x = np.linspace(0,len(val1[q_names[1]]),len(val1[q_names[1]]))\n",
    "    y_coef = (val1[q_names[2]].values/np.abs(val1[q_names[1]].values))*100\n",
    "    plt.xlabel(\"Measurement cycle\")\n",
    "    plt.ylabel(\"Variation coefficient - Magnitude,%\")\n",
    "    plt.plot(x, y_coef,color='r',label=\"PTB\")\n",
    "    plt.title(str(val1[q_names[0]].values[0])+\" Hz\")\n",
    "    x1 = np.linspace(0,len(val2[q_names[1]]),len(val2[q_names[1]])) \n",
    "    plt.plot(x1,(val2[q_names[2]].values/np.abs(val2[q_names[1]].values))*100,color='g',label=\"CEM\")\n",
    "    plt.legend()\n",
    "\n",
    "    plt.subplot(1,2,2)\n",
    "    x = np.linspace(0,len(val1[q_names[3]]),len(val1[q_names[3]]))\n",
    "    y = (val1[q_names[4]].values/np.abs(val1[q_names[3]].values))*100\n",
    "    plt.xlabel(\"Measurement cycle\")\n",
    "    plt.ylabel(\"Variation coefficient - Phase,%\")\n",
    "    plt.plot(x, y,color='r',label=\"PTB\")\n",
    "    x1 = np.linspace(0,len(val2[q_names[4]]),len(val2[q_names[4]]))                      \n",
    "    plt.plot(x1,(val2[q_names[4]].values/np.abs(val2[q_names[3]].values))*100,color='g',label=\"CEM\")\n",
    "    plt.legend()\n",
    "    \n",
    "    #plt.subplot(1,3,3)\n",
    "    #x = np.linspace(0,len(val1[q_names[6]]),len(val1[q_names[6]]))\n",
    "    #y = (val1[q_names[7]].values/np.abs(val1[q_names[6]].values))*100\n",
    "    #plt.xlabel(\"Measurement cycle\")\n",
    "    #plt.ylabel(\"Variation coefficient - Excitation amplitude,%\")\n",
    "    #plt.plot(x, y, color='r',label=\"PTB\")\n",
    "                          \n",
    "    #x1 = np.linspace(0,len(val2[q_names[6]]),len(val2[q_names[6]]))\n",
    "    #plt.plot(x1,(val2[q_names[7]].values/np.abs(val2[q_names[6]].values))*100,color='b',label=\"CEM\")\n",
    "    plt.show()\n",
    "    "
   ]
  },
  {
   "cell_type": "markdown",
   "metadata": {},
   "source": [
    "Mean variation coefficients are calculated as averages of all CVs at a given frequency:\n",
    "\n",
    "$${\\bar {CV}={\\frac{\\sum _{i=1}^{n}CV _{i}}{n}}}$$\n",
    ",where n represents the number of experiments at a specific frequency."
   ]
  },
  {
   "cell_type": "code",
   "execution_count": null,
   "metadata": {},
   "outputs": [],
   "source": [
    "def calculate_mean_variation_coefficient(dictionary):\n",
    "    variation_coef=np.empty((len(dictionary),3))\n",
    "    for val1,i in zip(dictionary.values(),range(len(dictionary))):  \n",
    "        variation_coef[i,0]=((val1[q_names[2]].values/np.abs(val1[q_names[1]].values))*100).mean()\n",
    "        variation_coef[i,1]=((val1[q_names[4]].values/np.abs(val1[q_names[3]].values))*100).mean()\n",
    "        variation_coef[i,2]=((val1[q_names[7]].values/np.abs(val1[q_names[6]].values))*100).mean()\n",
    "    return variation_coef"
   ]
  },
  {
   "cell_type": "code",
   "execution_count": null,
   "metadata": {},
   "outputs": [],
   "source": [
    "variation_coef_PTB=calculate_mean_variation_coefficient((PTB_separated_by_freq))\n",
    "variation_coef_CEM=calculate_mean_variation_coefficient((CEM_separated_by_freq_new))"
   ]
  },
  {
   "cell_type": "code",
   "execution_count": null,
   "metadata": {},
   "outputs": [],
   "source": [
    "    plt.figure(figsize=(15,5))\n",
    "    plt.subplot(1,3,1)\n",
    "    list_of_freq=[10,12.5,16,20,25,31.5,40,46.7,50,53.3,63,80,100,125,160,200,250]\n",
    "    x = np.asarray(list_of_freq)\n",
    "    y_coef = variation_coef_PTB[:,0]\n",
    "    \n",
    "    plt.xlabel(\"Frequencies, Hz\")\n",
    "    plt.ylabel(\"Variation coefficient - Magnitude,%\")\n",
    "    plt.plot(x, y_coef,color='r',label=\"PTB\")\n",
    "    plt.plot(x,variation_coef_CEM[:,0],color='g',label=\"CEM\")\n",
    "    plt.legend()\n",
    "\n",
    "    plt.subplot(1,3,2)\n",
    "    x = np.asarray(list_of_freq)\n",
    "    plt.xlabel(\"Frequencies, Hz\")\n",
    "    plt.ylabel(\"Variation coefficient - Phase,%\")\n",
    "    plt.plot(x, variation_coef_PTB[:,1],color='r',label=\"PTB\")\n",
    "    plt.plot(x,variation_coef_CEM[:,1],color='g',label=\"CEM\")\n",
    "    plt.legend()\n",
    "    \n",
    "    #plt.subplot(1,3,3)\n",
    "    #x = np.asarray(list_of_freq)\n",
    "    #plt.xlabel(\"Frequencies, Hz\")\n",
    "    #plt.ylabel(\"Variation coefficient - Excitation amplitude,%\")\n",
    "    #plt.plot(x, variation_coef_PTB[:,2], color='r',label=\"PTB\")\n",
    "    #plt.plot(x, variation_coef_CEM[:,2],color='b',label=\"CEM\")\n",
    "    #plt.legend() \n",
    "    #plt.show()\n",
    "    "
   ]
  },
  {
   "cell_type": "markdown",
   "metadata": {},
   "source": [
    "# 8. Datasets for the Excel validation"
   ]
  },
  {
   "cell_type": "code",
   "execution_count": null,
   "metadata": {},
   "outputs": [],
   "source": [
    "#this is for analysis in Excel\n",
    "def sort_values(dataset):\n",
    "    dataset=dataset.sort_values(\"Frequency [Hz]\", ascending=True)\n",
    "    return dataset"
   ]
  },
  {
   "cell_type": "code",
   "execution_count": null,
   "metadata": {},
   "outputs": [],
   "source": [
    "whole_dataset_PTB=sort_values(whole_dataset_PTB)\n",
    "whole_dataset_CEM=sort_values(whole_dataset_CEM_new)"
   ]
  },
  {
   "cell_type": "code",
   "execution_count": null,
   "metadata": {},
   "outputs": [],
   "source": [
    "whole_dataset_PTB.head(2)"
   ]
  },
  {
   "cell_type": "code",
   "execution_count": null,
   "metadata": {},
   "outputs": [],
   "source": [
    "whole_dataset_CEM.head(2)"
   ]
  },
  {
   "cell_type": "code",
   "execution_count": null,
   "metadata": {},
   "outputs": [],
   "source": [
    "whole_dataset_PTB[\"Lab\"]=\"PTB\"\n",
    "whole_dataset_CEM[\"Lab\"]=\"CEM\""
   ]
  },
  {
   "cell_type": "code",
   "execution_count": null,
   "metadata": {},
   "outputs": [],
   "source": [
    " result = pd.concat([whole_dataset_PTB,whole_dataset_CEM])"
   ]
  },
  {
   "cell_type": "code",
   "execution_count": null,
   "metadata": {},
   "outputs": [],
   "source": [
    "f,ax=plt.subplots(nrows=2,ncols=1,figsize=(15,8))\n",
    "sns.scatterplot(x=\"Frequency [Hz]\", y=\"Magnitude [m s^-2/m s^-2 ]\", hue=\"Lab\",ax=ax[0],\n",
    "                    data=result) #palette=\"Set2\")\n",
    "sns.scatterplot(x=\"Frequency [Hz]\", y=\"Magnitude [m s^-2/m s^-2 ]\", hue=\"Lab\",ax=ax[1],\n",
    "                    data=result )\n",
    "ax[1].set_xscale(\"log\")\n",
    "ax[1].set_xlabel(\"log (Frequency [Hz])\")\n",
    "plt.show()"
   ]
  },
  {
   "cell_type": "code",
   "execution_count": null,
   "metadata": {},
   "outputs": [],
   "source": [
    "f,ax=plt.subplots(nrows=2,ncols=1,figsize=(15,8))\n",
    "sns.scatterplot(x=\"Frequency [Hz]\", y=\"Phase [°]\", hue=\"Lab\",ax=ax[0],\n",
    "                    data=result) #palette=\"Set2\")\n",
    "sns.scatterplot(x=\"Frequency [Hz]\", y=\"Phase [°]\", hue=\"Lab\",ax=ax[1],\n",
    "                    data=result )\n",
    "ax[1].set_xscale(\"log\")\n",
    "ax[1].set_xlabel(\"log (Frequency [Hz])\")\n",
    "plt.show()"
   ]
  },
  {
   "cell_type": "code",
   "execution_count": null,
   "metadata": {},
   "outputs": [],
   "source": [
    "list_freq=result[\"Frequency [Hz]\"].unique()\n",
    "f,ax=plt.subplots(nrows=len(list_freq),ncols=2,figsize=(15,100))\n",
    "for i,val in enumerate(list_freq):\n",
    "    \n",
    "    result1=result.where(result[\"Frequency [Hz]\"]==val)\n",
    "    sns.violinplot(x=\"Frequency [Hz]\", y=\"Magnitude [m s^-2/m s^-2 ]\", hue=\"Lab\",ax=ax[i,0],\n",
    "                    data=result1, palette=\"muted\", split=False,orient=\"v\")\n",
    "    sns.violinplot(x=\"Frequency [Hz]\", y=\"Phase [°]\", hue=\"Lab\",ax=ax[i,1],\n",
    "                    data=result1, palette=\"muted\", split=False,orient=\"v\")"
   ]
  },
  {
   "cell_type": "code",
   "execution_count": null,
   "metadata": {},
   "outputs": [],
   "source": [
    "list_freq=result[\"Frequency [Hz]\"].unique()\n",
    "\n",
    "for i,val in enumerate(list_freq):\n",
    "    \n",
    "    result1=result.where(result[\"Frequency [Hz]\"]==val)\n",
    "    result2=result1[['Frequency [Hz]', 'Magnitude [m s^-2/m s^-2 ]','Phase [°]',\"Lab\"]]\n",
    "    sns.pairplot(result2, hue=\"Lab\")\n",
    "    "
   ]
  },
  {
   "cell_type": "code",
   "execution_count": null,
   "metadata": {},
   "outputs": [],
   "source": [
    "result2=result[['Frequency [Hz]', 'Magnitude [m s^-2/m s^-2 ]','Phase [°]',\"Lab\"]]\n",
    "sns.pairplot(result2, hue=\"Lab\")"
   ]
  },
  {
   "cell_type": "code",
   "execution_count": null,
   "metadata": {},
   "outputs": [],
   "source": [
    "writer2 = pd.ExcelWriter('All_datasets.xlsx')\n",
    "\n",
    "whole_dataset_CEM.to_excel(writer2, sheet_name = 'CEM', index = False)\n",
    "whole_dataset_PTB.to_excel(writer2, sheet_name = 'PTB', index = False)\n",
    "\n",
    "writer2.save()"
   ]
  },
  {
   "cell_type": "markdown",
   "metadata": {},
   "source": [
    "# References"
   ]
  },
  {
   "cell_type": "markdown",
   "metadata": {},
   "source": [
    "[1] https://www.investopedia.com/terms/c/coefficientofvariation.asp\n",
    "<br>[2] https://en.wikipedia.org/wiki/Weighted_arithmetic_mean\n",
    "<br>[3] https://en.wikipedia.org/wiki/Effective_sample_size\n",
    "<br>[4] https://online.stat.psu.edu/stat500/lesson/10/10.2/10.2.1\n",
    "<br>[5] https://www.marsja.se/levenes-bartletts-test-of-equality-homogeneity-of-variance-in-python/"
   ]
  },
  {
   "cell_type": "code",
   "execution_count": null,
   "metadata": {},
   "outputs": [],
   "source": []
  }
 ],
 "metadata": {
  "kernelspec": {
   "display_name": "Python 3",
   "language": "python",
   "name": "python3"
  },
  "language_info": {
   "codemirror_mode": {
    "name": "ipython",
    "version": 3
   },
   "file_extension": ".py",
   "mimetype": "text/x-python",
   "name": "python",
   "nbconvert_exporter": "python",
   "pygments_lexer": "ipython3",
   "version": "3.7.3"
  }
 },
 "nbformat": 4,
 "nbformat_minor": 4
}
